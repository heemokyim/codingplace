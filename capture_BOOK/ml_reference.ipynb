{
 "cells": [
  {
   "cell_type": "markdown",
   "metadata": {
    "school_cell_uuid": "cc6f4c0c06df4940b627c9015936d6b7"
   },
   "source": [
    "# 머신 러닝 관련 참고 문헌"
   ]
  },
  {
   "cell_type": "markdown",
   "metadata": {
    "school_cell_uuid": "55437db16f7047349ec1e6a4075abf2e"
   },
   "source": [
    "## 선형대수"
   ]
  },
  {
   "cell_type": "markdown",
   "metadata": {
    "school_cell_uuid": "cda720aa285b4145a1ce9696058e80be"
   },
   "source": [
    "* 필립 클라인, \"코딩 더 매트릭스\", 루비페이퍼\n",
    "    * http://www.kyobobook.co.kr/product/detailViewKor.laf?barcode=9791195149292"
   ]
  },
  {
   "cell_type": "markdown",
   "metadata": {
    "school_cell_uuid": "b56db486b72647c1a73ef36b4e858856"
   },
   "source": [
    "## 회귀 분석 기본 이론"
   ]
  },
  {
   "cell_type": "markdown",
   "metadata": {
    "school_cell_uuid": "f085d93be1094052846a3b0b604323cc"
   },
   "source": [
    "* Greene, Econometric Analysis\n",
    "    *  https://www.amazon.com/Econometric-Analysis-7th-William-Greene/dp/0131395386\n",
    "* Davidson and MacKinnon, Econometric Theory and Methods \n",
    "    * https://www.amazon.com/Econometric-Theory-Methods-Russell-Davidson/dp/0195123727/\n",
    "* Sheather, A Modern Approach to Regression with R\n",
    "    * http://www.stat.tamu.edu/~sheather/book/"
   ]
  },
  {
   "cell_type": "markdown",
   "metadata": {
    "school_cell_uuid": "b56db486b72647c1a73ef36b4e858856"
   },
   "source": [
    "## 지도 학습 기본 이론"
   ]
  },
  {
   "cell_type": "markdown",
   "metadata": {
    "school_cell_uuid": "354cc1ba9b144f1c9534e3240424cb47"
   },
   "source": [
    "* Bishop, \"Pattern Recognition and Machine Learning\"\n",
    "     * http://research.microsoft.com/en-us/um/people/cmbishop/prml/index.htm\n",
    "* Barber, \"Bayesian Reasoning and Machine Learning\"\n",
    "    * http://web4.cs.ucl.ac.uk/staff/D.Barber/textbook/181115.pdf\n",
    "* Hastie, et al., \"The Elements of Statistical Learning: Data Mining, Inference, and Prediction\"\n",
    "    * http://statweb.stanford.edu/~tibs/ElemStatLearn/printings/ESLII_print10.pdf\n",
    "* MacKay, \"Information Theory, Inference, and Learning Algorithms\"\n",
    "    * http://www.inference.phy.cam.ac.uk/itprnn/book.pdf\n",
    "* Murphy, \"Machine learning: a probabilistic perspective\"\n",
    "    * https://mitpress.mit.edu/books/machine-learning-0"
   ]
  },
  {
   "cell_type": "markdown",
   "metadata": {
    "school_cell_uuid": "33f1954932ac4c8f931e9285d4a34796"
   },
   "source": [
    "## 딥러닝"
   ]
  },
  {
   "cell_type": "markdown",
   "metadata": {
    "school_cell_uuid": "b282a5d549a54176a603e489b112371f"
   },
   "source": [
    "* Goodfellow et al., \"Deep Learning\"\n",
    "    * http://www.deeplearningbook.org\n",
    "* Michael Nielsen, \"Neural Networks and Deep Learning\"\n",
    "    * http://neuralnetworksanddeeplearning.com/\n"
   ]
  },
  {
   "cell_type": "markdown",
   "metadata": {
    "school_cell_uuid": "c8f2119ce8844a188964ac741df64fba"
   },
   "source": [
    "## 시계열 분석"
   ]
  },
  {
   "cell_type": "markdown",
   "metadata": {
    "school_cell_uuid": "3f8e9792e82242b2b3f155dedcfd87f3"
   },
   "source": [
    "* Cryer et al. \"Time Series Analysis: With Applications in R\"\n",
    "    * https://www.amazon.com/Time-Analysis-Applications-Springer-Statistics/dp/0387759581\n",
    "* Petris et al, \"Dynamic Linear Models with R\"\n",
    "    * https://www.amazon.com/Dynamic-Linear-Models-Giovanni-Petris/dp/0387772375\n",
    "* Helmut Lütkepohl, \"New Introduction to Multiple Time Series Analysis\"\n",
    "    * https://www.amazon.com/New-Introduction-Multiple-Time-Analysis/dp/3540262393\n"
   ]
  },
  {
   "cell_type": "markdown",
   "metadata": {
    "school_cell_uuid": "620d240e296d4a36b9875f4ff9a302c9"
   },
   "source": [
    "## Scikit-Learn 관련 도서"
   ]
  },
  {
   "cell_type": "markdown",
   "metadata": {
    "school_cell_uuid": "47661144e8344ba4a2ce33ec4d8af3c7"
   },
   "source": [
    "* Learning scikit-learn: Machine Learning in Python\n",
    "    * Raúl Garreta, Guillermo Moncecchi\n",
    "    * https://www.packtpub.com/big-data-and-business-intelligence/learning-scikit-learn-machine-learning-python\n",
    "    * https://github.com/gmonce/scikit-learn-book\n",
    "    * http://www.amazon.com/Learning-scikit-learn-Machine-Python/dp/1783281936\n",
    "\n",
    "\n",
    "* Building Machine Learning Systems with Python\n",
    "    * Willi Richert, Luis Pedro Coelho\n",
    "    * https://www.packtpub.com/big-data-and-business-intelligence/building-machine-learning-systems-python\n",
    "    * https://github.com/luispedro/BuildingMachineLearningSystemsWithPython\n",
    "    * http://www.amazon.com/Building-Machine-Learning-Systems-Python/dp/1782161406"
   ]
  }
 ],
 "metadata": {
  "kernelspec": {
   "display_name": "Python [Root]",
   "language": "python",
   "name": "Python [Root]"
  },
  "language_info": {
   "codemirror_mode": {
    "name": "ipython",
    "version": 2
   },
   "file_extension": ".py",
   "mimetype": "text/x-python",
   "name": "python",
   "nbconvert_exporter": "python",
   "pygments_lexer": "ipython2",
   "version": "2.7.12"
  }
 },
 "nbformat": 4,
 "nbformat_minor": 0
}