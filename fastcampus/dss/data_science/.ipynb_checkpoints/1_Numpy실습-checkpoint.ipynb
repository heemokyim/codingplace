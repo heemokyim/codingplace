{
 "cells": [
  {
   "cell_type": "code",
   "execution_count": 8,
   "metadata": {},
   "outputs": [],
   "source": [
    "%matplotlib inline\n",
    "# 주피터 노트북에서 그래프 그리려면 이거 해야함"
   ]
  },
  {
   "cell_type": "code",
   "execution_count": 12,
   "metadata": {},
   "outputs": [],
   "source": [
    "from ml_config import *"
   ]
  },
  {
   "cell_type": "code",
   "execution_count": 1,
   "metadata": {},
   "outputs": [
    {
     "ename": "NameError",
     "evalue": "name 'np' is not defined",
     "output_type": "error",
     "traceback": [
      "\u001b[0;31m---------------------------------------------------------------------------\u001b[0m",
      "\u001b[0;31mNameError\u001b[0m                                 Traceback (most recent call last)",
      "\u001b[0;32m<ipython-input-1-93284e8a7c5f>\u001b[0m in \u001b[0;36m<module>\u001b[0;34m()\u001b[0m\n\u001b[0;32m----> 1\u001b[0;31m \u001b[0mx1\u001b[0m \u001b[0;34m=\u001b[0m \u001b[0mnp\u001b[0m\u001b[0;34m.\u001b[0m\u001b[0marray\u001b[0m\u001b[0;34m(\u001b[0m\u001b[0;34m[\u001b[0m\u001b[0;36m5\u001b[0m\u001b[0;34m,\u001b[0m \u001b[0;36m3\u001b[0m\u001b[0;34m,\u001b[0m \u001b[0;36m4\u001b[0m\u001b[0;34m,\u001b[0m \u001b[0;36m5\u001b[0m\u001b[0;34m]\u001b[0m\u001b[0;34m)\u001b[0m\u001b[0;34m\u001b[0m\u001b[0m\n\u001b[0m\u001b[1;32m      2\u001b[0m \u001b[0mx\u001b[0m \u001b[0;34m=\u001b[0m \u001b[0;34m[\u001b[0m\u001b[0;36m1\u001b[0m\u001b[0;34m,\u001b[0m \u001b[0;36m23\u001b[0m\u001b[0;34m,\u001b[0m \u001b[0;36m4\u001b[0m\u001b[0;34m]\u001b[0m\u001b[0;34m\u001b[0m\u001b[0m\n",
      "\u001b[0;31mNameError\u001b[0m: name 'np' is not defined"
     ]
    }
   ],
   "source": [
    "x1 = np.array([5, 3, 4, 5])\n",
    "x = [2, 3, 4]"
   ]
  },
  {
   "cell_type": "code",
   "execution_count": 14,
   "metadata": {},
   "outputs": [
    {
     "name": "stdout",
     "output_type": "stream",
     "text": [
      "[[4.9]\n",
      " [3. ]\n",
      " [1.4]\n",
      " [0.2]]\n"
     ]
    }
   ],
   "source": [
    "x2 = np.array([[4.9], [3.0], [1.4], [0.2]])\n",
    "print(x2)"
   ]
  },
  {
   "cell_type": "code",
   "execution_count": 15,
   "metadata": {},
   "outputs": [
    {
     "name": "stdout",
     "output_type": "stream",
     "text": [
      "[[1 2 3]\n",
      " [4 5 6]\n",
      " [7 8 9]]\n",
      "[1 2 3]\n"
     ]
    }
   ],
   "source": [
    "x3 = np.array([[1, 2, 3], [4, 5, 6], [7, 8, 9]])\n",
    "\n",
    "print(x3)\n",
    "print(x3[0])"
   ]
  },
  {
   "cell_type": "markdown",
   "metadata": {},
   "source": [
    "코드스타일\n",
    "    1. 연산자 전후로 한칸씩 띄기\n",
    "    2. 배열 요소 안에 쉼표 다음 한칸 띄기"
   ]
  },
  {
   "cell_type": "code",
   "execution_count": 16,
   "metadata": {},
   "outputs": [],
   "source": [
    "x4 = np.array([ ])"
   ]
  },
  {
   "cell_type": "markdown",
   "metadata": {},
   "source": [
    "m*n 행렬을 m*n벡터로 전환하여 input함\n",
    "    1. 그때 쓰이는 함수가 reshape()"
   ]
  },
  {
   "cell_type": "code",
   "execution_count": 17,
   "metadata": {},
   "outputs": [
    {
     "data": {
      "image/png": "[encoded data removed]",
      "text/plain": [
       "<matplotlib.figure.Figure at 0x7fad8f0fbf60>"
      ]
     },
     "metadata": {},
     "output_type": "display_data"
    }
   ],
   "source": [
    "from sklearn.datasets import load_digits\n",
    "\n",
    "digits = load_digits()\n",
    "\n",
    "d0 = digits.images[0]\n",
    "d1 = digits.images[10]\n",
    "d2 = digits.images[1]\n",
    "d3 = digits.images[11]\n",
    "\n",
    "f, ax = plt.subplots(1, 4)\n",
    "\n",
    "ax[0].imshow(d0, interpolation='nearest', cmap=plt.cm.bone_r)\n",
    "ax[0].grid(False)\n",
    "\n",
    "ax[1].imshow(d1, interpolation='nearest', cmap=plt.cm.bone_r)\n",
    "ax[1].grid(False)\n",
    "\n",
    "ax[2].imshow(d2, interpolation='nearest', cmap=plt.cm.bone_r)\n",
    "ax[2].grid(False)\n",
    "\n",
    "ax[3].imshow(d3, interpolation='nearest', cmap=plt.cm.bone_r)\n",
    "ax[3].grid(False)\n",
    "\n",
    "plt.show()"
   ]
  },
  {
   "cell_type": "code",
   "execution_count": 27,
   "metadata": {},
   "outputs": [
    {
     "data": {
      "image/png": "[encoded data removed]",
      "text/plain": [
       "<matplotlib.figure.Figure at 0x7fb2f698b898>"
      ]
     },
     "metadata": {},
     "output_type": "display_data"
    }
   ],
   "source": [
    "v0 = d0.reshape(64, 1)\n",
    "v1 = d1.reshape(64, 1)\n",
    "v2 = d2.reshape(64, 1)\n",
    "v3 = d3.reshape(64, 1)\n",
    "\n",
    "f, ax = plt.subplots(4, 1, figsize=(12, 2))\n",
    "\n",
    "ax[0].imshow(v0.T, interpolation='nearest', cmap=plt.cm.bone_r)\n",
    "ax[0].grid(False); ax[0].set_xticks([]); ax[0].set_yticks([]);\n",
    "\n",
    "ax[1].imshow(v1.T, interpolation='nearest', cmap=plt.cm.bone_r)\n",
    "ax[1].grid(False); ax[1].set_xticks([]); ax[0].set_yticks([]);\n",
    "\n",
    "ax[2].imshow(v2.T, interpolation='nearest', cmap=plt.cm.bone_r)\n",
    "ax[2].grid(False); ax[2].set_xticks([]); ax[0].set_yticks([]);\n",
    "\n",
    "ax[3].imshow(v3.T, interpolation='nearest', cmap=plt.cm.bone_r)\n",
    "ax[3].grid(False); ax[3].set_xticks([]); ax[0].set_yticks([]);\n",
    "\n",
    "plt.tight_layout()\n",
    "plt.show()"
   ]
  },
  {
   "cell_type": "code",
   "execution_count": 11,
   "metadata": {},
   "outputs": [
    {
     "name": "stdout",
     "output_type": "stream",
     "text": [
      "[[ 5.1  3.5  1.4  0.2]\n",
      " [ 4.9  3.   1.4  0.2]]\n"
     ]
    }
   ],
   "source": [
    "x = np.array([[5.1, 3.5, 1.4, 0.2], [4.9, 3.0, 1.4, 0.2]])\n",
    "print(x)\n",
    "# 스칼라는 소문자, 행렬은 대문자"
   ]
  },
  {
   "cell_type": "code",
   "execution_count": 16,
   "metadata": {},
   "outputs": [
    {
     "name": "stdout",
     "output_type": "stream",
     "text": [
      "[[ 5.1  4.9]\n",
      " [ 3.5  3. ]\n",
      " [ 1.4  1.4]\n",
      " [ 0.2  0.2]]\n",
      "[[ 5.1  3.5  1.4  0.2]\n",
      " [ 4.9  3.   1.4  0.2]]\n",
      "[[ 5.1  3.5  1.4  0.2]\n",
      " [ 4.9  3.   1.4  0.2]]\n"
     ]
    }
   ],
   "source": [
    "x = np.array([\n",
    "    [5.1, 3.5, 1.4, 0.2],\n",
    "    [4.9, 3.0, 1.4, 0.2]\n",
    "])\n",
    "\n",
    "print(x.T)\n",
    "print(x)\n",
    "print(x.T.T)"
   ]
  },
  {
   "cell_type": "code",
   "execution_count": 7,
   "metadata": {},
   "outputs": [
    {
     "name": "stdout",
     "output_type": "stream",
     "text": [
      "[0 0 0]\n",
      "[1 1 1]\n",
      "[[1 2 3]\n",
      " [4 5 6]\n",
      " [7 8 9]]\n",
      "[[3 0 0]\n",
      " [0 6 0]\n",
      " [0 0 9]]\n",
      "[[1. 0. 0. 0.]\n",
      " [0. 1. 0. 0.]\n",
      " [0. 0. 1. 0.]\n",
      " [0. 0. 0. 1.]]\n",
      "[[1 0 0]\n",
      " [0 2 0]\n",
      " [0 0 3]]\n",
      "[[1 0 0]\n",
      " [0 2 0]\n",
      " [0 0 3]]\n"
     ]
    }
   ],
   "source": [
    "# 영벡터\n",
    "zero = np.array([0, 0, 0])\n",
    "print(zero)\n",
    "\n",
    "# 일벡터\n",
    "one = np.array([1, 1, 1])\n",
    "print(one)\n",
    "\n",
    "# 정방행렬\n",
    "square = np.array([\n",
    "    [1, 2, 3],\n",
    "    [4, 5, 6],\n",
    "    [7, 8, 9]\n",
    "])\n",
    "print(square)\n",
    "\n",
    "# 대각행렬\n",
    "diag = np.diag([3, 6, 9])\n",
    "print(diag)\n",
    "\n",
    "# 단위행렬\n",
    "iden = np.identity(4)\n",
    "print(iden)\n",
    "\n",
    "# 대칭행렬\n",
    "symm = np.diag([1, 2, 3])\n",
    "print(symm)\n",
    "print(symm.T)"
   ]
  },
  {
   "cell_type": "code",
   "execution_count": 2,
   "metadata": {},
   "outputs": [],
   "source": [
    "x = [1, 2, 3]"
   ]
  },
  {
   "cell_type": "code",
   "execution_count": null,
   "metadata": {},
   "outputs": [],
   "source": [
    "a = [1, 2, ]"
   ]
  }
 ],
 "metadata": {
  "anaconda-cloud": {},
  "kernelspec": {
   "display_name": "Python 3",
   "language": "python",
   "name": "python3"
  },
  "language_info": {
   "codemirror_mode": {
    "name": "ipython",
    "version": 3
   },
   "file_extension": ".py",
   "mimetype": "text/x-python",
   "name": "python",
   "nbconvert_exporter": "python",
   "pygments_lexer": "ipython3",
   "version": "3.6.3"
  }
 },
 "nbformat": 4,
 "nbformat_minor": 2
}
