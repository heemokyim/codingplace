{
 "cells": [
  {
   "cell_type": "code",
   "execution_count": 16,
   "metadata": {},
   "outputs": [],
   "source": [
    "from ml_config import *\n",
    "from numdifftools import Jacobian, Hessian\n",
    "# https://stackoverflow.com/questions/41137092/jacobian-and-hessian-inputs-in-scipy-optimize-minimize"
   ]
  },
  {
   "cell_type": "code",
   "execution_count": null,
   "metadata": {},
   "outputs": [],
   "source": []
  },
  {
   "cell_type": "code",
   "execution_count": 15,
   "metadata": {},
   "outputs": [
    {
     "name": "stdout",
     "output_type": "stream",
     "text": [
      "      fun: 6.135781738067493e-13\n",
      " hess_inv: array([[ 0.50243961,  1.00487538],\n",
      "       [ 1.00487538,  2.01474307]])\n",
      "      jac: array([  3.60024138e-05,  -1.37125550e-05])\n",
      "  message: 'Desired error not necessarily achieved due to precision loss.'\n",
      "     nfev: 768\n",
      "      nit: 88\n",
      "     njev: 189\n",
      "   status: 2\n",
      "  success: False\n",
      "        x: array([ 0.99999981,  0.99999955])\n",
      "      fun: 3.881227615747895e-14\n",
      " hess_inv: array([[ 0.48805207,  0.97665938],\n",
      "       [ 0.97665938,  1.95939504]])\n",
      "      jac: array([  3.79550498e-06,  -1.72051839e-06])\n",
      "  message: 'Optimization terminated successfully.'\n",
      "     nfev: 112\n",
      "      nit: 87\n",
      "     njev: 112\n",
      "   status: 0\n",
      "  success: True\n",
      "        x: array([ 1.00000018,  1.00000035])\n"
     ]
    }
   ],
   "source": [
    "def f2(x):\n",
    "    return (1 - x[0])**2 + 100.0 * (x[1] - x[0]**2)**2\n",
    "\n",
    "\n",
    "def f2g(x):\n",
    "    \"\"\"gradient of f2(x)\"\"\"\n",
    "    return np.array((2.0 * (x[0] - 1) - 400.0 * x[0] * (x[1] - x[0]**2), 200.0 * (x[1] - x[0]**2)))\n",
    "\n",
    "\n",
    "def fun_der(x):\n",
    "    return Jacobian(lambda x: f2(x))(x).ravel()\n",
    "\n",
    "\n",
    "result = sp.optimize.minimize(f2, (10, 10))\n",
    "print(result)\n",
    "\n",
    "result = sp.optimize.minimize(f2, (10, 10), jac=f2g)\n",
    "print(result)\n",
    "\n",
    "# 1.\n",
    "# scipy.optimize.minimize는 함수에 argument 2개를 안 받고 항상 하나를 받음\n",
    "# 그 하나에 전부 들어있으므로 x[0], x[1] 이렇게 할 것\n",
    "\n",
    "# 2.\n",
    "# 자코비안 함수 주는게 연산 더 많이 줄임"
   ]
  },
  {
   "cell_type": "code",
   "execution_count": 22,
   "metadata": {},
   "outputs": [
    {
     "name": "stdout",
     "output_type": "stream",
     "text": [
      "Optimization terminated successfully.    (Exit mode 0)\n",
      "            Current function value: -1.3862943611198901\n",
      "            Iterations: 2\n",
      "            Function evaluations: 8\n",
      "            Gradient evaluations: 2\n"
     ]
    },
    {
     "data": {
      "text/plain": [
       "array([ 0.5,  0.5])"
      ]
     },
     "execution_count": 22,
     "metadata": {},
     "output_type": "execute_result"
    }
   ],
   "source": [
    "def f1logs(x):\n",
    "    return np.log(x[0]) + np.log(x[1])\n",
    "\n",
    "def eq_constraint(x):\n",
    "    return x[0] + x[1] -1\n",
    "\n",
    "sp.optimize.fmin_slsqp(f1logs, np.array([1,1]), eqcons=[eq_constraint])"
   ]
  },
  {
   "cell_type": "code",
   "execution_count": 21,
   "metadata": {},
   "outputs": [
    {
     "data": {
      "text/plain": [
       "array([1, 2, 3, 4])"
      ]
     },
     "execution_count": 21,
     "metadata": {},
     "output_type": "execute_result"
    }
   ],
   "source": [
    "np.array((1,2,3,4))"
   ]
  },
  {
   "cell_type": "code",
   "execution_count": 24,
   "metadata": {},
   "outputs": [],
   "source": [
    "A = set([1,2,3,2,1])"
   ]
  },
  {
   "cell_type": "code",
   "execution_count": 25,
   "metadata": {},
   "outputs": [
    {
     "data": {
      "text/plain": [
       "{1, 2, 3}"
      ]
     },
     "execution_count": 25,
     "metadata": {},
     "output_type": "execute_result"
    }
   ],
   "source": [
    "A"
   ]
  },
  {
   "cell_type": "code",
   "execution_count": 26,
   "metadata": {},
   "outputs": [],
   "source": [
    "B = frozenset({1,2})"
   ]
  },
  {
   "cell_type": "code",
   "execution_count": 29,
   "metadata": {},
   "outputs": [
    {
     "data": {
      "text/plain": [
       "{'◆', '♠', '♣', '♥'}"
      ]
     },
     "execution_count": 29,
     "metadata": {},
     "output_type": "execute_result"
    }
   ],
   "source": [
    "C = set(['◆', '♥', '♠', '♣'])\n",
    "C"
   ]
  },
  {
   "cell_type": "code",
   "execution_count": 30,
   "metadata": {},
   "outputs": [
    {
     "data": {
      "text/plain": [
       "{1, 2, 3, 4, 6}"
      ]
     },
     "execution_count": 30,
     "metadata": {},
     "output_type": "execute_result"
    }
   ],
   "source": [
    "A1 = {1, 2, 3, 4}\n",
    "A2 = {2, 4, 6}\n",
    "A3 = {1, 2, 3}\n",
    "A4 = {2, 3, 4, 5, 6}\n",
    "\n",
    "A2 | A1"
   ]
  },
  {
   "cell_type": "code",
   "execution_count": 31,
   "metadata": {},
   "outputs": [
    {
     "data": {
      "text/plain": [
       "{2, 4}"
      ]
     },
     "execution_count": 31,
     "metadata": {},
     "output_type": "execute_result"
    }
   ],
   "source": [
    "A2 & A1"
   ]
  },
  {
   "cell_type": "code",
   "execution_count": 32,
   "metadata": {},
   "outputs": [
    {
     "data": {
      "text/plain": [
       "{1, 2, 3, 4, 5, 6}"
      ]
     },
     "execution_count": 32,
     "metadata": {},
     "output_type": "execute_result"
    }
   ],
   "source": [
    "A3 | A4"
   ]
  },
  {
   "cell_type": "code",
   "execution_count": 33,
   "metadata": {},
   "outputs": [
    {
     "data": {
      "text/plain": [
       "{2, 3}"
      ]
     },
     "execution_count": 33,
     "metadata": {},
     "output_type": "execute_result"
    }
   ],
   "source": [
    "A3 & A4"
   ]
  },
  {
   "cell_type": "code",
   "execution_count": 34,
   "metadata": {},
   "outputs": [
    {
     "data": {
      "text/plain": [
       "True"
      ]
     },
     "execution_count": 34,
     "metadata": {},
     "output_type": "execute_result"
    }
   ],
   "source": [
    "A3.issubset(A1)"
   ]
  },
  {
   "cell_type": "code",
   "execution_count": 35,
   "metadata": {},
   "outputs": [
    {
     "data": {
      "text/plain": [
       "True"
      ]
     },
     "execution_count": 35,
     "metadata": {},
     "output_type": "execute_result"
    }
   ],
   "source": [
    "A3 <= A1"
   ]
  },
  {
   "cell_type": "code",
   "execution_count": 36,
   "metadata": {},
   "outputs": [
    {
     "data": {
      "text/plain": [
       "False"
      ]
     },
     "execution_count": 36,
     "metadata": {},
     "output_type": "execute_result"
    }
   ],
   "source": [
    "A3<A3"
   ]
  },
  {
   "cell_type": "code",
   "execution_count": 37,
   "metadata": {},
   "outputs": [
    {
     "data": {
      "text/plain": [
       "True"
      ]
     },
     "execution_count": 37,
     "metadata": {},
     "output_type": "execute_result"
    }
   ],
   "source": [
    "A3<A1"
   ]
  },
  {
   "cell_type": "code",
   "execution_count": 49,
   "metadata": {},
   "outputs": [
    {
     "name": "stdout",
     "output_type": "stream",
     "text": [
      "('HH', 'HT')\n",
      "('HH', 'TH')\n",
      "('HH', 'TT')\n",
      "('HT', 'TH')\n",
      "('HT', 'TT')\n",
      "('TH', 'TT')\n"
     ]
    }
   ],
   "source": [
    "import itertools\n",
    "tmp = ['HH','HT','TH','TT']\n",
    "for each in itertools.combinations(tmp,2):\n",
    "    print(each)"
   ]
  },
  {
   "cell_type": "code",
   "execution_count": 81,
   "metadata": {},
   "outputs": [
    {
     "data": {
      "text/plain": [
       "{frozenset(),\n",
       " frozenset({'HT', 'TH'}),\n",
       " frozenset({'HH'}),\n",
       " frozenset({'HH', 'HT'}),\n",
       " frozenset({'TT'}),\n",
       " frozenset({'TH'}),\n",
       " frozenset({'HH', 'TH'}),\n",
       " frozenset({'HH', 'TH', 'TT'}),\n",
       " frozenset({'HT'}),\n",
       " frozenset({'HH', 'HT', 'TH'}),\n",
       " frozenset({'HH', 'TT'}),\n",
       " frozenset({'HT', 'TT'}),\n",
       " frozenset({'HH', 'HT', 'TT'}),\n",
       " frozenset({'TH', 'TT'}),\n",
       " frozenset({'HT', 'TH', 'TT'}),\n",
       " frozenset({'HH', 'HT', 'TH', 'TT'})}"
      ]
     },
     "execution_count": 81,
     "metadata": {},
     "output_type": "execute_result"
    }
   ],
   "source": [
    "import itertools\n",
    "\n",
    "stuff = ['HH','HT','TH','TT']\n",
    "\n",
    "every = set()\n",
    "\n",
    "for L in range(0, len(stuff)+1):\n",
    "    for subset in itertools.combinations(stuff, L):\n",
    "        every.add(frozenset(subset))\n",
    "        \n",
    "every"
   ]
  },
  {
   "cell_type": "code",
   "execution_count": 90,
   "metadata": {},
   "outputs": [
    {
     "data": {
      "text/plain": [
       "{frozenset(): 0.0,\n",
       " frozenset({'HT', 'TH'}): 0.5,\n",
       " frozenset({'HH'}): 0.25,\n",
       " frozenset({'HH', 'HT'}): 0.5,\n",
       " frozenset({'TT'}): 0.25,\n",
       " frozenset({'TH'}): 0.25,\n",
       " frozenset({'HH', 'TH'}): 0.5,\n",
       " frozenset({'HH', 'TH', 'TT'}): 0.75,\n",
       " frozenset({'HT'}): 0.25,\n",
       " frozenset({'HH', 'HT', 'TH'}): 0.75,\n",
       " frozenset({'HH', 'TT'}): 0.5,\n",
       " frozenset({'HT', 'TT'}): 0.5,\n",
       " frozenset({'HH', 'HT', 'TT'}): 0.75,\n",
       " frozenset({'TH', 'TT'}): 0.5,\n",
       " frozenset({'HT', 'TH', 'TT'}): 0.75,\n",
       " frozenset({'HH', 'HT', 'TH', 'TT'}): 1.0}"
      ]
     },
     "execution_count": 90,
     "metadata": {},
     "output_type": "execute_result"
    }
   ],
   "source": [
    "import itertools\n",
    "\n",
    "stuff = ['HH','HT','TH','TT']\n",
    "\n",
    "every = set()\n",
    "\n",
    "for L in range(0, len(stuff)+1):\n",
    "    for subset in itertools.combinations(stuff, L):\n",
    "        every.add(frozenset(subset))\n",
    "        \n",
    "p = {}\n",
    "for each in every:\n",
    "    length = len(each)\n",
    "    p[each] = length * 1/4\n",
    "p"
   ]
  },
  {
   "cell_type": "markdown",
   "metadata": {},
   "source": [
    "표본집합 : 12명의 사람\n",
    "    사건 A : 7\n",
    "    사건 B : 6\n",
    "    사건 C : {C1: 0/12, C2: 2/12, C3: 0/12 ...}\n"
   ]
  },
  {
   "cell_type": "markdown",
   "metadata": {},
   "source": [
    "| |범인이 머리가 길다|범인이 머리가 안길다|계|\n",
    "|-|-|\n",
    "|범인이 남자다|2|5|7|\n",
    "|범인이 여자다|4|1|5|\n",
    "|계|6|6|12"
   ]
  },
  {
   "cell_type": "markdown",
   "metadata": {},
   "source": [
    "1. 범인이 남자다 = $$ P(A) = \\dfrac{7}{12}  $$\n",
    "2. 범인이 머리가 길다 = $$ P(B) = \\dfrac{6}{12}  $$\n",
    "3. 범인이 남잔데 머리가 길다 = $$ P(A,B) = \\dfrac{2}{12}  $$\n",
    "\n",
    "4. 범인이 머리가 긴 사실을 알 때 범인이 남자일 주장의 신뢰도\n",
    "$$ P(A|B) = \\dfrac{P(A,B)}{P(B)} = \\dfrac{2/12}{6/12} = \\dfrac{2}{6}$$\n",
    "\n",
    "5. $$ P(A|B) = \\dfrac{2}{6} != P(A)$$이므로 A와 B는 독립이 아니다"
   ]
  },
  {
   "cell_type": "code",
   "execution_count": null,
   "metadata": {},
   "outputs": [],
   "source": [
    "from pgmpy.factors.discrete import JointProbabilityDistribution as JPD"
   ]
  },
  {
   "cell_type": "code",
   "execution_count": null,
   "metadata": {},
   "outputs": [],
   "source": [
    "j1 = JPD(['Man','Long hair'],[2,2],np.array([2, 5, 4, 1])/12)\n",
    "print(j1)"
   ]
  },
  {
   "cell_type": "code",
   "execution_count": null,
   "metadata": {},
   "outputs": [],
   "source": []
  }
 ],
 "metadata": {
  "kernelspec": {
   "display_name": "Python 3",
   "language": "python",
   "name": "python3"
  },
  "language_info": {
   "codemirror_mode": {
    "name": "ipython",
    "version": 3
   },
   "file_extension": ".py",
   "mimetype": "text/x-python",
   "name": "python",
   "nbconvert_exporter": "python",
   "pygments_lexer": "ipython3",
   "version": "3.6.3"
  }
 },
 "nbformat": 4,
 "nbformat_minor": 2
}
