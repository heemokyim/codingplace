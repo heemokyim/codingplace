{
 "cells": [
  {
   "cell_type": "code",
   "execution_count": 1,
   "metadata": {},
   "outputs": [],
   "source": [
    "%matplotlib inline"
   ]
  },
  {
   "cell_type": "code",
   "execution_count": 2,
   "metadata": {},
   "outputs": [],
   "source": [
    "from ml_config import *"
   ]
  },
  {
   "cell_type": "markdown",
   "metadata": {},
   "source": [
    "1. 날씨에 따라 감기가 걸릴 확률\n",
    "   > 표본공간 : {맑음, 흐림, 눈, 비, 그 외}\n",
    "\n",
    "2. 지하철이 내가 원하는 시간에 올 확률\n",
    "   > 표본공간 : {원하는 시간에 온다, 아니다}\n",
    "   \n",
    "\n",
    "3. 아침에 일어나서 학원까지 얼마나 걸리는지의 각 시간에 대한 확률\n",
    "   > 표본공간 : {0 ~ 양의 무한대}\n",
    "   \n",
    "4. 다이어트를 다짐하고 원하는 목표까지 걸릴 시간에 대한 각 확률\n",
    "   > 표본공간 : {0 ~ 양의 무한대}"
   ]
  },
  {
   "cell_type": "code",
   "execution_count": 5,
   "metadata": {},
   "outputs": [
    {
     "data": {
      "text/plain": [
       "{frozenset(): 0,\n",
       " frozenset({2}): 0.2,\n",
       " frozenset({2, 4}): 0.2,\n",
       " frozenset({3}): 0.3,\n",
       " frozenset({1, 2}): 0.7,\n",
       " frozenset({4}): 0,\n",
       " frozenset({1, 4}): 0.5,\n",
       " frozenset({2, 3, 4}): 0.5,\n",
       " frozenset({1, 2, 4}): 0.7,\n",
       " frozenset({3, 4}): 0.3,\n",
       " frozenset({2, 3}): 0.5,\n",
       " frozenset({1}): 0.5,\n",
       " frozenset({1, 3}): 0.8,\n",
       " frozenset({1, 3, 4}): 0.8,\n",
       " frozenset({1, 2, 3}): 1.0,\n",
       " frozenset({1, 2, 3, 4}): 1.0}"
      ]
     },
     "execution_count": 5,
     "metadata": {},
     "output_type": "execute_result"
    }
   ],
   "source": [
    "import itertools\n",
    "\n",
    "p = dict()\n",
    "\n",
    "sample_space = [1, 2, 3, 4]\n",
    "\n",
    "events = set()\n",
    "\n",
    "for L in range(0, len(sample_space)+1):\n",
    "    for subset in itertools.combinations(sample_space, L):\n",
    "        events.add(frozenset(subset))\n",
    "        \n",
    "for event in events:\n",
    "    p[event] = 0\n",
    "        \n",
    "# p({1}) = 0.5\n",
    "# p({2}) = 0.2\n",
    "# p({3}) = 0.3\n",
    "# p({4}) = 0\n",
    "        \n",
    "for event in events:\n",
    "    if 1 in event:\n",
    "        p[event] += 0.5\n",
    "        \n",
    "    if 2 in event:\n",
    "        p[event] += 0.2\n",
    "        \n",
    "    if 3 in event:\n",
    "        p[event] += 0.3\n",
    "\n",
    "p\n",
    "# {frozenset(): 0,\n",
    "#  frozenset({2}): 0.2,\n",
    "#  frozenset({2, 4}): 0.2,\n",
    "#  frozenset({3}): 0.3,\n",
    "#  frozenset({1, 2}): 0.7,\n",
    "#  frozenset({4}): 0,\n",
    "#  frozenset({1, 4}): 0.5,\n",
    "#  frozenset({2, 3, 4}): 0.5,\n",
    "#  frozenset({1, 2, 4}): 0.7,\n",
    "#  frozenset({3, 4}): 0.3,\n",
    "#  frozenset({2, 3}): 0.5,\n",
    "#  frozenset({1}): 0.5,\n",
    "#  frozenset({1, 3}): 0.8,\n",
    "#  frozenset({1, 3, 4}): 0.8,\n",
    "#  frozenset({1, 2, 3}): 1.0,\n",
    "#  frozenset({1, 2, 3, 4}): 1.0}"
   ]
  },
  {
   "cell_type": "code",
   "execution_count": 4,
   "metadata": {},
   "outputs": [
    {
     "ename": "TypeError",
     "evalue": "'set' object does not support indexing",
     "output_type": "error",
     "traceback": [
      "\u001b[1;31m---------------------------------------------------------------------------\u001b[0m",
      "\u001b[1;31mTypeError\u001b[0m                                 Traceback (most recent call last)",
      "\u001b[1;32m<ipython-input-4-956a93e36076>\u001b[0m in \u001b[0;36m<module>\u001b[1;34m()\u001b[0m\n\u001b[1;32m----> 1\u001b[1;33m \u001b[0mevents\u001b[0m\u001b[1;33m[\u001b[0m\u001b[1;36m0\u001b[0m\u001b[1;33m]\u001b[0m\u001b[1;33m\u001b[0m\u001b[0m\n\u001b[0m",
      "\u001b[1;31mTypeError\u001b[0m: 'set' object does not support indexing"
     ]
    }
   ],
   "source": [
    "events[0]"
   ]
  },
  {
   "cell_type": "code",
   "execution_count": null,
   "metadata": {},
   "outputs": [],
   "source": []
  }
 ],
 "metadata": {
  "kernelspec": {
   "display_name": "Python 3",
   "language": "python",
   "name": "python3"
  },
  "language_info": {
   "codemirror_mode": {
    "name": "ipython",
    "version": 3
   },
   "file_extension": ".py",
   "mimetype": "text/x-python",
   "name": "python",
   "nbconvert_exporter": "python",
   "pygments_lexer": "ipython3",
   "version": "3.6.3"
  }
 },
 "nbformat": 4,
 "nbformat_minor": 2
}
