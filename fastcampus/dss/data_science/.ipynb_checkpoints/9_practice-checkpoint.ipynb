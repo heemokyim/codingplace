{
 "cells": [
  {
   "cell_type": "code",
   "execution_count": 1,
   "metadata": {},
   "outputs": [],
   "source": [
    "from ml_config import *"
   ]
  },
  {
   "cell_type": "code",
   "execution_count": 10,
   "metadata": {},
   "outputs": [],
   "source": [
    "N = 10\n",
    "theta_0 = 0.5\n",
    "np.random.seed(0)\n",
    "x = sp.stats.bernoulli(theta_0).rvs(N)"
   ]
  },
  {
   "cell_type": "code",
   "execution_count": 4,
   "metadata": {},
   "outputs": [
    {
     "data": {
      "text/plain": [
       "0.34374999999999989"
      ]
     },
     "execution_count": 4,
     "metadata": {},
     "output_type": "execute_result"
    }
   ],
   "source": [
    "sp.stats.binom_test(7,10)"
   ]
  },
  {
   "cell_type": "code",
   "execution_count": 6,
   "metadata": {},
   "outputs": [
    {
     "data": {
      "text/plain": [
       "0.10937500000000003"
      ]
     },
     "execution_count": 6,
     "metadata": {},
     "output_type": "execute_result"
    }
   ],
   "source": [
    "sp.stats.binom_test(8,10)"
   ]
  },
  {
   "cell_type": "code",
   "execution_count": 7,
   "metadata": {},
   "outputs": [
    {
     "data": {
      "text/plain": [
       "0.021484374999999997"
      ]
     },
     "execution_count": 7,
     "metadata": {},
     "output_type": "execute_result"
    }
   ],
   "source": [
    "sp.stats.binom_test(9,10)"
   ]
  },
  {
   "cell_type": "markdown",
   "metadata": {},
   "source": [
    "# 9번일 때 p-value가 유의수준보다 낮으므로\n",
    "# 앞면이 9번 나와야 fair하지 않다고 할 수 있다"
   ]
  },
  {
   "cell_type": "code",
   "execution_count": 8,
   "metadata": {},
   "outputs": [
    {
     "data": {
      "text/plain": [
       "0.021484374999999997"
      ]
     },
     "execution_count": 8,
     "metadata": {},
     "output_type": "execute_result"
    }
   ],
   "source": [
    "sp.stats.binom_test(1,10)"
   ]
  },
  {
   "cell_type": "code",
   "execution_count": 27,
   "metadata": {},
   "outputs": [
    {
     "name": "stdout",
     "output_type": "stream",
     "text": [
      "앞면의 횟수, p-value\n",
      "0 1.57772181044e-30\n",
      "1 1.59349902855e-28\n",
      "2 7.96907286454e-27\n",
      "3 2.63086689613e-25\n",
      "4 6.44968889576e-24\n",
      "5 1.25232451254e-22\n",
      "6 2.00595952192e-21\n",
      "7 2.72614373281e-20\n",
      "8 3.20856366824e-19\n",
      "9 3.32204897945e-18\n",
      "10 3.06329017544e-17\n",
      "11 2.54085333549e-16\n",
      "12 1.91135753603e-15\n",
      "13 1.3129815522e-14\n",
      "14 8.28445187208e-14\n",
      "15 4.82542150394e-13\n",
      "16 2.60593581866e-12\n",
      "17 1.30979986501e-11\n",
      "18 6.14780661505e-11\n",
      "19 2.70276252205e-10\n",
      "20 1.11590890573e-09\n",
      "21 4.33736663342e-09\n",
      "22 1.59053284738e-08\n",
      "23 5.51358077585e-08\n",
      "24 1.8100026213e-07\n",
      "25 5.63628203421e-07\n",
      "26 1.66736264945e-06\n",
      "27 4.69241261264e-06\n",
      "28 1.25791500167e-05\n",
      "29 3.21600152957e-05\n",
      "30 7.85013964559e-05\n",
      "31 0.000183143224882\n",
      "32 0.000408777167427\n",
      "33 0.000873719836912\n",
      "34 0.00178993039149\n",
      "35 0.00351764172297\n",
      "36 0.00663712051593\n",
      "64 0.00663712051593\n",
      "65 0.00351764172297\n",
      "66 0.00178993039149\n",
      "67 0.000873719836912\n",
      "68 0.000408777167427\n",
      "69 0.000183143224882\n",
      "70 7.85013964559e-05\n",
      "71 3.21600152957e-05\n",
      "72 1.25791500167e-05\n",
      "73 4.69241261264e-06\n",
      "74 1.66736264945e-06\n",
      "75 5.63628203421e-07\n",
      "76 1.8100026213e-07\n",
      "77 5.51358077585e-08\n",
      "78 1.59053284738e-08\n",
      "79 4.33736663342e-09\n",
      "80 1.11590890573e-09\n",
      "81 2.70276252205e-10\n",
      "82 6.14780661505e-11\n",
      "83 1.30979986501e-11\n",
      "84 2.60593581866e-12\n",
      "85 4.82542150394e-13\n",
      "86 8.28445187208e-14\n",
      "87 1.3129815522e-14\n",
      "88 1.91135753603e-15\n",
      "89 2.54085333549e-16\n",
      "90 3.06329017544e-17\n",
      "91 3.32204897945e-18\n",
      "92 3.20856366824e-19\n",
      "93 2.72614373281e-20\n",
      "94 2.00595952192e-21\n",
      "95 1.25232451254e-22\n",
      "96 6.44968889576e-24\n",
      "97 2.63086689613e-25\n",
      "98 7.96907286454e-27\n",
      "99 1.59349902855e-28\n",
      "100 1.57772181044e-30\n"
     ]
    }
   ],
   "source": [
    "N = 100\n",
    "theta_0 = 0.5\n",
    "np.random.seed(0)\n",
    "x = sp.stats.bernoulli(theta_0).rvs(N)\n",
    "print('앞면의 횟수, p-value')\n",
    "for each in range(0,101):\n",
    "    p_value = sp.stats.binom_test(each,N)\n",
    "    if p_value <= 1E-1:\n",
    "        print(each, p_value)"
   ]
  },
  {
   "cell_type": "code",
   "execution_count": null,
   "metadata": {},
   "outputs": [],
   "source": []
  }
 ],
 "metadata": {
  "kernelspec": {
   "display_name": "Python 3",
   "language": "python",
   "name": "python3"
  },
  "language_info": {
   "codemirror_mode": {
    "name": "ipython",
    "version": 3
   },
   "file_extension": ".py",
   "mimetype": "text/x-python",
   "name": "python",
   "nbconvert_exporter": "python",
   "pygments_lexer": "ipython3",
   "version": "3.6.3"
  }
 },
 "nbformat": 4,
 "nbformat_minor": 2
}
