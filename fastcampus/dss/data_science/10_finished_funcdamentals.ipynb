{
 "cells": [
  {
   "cell_type": "code",
   "execution_count": 3,
   "metadata": {},
   "outputs": [],
   "source": [
    "from ml_config import *"
   ]
  },
  {
   "cell_type": "code",
   "execution_count": 4,
   "metadata": {},
   "outputs": [],
   "source": [
    "from sklearn.datasets import make_regression"
   ]
  },
  {
   "cell_type": "code",
   "execution_count": 46,
   "metadata": {},
   "outputs": [],
   "source": [
    "x,y,w = make_regression(n_samples=10, n_targets=2,n_features=2, bias=0, noise=0,coef=True,random_state=0)"
   ]
  },
  {
   "cell_type": "code",
   "execution_count": 47,
   "metadata": {},
   "outputs": [
    {
     "data": {
      "text/plain": [
       "array([[ 0.14404357,  1.45427351],\n",
       "       [ 0.97873798,  2.2408932 ],\n",
       "       [ 0.3130677 , -0.85409574],\n",
       "       [ 0.76103773,  0.12167502],\n",
       "       [ 1.76405235,  0.40015721],\n",
       "       [ 1.49407907, -0.20515826],\n",
       "       [-0.10321885,  0.4105985 ],\n",
       "       [ 0.44386323,  0.33367433],\n",
       "       [ 1.86755799, -0.97727788],\n",
       "       [ 0.95008842, -0.15135721]])"
      ]
     },
     "execution_count": 47,
     "metadata": {},
     "output_type": "execute_result"
    }
   ],
   "source": [
    "x"
   ]
  },
  {
   "cell_type": "code",
   "execution_count": 21,
   "metadata": {},
   "outputs": [
    {
     "data": {
      "text/plain": [
       "array([[  77.95593084,   73.91053581],\n",
       "       [ 130.97116628,  185.37964728],\n",
       "       [ -40.0829144 ,   -5.84156695],\n",
       "       [  17.25931629,   76.9382682 ],\n",
       "       [  46.17040706,  183.23753836],\n",
       "       [  10.71196511,  132.63387364],\n",
       "       [  19.94733774,    7.27519304],\n",
       "       [  23.77566413,   55.76658433],\n",
       "       [ -24.22702442,  135.89840425],\n",
       "       [   5.72127928,   83.47569229]])"
      ]
     },
     "execution_count": 21,
     "metadata": {},
     "output_type": "execute_result"
    }
   ],
   "source": [
    "y"
   ]
  },
  {
   "cell_type": "code",
   "execution_count": 22,
   "metadata": {},
   "outputs": [
    {
     "data": {
      "text/plain": [
       "array([[ 14.33532874,  94.4668917 ],\n",
       "       [ 52.18483218,  41.466194  ]])"
      ]
     },
     "execution_count": 22,
     "metadata": {},
     "output_type": "execute_result"
    }
   ],
   "source": [
    "w"
   ]
  },
  {
   "cell_type": "code",
   "execution_count": 43,
   "metadata": {},
   "outputs": [
    {
     "ename": "SyntaxError",
     "evalue": "invalid syntax (<ipython-input-43-36e2146159a0>, line 1)",
     "output_type": "error",
     "traceback": [
      "\u001b[1;36m  File \u001b[1;32m\"<ipython-input-43-36e2146159a0>\"\u001b[1;36m, line \u001b[1;32m1\u001b[0m\n\u001b[1;33m    x.dot(w)X, y, w = make_regression(n_samples=50, n_features=1, bias=100, noise=10,\u001b[0m\n\u001b[1;37m            ^\u001b[0m\n\u001b[1;31mSyntaxError\u001b[0m\u001b[1;31m:\u001b[0m invalid syntax\n"
     ]
    }
   ],
   "source": [
    "x.dot(w)X, y, w = make_regression(n_samples=50, n_features=1, bias=100, noise=10,\n",
    "                          coef=True, random_state=0)"
   ]
  },
  {
   "cell_type": "code",
   "execution_count": 27,
   "metadata": {},
   "outputs": [
    {
     "ename": "ValueError",
     "evalue": "operands could not be broadcast together with shapes (10,2) (2,2) ",
     "output_type": "error",
     "traceback": [
      "\u001b[1;31m---------------------------------------------------------------------------\u001b[0m",
      "\u001b[1;31mValueError\u001b[0m                                Traceback (most recent call last)",
      "\u001b[1;32m<ipython-input-27-383f8fcfbb67>\u001b[0m in \u001b[0;36m<module>\u001b[1;34m()\u001b[0m\n\u001b[1;32m----> 1\u001b[1;33m \u001b[0mx\u001b[0m\u001b[1;33m*\u001b[0m\u001b[0mw\u001b[0m\u001b[1;33m\u001b[0m\u001b[0m\n\u001b[0m",
      "\u001b[1;31mValueError\u001b[0m: operands could not be broadcast together with shapes (10,2) (2,2) "
     ]
    }
   ],
   "source": [
    "x*w"
   ]
  },
  {
   "cell_type": "code",
   "execution_count": 7,
   "metadata": {},
   "outputs": [],
   "source": [
    "x, y, w = make_regression(n_samples=50, n_features=1, bias=100, noise=10,coef=True, random_state=0)"
   ]
  },
  {
   "cell_type": "code",
   "execution_count": 8,
   "metadata": {},
   "outputs": [
    {
     "data": {
      "text/plain": [
       "array([[-0.85409574],\n",
       "       [ 1.49407907],\n",
       "       [-0.34791215],\n",
       "       [ 0.44386323],\n",
       "       [-0.18718385],\n",
       "       [ 1.86755799],\n",
       "       [ 0.4105985 ],\n",
       "       [-1.70627019],\n",
       "       [-1.42001794],\n",
       "       [ 0.8644362 ],\n",
       "       [ 0.97873798],\n",
       "       [-0.20515826],\n",
       "       [ 0.15494743],\n",
       "       [-0.50965218],\n",
       "       [ 1.53277921],\n",
       "       [-0.74216502],\n",
       "       [-1.45436567],\n",
       "       [-0.10321885],\n",
       "       [-2.55298982],\n",
       "       [ 1.76405235],\n",
       "       [-1.25279536],\n",
       "       [-0.97727788],\n",
       "       [ 0.04575852],\n",
       "       [-0.4380743 ],\n",
       "       [ 0.76103773],\n",
       "       [ 0.14404357],\n",
       "       [-0.21274028],\n",
       "       [ 1.20237985],\n",
       "       [-0.38732682],\n",
       "       [ 2.2408932 ],\n",
       "       [ 0.77749036],\n",
       "       [ 0.15634897],\n",
       "       [-1.61389785],\n",
       "       [ 1.9507754 ],\n",
       "       [ 0.40015721],\n",
       "       [ 1.46935877],\n",
       "       [ 1.45427351],\n",
       "       [-0.30230275],\n",
       "       [ 0.3130677 ],\n",
       "       [ 0.33367433],\n",
       "       [ 2.26975462],\n",
       "       [-0.15135721],\n",
       "       [ 0.12167502],\n",
       "       [ 0.37816252],\n",
       "       [ 0.6536186 ],\n",
       "       [ 0.95008842],\n",
       "       [ 1.23029068],\n",
       "       [-0.88778575],\n",
       "       [-1.04855297],\n",
       "       [-1.98079647]])"
      ]
     },
     "execution_count": 8,
     "metadata": {},
     "output_type": "execute_result"
    }
   ],
   "source": [
    "x"
   ]
  },
  {
   "cell_type": "code",
   "execution_count": 9,
   "metadata": {},
   "outputs": [
    {
     "data": {
      "text/plain": [
       "array([  69.16576208,  129.94932345,   80.01389923,  100.30585701,\n",
       "        107.20314663,  140.88561123,  112.99506826,   82.25108224,\n",
       "         71.56780523,  111.67769684,  112.48530888,  114.65029223,\n",
       "        111.71570029,  101.63406761,  127.78240131,   93.08609825,\n",
       "         80.69164687,  113.11903254,   61.0218126 ,  131.15670173,\n",
       "         91.08078405,   79.88503003,   90.81838842,   95.10877879,\n",
       "        108.56190647,   98.64651153,   96.63568503,  125.15577947,\n",
       "         98.56417169,  131.95814648,  121.75870162,  106.25707916,\n",
       "         80.40782312,  128.46531432,   98.60107781,  110.84947303,\n",
       "        116.3307515 ,  103.39347869,  106.6868286 ,  103.97656433,\n",
       "        127.6988851 ,   97.31416893,   94.52678796,   96.96377225,\n",
       "        101.80069439,  119.35745   ,  118.85230744,  104.32382223,\n",
       "         92.40639334,   83.7664334 ])"
      ]
     },
     "execution_count": 9,
     "metadata": {},
     "output_type": "execute_result"
    }
   ],
   "source": [
    "y"
   ]
  },
  {
   "cell_type": "code",
   "execution_count": 10,
   "metadata": {},
   "outputs": [
    {
     "data": {
      "text/plain": [
       "array(15.896958364551972)"
      ]
     },
     "execution_count": 10,
     "metadata": {},
     "output_type": "execute_result"
    }
   ],
   "source": [
    "w"
   ]
  },
  {
   "cell_type": "code",
   "execution_count": 39,
   "metadata": {},
   "outputs": [
    {
     "data": {
      "text/plain": [
       "((10, 2), (50,))"
      ]
     },
     "execution_count": 39,
     "metadata": {},
     "output_type": "execute_result"
    }
   ],
   "source": [
    "x.shape, y.shape"
   ]
  },
  {
   "cell_type": "code",
   "execution_count": 42,
   "metadata": {},
   "outputs": [
    {
     "data": {
      "text/plain": [
       "()"
      ]
     },
     "execution_count": 42,
     "metadata": {},
     "output_type": "execute_result"
    }
   ],
   "source": []
  },
  {
   "cell_type": "code",
   "execution_count": 77,
   "metadata": {},
   "outputs": [],
   "source": [
    "def make_regression2(n_samples,bias,noise,random_state):\n",
    "    np.random.seed(random_state)\n",
    "    \n",
    "    b = bias\n",
    "    \n",
    "    w = np.random.random_sample()*100\n",
    "    \n",
    "    x = np.random.random_sample(n_samples)\n",
    "    \n",
    "    y = np.array([each*w + bias + np.random.uniform()*noise for each in x])\n",
    "    \n",
    "    return x,y,w"
   ]
  },
  {
   "cell_type": "code",
   "execution_count": 25,
   "metadata": {},
   "outputs": [],
   "source": [
    "import random"
   ]
  },
  {
   "cell_type": "code",
   "execution_count": 27,
   "metadata": {},
   "outputs": [
    {
     "data": {
      "text/plain": [
       "100"
      ]
     },
     "execution_count": 27,
     "metadata": {},
     "output_type": "execute_result"
    }
   ],
   "source": [
    "random.seed(2)\n",
    "random.randint(100,101)"
   ]
  },
  {
   "cell_type": "code",
   "execution_count": 48,
   "metadata": {},
   "outputs": [
    {
     "data": {
      "text/plain": [
       "array([ 0.89299669,  0.10115172,  0.02662893,  0.70306833,  0.53789087,\n",
       "        0.97615904,  0.71675714,  0.46975873,  0.95821693,  0.89956286])"
      ]
     },
     "execution_count": 48,
     "metadata": {},
     "output_type": "execute_result"
    }
   ],
   "source": [
    "np.random.random_sample(10)"
   ]
  },
  {
   "cell_type": "code",
   "execution_count": 61,
   "metadata": {},
   "outputs": [
    {
     "data": {
      "text/plain": [
       "0.9710465570462083"
      ]
     },
     "execution_count": 61,
     "metadata": {},
     "output_type": "execute_result"
    }
   ],
   "source": [
    "np.random.random_sample()"
   ]
  },
  {
   "cell_type": "code",
   "execution_count": 50,
   "metadata": {},
   "outputs": [
    {
     "data": {
      "text/plain": [
       "0.9089261696935714"
      ]
     },
     "execution_count": 50,
     "metadata": {},
     "output_type": "execute_result"
    }
   ],
   "source": [
    "w"
   ]
  },
  {
   "cell_type": "code",
   "execution_count": 63,
   "metadata": {},
   "outputs": [
    {
     "data": {
      "text/plain": [
       "0.7143254596082457"
      ]
     },
     "execution_count": 63,
     "metadata": {},
     "output_type": "execute_result"
    }
   ],
   "source": [
    "np.random.uniform()"
   ]
  },
  {
   "cell_type": "code",
   "execution_count": 132,
   "metadata": {},
   "outputs": [],
   "source": [
    "def make_regression2(n_samples,bias,noise,random_state):\n",
    "    np.random.seed(random_state)\n",
    "    \n",
    "    w = np.random.random_sample()*100\n",
    "    \n",
    "    x = np.random.random_sample(n_samples)\n",
    "    \n",
    "    e = sp.stats.norm(0,noise).rvs(n_samples)\n",
    "    \n",
    "    y = w * x + bias + e\n",
    "    \n",
    "    return x,y,w"
   ]
  },
  {
   "cell_type": "code",
   "execution_count": 133,
   "metadata": {},
   "outputs": [],
   "source": [
    "x,y,w=make_regression2(n_samples=10,bias=0,noise=0,random_state=0)"
   ]
  },
  {
   "cell_type": "code",
   "execution_count": 134,
   "metadata": {},
   "outputs": [
    {
     "data": {
      "image/png": "[encoded data removed]",
      "text/plain": [
       "<matplotlib.figure.Figure at 0x247c7330198>"
      ]
     },
     "metadata": {},
     "output_type": "display_data"
    }
   ],
   "source": [
    "plt.scatter(x, y, s=100)\n",
    "plt.xlabel(\"x\")\n",
    "plt.ylabel(\"y\")\n",
    "plt.show()"
   ]
  },
  {
   "cell_type": "code",
   "execution_count": 135,
   "metadata": {},
   "outputs": [],
   "source": [
    "x,y,w=make_regression2(n_samples=50,bias=100,noise=10,random_state=0)"
   ]
  },
  {
   "cell_type": "code",
   "execution_count": 136,
   "metadata": {},
   "outputs": [
    {
     "data": {
      "image/png": "[encoded data removed]",
      "text/plain": [
       "<matplotlib.figure.Figure at 0x247c77eada0>"
      ]
     },
     "metadata": {},
     "output_type": "display_data"
    }
   ],
   "source": [
    "plt.scatter(x, y, s=100)\n",
    "plt.xlabel(\"x\")\n",
    "plt.ylabel(\"y\")\n",
    "plt.show()"
   ]
  },
  {
   "cell_type": "code",
   "execution_count": 144,
   "metadata": {},
   "outputs": [],
   "source": [
    "from sklearn.datasets import make_regression\n",
    "\n",
    "bias = 100\n",
    "X0, y, coef = make_regression(n_samples=100, n_features=1, bias=bias, noise=10, coef=True, random_state=1)\n",
    "X = sm.add_constant(X0)\n",
    "y = y.reshape(len(y), 1)"
   ]
  },
  {
   "cell_type": "code",
   "execution_count": 146,
   "metadata": {},
   "outputs": [
    {
     "data": {
      "text/plain": [
       "array(80.71051956187792)"
      ]
     },
     "execution_count": 146,
     "metadata": {},
     "output_type": "execute_result"
    }
   ],
   "source": [
    "coef"
   ]
  },
  {
   "cell_type": "code",
   "execution_count": 1,
   "metadata": {},
   "outputs": [],
   "source": [
    "from patsy import dmatrix"
   ]
  },
  {
   "cell_type": "code",
   "execution_count": 5,
   "metadata": {},
   "outputs": [],
   "source": [
    "np.random.seed(0)\n",
    "x1 = np.random.rand(5) + 10\n",
    "x2 = np.random.rand(5) * 10\n",
    "y = x1 + 2 * x2 + np.random.randn(5)\n",
    "df1 = pd.DataFrame(x1, columns=[\"x1\"])\n",
    "df2 = pd.DataFrame(np.array([x1, x2]).T, columns=[\"x1\", \"x2\"])\n",
    "df = pd.DataFrame(np.array([x1, x2, y]).T, columns=[\"x1\", \"x2\", \"y\"])"
   ]
  },
  {
   "cell_type": "code",
   "execution_count": 6,
   "metadata": {},
   "outputs": [
    {
     "data": {
      "text/plain": [
       "DesignMatrix with shape (5, 2)\n",
       "  Intercept        x1\n",
       "          1  10.54881\n",
       "          1  10.71519\n",
       "          1  10.60276\n",
       "          1  10.54488\n",
       "          1  10.42365\n",
       "  Terms:\n",
       "    'Intercept' (column 0)\n",
       "    'x1' (column 1)"
      ]
     },
     "execution_count": 6,
     "metadata": {},
     "output_type": "execute_result"
    }
   ],
   "source": [
    "dmatrix(\"x1\")"
   ]
  },
  {
   "cell_type": "code",
   "execution_count": 9,
   "metadata": {},
   "outputs": [
    {
     "data": {
      "text/html": [
       "<div>\n",
       "<style>\n",
       "    .dataframe thead tr:only-child th {\n",
       "        text-align: right;\n",
       "    }\n",
       "\n",
       "    .dataframe thead th {\n",
       "        text-align: left;\n",
       "    }\n",
       "\n",
       "    .dataframe tbody tr th {\n",
       "        vertical-align: top;\n",
       "    }\n",
       "</style>\n",
       "<table border=\"1\" class=\"dataframe\">\n",
       "  <thead>\n",
       "    <tr style=\"text-align: right;\">\n",
       "      <th></th>\n",
       "      <th>x1</th>\n",
       "      <th>x2</th>\n",
       "    </tr>\n",
       "  </thead>\n",
       "  <tbody>\n",
       "    <tr>\n",
       "      <th>0</th>\n",
       "      <td>10.548814</td>\n",
       "      <td>6.458941</td>\n",
       "    </tr>\n",
       "    <tr>\n",
       "      <th>1</th>\n",
       "      <td>10.715189</td>\n",
       "      <td>4.375872</td>\n",
       "    </tr>\n",
       "    <tr>\n",
       "      <th>2</th>\n",
       "      <td>10.602763</td>\n",
       "      <td>8.917730</td>\n",
       "    </tr>\n",
       "    <tr>\n",
       "      <th>3</th>\n",
       "      <td>10.544883</td>\n",
       "      <td>9.636628</td>\n",
       "    </tr>\n",
       "    <tr>\n",
       "      <th>4</th>\n",
       "      <td>10.423655</td>\n",
       "      <td>3.834415</td>\n",
       "    </tr>\n",
       "  </tbody>\n",
       "</table>\n",
       "</div>"
      ],
      "text/plain": [
       "          x1        x2\n",
       "0  10.548814  6.458941\n",
       "1  10.715189  4.375872\n",
       "2  10.602763  8.917730\n",
       "3  10.544883  9.636628\n",
       "4  10.423655  3.834415"
      ]
     },
     "execution_count": 9,
     "metadata": {},
     "output_type": "execute_result"
    }
   ],
   "source": [
    "df2"
   ]
  },
  {
   "cell_type": "code",
   "execution_count": 12,
   "metadata": {},
   "outputs": [
    {
     "data": {
      "text/plain": [
       "DesignMatrix with shape (5, 2)\n",
       "  Intercept       x2\n",
       "          1  6.45894\n",
       "          1  4.37587\n",
       "          1  8.91773\n",
       "          1  9.63663\n",
       "          1  3.83442\n",
       "  Terms:\n",
       "    'Intercept' (column 0)\n",
       "    'x2' (column 1)"
      ]
     },
     "execution_count": 12,
     "metadata": {},
     "output_type": "execute_result"
    }
   ],
   "source": [
    "dmatrix('x2',df1)"
   ]
  },
  {
   "cell_type": "code",
   "execution_count": 13,
   "metadata": {},
   "outputs": [
    {
     "data": {
      "text/plain": [
       "DesignMatrix with shape (5, 2)\n",
       "  Intercept       x2\n",
       "          1  6.45894\n",
       "          1  4.37587\n",
       "          1  8.91773\n",
       "          1  9.63663\n",
       "          1  3.83442\n",
       "  Terms:\n",
       "    'Intercept' (column 0)\n",
       "    'x2' (column 1)"
      ]
     },
     "execution_count": 13,
     "metadata": {},
     "output_type": "execute_result"
    }
   ],
   "source": [
    "dmatrix('x2')"
   ]
  },
  {
   "cell_type": "code",
   "execution_count": 14,
   "metadata": {},
   "outputs": [
    {
     "data": {
      "text/plain": [
       "DesignMatrix with shape (5, 1)\n",
       "        x1\n",
       "  10.54881\n",
       "  10.71519\n",
       "  10.60276\n",
       "  10.54488\n",
       "  10.42365\n",
       "  Terms:\n",
       "    'x1' (column 0)"
      ]
     },
     "execution_count": 14,
     "metadata": {},
     "output_type": "execute_result"
    }
   ],
   "source": [
    "dmatrix('x1-1')"
   ]
  },
  {
   "cell_type": "code",
   "execution_count": 17,
   "metadata": {},
   "outputs": [
    {
     "data": {
      "text/plain": [
       "DesignMatrix with shape (5, 3)\n",
       "  Intercept        x1       x2\n",
       "          1  10.54881  6.45894\n",
       "          1  10.71519  4.37587\n",
       "          1  10.60276  8.91773\n",
       "          1  10.54488  9.63663\n",
       "          1  10.42365  3.83442\n",
       "  Terms:\n",
       "    'Intercept' (column 0)\n",
       "    'x1' (column 1)\n",
       "    'x2' (column 2)"
      ]
     },
     "execution_count": 17,
     "metadata": {},
     "output_type": "execute_result"
    }
   ],
   "source": [
    "dmatrix('x1+x2')"
   ]
  },
  {
   "cell_type": "code",
   "execution_count": 19,
   "metadata": {},
   "outputs": [
    {
     "data": {
      "text/plain": [
       "DesignMatrix with shape (5, 4)\n",
       "  Intercept        x1       x2      x1:x2\n",
       "          1  10.54881  6.45894   68.13417\n",
       "          1  10.71519  4.37587   46.88830\n",
       "          1  10.60276  8.91773   94.55258\n",
       "          1  10.54488  9.63663  101.61711\n",
       "          1  10.42365  3.83442   39.96862\n",
       "  Terms:\n",
       "    'Intercept' (column 0)\n",
       "    'x1' (column 1)\n",
       "    'x2' (column 2)\n",
       "    'x1:x2' (column 3)"
      ]
     },
     "execution_count": 19,
     "metadata": {},
     "output_type": "execute_result"
    }
   ],
   "source": [
    "dmatrix('x1 + x2 + x1:x2')"
   ]
  },
  {
   "cell_type": "code",
   "execution_count": 20,
   "metadata": {},
   "outputs": [
    {
     "data": {
      "text/plain": [
       "DesignMatrix with shape (5, 3)\n",
       "        x1       x2      x1:x2\n",
       "  10.54881  6.45894   68.13417\n",
       "  10.71519  4.37587   46.88830\n",
       "  10.60276  8.91773   94.55258\n",
       "  10.54488  9.63663  101.61711\n",
       "  10.42365  3.83442   39.96862\n",
       "  Terms:\n",
       "    'x1' (column 0)\n",
       "    'x2' (column 1)\n",
       "    'x1:x2' (column 2)"
      ]
     },
     "execution_count": 20,
     "metadata": {},
     "output_type": "execute_result"
    }
   ],
   "source": [
    "dmatrix('x1*x2 - 1')"
   ]
  },
  {
   "cell_type": "code",
   "execution_count": 21,
   "metadata": {},
   "outputs": [
    {
     "data": {
      "text/html": [
       "<div>\n",
       "<style>\n",
       "    .dataframe thead tr:only-child th {\n",
       "        text-align: right;\n",
       "    }\n",
       "\n",
       "    .dataframe thead th {\n",
       "        text-align: left;\n",
       "    }\n",
       "\n",
       "    .dataframe tbody tr th {\n",
       "        vertical-align: top;\n",
       "    }\n",
       "</style>\n",
       "<table border=\"1\" class=\"dataframe\">\n",
       "  <thead>\n",
       "    <tr style=\"text-align: right;\">\n",
       "      <th></th>\n",
       "      <th>x1</th>\n",
       "      <th>x2</th>\n",
       "      <th>y</th>\n",
       "    </tr>\n",
       "  </thead>\n",
       "  <tbody>\n",
       "    <tr>\n",
       "      <th>0</th>\n",
       "      <td>10.548814</td>\n",
       "      <td>6.458941</td>\n",
       "      <td>23.610739</td>\n",
       "    </tr>\n",
       "    <tr>\n",
       "      <th>1</th>\n",
       "      <td>10.715189</td>\n",
       "      <td>4.375872</td>\n",
       "      <td>20.921207</td>\n",
       "    </tr>\n",
       "    <tr>\n",
       "      <th>2</th>\n",
       "      <td>10.602763</td>\n",
       "      <td>8.917730</td>\n",
       "      <td>29.199261</td>\n",
       "    </tr>\n",
       "    <tr>\n",
       "      <th>3</th>\n",
       "      <td>10.544883</td>\n",
       "      <td>9.636628</td>\n",
       "      <td>29.939813</td>\n",
       "    </tr>\n",
       "    <tr>\n",
       "      <th>4</th>\n",
       "      <td>10.423655</td>\n",
       "      <td>3.834415</td>\n",
       "      <td>18.536348</td>\n",
       "    </tr>\n",
       "  </tbody>\n",
       "</table>\n",
       "</div>"
      ],
      "text/plain": [
       "          x1        x2          y\n",
       "0  10.548814  6.458941  23.610739\n",
       "1  10.715189  4.375872  20.921207\n",
       "2  10.602763  8.917730  29.199261\n",
       "3  10.544883  9.636628  29.939813\n",
       "4  10.423655  3.834415  18.536348"
      ]
     },
     "execution_count": 21,
     "metadata": {},
     "output_type": "execute_result"
    }
   ],
   "source": [
    "df"
   ]
  },
  {
   "cell_type": "code",
   "execution_count": 22,
   "metadata": {},
   "outputs": [],
   "source": [
    "model2 = sm.OLS.from_formula(\"y ~ x1 + x2\", data=df)"
   ]
  },
  {
   "cell_type": "code",
   "execution_count": 23,
   "metadata": {},
   "outputs": [
    {
     "name": "stdout",
     "output_type": "stream",
     "text": [
      "                            OLS Regression Results                            \n",
      "==============================================================================\n",
      "Dep. Variable:                      y   R-squared:                       0.998\n",
      "Model:                            OLS   Adj. R-squared:                  0.995\n",
      "Method:                 Least Squares   F-statistic:                     406.1\n",
      "Date:                Sat, 03 Mar 2018   Prob (F-statistic):            0.00246\n",
      "Time:                        17:26:51   Log-Likelihood:                0.41801\n",
      "No. Observations:                   5   AIC:                             5.164\n",
      "Df Residuals:                       2   BIC:                             3.992\n",
      "Df Model:                           2                                         \n",
      "Covariance Type:            nonrobust                                         \n",
      "==============================================================================\n",
      "                 coef    std err          t      P>|t|      [0.025      0.975]\n",
      "------------------------------------------------------------------------------\n",
      "Intercept    -41.9480     17.631     -2.379      0.140    -117.809      33.913\n",
      "x1             5.0904      1.671      3.046      0.093      -2.100      12.281\n",
      "x2             1.8960      0.068     28.015      0.001       1.605       2.187\n",
      "==============================================================================\n",
      "Omnibus:                          nan   Durbin-Watson:                   1.540\n",
      "Prob(Omnibus):                    nan   Jarque-Bera (JB):                0.451\n",
      "Skew:                          -0.636   Prob(JB):                        0.798\n",
      "Kurtosis:                       2.259   Cond. No.                     1.42e+03\n",
      "==============================================================================\n",
      "\n",
      "Warnings:\n",
      "[1] Standard Errors assume that the covariance matrix of the errors is correctly specified.\n",
      "[2] The condition number is large, 1.42e+03. This might indicate that there are\n",
      "strong multicollinearity or other numerical problems.\n"
     ]
    },
    {
     "name": "stderr",
     "output_type": "stream",
     "text": [
      "d:\\anaconda\\lib\\site-packages\\statsmodels\\stats\\stattools.py:72: ValueWarning: omni_normtest is not valid with less than 8 observations; 5 samples were given.\n",
      "  \"samples were given.\" % int(n), ValueWarning)\n"
     ]
    }
   ],
   "source": [
    "print(model2.fit().summary())"
   ]
  },
  {
   "cell_type": "code",
   "execution_count": null,
   "metadata": {},
   "outputs": [],
   "source": []
  }
 ],
 "metadata": {
  "kernelspec": {
   "display_name": "Python 3",
   "language": "python",
   "name": "python3"
  },
  "language_info": {
   "codemirror_mode": {
    "name": "ipython",
    "version": 3
   },
   "file_extension": ".py",
   "mimetype": "text/x-python",
   "name": "python",
   "nbconvert_exporter": "python",
   "pygments_lexer": "ipython3",
   "version": "3.6.3"
  }
 },
 "nbformat": 4,
 "nbformat_minor": 2
}
