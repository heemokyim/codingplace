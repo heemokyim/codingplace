{
 "cells": [
  {
   "cell_type": "code",
   "execution_count": 2,
   "metadata": {},
   "outputs": [],
   "source": [
    "from ml_config import *"
   ]
  },
  {
   "cell_type": "markdown",
   "metadata": {},
   "source": [
    "문장 내의 인라인 수식은 $\\alpha^{\\beta}$ 가 됩니다\n",
    "\n",
    "$$ \\alpha = \\begin{bmatrix} a & b \\\\ c & d \\end{bmatrix} $$"
   ]
  },
  {
   "cell_type": "markdown",
   "metadata": {},
   "source": [
    "문장내의 인라인 수식은 $\\alpha^{\\beta}$가 됩니다.\n",
    "\n",
    "$$ \\alpha = \\begin{bmatrix} a & b \\\\ c & d \\end{bmatrix} $$"
   ]
  },
  {
   "cell_type": "code",
   "execution_count": 1,
   "metadata": {},
   "outputs": [],
   "source": [
    "import sympy"
   ]
  },
  {
   "cell_type": "code",
   "execution_count": 9,
   "metadata": {},
   "outputs": [
    {
     "data": {
      "text/plain": [
       "Matrix([\n",
       "[1/(x1 - 1),     3*x2**2],\n",
       "[      4*x1, exp(x2 - 1)]])"
      ]
     },
     "execution_count": 9,
     "metadata": {},
     "output_type": "execute_result"
    }
   ],
   "source": [
    "x1, x2 = sympy.symbols('x1 x2')\n",
    "y1 = sympy.log(x1 - 1) + x2**3\n",
    "y2 = 2*x1**2 + sympy.exp(x2-1)\n",
    "X = sympy.Matrix([x1,x2])\n",
    "Y = sympy.Matrix([y1,y2])\n",
    "Y.jacobian(X)"
   ]
  },
  {
   "cell_type": "code",
   "execution_count": null,
   "metadata": {},
   "outputs": [],
   "source": []
  },
  {
   "cell_type": "code",
   "execution_count": null,
   "metadata": {},
   "outputs": [],
   "source": []
  }
 ],
 "metadata": {
  "kernelspec": {
   "display_name": "Python 3",
   "language": "python",
   "name": "python3"
  },
  "language_info": {
   "codemirror_mode": {
    "name": "ipython",
    "version": 3
   },
   "file_extension": ".py",
   "mimetype": "text/x-python",
   "name": "python",
   "nbconvert_exporter": "python",
   "pygments_lexer": "ipython3",
   "version": "3.6.3"
  }
 },
 "nbformat": 4,
 "nbformat_minor": 2
}
