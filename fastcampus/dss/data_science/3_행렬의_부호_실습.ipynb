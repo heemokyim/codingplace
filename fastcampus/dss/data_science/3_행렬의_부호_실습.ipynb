{
 "cells": [
  {
   "cell_type": "code",
   "execution_count": 1,
   "metadata": {},
   "outputs": [],
   "source": [
    "from ml_config import *"
   ]
  },
  {
   "cell_type": "markdown",
   "metadata": {},
   "source": [
    "https://docs.scipy.org/doc/numpy-1.13.0/reference/generated/numpy.linalg.norm.html"
   ]
  },
  {
   "cell_type": "code",
   "execution_count": 17,
   "metadata": {},
   "outputs": [
    {
     "name": "stdout",
     "output_type": "stream",
     "text": [
      "[[ 2  3 -2]\n",
      " [ 3  5  6]\n",
      " [ 2  4  3]]\n",
      "[[ 2  3 -2]\n",
      " [ 3  5  6]\n",
      " [ 2  4  3]]\n"
     ]
    }
   ],
   "source": [
    "X = np.array([[2, 3, -2], [3, 5, 6], [2, 4, 3]])\n",
    "print(X)\n",
    "X = X.reshape(3, 3)\n",
    "print(X)"
   ]
  },
  {
   "cell_type": "code",
   "execution_count": 18,
   "metadata": {},
   "outputs": [
    {
     "name": "stdout",
     "output_type": "stream",
     "text": [
      "[[ 0.69230769  1.30769231 -2.15384615]\n",
      " [-0.23076923 -0.76923077  1.38461538]\n",
      " [-0.15384615  0.15384615 -0.07692308]]\n"
     ]
    }
   ],
   "source": [
    "inv_X = np.linalg.inv(X)\n",
    "print(inv_X)"
   ]
  },
  {
   "cell_type": "code",
   "execution_count": 19,
   "metadata": {},
   "outputs": [],
   "source": [
    "b = np.array([[-5], [12], [7]])"
   ]
  },
  {
   "cell_type": "code",
   "execution_count": 22,
   "metadata": {},
   "outputs": [
    {
     "name": "stdout",
     "output_type": "stream",
     "text": [
      "[[-2.84615385]\n",
      " [ 1.61538462]\n",
      " [ 2.07692308]]\n"
     ]
    }
   ],
   "source": [
    "x = np.dot(inv_X, b)\n",
    "print(x)"
   ]
  },
  {
   "cell_type": "code",
   "execution_count": 25,
   "metadata": {},
   "outputs": [
    {
     "name": "stdout",
     "output_type": "stream",
     "text": [
      "[[-5.]\n",
      " [12.]\n",
      " [ 7.]]\n",
      "[[-5]\n",
      " [12]\n",
      " [ 7]]\n",
      "[[0.00000000e+00]\n",
      " [1.77635684e-15]\n",
      " [1.77635684e-15]]\n"
     ]
    }
   ],
   "source": [
    "A_x = np.dot(X,x)\n",
    "print(A_x)\n",
    "print(b)\n",
    "print(A_x - b)\n",
    "# https://datascienceschool.net/view-notebook/148fc57f684c4dc48eeb5048ab0d45f2/\n"
   ]
  },
  {
   "cell_type": "code",
   "execution_count": 32,
   "metadata": {},
   "outputs": [
    {
     "data": {
      "text/plain": [
       "'%.55f'"
      ]
     },
     "execution_count": 32,
     "metadata": {},
     "output_type": "execute_result"
    }
   ],
   "source": [
    "% precision 55"
   ]
  },
  {
   "cell_type": "code",
   "execution_count": 27,
   "metadata": {},
   "outputs": [
    {
     "data": {
      "text/plain": [
       "0.1000000000000000055511151231257827021181583404541015625"
      ]
     },
     "execution_count": 27,
     "metadata": {},
     "output_type": "execute_result"
    }
   ],
   "source": [
    "0.1"
   ]
  },
  {
   "cell_type": "code",
   "execution_count": 30,
   "metadata": {},
   "outputs": [
    {
     "data": {
      "text/plain": [
       "'%r'"
      ]
     },
     "execution_count": 30,
     "metadata": {},
     "output_type": "execute_result"
    }
   ],
   "source": [
    "% precision % r"
   ]
  },
  {
   "cell_type": "code",
   "execution_count": 31,
   "metadata": {},
   "outputs": [
    {
     "data": {
      "text/plain": [
       "0.1"
      ]
     },
     "execution_count": 31,
     "metadata": {},
     "output_type": "execute_result"
    }
   ],
   "source": [
    "0.1"
   ]
  },
  {
   "cell_type": "markdown",
   "metadata": {},
   "source": [
    "위와 같은 오차때문에 다음과 같은 계산은 피해야 한다\n",
    "- 0.1 + 0.2 == 0.3"
   ]
  },
  {
   "cell_type": "markdown",
   "metadata": {},
   "source": [
    "비교하려면 다음과 같이 해야 한다.\n",
    "- round(0.1 + 0.2) = round(0.3)"
   ]
  },
  {
   "cell_type": "markdown",
   "metadata": {},
   "source": [
    "왜 이런 현상이 나오나?\n",
    "- 컴퓨터는 데이터를 2진형식으로 저장하기 때문에 그렇다\n",
    "    - 언어의 문제가 아님"
   ]
  },
  {
   "cell_type": "markdown",
   "metadata": {},
   "source": [
    "만약 행렬의 원소의 편차가 크면 역행렬과의 오차가 커진다"
   ]
  },
  {
   "cell_type": "code",
   "execution_count": 51,
   "metadata": {},
   "outputs": [
    {
     "name": "stdout",
     "output_type": "stream",
     "text": [
      "[-9.16297843e-02  4.86751203e-02 -3.77930006e-03  2.85636751e+00\n",
      " -2.88077933e+00  5.92521432e+00 -7.22447929e-03 -9.67995240e-01\n",
      "  1.70443393e-01 -9.38925373e-03 -3.92425680e-01  1.49832102e-02\n",
      " -4.16972624e-01]\n"
     ]
    }
   ],
   "source": [
    "from sklearn.datasets import load_boston\n",
    "boston = load_boston()\n",
    "X = boston.data\n",
    "Y = boston.target\n",
    "\n",
    "A = X[:, :]\n",
    "B = Y[:]\n",
    "\n",
    "w, resid, rank, s = np.linalg.lstsq(A, B)\n",
    "residual = B - np.dot(A, w)\n",
    "# print(np.linalg.norm(residual)**2)\n",
    "# print(resid)\n",
    "print(w)"
   ]
  },
  {
   "cell_type": "markdown",
   "metadata": {},
   "source": [
    "69절"
   ]
  },
  {
   "cell_type": "code",
   "execution_count": 2,
   "metadata": {},
   "outputs": [],
   "source": [
    "A = np.array([[2, -1,0],[-1,2,-1],[0,-1,2]])"
   ]
  },
  {
   "cell_type": "code",
   "execution_count": 3,
   "metadata": {},
   "outputs": [
    {
     "data": {
      "text/plain": [
       "4.0"
      ]
     },
     "execution_count": 3,
     "metadata": {},
     "output_type": "execute_result"
    }
   ],
   "source": [
    "np.linalg.det(A)"
   ]
  },
  {
   "cell_type": "code",
   "execution_count": null,
   "metadata": {},
   "outputs": [],
   "source": []
  }
 ],
 "metadata": {
  "anaconda-cloud": {},
  "kernelspec": {
   "display_name": "Python 3",
   "language": "python",
   "name": "python3"
  },
  "language_info": {
   "codemirror_mode": {
    "name": "ipython",
    "version": 3
   },
   "file_extension": ".py",
   "mimetype": "text/x-python",
   "name": "python",
   "nbconvert_exporter": "python",
   "pygments_lexer": "ipython3",
   "version": "3.6.3"
  }
 },
 "nbformat": 4,
 "nbformat_minor": 2
}
