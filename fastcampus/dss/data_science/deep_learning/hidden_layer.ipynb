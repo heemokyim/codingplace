{
 "cells": [
  {
   "cell_type": "code",
   "execution_count": 5,
   "metadata": {},
   "outputs": [],
   "source": [
    "import numpy as np"
   ]
  },
  {
   "cell_type": "code",
   "execution_count": 1,
   "metadata": {},
   "outputs": [
    {
     "name": "stderr",
     "output_type": "stream",
     "text": [
      "D:\\anaconda\\lib\\site-packages\\h5py\\__init__.py:36: FutureWarning: Conversion of the second argument of issubdtype from `float` to `np.floating` is deprecated. In future, it will be treated as `np.float64 == np.dtype(float).type`.\n",
      "  from ._conv import register_converters as _register_converters\n",
      "Using TensorFlow backend.\n"
     ]
    }
   ],
   "source": [
    "from keras.datasets import mnist\n",
    "from keras.utils import np_utils\n",
    "\n",
    "(X_train0, y_train0), (X_test0, y_test0) = mnist.load_data()\n",
    "\n",
    "X_train = X_train0.reshape(60000, 784).astype('float32') / 255.0\n",
    "X_test = X_test0.reshape(10000, 784).astype('float32') / 255.0\n",
    "Y_train = np_utils.to_categorical(y_train0, 10)\n",
    "Y_test = np_utils.to_categorical(y_test0, 10)"
   ]
  },
  {
   "cell_type": "markdown",
   "metadata": {},
   "source": [
    "## 처음에 a(=초기값)을 너무 많이 주면\n",
    "## 그 초기값의 layer를 통과하는 값들은\n",
    "## 0으로 다 죽어버림"
   ]
  },
  {
   "cell_type": "markdown",
   "metadata": {},
   "source": [
    "## 그래서 w,x,b를 너무 많이 주면 안된다\n",
    "## a = w*x + b"
   ]
  },
  {
   "cell_type": "code",
   "execution_count": 2,
   "metadata": {},
   "outputs": [],
   "source": [
    "from keras.datasets import mnist\n",
    "from keras.utils import np_utils\n",
    "\n",
    "(X_train0, y_train0), (X_test0, y_test0) = mnist.load_data()\n",
    "X_train = X_train0.reshape(60000, 784).astype('float32')/255.0\n",
    "X_test = X_test0.reshape(10000, 784).astype('float32')/255.0\n",
    "Y_train = np_utils.to_categorical(y_train0, 10)\n",
    "Y_test = np_utils.to_categorical(y_test0, 10)"
   ]
  },
  {
   "cell_type": "code",
   "execution_count": 3,
   "metadata": {},
   "outputs": [],
   "source": [
    "from keras.models import Sequential\n",
    "from keras.layers.core import Dense\n",
    "from keras.optimizers import SGD"
   ]
  },
  {
   "cell_type": "code",
   "execution_count": 6,
   "metadata": {},
   "outputs": [],
   "source": [
    "np.random.seed(0)\n",
    "model0 = Sequential()\n",
    "model0.add(Dense(15, input_dim=784, activation=\"sigmoid\"))\n",
    "model0.add(Dense(10, activation=\"sigmoid\"))\n",
    "model0.compile(optimizer=SGD(lr=0.2), loss='mean_squared_error', metrics=[\"accuracy\"])"
   ]
  },
  {
   "cell_type": "code",
   "execution_count": 10,
   "metadata": {
    "scrolled": true
   },
   "outputs": [
    {
     "name": "stdout",
     "output_type": "stream",
     "text": [
      "Train on 60000 samples, validate on 10000 samples\n",
      "Epoch 1/30\n",
      " - 1s - loss: 0.0172 - acc: 0.9098 - val_loss: 0.0167 - val_acc: 0.9125\n",
      "Epoch 2/30\n",
      " - 1s - loss: 0.0171 - acc: 0.9100 - val_loss: 0.0166 - val_acc: 0.9129\n",
      "Epoch 3/30\n",
      " - 1s - loss: 0.0170 - acc: 0.9103 - val_loss: 0.0165 - val_acc: 0.9132\n",
      "Epoch 4/30\n",
      " - 1s - loss: 0.0169 - acc: 0.9104 - val_loss: 0.0164 - val_acc: 0.9135\n",
      "Epoch 5/30\n",
      " - 1s - loss: 0.0169 - acc: 0.9107 - val_loss: 0.0163 - val_acc: 0.9139\n",
      "Epoch 6/30\n",
      " - 1s - loss: 0.0168 - acc: 0.9111 - val_loss: 0.0163 - val_acc: 0.9141\n",
      "Epoch 7/30\n",
      " - 1s - loss: 0.0167 - acc: 0.9115 - val_loss: 0.0162 - val_acc: 0.9143\n",
      "Epoch 8/30\n",
      " - 1s - loss: 0.0166 - acc: 0.9115 - val_loss: 0.0161 - val_acc: 0.9145\n",
      "Epoch 9/30\n",
      " - 1s - loss: 0.0165 - acc: 0.9120 - val_loss: 0.0160 - val_acc: 0.9152\n",
      "Epoch 10/30\n",
      " - 1s - loss: 0.0165 - acc: 0.9123 - val_loss: 0.0160 - val_acc: 0.9147\n",
      "Epoch 11/30\n",
      " - 1s - loss: 0.0164 - acc: 0.9123 - val_loss: 0.0159 - val_acc: 0.9151\n",
      "Epoch 12/30\n",
      " - 1s - loss: 0.0163 - acc: 0.9124 - val_loss: 0.0158 - val_acc: 0.9154\n",
      "Epoch 13/30\n",
      " - 1s - loss: 0.0163 - acc: 0.9126 - val_loss: 0.0158 - val_acc: 0.9152\n",
      "Epoch 14/30\n",
      " - 1s - loss: 0.0162 - acc: 0.9131 - val_loss: 0.0157 - val_acc: 0.9157\n",
      "Epoch 15/30\n",
      " - 1s - loss: 0.0161 - acc: 0.9134 - val_loss: 0.0157 - val_acc: 0.9157\n",
      "Epoch 16/30\n",
      " - 1s - loss: 0.0161 - acc: 0.9133 - val_loss: 0.0156 - val_acc: 0.9158\n",
      "Epoch 17/30\n",
      " - 1s - loss: 0.0160 - acc: 0.9136 - val_loss: 0.0155 - val_acc: 0.9167\n",
      "Epoch 18/30\n",
      " - 1s - loss: 0.0159 - acc: 0.9140 - val_loss: 0.0155 - val_acc: 0.9162\n",
      "Epoch 19/30\n",
      " - 1s - loss: 0.0159 - acc: 0.9140 - val_loss: 0.0154 - val_acc: 0.9165\n",
      "Epoch 20/30\n",
      " - 1s - loss: 0.0158 - acc: 0.9144 - val_loss: 0.0154 - val_acc: 0.9166\n",
      "Epoch 21/30\n",
      " - 1s - loss: 0.0158 - acc: 0.9146 - val_loss: 0.0153 - val_acc: 0.9167\n",
      "Epoch 22/30\n",
      " - 1s - loss: 0.0157 - acc: 0.9145 - val_loss: 0.0153 - val_acc: 0.9172\n",
      "Epoch 23/30\n",
      " - 1s - loss: 0.0156 - acc: 0.9149 - val_loss: 0.0152 - val_acc: 0.9169\n",
      "Epoch 24/30\n",
      " - 1s - loss: 0.0156 - acc: 0.9152 - val_loss: 0.0152 - val_acc: 0.9170\n",
      "Epoch 25/30\n",
      " - 1s - loss: 0.0155 - acc: 0.9153 - val_loss: 0.0151 - val_acc: 0.9171\n",
      "Epoch 26/30\n",
      " - 1s - loss: 0.0155 - acc: 0.9155 - val_loss: 0.0151 - val_acc: 0.9172\n",
      "Epoch 27/30\n",
      " - 1s - loss: 0.0154 - acc: 0.9157 - val_loss: 0.0150 - val_acc: 0.9176\n",
      "Epoch 28/30\n",
      " - 1s - loss: 0.0154 - acc: 0.9159 - val_loss: 0.0150 - val_acc: 0.9174\n",
      "Epoch 29/30\n",
      " - 1s - loss: 0.0153 - acc: 0.9162 - val_loss: 0.0149 - val_acc: 0.9180\n",
      "Epoch 30/30\n",
      " - 1s - loss: 0.0153 - acc: 0.9164 - val_loss: 0.0149 - val_acc: 0.9180\n",
      "Wall time: 16.2 s\n"
     ]
    }
   ],
   "source": [
    "%%time\n",
    "hist0 = model0.fit(X_train, Y_train, epochs=30, batch_size=100, validation_data=(X_test, Y_test), verbose=2)"
   ]
  },
  {
   "cell_type": "code",
   "execution_count": null,
   "metadata": {},
   "outputs": [],
   "source": []
  }
 ],
 "metadata": {
  "kernelspec": {
   "display_name": "Python 3",
   "language": "python",
   "name": "python3"
  },
  "language_info": {
   "codemirror_mode": {
    "name": "ipython",
    "version": 3
   },
   "file_extension": ".py",
   "mimetype": "text/x-python",
   "name": "python",
   "nbconvert_exporter": "python",
   "pygments_lexer": "ipython3",
   "version": "3.6.4"
  }
 },
 "nbformat": 4,
 "nbformat_minor": 2
}
