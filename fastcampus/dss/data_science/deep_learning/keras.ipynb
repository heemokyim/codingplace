{
 "cells": [
  {
   "cell_type": "code",
   "execution_count": 1,
   "metadata": {},
   "outputs": [
    {
     "name": "stderr",
     "output_type": "stream",
     "text": [
      "D:\\anaconda\\lib\\site-packages\\h5py\\__init__.py:36: FutureWarning: Conversion of the second argument of issubdtype from `float` to `np.floating` is deprecated. In future, it will be treated as `np.float64 == np.dtype(float).type`.\n",
      "  from ._conv import register_converters as _register_converters\n",
      "Using TensorFlow backend.\n"
     ]
    }
   ],
   "source": [
    "from keras.applications.vgg16 import VGG16, decode_predictions"
   ]
  },
  {
   "cell_type": "code",
   "execution_count": 2,
   "metadata": {},
   "outputs": [
    {
     "name": "stdout",
     "output_type": "stream",
     "text": [
      "Downloading data from https://github.com/fchollet/deep-learning-models/releases/download/v0.1/vgg16_weights_tf_dim_ordering_tf_kernels.h5\n",
      "553467904/553467096 [==============================] - 64s 0us/step\n"
     ]
    }
   ],
   "source": [
    "model = VGG16()"
   ]
  },
  {
   "cell_type": "code",
   "execution_count": 3,
   "metadata": {},
   "outputs": [
    {
     "name": "stdout",
     "output_type": "stream",
     "text": [
      "_________________________________________________________________\n",
      "Layer (type)                 Output Shape              Param #   \n",
      "=================================================================\n",
      "input_1 (InputLayer)         (None, 224, 224, 3)       0         \n",
      "_________________________________________________________________\n",
      "block1_conv1 (Conv2D)        (None, 224, 224, 64)      1792      \n",
      "_________________________________________________________________\n",
      "block1_conv2 (Conv2D)        (None, 224, 224, 64)      36928     \n",
      "_________________________________________________________________\n",
      "block1_pool (MaxPooling2D)   (None, 112, 112, 64)      0         \n",
      "_________________________________________________________________\n",
      "block2_conv1 (Conv2D)        (None, 112, 112, 128)     73856     \n",
      "_________________________________________________________________\n",
      "block2_conv2 (Conv2D)        (None, 112, 112, 128)     147584    \n",
      "_________________________________________________________________\n",
      "block2_pool (MaxPooling2D)   (None, 56, 56, 128)       0         \n",
      "_________________________________________________________________\n",
      "block3_conv1 (Conv2D)        (None, 56, 56, 256)       295168    \n",
      "_________________________________________________________________\n",
      "block3_conv2 (Conv2D)        (None, 56, 56, 256)       590080    \n",
      "_________________________________________________________________\n",
      "block3_conv3 (Conv2D)        (None, 56, 56, 256)       590080    \n",
      "_________________________________________________________________\n",
      "block3_pool (MaxPooling2D)   (None, 28, 28, 256)       0         \n",
      "_________________________________________________________________\n",
      "block4_conv1 (Conv2D)        (None, 28, 28, 512)       1180160   \n",
      "_________________________________________________________________\n",
      "block4_conv2 (Conv2D)        (None, 28, 28, 512)       2359808   \n",
      "_________________________________________________________________\n",
      "block4_conv3 (Conv2D)        (None, 28, 28, 512)       2359808   \n",
      "_________________________________________________________________\n",
      "block4_pool (MaxPooling2D)   (None, 14, 14, 512)       0         \n",
      "_________________________________________________________________\n",
      "block5_conv1 (Conv2D)        (None, 14, 14, 512)       2359808   \n",
      "_________________________________________________________________\n",
      "block5_conv2 (Conv2D)        (None, 14, 14, 512)       2359808   \n",
      "_________________________________________________________________\n",
      "block5_conv3 (Conv2D)        (None, 14, 14, 512)       2359808   \n",
      "_________________________________________________________________\n",
      "block5_pool (MaxPooling2D)   (None, 7, 7, 512)         0         \n",
      "_________________________________________________________________\n",
      "flatten (Flatten)            (None, 25088)             0         \n",
      "_________________________________________________________________\n",
      "fc1 (Dense)                  (None, 4096)              102764544 \n",
      "_________________________________________________________________\n",
      "fc2 (Dense)                  (None, 4096)              16781312  \n",
      "_________________________________________________________________\n",
      "predictions (Dense)          (None, 1000)              4097000   \n",
      "=================================================================\n",
      "Total params: 138,357,544\n",
      "Trainable params: 138,357,544\n",
      "Non-trainable params: 0\n",
      "_________________________________________________________________\n"
     ]
    }
   ],
   "source": [
    "model.summary()"
   ]
  },
  {
   "cell_type": "code",
   "execution_count": 5,
   "metadata": {},
   "outputs": [],
   "source": [
    "import numpy as np"
   ]
  },
  {
   "cell_type": "code",
   "execution_count": 6,
   "metadata": {},
   "outputs": [],
   "source": [
    "from keras.datasets import mnist\n",
    "from keras.utils import np_utils\n",
    "\n",
    "(X_train0, y_train0), (X_test0, y_test0) = mnist.load_data()\n",
    "X_train = X_train0[:, :, :, np.newaxis].astype('float32') / 255.0\n",
    "X_test = X_test0[:, :, :, np.newaxis].astype('float32') / 255.0\n",
    "Y_train = np_utils.to_categorical(y_train0, 10)\n",
    "Y_test = np_utils.to_categorical(y_test0, 10)"
   ]
  },
  {
   "cell_type": "code",
   "execution_count": null,
   "metadata": {},
   "outputs": [],
   "source": []
  },
  {
   "cell_type": "code",
   "execution_count": 9,
   "metadata": {},
   "outputs": [
    {
     "data": {
      "text/plain": [
       "(60000, 28, 28)"
      ]
     },
     "execution_count": 9,
     "metadata": {},
     "output_type": "execute_result"
    }
   ],
   "source": [
    "X_train0.shape"
   ]
  },
  {
   "cell_type": "code",
   "execution_count": 10,
   "metadata": {},
   "outputs": [
    {
     "data": {
      "text/plain": [
       "(60000, 28, 28, 1)"
      ]
     },
     "execution_count": 10,
     "metadata": {},
     "output_type": "execute_result"
    }
   ],
   "source": [
    "X_train.shape"
   ]
  },
  {
   "cell_type": "code",
   "execution_count": 13,
   "metadata": {},
   "outputs": [],
   "source": [
    "from keras.models import Sequential\n",
    "from keras.layers import Conv2D, MaxPooling2D, Flatten, Dense, Dropout\n",
    "from keras.optimizers import Adadelta\n",
    "from keras.optimizers import RMSprop\n",
    "from keras.regularizers import l2\n",
    "\n",
    "\n",
    "model1 = Sequential()\n",
    "model1.add(Conv2D(4, (5, 5), activation='relu', input_shape=(28, 28, 1), kernel_initializer=\"glorot_uniform\"))\n",
    "model1.add(MaxPooling2D())\n",
    "model1.add(Flatten())\n",
    "model1.add(Dense(10, activation='softmax', kernel_initializer=\"glorot_uniform\"))\n",
    "\n",
    "np.random.seed(0)\n",
    "# model1.compile(loss='categorical_crossentropy', metrics=['accuracy'], optimizer=Adadelta())\n",
    "model1.compile(loss='categorical_crossentropy', metrics=['accuracy'], optimizer=RMSprop())\n"
   ]
  },
  {
   "cell_type": "code",
   "execution_count": 15,
   "metadata": {
    "scrolled": true
   },
   "outputs": [
    {
     "name": "stdout",
     "output_type": "stream",
     "text": [
      "_________________________________________________________________\n",
      "Layer (type)                 Output Shape              Param #   \n",
      "=================================================================\n",
      "conv2d_2 (Conv2D)            (None, 24, 24, 4)         104       \n",
      "_________________________________________________________________\n",
      "max_pooling2d_2 (MaxPooling2 (None, 12, 12, 4)         0         \n",
      "_________________________________________________________________\n",
      "flatten_2 (Flatten)          (None, 576)               0         \n",
      "_________________________________________________________________\n",
      "dense_2 (Dense)              (None, 10)                5770      \n",
      "=================================================================\n",
      "Total params: 5,874\n",
      "Trainable params: 5,874\n",
      "Non-trainable params: 0\n",
      "_________________________________________________________________\n"
     ]
    }
   ],
   "source": [
    "model1.summary()"
   ]
  },
  {
   "cell_type": "code",
   "execution_count": 14,
   "metadata": {},
   "outputs": [
    {
     "name": "stdout",
     "output_type": "stream",
     "text": [
      "Train on 60000 samples, validate on 10000 samples\n",
      "Epoch 1/10\n",
      "60000/60000 [==============================] - 5s 85us/step - loss: 0.8994 - acc: 0.7761 - val_loss: 0.4002 - val_acc: 0.8896\n",
      "Epoch 2/10\n",
      "60000/60000 [==============================] - 5s 83us/step - loss: 0.3523 - acc: 0.8976 - val_loss: 0.2943 - val_acc: 0.9156\n",
      "Epoch 3/10\n",
      "60000/60000 [==============================] - 5s 82us/step - loss: 0.2896 - acc: 0.9159 - val_loss: 0.2554 - val_acc: 0.9253\n",
      "Epoch 4/10\n",
      "60000/60000 [==============================] - 5s 83us/step - loss: 0.2567 - acc: 0.9253 - val_loss: 0.2235 - val_acc: 0.9348\n",
      "Epoch 5/10\n",
      "60000/60000 [==============================] - 5s 83us/step - loss: 0.2295 - acc: 0.9337 - val_loss: 0.2032 - val_acc: 0.9411\n",
      "Epoch 6/10\n",
      "60000/60000 [==============================] - 5s 83us/step - loss: 0.2064 - acc: 0.9404 - val_loss: 0.1846 - val_acc: 0.9471\n",
      "Epoch 7/10\n",
      "60000/60000 [==============================] - 5s 83us/step - loss: 0.1853 - acc: 0.9467 - val_loss: 0.1670 - val_acc: 0.9512\n",
      "Epoch 8/10\n",
      "60000/60000 [==============================] - 5s 83us/step - loss: 0.1673 - acc: 0.9527 - val_loss: 0.1477 - val_acc: 0.9564\n",
      "Epoch 9/10\n",
      "60000/60000 [==============================] - 5s 82us/step - loss: 0.1511 - acc: 0.9569 - val_loss: 0.1388 - val_acc: 0.9600\n",
      "Epoch 10/10\n",
      "60000/60000 [==============================] - 5s 87us/step - loss: 0.1368 - acc: 0.9611 - val_loss: 0.1247 - val_acc: 0.9629\n",
      "Wall time: 50.1 s\n"
     ]
    }
   ],
   "source": [
    "%%time\n",
    "hist1 = model1.fit(X_train, Y_train, epochs=10, batch_size=600, validation_data=(X_test, Y_test), verbose=1)"
   ]
  },
  {
   "cell_type": "code",
   "execution_count": 16,
   "metadata": {},
   "outputs": [],
   "source": [
    "model1.save(\"mnist_cnn11.hdf5\")"
   ]
  },
  {
   "cell_type": "code",
   "execution_count": 17,
   "metadata": {},
   "outputs": [],
   "source": [
    "l1 = model1.layers[0]\n",
    "w1, b1 = l1.get_weights()"
   ]
  },
  {
   "cell_type": "code",
   "execution_count": 19,
   "metadata": {},
   "outputs": [],
   "source": [
    "from custom_ml import *"
   ]
  },
  {
   "cell_type": "code",
   "execution_count": 20,
   "metadata": {},
   "outputs": [
    {
     "data": {
      "image/png": "[encoded data removed]",
      "text/plain": [
       "<matplotlib.figure.Figure at 0x20d099a4ac8>"
      ]
     },
     "metadata": {},
     "output_type": "display_data"
    }
   ],
   "source": [
    "M = 4\n",
    "for i in range(M):\n",
    "    plt.subplot(1, M, i + 1)\n",
    "    plt.imshow(w1[:, :, 0, i], cmap=mpl.cm.bone_r)\n",
    "    plt.grid(False)"
   ]
  },
  {
   "cell_type": "code",
   "execution_count": 23,
   "metadata": {},
   "outputs": [],
   "source": [
    "np.random.seed(0)\n",
    "\n",
    "model2 = Sequential()\n",
    "\n",
    "model2.add(Conv2D(4, (5, 5), activation='relu', input_shape=(28, 28, 1), kernel_initializer=\"glorot_uniform\"))\n",
    "model2.add(Conv2D(4, (5, 5), activation='relu', kernel_initializer=\"glorot_uniform\"))\n",
    "model2.add(MaxPooling2D())\n",
    "model2.add(Flatten())\n",
    "model2.add(Dense(10, activation='softmax', kernel_initializer=\"glorot_uniform\"))\n",
    "model2.compile(loss='categorical_crossentropy', metrics=['accuracy'], optimizer=Adadelta())"
   ]
  },
  {
   "cell_type": "code",
   "execution_count": 24,
   "metadata": {},
   "outputs": [
    {
     "name": "stdout",
     "output_type": "stream",
     "text": [
      "Train on 60000 samples, validate on 10000 samples\n",
      "Epoch 1/20\n",
      "60000/60000 [==============================] - 14s 227us/step - loss: 0.7469 - acc: 0.7588 - val_loss: 0.2670 - val_acc: 0.9219\n",
      "Epoch 2/20\n",
      "60000/60000 [==============================] - 13s 221us/step - loss: 0.2093 - acc: 0.9384 - val_loss: 0.1529 - val_acc: 0.9568\n",
      "Epoch 3/20\n",
      "60000/60000 [==============================] - 13s 220us/step - loss: 0.1486 - acc: 0.9560 - val_loss: 0.1172 - val_acc: 0.9657\n",
      "Epoch 4/20\n",
      "60000/60000 [==============================] - 13s 220us/step - loss: 0.1242 - acc: 0.9635 - val_loss: 0.1022 - val_acc: 0.9697\n",
      "Epoch 5/20\n",
      "60000/60000 [==============================] - 14s 227us/step - loss: 0.1095 - acc: 0.9664 - val_loss: 0.1009 - val_acc: 0.9717\n",
      "Epoch 6/20\n",
      "60000/60000 [==============================] - 14s 227us/step - loss: 0.1009 - acc: 0.9701 - val_loss: 0.0849 - val_acc: 0.9746\n",
      "Epoch 7/20\n",
      "60000/60000 [==============================] - 14s 227us/step - loss: 0.0940 - acc: 0.9719 - val_loss: 0.0784 - val_acc: 0.9760\n",
      "Epoch 8/20\n",
      "60000/60000 [==============================] - 14s 229us/step - loss: 0.0883 - acc: 0.9734 - val_loss: 0.0818 - val_acc: 0.9738\n",
      "Epoch 9/20\n",
      "60000/60000 [==============================] - 14s 227us/step - loss: 0.0840 - acc: 0.9750 - val_loss: 0.0755 - val_acc: 0.9768\n",
      "Epoch 10/20\n",
      "60000/60000 [==============================] - 14s 227us/step - loss: 0.0808 - acc: 0.9750 - val_loss: 0.0781 - val_acc: 0.9764\n",
      "Epoch 11/20\n",
      "60000/60000 [==============================] - 14s 227us/step - loss: 0.0781 - acc: 0.9763 - val_loss: 0.0722 - val_acc: 0.9782\n",
      "Epoch 12/20\n",
      "60000/60000 [==============================] - 14s 228us/step - loss: 0.0756 - acc: 0.9773 - val_loss: 0.0721 - val_acc: 0.9776\n",
      "Epoch 13/20\n",
      "60000/60000 [==============================] - 14s 228us/step - loss: 0.0727 - acc: 0.9783 - val_loss: 0.0655 - val_acc: 0.9794\n",
      "Epoch 14/20\n",
      "60000/60000 [==============================] - 14s 228us/step - loss: 0.0705 - acc: 0.9788 - val_loss: 0.0631 - val_acc: 0.9803\n",
      "Epoch 15/20\n",
      "60000/60000 [==============================] - 14s 228us/step - loss: 0.0680 - acc: 0.9795 - val_loss: 0.0652 - val_acc: 0.9810\n",
      "Epoch 16/20\n",
      "60000/60000 [==============================] - 14s 227us/step - loss: 0.0670 - acc: 0.9795 - val_loss: 0.0699 - val_acc: 0.9777\n",
      "Epoch 17/20\n",
      "60000/60000 [==============================] - 14s 228us/step - loss: 0.0647 - acc: 0.9804 - val_loss: 0.0622 - val_acc: 0.9809\n",
      "Epoch 18/20\n",
      "60000/60000 [==============================] - 14s 227us/step - loss: 0.0629 - acc: 0.9810 - val_loss: 0.0631 - val_acc: 0.9797\n",
      "Epoch 19/20\n",
      "60000/60000 [==============================] - 14s 228us/step - loss: 0.0607 - acc: 0.9815 - val_loss: 0.0577 - val_acc: 0.9813\n",
      "Epoch 20/20\n",
      "60000/60000 [==============================] - 14s 228us/step - loss: 0.0602 - acc: 0.9819 - val_loss: 0.0618 - val_acc: 0.9800\n",
      "Wall time: 4min 32s\n"
     ]
    }
   ],
   "source": [
    "%%time\n",
    "hist2 = model2.fit(X_train, Y_train, epochs=20, batch_size=600, validation_data=(X_test, Y_test), verbose=1)"
   ]
  },
  {
   "cell_type": "code",
   "execution_count": 25,
   "metadata": {},
   "outputs": [
    {
     "data": {
      "image/png": "[encoded data removed]",
      "text/plain": [
       "<matplotlib.figure.Figure at 0x20d0c4a1828>"
      ]
     },
     "metadata": {},
     "output_type": "display_data"
    }
   ],
   "source": [
    "plt.plot(hist2.history['acc'], 'b-', label=\"training\")\n",
    "plt.plot(hist2.history['val_acc'], 'r:', label=\"test\")\n",
    "plt.legend()\n",
    "plt.show()"
   ]
  },
  {
   "cell_type": "code",
   "execution_count": 189,
   "metadata": {},
   "outputs": [],
   "source": [
    "from sklearn.datasets import fetch_olivetti_faces\n",
    "olivetti = fetch_olivetti_faces()"
   ]
  },
  {
   "cell_type": "code",
   "execution_count": 190,
   "metadata": {},
   "outputs": [],
   "source": [
    "X = olivetti.data\n",
    "y = olivetti.target"
   ]
  },
  {
   "cell_type": "code",
   "execution_count": 191,
   "metadata": {},
   "outputs": [
    {
     "data": {
      "text/plain": [
       "(400, 4096)"
      ]
     },
     "execution_count": 191,
     "metadata": {},
     "output_type": "execute_result"
    }
   ],
   "source": [
    "X.shape"
   ]
  },
  {
   "cell_type": "code",
   "execution_count": 192,
   "metadata": {},
   "outputs": [],
   "source": [
    "X = X.reshape(400,64,64,1)"
   ]
  },
  {
   "cell_type": "code",
   "execution_count": 193,
   "metadata": {},
   "outputs": [
    {
     "data": {
      "text/plain": [
       "(400, 64, 64, 1)"
      ]
     },
     "execution_count": 193,
     "metadata": {},
     "output_type": "execute_result"
    }
   ],
   "source": [
    "X.shape"
   ]
  },
  {
   "cell_type": "code",
   "execution_count": 194,
   "metadata": {},
   "outputs": [
    {
     "data": {
      "text/plain": [
       "(400,)"
      ]
     },
     "execution_count": 194,
     "metadata": {},
     "output_type": "execute_result"
    }
   ],
   "source": [
    "y.shape"
   ]
  },
  {
   "cell_type": "code",
   "execution_count": 195,
   "metadata": {},
   "outputs": [],
   "source": [
    "X_train, X_test, Y_train, Y_test = train_test_split(X,y, test_size=0.3,random_state=0)"
   ]
  },
  {
   "cell_type": "code",
   "execution_count": 196,
   "metadata": {},
   "outputs": [
    {
     "data": {
      "text/plain": [
       "((280,), (120,))"
      ]
     },
     "execution_count": 196,
     "metadata": {},
     "output_type": "execute_result"
    }
   ],
   "source": [
    "Y_train.shape, Y_test.shape"
   ]
  },
  {
   "cell_type": "code",
   "execution_count": 197,
   "metadata": {},
   "outputs": [],
   "source": [
    "Y_train = Y_train.reshape(280,1)\n",
    "Y_test = Y_test.reshape(120,1)"
   ]
  },
  {
   "cell_type": "code",
   "execution_count": 198,
   "metadata": {},
   "outputs": [
    {
     "name": "stdout",
     "output_type": "stream",
     "text": [
      "(280, 64, 64, 1) float32\n"
     ]
    }
   ],
   "source": [
    "X_train = X_train.astype('float32')\n",
    "X_test = X_test.astype('float32')\n",
    "\n",
    "print(X_train.shape, X_train.dtype)"
   ]
  },
  {
   "cell_type": "code",
   "execution_count": 199,
   "metadata": {},
   "outputs": [],
   "source": [
    "from keras.utils import np_utils\n",
    "\n",
    "Y_train = np_utils.to_categorical(Y_train, 40)\n",
    "Y_test = np_utils.to_categorical(Y_test, 40)"
   ]
  },
  {
   "cell_type": "code",
   "execution_count": 200,
   "metadata": {},
   "outputs": [
    {
     "data": {
      "text/plain": [
       "(280, 40)"
      ]
     },
     "execution_count": 200,
     "metadata": {},
     "output_type": "execute_result"
    }
   ],
   "source": [
    "Y_train.shape"
   ]
  },
  {
   "cell_type": "code",
   "execution_count": 224,
   "metadata": {},
   "outputs": [],
   "source": [
    "from keras.models import Sequential\n",
    "from keras.layers import Conv2D, MaxPooling2D, Flatten, Dense, Dropout\n",
    "from keras.optimizers import Adadelta\n",
    "from keras.regularizers import l2\n",
    "\n",
    "\n",
    "model1 = Sequential()\n",
    "model1.add(Conv2D(32, (10, 10), activation='relu', input_shape=(64, 64, 1), kernel_initializer=\"glorot_uniform\"))\n",
    "model1.add(Conv2D(32, (10, 10), activation='relu', kernel_regularizer=l2(0.001)))\n",
    "model1.add(MaxPooling2D())\n",
    "\n",
    "\n",
    "model1.add(Flatten())\n",
    "model1.add(Dense(40, activation='softmax', kernel_initializer=\"glorot_uniform\"))\n",
    "\n",
    "np.random.seed(0)\n",
    "model1.compile(loss='categorical_crossentropy', metrics=['accuracy'], optimizer=Adadelta())"
   ]
  },
  {
   "cell_type": "code",
   "execution_count": 226,
   "metadata": {},
   "outputs": [
    {
     "name": "stdout",
     "output_type": "stream",
     "text": [
      "Train on 280 samples, validate on 120 samples\n",
      "Epoch 1/40\n",
      "280/280 [==============================] - 6s 21ms/step - loss: 3.5566 - acc: 0.1536 - val_loss: 3.6358 - val_acc: 0.0583\n",
      "Epoch 2/40\n",
      "280/280 [==============================] - 6s 22ms/step - loss: 3.4728 - acc: 0.1464 - val_loss: 3.6853 - val_acc: 0.0583\n",
      "Epoch 3/40\n",
      "280/280 [==============================] - 6s 22ms/step - loss: 2.8779 - acc: 0.2929 - val_loss: 2.4578 - val_acc: 0.3750\n",
      "Epoch 4/40\n",
      "280/280 [==============================] - 6s 22ms/step - loss: 1.8882 - acc: 0.5321 - val_loss: 2.5088 - val_acc: 0.3500\n",
      "Epoch 5/40\n",
      "280/280 [==============================] - 6s 22ms/step - loss: 1.1157 - acc: 0.6964 - val_loss: 1.9663 - val_acc: 0.4167\n",
      "Epoch 6/40\n",
      "280/280 [==============================] - 6s 22ms/step - loss: 0.7371 - acc: 0.8250 - val_loss: 1.1354 - val_acc: 0.7083\n",
      "Epoch 7/40\n",
      "280/280 [==============================] - 6s 22ms/step - loss: 0.2868 - acc: 0.9464 - val_loss: 0.8706 - val_acc: 0.7667\n",
      "Epoch 8/40\n",
      "280/280 [==============================] - 6s 22ms/step - loss: 0.1305 - acc: 0.9821 - val_loss: 1.0228 - val_acc: 0.7583\n",
      "Epoch 9/40\n",
      "280/280 [==============================] - 6s 22ms/step - loss: 0.1484 - acc: 0.9786 - val_loss: 0.6751 - val_acc: 0.8167\n",
      "Epoch 10/40\n",
      "280/280 [==============================] - 6s 22ms/step - loss: 0.0622 - acc: 0.9929 - val_loss: 0.6080 - val_acc: 0.8333\n",
      "Epoch 11/40\n",
      "280/280 [==============================] - 6s 22ms/step - loss: 0.0534 - acc: 0.9964 - val_loss: 0.6078 - val_acc: 0.8333\n",
      "Epoch 12/40\n",
      "280/280 [==============================] - 6s 22ms/step - loss: 0.0331 - acc: 1.0000 - val_loss: 0.6097 - val_acc: 0.8583\n",
      "Epoch 13/40\n",
      "280/280 [==============================] - 6s 22ms/step - loss: 0.0306 - acc: 1.0000 - val_loss: 0.6019 - val_acc: 0.8667\n",
      "Epoch 14/40\n",
      "280/280 [==============================] - 6s 22ms/step - loss: 0.0291 - acc: 1.0000 - val_loss: 0.5920 - val_acc: 0.8667\n",
      "Epoch 15/40\n",
      "280/280 [==============================] - 6s 22ms/step - loss: 0.0278 - acc: 1.0000 - val_loss: 0.5939 - val_acc: 0.8750\n",
      "Epoch 16/40\n",
      "280/280 [==============================] - 6s 22ms/step - loss: 0.0268 - acc: 1.0000 - val_loss: 0.6240 - val_acc: 0.8667\n",
      "Epoch 17/40\n",
      "280/280 [==============================] - 6s 22ms/step - loss: 0.0260 - acc: 1.0000 - val_loss: 0.6408 - val_acc: 0.8500\n",
      "Epoch 18/40\n",
      "280/280 [==============================] - 6s 22ms/step - loss: 0.0251 - acc: 1.0000 - val_loss: 0.6268 - val_acc: 0.8667\n",
      "Epoch 19/40\n",
      "280/280 [==============================] - 6s 22ms/step - loss: 0.0243 - acc: 1.0000 - val_loss: 0.6339 - val_acc: 0.8750\n",
      "Epoch 20/40\n",
      "280/280 [==============================] - 6s 22ms/step - loss: 0.0237 - acc: 1.0000 - val_loss: 0.5803 - val_acc: 0.8583\n",
      "Epoch 21/40\n",
      "280/280 [==============================] - 6s 22ms/step - loss: 0.0230 - acc: 1.0000 - val_loss: 0.6314 - val_acc: 0.8667\n",
      "Epoch 22/40\n",
      "256/280 [==========================>...] - ETA: 0s - loss: 0.0222 - acc: 1.0000"
     ]
    },
    {
     "ename": "KeyboardInterrupt",
     "evalue": "",
     "output_type": "error",
     "traceback": [
      "\u001b[1;31m---------------------------------------------------------------------------\u001b[0m",
      "\u001b[1;31mKeyboardInterrupt\u001b[0m                         Traceback (most recent call last)",
      "\u001b[1;32m<timed exec>\u001b[0m in \u001b[0;36m<module>\u001b[1;34m()\u001b[0m\n",
      "\u001b[1;32mD:\\anaconda\\lib\\site-packages\\keras\\models.py\u001b[0m in \u001b[0;36mfit\u001b[1;34m(self, x, y, batch_size, epochs, verbose, callbacks, validation_split, validation_data, shuffle, class_weight, sample_weight, initial_epoch, steps_per_epoch, validation_steps, **kwargs)\u001b[0m\n\u001b[0;32m    961\u001b[0m                               \u001b[0minitial_epoch\u001b[0m\u001b[1;33m=\u001b[0m\u001b[0minitial_epoch\u001b[0m\u001b[1;33m,\u001b[0m\u001b[1;33m\u001b[0m\u001b[0m\n\u001b[0;32m    962\u001b[0m                               \u001b[0msteps_per_epoch\u001b[0m\u001b[1;33m=\u001b[0m\u001b[0msteps_per_epoch\u001b[0m\u001b[1;33m,\u001b[0m\u001b[1;33m\u001b[0m\u001b[0m\n\u001b[1;32m--> 963\u001b[1;33m                               validation_steps=validation_steps)\n\u001b[0m\u001b[0;32m    964\u001b[0m \u001b[1;33m\u001b[0m\u001b[0m\n\u001b[0;32m    965\u001b[0m     def evaluate(self, x=None, y=None,\n",
      "\u001b[1;32mD:\\anaconda\\lib\\site-packages\\keras\\engine\\training.py\u001b[0m in \u001b[0;36mfit\u001b[1;34m(self, x, y, batch_size, epochs, verbose, callbacks, validation_split, validation_data, shuffle, class_weight, sample_weight, initial_epoch, steps_per_epoch, validation_steps, **kwargs)\u001b[0m\n\u001b[0;32m   1703\u001b[0m                               \u001b[0minitial_epoch\u001b[0m\u001b[1;33m=\u001b[0m\u001b[0minitial_epoch\u001b[0m\u001b[1;33m,\u001b[0m\u001b[1;33m\u001b[0m\u001b[0m\n\u001b[0;32m   1704\u001b[0m                               \u001b[0msteps_per_epoch\u001b[0m\u001b[1;33m=\u001b[0m\u001b[0msteps_per_epoch\u001b[0m\u001b[1;33m,\u001b[0m\u001b[1;33m\u001b[0m\u001b[0m\n\u001b[1;32m-> 1705\u001b[1;33m                               validation_steps=validation_steps)\n\u001b[0m\u001b[0;32m   1706\u001b[0m \u001b[1;33m\u001b[0m\u001b[0m\n\u001b[0;32m   1707\u001b[0m     def evaluate(self, x=None, y=None,\n",
      "\u001b[1;32mD:\\anaconda\\lib\\site-packages\\keras\\engine\\training.py\u001b[0m in \u001b[0;36m_fit_loop\u001b[1;34m(self, f, ins, out_labels, batch_size, epochs, verbose, callbacks, val_f, val_ins, shuffle, callback_metrics, initial_epoch, steps_per_epoch, validation_steps)\u001b[0m\n\u001b[0;32m   1247\u001b[0m                             val_outs = self._test_loop(val_f, val_ins,\n\u001b[0;32m   1248\u001b[0m                                                        \u001b[0mbatch_size\u001b[0m\u001b[1;33m=\u001b[0m\u001b[0mbatch_size\u001b[0m\u001b[1;33m,\u001b[0m\u001b[1;33m\u001b[0m\u001b[0m\n\u001b[1;32m-> 1249\u001b[1;33m                                                        verbose=0)\n\u001b[0m\u001b[0;32m   1250\u001b[0m                             \u001b[1;32mif\u001b[0m \u001b[1;32mnot\u001b[0m \u001b[0misinstance\u001b[0m\u001b[1;33m(\u001b[0m\u001b[0mval_outs\u001b[0m\u001b[1;33m,\u001b[0m \u001b[0mlist\u001b[0m\u001b[1;33m)\u001b[0m\u001b[1;33m:\u001b[0m\u001b[1;33m\u001b[0m\u001b[0m\n\u001b[0;32m   1251\u001b[0m                                 \u001b[0mval_outs\u001b[0m \u001b[1;33m=\u001b[0m \u001b[1;33m[\u001b[0m\u001b[0mval_outs\u001b[0m\u001b[1;33m]\u001b[0m\u001b[1;33m\u001b[0m\u001b[0m\n",
      "\u001b[1;32mD:\\anaconda\\lib\\site-packages\\keras\\engine\\training.py\u001b[0m in \u001b[0;36m_test_loop\u001b[1;34m(self, f, ins, batch_size, verbose, steps)\u001b[0m\n\u001b[0;32m   1424\u001b[0m                     \u001b[0mins_batch\u001b[0m\u001b[1;33m[\u001b[0m\u001b[0mi\u001b[0m\u001b[1;33m]\u001b[0m \u001b[1;33m=\u001b[0m \u001b[0mins_batch\u001b[0m\u001b[1;33m[\u001b[0m\u001b[0mi\u001b[0m\u001b[1;33m]\u001b[0m\u001b[1;33m.\u001b[0m\u001b[0mtoarray\u001b[0m\u001b[1;33m(\u001b[0m\u001b[1;33m)\u001b[0m\u001b[1;33m\u001b[0m\u001b[0m\n\u001b[0;32m   1425\u001b[0m \u001b[1;33m\u001b[0m\u001b[0m\n\u001b[1;32m-> 1426\u001b[1;33m                 \u001b[0mbatch_outs\u001b[0m \u001b[1;33m=\u001b[0m \u001b[0mf\u001b[0m\u001b[1;33m(\u001b[0m\u001b[0mins_batch\u001b[0m\u001b[1;33m)\u001b[0m\u001b[1;33m\u001b[0m\u001b[0m\n\u001b[0m\u001b[0;32m   1427\u001b[0m                 \u001b[1;32mif\u001b[0m \u001b[0misinstance\u001b[0m\u001b[1;33m(\u001b[0m\u001b[0mbatch_outs\u001b[0m\u001b[1;33m,\u001b[0m \u001b[0mlist\u001b[0m\u001b[1;33m)\u001b[0m\u001b[1;33m:\u001b[0m\u001b[1;33m\u001b[0m\u001b[0m\n\u001b[0;32m   1428\u001b[0m                     \u001b[1;32mif\u001b[0m \u001b[0mbatch_index\u001b[0m \u001b[1;33m==\u001b[0m \u001b[1;36m0\u001b[0m\u001b[1;33m:\u001b[0m\u001b[1;33m\u001b[0m\u001b[0m\n",
      "\u001b[1;32mD:\\anaconda\\lib\\site-packages\\keras\\backend\\tensorflow_backend.py\u001b[0m in \u001b[0;36m__call__\u001b[1;34m(self, inputs)\u001b[0m\n\u001b[0;32m   2476\u001b[0m         \u001b[0msession\u001b[0m \u001b[1;33m=\u001b[0m \u001b[0mget_session\u001b[0m\u001b[1;33m(\u001b[0m\u001b[1;33m)\u001b[0m\u001b[1;33m\u001b[0m\u001b[0m\n\u001b[0;32m   2477\u001b[0m         updated = session.run(fetches=fetches, feed_dict=feed_dict,\n\u001b[1;32m-> 2478\u001b[1;33m                               **self.session_kwargs)\n\u001b[0m\u001b[0;32m   2479\u001b[0m         \u001b[1;32mreturn\u001b[0m \u001b[0mupdated\u001b[0m\u001b[1;33m[\u001b[0m\u001b[1;33m:\u001b[0m\u001b[0mlen\u001b[0m\u001b[1;33m(\u001b[0m\u001b[0mself\u001b[0m\u001b[1;33m.\u001b[0m\u001b[0moutputs\u001b[0m\u001b[1;33m)\u001b[0m\u001b[1;33m]\u001b[0m\u001b[1;33m\u001b[0m\u001b[0m\n\u001b[0;32m   2480\u001b[0m \u001b[1;33m\u001b[0m\u001b[0m\n",
      "\u001b[1;32mD:\\anaconda\\lib\\site-packages\\tensorflow\\python\\client\\session.py\u001b[0m in \u001b[0;36mrun\u001b[1;34m(self, fetches, feed_dict, options, run_metadata)\u001b[0m\n\u001b[0;32m    787\u001b[0m     \u001b[1;32mtry\u001b[0m\u001b[1;33m:\u001b[0m\u001b[1;33m\u001b[0m\u001b[0m\n\u001b[0;32m    788\u001b[0m       result = self._run(None, fetches, feed_dict, options_ptr,\n\u001b[1;32m--> 789\u001b[1;33m                          run_metadata_ptr)\n\u001b[0m\u001b[0;32m    790\u001b[0m       \u001b[1;32mif\u001b[0m \u001b[0mrun_metadata\u001b[0m\u001b[1;33m:\u001b[0m\u001b[1;33m\u001b[0m\u001b[0m\n\u001b[0;32m    791\u001b[0m         \u001b[0mproto_data\u001b[0m \u001b[1;33m=\u001b[0m \u001b[0mtf_session\u001b[0m\u001b[1;33m.\u001b[0m\u001b[0mTF_GetBuffer\u001b[0m\u001b[1;33m(\u001b[0m\u001b[0mrun_metadata_ptr\u001b[0m\u001b[1;33m)\u001b[0m\u001b[1;33m\u001b[0m\u001b[0m\n",
      "\u001b[1;32mD:\\anaconda\\lib\\site-packages\\tensorflow\\python\\client\\session.py\u001b[0m in \u001b[0;36m_run\u001b[1;34m(self, handle, fetches, feed_dict, options, run_metadata)\u001b[0m\n\u001b[0;32m    995\u001b[0m     \u001b[1;32mif\u001b[0m \u001b[0mfinal_fetches\u001b[0m \u001b[1;32mor\u001b[0m \u001b[0mfinal_targets\u001b[0m\u001b[1;33m:\u001b[0m\u001b[1;33m\u001b[0m\u001b[0m\n\u001b[0;32m    996\u001b[0m       results = self._do_run(handle, final_targets, final_fetches,\n\u001b[1;32m--> 997\u001b[1;33m                              feed_dict_string, options, run_metadata)\n\u001b[0m\u001b[0;32m    998\u001b[0m     \u001b[1;32melse\u001b[0m\u001b[1;33m:\u001b[0m\u001b[1;33m\u001b[0m\u001b[0m\n\u001b[0;32m    999\u001b[0m       \u001b[0mresults\u001b[0m \u001b[1;33m=\u001b[0m \u001b[1;33m[\u001b[0m\u001b[1;33m]\u001b[0m\u001b[1;33m\u001b[0m\u001b[0m\n",
      "\u001b[1;32mD:\\anaconda\\lib\\site-packages\\tensorflow\\python\\client\\session.py\u001b[0m in \u001b[0;36m_do_run\u001b[1;34m(self, handle, target_list, fetch_list, feed_dict, options, run_metadata)\u001b[0m\n\u001b[0;32m   1130\u001b[0m     \u001b[1;32mif\u001b[0m \u001b[0mhandle\u001b[0m \u001b[1;32mis\u001b[0m \u001b[1;32mNone\u001b[0m\u001b[1;33m:\u001b[0m\u001b[1;33m\u001b[0m\u001b[0m\n\u001b[0;32m   1131\u001b[0m       return self._do_call(_run_fn, self._session, feed_dict, fetch_list,\n\u001b[1;32m-> 1132\u001b[1;33m                            target_list, options, run_metadata)\n\u001b[0m\u001b[0;32m   1133\u001b[0m     \u001b[1;32melse\u001b[0m\u001b[1;33m:\u001b[0m\u001b[1;33m\u001b[0m\u001b[0m\n\u001b[0;32m   1134\u001b[0m       return self._do_call(_prun_fn, self._session, handle, feed_dict,\n",
      "\u001b[1;32mD:\\anaconda\\lib\\site-packages\\tensorflow\\python\\client\\session.py\u001b[0m in \u001b[0;36m_do_call\u001b[1;34m(self, fn, *args)\u001b[0m\n\u001b[0;32m   1137\u001b[0m   \u001b[1;32mdef\u001b[0m \u001b[0m_do_call\u001b[0m\u001b[1;33m(\u001b[0m\u001b[0mself\u001b[0m\u001b[1;33m,\u001b[0m \u001b[0mfn\u001b[0m\u001b[1;33m,\u001b[0m \u001b[1;33m*\u001b[0m\u001b[0margs\u001b[0m\u001b[1;33m)\u001b[0m\u001b[1;33m:\u001b[0m\u001b[1;33m\u001b[0m\u001b[0m\n\u001b[0;32m   1138\u001b[0m     \u001b[1;32mtry\u001b[0m\u001b[1;33m:\u001b[0m\u001b[1;33m\u001b[0m\u001b[0m\n\u001b[1;32m-> 1139\u001b[1;33m       \u001b[1;32mreturn\u001b[0m \u001b[0mfn\u001b[0m\u001b[1;33m(\u001b[0m\u001b[1;33m*\u001b[0m\u001b[0margs\u001b[0m\u001b[1;33m)\u001b[0m\u001b[1;33m\u001b[0m\u001b[0m\n\u001b[0m\u001b[0;32m   1140\u001b[0m     \u001b[1;32mexcept\u001b[0m \u001b[0merrors\u001b[0m\u001b[1;33m.\u001b[0m\u001b[0mOpError\u001b[0m \u001b[1;32mas\u001b[0m \u001b[0me\u001b[0m\u001b[1;33m:\u001b[0m\u001b[1;33m\u001b[0m\u001b[0m\n\u001b[0;32m   1141\u001b[0m       \u001b[0mmessage\u001b[0m \u001b[1;33m=\u001b[0m \u001b[0mcompat\u001b[0m\u001b[1;33m.\u001b[0m\u001b[0mas_text\u001b[0m\u001b[1;33m(\u001b[0m\u001b[0me\u001b[0m\u001b[1;33m.\u001b[0m\u001b[0mmessage\u001b[0m\u001b[1;33m)\u001b[0m\u001b[1;33m\u001b[0m\u001b[0m\n",
      "\u001b[1;32mD:\\anaconda\\lib\\site-packages\\tensorflow\\python\\client\\session.py\u001b[0m in \u001b[0;36m_run_fn\u001b[1;34m(session, feed_dict, fetch_list, target_list, options, run_metadata)\u001b[0m\n\u001b[0;32m   1119\u001b[0m         return tf_session.TF_Run(session, options,\n\u001b[0;32m   1120\u001b[0m                                  \u001b[0mfeed_dict\u001b[0m\u001b[1;33m,\u001b[0m \u001b[0mfetch_list\u001b[0m\u001b[1;33m,\u001b[0m \u001b[0mtarget_list\u001b[0m\u001b[1;33m,\u001b[0m\u001b[1;33m\u001b[0m\u001b[0m\n\u001b[1;32m-> 1121\u001b[1;33m                                  status, run_metadata)\n\u001b[0m\u001b[0;32m   1122\u001b[0m \u001b[1;33m\u001b[0m\u001b[0m\n\u001b[0;32m   1123\u001b[0m     \u001b[1;32mdef\u001b[0m \u001b[0m_prun_fn\u001b[0m\u001b[1;33m(\u001b[0m\u001b[0msession\u001b[0m\u001b[1;33m,\u001b[0m \u001b[0mhandle\u001b[0m\u001b[1;33m,\u001b[0m \u001b[0mfeed_dict\u001b[0m\u001b[1;33m,\u001b[0m \u001b[0mfetch_list\u001b[0m\u001b[1;33m)\u001b[0m\u001b[1;33m:\u001b[0m\u001b[1;33m\u001b[0m\u001b[0m\n",
      "\u001b[1;31mKeyboardInterrupt\u001b[0m: "
     ]
    }
   ],
   "source": [
    "%%time\n",
    "hist1 = model1.fit(X_train, Y_train, epochs=40,  validation_data=(X_test, Y_test), verbose=1)"
   ]
  },
  {
   "cell_type": "code",
   "execution_count": 205,
   "metadata": {},
   "outputs": [
    {
     "data": {
      "image/png": "[encoded data removed]",
      "text/plain": [
       "<matplotlib.figure.Figure at 0x20d33c28668>"
      ]
     },
     "metadata": {},
     "output_type": "display_data"
    }
   ],
   "source": [
    "plt.plot(hist1.history[\"acc\"])\n",
    "plt.plot(hist1.history[\"val_acc\"])\n",
    "plt.show()"
   ]
  },
  {
   "cell_type": "code",
   "execution_count": 276,
   "metadata": {},
   "outputs": [],
   "source": [
    "from keras.models import Sequential\n",
    "from keras.layers import Conv2D, MaxPooling2D, Flatten, Dense, Dropout\n",
    "from keras.regularizers import l2\n",
    "\n",
    "np.random.seed(0)\n",
    "\n",
    "model = Sequential()\n",
    "\n",
    "model.add(Conv2D(30, (4, 4), activation='relu', input_shape=(64,64,1), kernel_initializer=\"glorot_uniform\", padding='same', kernel_regularizer=l2(0.001)))\n",
    "model.add(MaxPooling2D())\n",
    "model.add(Dropout(0.1))\n",
    "\n",
    "model.add(Conv2D(40, (4, 4), activation='relu', padding='same', kernel_initializer=\"glorot_uniform\", kernel_regularizer=l2(0.001)))\n",
    "model.add(MaxPooling2D())\n",
    "model.add(Dropout(0.2))\n",
    "\n",
    "model.add(Conv2D(50, (4, 4), activation='relu', padding='same', kernel_initializer=\"glorot_uniform\", kernel_regularizer=l2(0.001)))\n",
    "model.add(MaxPooling2D())\n",
    "model.add(Dropout(0.3))\n",
    "\n",
    "model.add(Flatten())\n",
    "model.add(Dense(40, activation='softmax', kernel_initializer=\"glorot_uniform\"))\n",
    "model.compile(loss='categorical_crossentropy', optimizer='adadelta', metrics=['accuracy'])"
   ]
  },
  {
   "cell_type": "code",
   "execution_count": 277,
   "metadata": {},
   "outputs": [
    {
     "name": "stdout",
     "output_type": "stream",
     "text": [
      "Train on 280 samples, validate on 120 samples\n",
      "Epoch 1/50\n",
      " - 3s - loss: 3.7934 - acc: 0.0214 - val_loss: 3.7712 - val_acc: 0.0167\n",
      "Epoch 2/50\n",
      " - 1s - loss: 3.7622 - acc: 0.0286 - val_loss: 3.7807 - val_acc: 0.0083\n",
      "Epoch 3/50\n",
      " - 1s - loss: 3.7577 - acc: 0.0357 - val_loss: 3.8142 - val_acc: 0.0000e+00\n",
      "Epoch 4/50\n",
      " - 1s - loss: 3.7506 - acc: 0.0321 - val_loss: 3.7728 - val_acc: 0.0083\n",
      "Epoch 5/50\n",
      " - 2s - loss: 3.7373 - acc: 0.0500 - val_loss: 3.7896 - val_acc: 0.0000e+00\n",
      "Epoch 6/50\n",
      " - 2s - loss: 3.7237 - acc: 0.0357 - val_loss: 3.7976 - val_acc: 0.0083\n",
      "Epoch 7/50\n",
      " - 2s - loss: 3.6978 - acc: 0.0536 - val_loss: 3.7582 - val_acc: 0.0083\n",
      "Epoch 8/50\n",
      " - 2s - loss: 3.6588 - acc: 0.1000 - val_loss: 3.6968 - val_acc: 0.0417\n",
      "Epoch 9/50\n",
      " - 2s - loss: 3.6130 - acc: 0.1357 - val_loss: 3.6227 - val_acc: 0.0833\n",
      "Epoch 10/50\n",
      " - 2s - loss: 3.1070 - acc: 0.2750 - val_loss: 2.7290 - val_acc: 0.2750\n",
      "Epoch 11/50\n",
      " - 2s - loss: 2.5748 - acc: 0.3571 - val_loss: 2.7170 - val_acc: 0.2417\n",
      "Epoch 12/50\n",
      " - 2s - loss: 2.1041 - acc: 0.4643 - val_loss: 1.9802 - val_acc: 0.4500\n",
      "Epoch 13/50\n",
      " - 2s - loss: 1.2601 - acc: 0.7071 - val_loss: 1.3199 - val_acc: 0.6750\n",
      "Epoch 14/50\n",
      " - 2s - loss: 0.9762 - acc: 0.7714 - val_loss: 0.8050 - val_acc: 0.7917\n",
      "Epoch 15/50\n",
      " - 2s - loss: 0.5346 - acc: 0.8714 - val_loss: 0.7236 - val_acc: 0.8500\n",
      "Epoch 16/50\n",
      " - 2s - loss: 0.2772 - acc: 0.9571 - val_loss: 0.4551 - val_acc: 0.9167\n",
      "Epoch 17/50\n",
      " - 2s - loss: 0.4341 - acc: 0.9179 - val_loss: 0.5352 - val_acc: 0.8750\n",
      "Epoch 18/50\n",
      " - 2s - loss: 0.1603 - acc: 0.9857 - val_loss: 0.4777 - val_acc: 0.8750\n",
      "Epoch 19/50\n",
      " - 2s - loss: 0.1280 - acc: 0.9893 - val_loss: 0.4922 - val_acc: 0.8750\n",
      "Epoch 20/50\n",
      " - 2s - loss: 0.1744 - acc: 0.9714 - val_loss: 0.3665 - val_acc: 0.9083\n",
      "Epoch 21/50\n",
      " - 2s - loss: 0.1113 - acc: 0.9893 - val_loss: 0.3539 - val_acc: 0.9083\n",
      "Epoch 22/50\n",
      " - 2s - loss: 0.1117 - acc: 0.9929 - val_loss: 0.3126 - val_acc: 0.9167\n",
      "Epoch 23/50\n",
      " - 2s - loss: 0.1093 - acc: 0.9929 - val_loss: 0.2763 - val_acc: 0.9500\n",
      "Epoch 24/50\n",
      " - 2s - loss: 0.0949 - acc: 0.9964 - val_loss: 0.2600 - val_acc: 0.9583\n",
      "Epoch 25/50\n",
      " - 2s - loss: 0.1130 - acc: 0.9857 - val_loss: 0.2481 - val_acc: 0.9667\n",
      "Epoch 26/50\n",
      " - 2s - loss: 0.0860 - acc: 1.0000 - val_loss: 0.2556 - val_acc: 0.9583\n",
      "Epoch 27/50\n",
      " - 2s - loss: 0.0808 - acc: 1.0000 - val_loss: 0.2661 - val_acc: 0.9417\n",
      "Epoch 28/50\n",
      " - 2s - loss: 0.0773 - acc: 1.0000 - val_loss: 0.2359 - val_acc: 0.9667\n",
      "Epoch 29/50\n",
      " - 2s - loss: 0.0819 - acc: 1.0000 - val_loss: 0.2374 - val_acc: 0.9417\n",
      "Epoch 30/50\n",
      " - 2s - loss: 0.0806 - acc: 0.9964 - val_loss: 0.2547 - val_acc: 0.9500\n",
      "Epoch 31/50\n",
      " - 2s - loss: 0.1102 - acc: 0.9893 - val_loss: 0.2569 - val_acc: 0.9333\n",
      "Epoch 32/50\n",
      " - 2s - loss: 0.0742 - acc: 1.0000 - val_loss: 0.2483 - val_acc: 0.9583\n",
      "Epoch 33/50\n",
      " - 2s - loss: 0.0726 - acc: 1.0000 - val_loss: 0.2526 - val_acc: 0.9667\n",
      "Epoch 34/50\n",
      " - 2s - loss: 0.0752 - acc: 1.0000 - val_loss: 0.2458 - val_acc: 0.9417\n",
      "Epoch 35/50\n",
      " - 2s - loss: 0.0750 - acc: 0.9964 - val_loss: 0.2378 - val_acc: 0.9500\n",
      "Epoch 36/50\n",
      " - 2s - loss: 0.0763 - acc: 0.9964 - val_loss: 0.2415 - val_acc: 0.9583\n",
      "Epoch 37/50\n",
      " - 2s - loss: 0.0697 - acc: 0.9964 - val_loss: 0.2463 - val_acc: 0.9500\n",
      "Epoch 38/50\n",
      " - 2s - loss: 0.0676 - acc: 1.0000 - val_loss: 0.2365 - val_acc: 0.9500\n",
      "Epoch 39/50\n",
      " - 2s - loss: 0.0617 - acc: 1.0000 - val_loss: 0.2188 - val_acc: 0.9500\n",
      "Epoch 40/50\n",
      " - 2s - loss: 0.0606 - acc: 1.0000 - val_loss: 0.2599 - val_acc: 0.9583\n",
      "Epoch 41/50\n",
      " - 2s - loss: 0.0591 - acc: 1.0000 - val_loss: 0.2665 - val_acc: 0.9417\n",
      "Epoch 42/50\n",
      " - 2s - loss: 0.0597 - acc: 1.0000 - val_loss: 0.2458 - val_acc: 0.9500\n",
      "Epoch 43/50\n",
      " - 2s - loss: 0.0563 - acc: 1.0000 - val_loss: 0.1912 - val_acc: 0.9750\n",
      "Epoch 44/50\n",
      " - 2s - loss: 0.0617 - acc: 0.9964 - val_loss: 0.2132 - val_acc: 0.9583\n",
      "Epoch 45/50\n",
      " - 2s - loss: 0.0569 - acc: 1.0000 - val_loss: 0.2762 - val_acc: 0.9250\n",
      "Epoch 46/50\n",
      " - 2s - loss: 0.0571 - acc: 1.0000 - val_loss: 0.2375 - val_acc: 0.9583\n",
      "Epoch 47/50\n",
      " - 2s - loss: 0.0530 - acc: 1.0000 - val_loss: 0.2631 - val_acc: 0.9500\n",
      "Epoch 48/50\n",
      " - 2s - loss: 0.0509 - acc: 1.0000 - val_loss: 0.1828 - val_acc: 0.9667\n",
      "Epoch 49/50\n",
      " - 2s - loss: 0.0492 - acc: 1.0000 - val_loss: 0.2110 - val_acc: 0.9583\n",
      "Epoch 50/50\n",
      " - 2s - loss: 0.0512 - acc: 1.0000 - val_loss: 0.2253 - val_acc: 0.9667\n",
      "Wall time: 1min 21s\n"
     ]
    }
   ],
   "source": [
    "%%time\n",
    "hist = model.fit(X_train, Y_train, epochs=50,batch_size = 20, validation_data=(X_test, Y_test), verbose=2)"
   ]
  },
  {
   "cell_type": "code",
   "execution_count": 278,
   "metadata": {},
   "outputs": [
    {
     "data": {
      "image/png": "[encoded data removed]",
      "text/plain": [
       "<matplotlib.figure.Figure at 0x20dbb4f2a90>"
      ]
     },
     "metadata": {},
     "output_type": "display_data"
    }
   ],
   "source": [
    "plt.plot(hist.history[\"acc\"])\n",
    "plt.plot(hist.history[\"val_acc\"])\n",
    "plt.show()"
   ]
  },
  {
   "cell_type": "code",
   "execution_count": 279,
   "metadata": {},
   "outputs": [
    {
     "data": {
      "text/plain": [
       "[0.22533311446507773, 0.9666666706403096]"
      ]
     },
     "execution_count": 279,
     "metadata": {},
     "output_type": "execute_result"
    }
   ],
   "source": [
    "model.evaluate(X_test, Y_test,verbose=2)"
   ]
  },
  {
   "cell_type": "code",
   "execution_count": 251,
   "metadata": {},
   "outputs": [],
   "source": [
    "from PIL import *"
   ]
  },
  {
   "cell_type": "code",
   "execution_count": 255,
   "metadata": {},
   "outputs": [
    {
     "name": "stderr",
     "output_type": "stream",
     "text": [
      "D:\\anaconda\\lib\\site-packages\\PIL\\Image.py:85: RuntimeWarning: The _imaging extension was built for another version of Pillow or PIL\n",
      "  \"The _imaging extension was built for Python with UCS2 support; \"\n"
     ]
    },
    {
     "ename": "ImportError",
     "evalue": "The _imaging extension was built for another version of Pillow or PIL",
     "output_type": "error",
     "traceback": [
      "\u001b[1;31m---------------------------------------------------------------------------\u001b[0m",
      "\u001b[1;31mImportError\u001b[0m                               Traceback (most recent call last)",
      "\u001b[1;32m<ipython-input-255-c8130fca82eb>\u001b[0m in \u001b[0;36m<module>\u001b[1;34m()\u001b[0m\n\u001b[1;32m----> 1\u001b[1;33m \u001b[1;32mfrom\u001b[0m \u001b[0mPIL\u001b[0m \u001b[1;32mimport\u001b[0m \u001b[0mImage\u001b[0m\u001b[1;33m\u001b[0m\u001b[0m\n\u001b[0m\u001b[0;32m      2\u001b[0m \u001b[1;33m\u001b[0m\u001b[0m\n\u001b[0;32m      3\u001b[0m \u001b[0mim\u001b[0m \u001b[1;33m=\u001b[0m \u001b[0mnp\u001b[0m\u001b[1;33m.\u001b[0m\u001b[0marray\u001b[0m\u001b[1;33m(\u001b[0m\u001b[0mImage\u001b[0m\u001b[1;33m.\u001b[0m\u001b[0mopen\u001b[0m\u001b[1;33m(\u001b[0m\u001b[1;34m'tmp.jpg'\u001b[0m\u001b[1;33m)\u001b[0m\u001b[1;33m.\u001b[0m\u001b[0mresize\u001b[0m\u001b[1;33m(\u001b[0m\u001b[1;33m(\u001b[0m\u001b[1;36m224\u001b[0m\u001b[1;33m,\u001b[0m \u001b[1;36m224\u001b[0m\u001b[1;33m)\u001b[0m\u001b[1;33m)\u001b[0m\u001b[1;33m)\u001b[0m\u001b[1;33m\u001b[0m\u001b[0m\n\u001b[0;32m      4\u001b[0m \u001b[0mplt\u001b[0m\u001b[1;33m.\u001b[0m\u001b[0mimshow\u001b[0m\u001b[1;33m(\u001b[0m\u001b[0mim\u001b[0m\u001b[1;33m)\u001b[0m\u001b[1;33m\u001b[0m\u001b[0m\n\u001b[0;32m      5\u001b[0m \u001b[0mplt\u001b[0m\u001b[1;33m.\u001b[0m\u001b[0mgrid\u001b[0m\u001b[1;33m(\u001b[0m\u001b[1;32mFalse\u001b[0m\u001b[1;33m)\u001b[0m\u001b[1;33m\u001b[0m\u001b[0m\n",
      "\u001b[1;32mD:\\anaconda\\lib\\site-packages\\PIL\\Image.py\u001b[0m in \u001b[0;36m<module>\u001b[1;34m()\u001b[0m\n\u001b[0;32m     67\u001b[0m     \u001b[1;32mfrom\u001b[0m \u001b[0mPIL\u001b[0m \u001b[1;32mimport\u001b[0m \u001b[0m_imaging\u001b[0m \u001b[1;32mas\u001b[0m \u001b[0mcore\u001b[0m\u001b[1;33m\u001b[0m\u001b[0m\n\u001b[0;32m     68\u001b[0m     \u001b[1;32mif\u001b[0m \u001b[0mPILLOW_VERSION\u001b[0m \u001b[1;33m!=\u001b[0m \u001b[0mgetattr\u001b[0m\u001b[1;33m(\u001b[0m\u001b[0mcore\u001b[0m\u001b[1;33m,\u001b[0m \u001b[1;34m'PILLOW_VERSION'\u001b[0m\u001b[1;33m,\u001b[0m \u001b[1;32mNone\u001b[0m\u001b[1;33m)\u001b[0m\u001b[1;33m:\u001b[0m\u001b[1;33m\u001b[0m\u001b[0m\n\u001b[1;32m---> 69\u001b[1;33m         raise ImportError(\"The _imaging extension was built for another \"\n\u001b[0m\u001b[0;32m     70\u001b[0m                           \"version of Pillow or PIL\")\n\u001b[0;32m     71\u001b[0m \u001b[1;33m\u001b[0m\u001b[0m\n",
      "\u001b[1;31mImportError\u001b[0m: The _imaging extension was built for another version of Pillow or PIL"
     ]
    }
   ],
   "source": [
    "from PIL import Image\n",
    " \n",
    "im = np.array(Image.open('tmp.jpg').resize((224, 224)))\n",
    "plt.imshow(im)\n",
    "plt.grid(False)"
   ]
  },
  {
   "cell_type": "code",
   "execution_count": 246,
   "metadata": {},
   "outputs": [],
   "source": [
    "model = VGG16()"
   ]
  },
  {
   "cell_type": "code",
   "execution_count": null,
   "metadata": {},
   "outputs": [],
   "source": []
  }
 ],
 "metadata": {
  "kernelspec": {
   "display_name": "Python 3",
   "language": "python",
   "name": "python3"
  },
  "language_info": {
   "codemirror_mode": {
    "name": "ipython",
    "version": 3
   },
   "file_extension": ".py",
   "mimetype": "text/x-python",
   "name": "python",
   "nbconvert_exporter": "python",
   "pygments_lexer": "ipython3",
   "version": "3.6.4"
  }
 },
 "nbformat": 4,
 "nbformat_minor": 2
}
