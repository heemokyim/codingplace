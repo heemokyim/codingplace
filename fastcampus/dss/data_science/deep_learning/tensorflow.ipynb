{
 "cells": [
  {
   "cell_type": "code",
   "execution_count": 3,
   "metadata": {},
   "outputs": [],
   "source": [
    "import tensorflow as tf\n",
    "import numpy as np"
   ]
  },
  {
   "cell_type": "code",
   "execution_count": 5,
   "metadata": {},
   "outputs": [],
   "source": [
    "from sklearn.datasets import load_iris\n",
    "iris = load_iris()\n",
    "\n",
    "idx = np.in1d(iris.target, [0, 2])\n",
    "X_data = iris.data[idx, 0:2]\n",
    "y_data = (iris.target[idx] - 1.0)"
   ]
  },
  {
   "cell_type": "code",
   "execution_count": 6,
   "metadata": {},
   "outputs": [
    {
     "name": "stdout",
     "output_type": "stream",
     "text": [
      "40.91115969482383\n",
      "39.55564189764219\n",
      "37.797508722198515\n",
      "35.460709210012254\n",
      "32.27722470390307\n",
      "27.852543414346947\n",
      "21.675806280536932\n",
      "13.32346189078213\n",
      "3.035360049072854\n",
      "0.0026080512526218138\n",
      "0.002607913505378294\n",
      "0.0026077757515110783\n",
      "0.002607637991017155\n",
      "0.00260750022391106\n",
      "0.0026073624501872133\n"
     ]
    }
   ],
   "source": [
    "np.random.seed(0)\n",
    "w = tf.Variable(0.001 * np.random.randn(2, 1))\n",
    "b = tf.Variable(0.001 * np.random.randn(1))\n",
    "a = tf.tanh(tf.reduce_sum(tf.matmul(X_data, w)) + b)\n",
    "\n",
    "zero = np.zeros(1)[0].astype(np.float64)\n",
    "loss = tf.reduce_sum(tf.maximum(zero, -y_data * a))\n",
    "optimizer = tf.train.GradientDescentOptimizer(1e-11)\n",
    "train = optimizer.minimize(loss)\n",
    "\n",
    "sess = tf.Session()\n",
    "\n",
    "w_summary = tf.summary.histogram(\"w\", w)\n",
    "b_summary = tf.summary.histogram(\"b\", b)\n",
    "a_summary = tf.summary.histogram(\"a\", a)\n",
    "loss_summary = tf.summary.histogram(\"loss\", loss)\n",
    "merged = tf.summary.merge([w_summary, b_summary, a_summary, loss_summary])\n",
    "\n",
    "init = tf.global_variables_initializer()\n",
    "sess.run(init)\n",
    "\n",
    "writer = tf.summary.FileWriter(\"logs\", sess.graph)\n",
    "\n",
    "for i in range(15000):\n",
    "    sess.run(train)\n",
    "    summary = sess.run(merged)\n",
    "    writer.add_summary(summary, i)\n",
    "    if i % 1000 == 0:\n",
    "        print(sess.run(loss))\n",
    "        \n",
    "sess.close()"
   ]
  },
  {
   "cell_type": "code",
   "execution_count": null,
   "metadata": {},
   "outputs": [],
   "source": []
  }
 ],
 "metadata": {
  "kernelspec": {
   "display_name": "Python 3",
   "language": "python",
   "name": "python3"
  },
  "language_info": {
   "codemirror_mode": {
    "name": "ipython",
    "version": 3
   },
   "file_extension": ".py",
   "mimetype": "text/x-python",
   "name": "python",
   "nbconvert_exporter": "python",
   "pygments_lexer": "ipython3",
   "version": "3.6.4"
  }
 },
 "nbformat": 4,
 "nbformat_minor": 2
}
