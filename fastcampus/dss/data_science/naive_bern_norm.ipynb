{
 "cells": [
  {
   "cell_type": "code",
   "execution_count": 1,
   "metadata": {},
   "outputs": [],
   "source": [
    "from custom_ml import *"
   ]
  },
  {
   "cell_type": "code",
   "execution_count": 58,
   "metadata": {},
   "outputs": [],
   "source": [
    "from sklearn.datasets import load_digits\n",
    "digits = load_digits()"
   ]
  },
  {
   "cell_type": "code",
   "execution_count": 59,
   "metadata": {},
   "outputs": [
    {
     "data": {
      "text/plain": [
       "array([[ 0.,  0.,  5., 13.,  9.,  1.,  0.,  0.,  0.,  0., 13., 15., 10.,\n",
       "        15.,  5.,  0.,  0.,  3., 15.,  2.,  0., 11.,  8.,  0.,  0.,  4.,\n",
       "        12.,  0.,  0.,  8.,  8.,  0.,  0.,  5.,  8.,  0.,  0.,  9.,  8.,\n",
       "         0.,  0.,  4., 11.,  0.,  1., 12.,  7.,  0.,  0.,  2., 14.,  5.,\n",
       "        10., 12.,  0.,  0.,  0.,  0.,  6., 13., 10.,  0.,  0.,  0.]])"
      ]
     },
     "execution_count": 59,
     "metadata": {},
     "output_type": "execute_result"
    }
   ],
   "source": [
    "digits.images[0].reshape(1,64)"
   ]
  },
  {
   "cell_type": "code",
   "execution_count": 60,
   "metadata": {},
   "outputs": [
    {
     "data": {
      "text/plain": [
       "1797"
      ]
     },
     "execution_count": 60,
     "metadata": {},
     "output_type": "execute_result"
    }
   ],
   "source": [
    "len(digits.images)"
   ]
  },
  {
   "cell_type": "code",
   "execution_count": 72,
   "metadata": {},
   "outputs": [],
   "source": [
    "reshaped =  np.array([each.reshape(1,64)[0] for each in digits.images])"
   ]
  },
  {
   "cell_type": "code",
   "execution_count": 62,
   "metadata": {},
   "outputs": [
    {
     "data": {
      "text/plain": [
       "array([[ 0.,  0.,  5., ...,  0.,  0.,  0.],\n",
       "       [ 0.,  0.,  0., ..., 10.,  0.,  0.],\n",
       "       [ 0.,  0.,  0., ..., 16.,  9.,  0.],\n",
       "       ...,\n",
       "       [ 0.,  0.,  1., ...,  6.,  0.,  0.],\n",
       "       [ 0.,  0.,  2., ..., 12.,  0.,  0.],\n",
       "       [ 0.,  0., 10., ..., 12.,  1.,  0.]])"
      ]
     },
     "execution_count": 62,
     "metadata": {},
     "output_type": "execute_result"
    }
   ],
   "source": [
    "reshaped"
   ]
  },
  {
   "cell_type": "code",
   "execution_count": 63,
   "metadata": {},
   "outputs": [],
   "source": [
    "reshaped[reshaped<8] = 0\n",
    "reshaped[reshaped>=8] = 1"
   ]
  },
  {
   "cell_type": "code",
   "execution_count": 65,
   "metadata": {},
   "outputs": [
    {
     "data": {
      "text/plain": [
       "array([[0., 0., 0., ..., 0., 0., 0.],\n",
       "       [0., 0., 0., ..., 1., 0., 0.],\n",
       "       [0., 0., 0., ..., 1., 1., 0.],\n",
       "       ...,\n",
       "       [0., 0., 0., ..., 0., 0., 0.],\n",
       "       [0., 0., 0., ..., 1., 0., 0.],\n",
       "       [0., 0., 1., ..., 1., 0., 0.]])"
      ]
     },
     "execution_count": 65,
     "metadata": {},
     "output_type": "execute_result"
    }
   ],
   "source": [
    "reshaped"
   ]
  },
  {
   "cell_type": "code",
   "execution_count": 66,
   "metadata": {},
   "outputs": [],
   "source": [
    "X = reshaped\n",
    "y = digits.target"
   ]
  },
  {
   "cell_type": "code",
   "execution_count": 67,
   "metadata": {},
   "outputs": [],
   "source": [
    "cls, conf = cls_conf(X,y,BernoulliNB(),0.5)"
   ]
  },
  {
   "cell_type": "code",
   "execution_count": 68,
   "metadata": {},
   "outputs": [
    {
     "data": {
      "text/plain": [
       "array([[87,  0,  0,  0,  1,  0,  1,  0,  0,  0],\n",
       "       [ 0, 71,  7,  0,  0,  1,  1,  0,  4,  6],\n",
       "       [ 0,  4, 80,  4,  0,  0,  0,  2,  1,  1],\n",
       "       [ 0,  2,  1, 76,  0,  1,  0,  2,  3,  8],\n",
       "       [ 0,  3,  0,  0, 69,  0,  0,  3,  1,  0],\n",
       "       [ 0,  0,  1,  0,  2, 96,  1,  0,  0,  8],\n",
       "       [ 1,  2,  0,  0,  0,  0, 85,  0,  1,  0],\n",
       "       [ 0,  0,  0,  0,  1,  0,  0, 77,  0,  0],\n",
       "       [ 0,  8,  4,  0,  0,  2,  2,  0, 67,  9],\n",
       "       [ 0,  0,  1,  2,  0,  2,  0,  3,  1, 83]], dtype=int64)"
      ]
     },
     "execution_count": 68,
     "metadata": {},
     "output_type": "execute_result"
    }
   ],
   "source": [
    "cls"
   ]
  },
  {
   "cell_type": "code",
   "execution_count": 69,
   "metadata": {},
   "outputs": [
    {
     "name": "stdout",
     "output_type": "stream",
     "text": [
      "             precision    recall  f1-score   support\n",
      "\n",
      "          0       0.99      0.98      0.98        89\n",
      "          1       0.79      0.79      0.79        90\n",
      "          2       0.85      0.87      0.86        92\n",
      "          3       0.93      0.82      0.87        93\n",
      "          4       0.95      0.91      0.93        76\n",
      "          5       0.94      0.89      0.91       108\n",
      "          6       0.94      0.96      0.95        89\n",
      "          7       0.89      0.99      0.93        78\n",
      "          8       0.86      0.73      0.79        92\n",
      "          9       0.72      0.90      0.80        92\n",
      "\n",
      "avg / total       0.88      0.88      0.88       899\n",
      "\n"
     ]
    }
   ],
   "source": [
    "print(conf)"
   ]
  },
  {
   "cell_type": "code",
   "execution_count": 73,
   "metadata": {},
   "outputs": [],
   "source": [
    "reshaped =  np.array([each.reshape(1,64)[0] for each in digits.images])"
   ]
  },
  {
   "cell_type": "code",
   "execution_count": 74,
   "metadata": {},
   "outputs": [],
   "source": [
    "a, b = cls_conf(reshaped,y,BernoulliNB(binarize=7),0.5)"
   ]
  },
  {
   "cell_type": "code",
   "execution_count": 75,
   "metadata": {},
   "outputs": [
    {
     "data": {
      "text/plain": [
       "array([[87,  0,  0,  0,  1,  0,  1,  0,  0,  0],\n",
       "       [ 0, 71,  7,  0,  0,  1,  1,  0,  4,  6],\n",
       "       [ 0,  4, 80,  4,  0,  0,  0,  2,  1,  1],\n",
       "       [ 0,  2,  1, 76,  0,  1,  0,  2,  3,  8],\n",
       "       [ 0,  3,  0,  0, 69,  0,  0,  3,  1,  0],\n",
       "       [ 0,  0,  1,  0,  2, 96,  1,  0,  0,  8],\n",
       "       [ 1,  2,  0,  0,  0,  0, 85,  0,  1,  0],\n",
       "       [ 0,  0,  0,  0,  1,  0,  0, 77,  0,  0],\n",
       "       [ 0,  8,  4,  0,  0,  2,  2,  0, 67,  9],\n",
       "       [ 0,  0,  1,  2,  0,  2,  0,  3,  1, 83]], dtype=int64)"
      ]
     },
     "execution_count": 75,
     "metadata": {},
     "output_type": "execute_result"
    }
   ],
   "source": [
    "a"
   ]
  },
  {
   "cell_type": "code",
   "execution_count": 76,
   "metadata": {},
   "outputs": [
    {
     "name": "stdout",
     "output_type": "stream",
     "text": [
      "             precision    recall  f1-score   support\n",
      "\n",
      "          0       0.99      0.98      0.98        89\n",
      "          1       0.79      0.79      0.79        90\n",
      "          2       0.85      0.87      0.86        92\n",
      "          3       0.93      0.82      0.87        93\n",
      "          4       0.95      0.91      0.93        76\n",
      "          5       0.94      0.89      0.91       108\n",
      "          6       0.94      0.96      0.95        89\n",
      "          7       0.89      0.99      0.93        78\n",
      "          8       0.86      0.73      0.79        92\n",
      "          9       0.72      0.90      0.80        92\n",
      "\n",
      "avg / total       0.88      0.88      0.88       899\n",
      "\n"
     ]
    }
   ],
   "source": [
    "print(b)"
   ]
  },
  {
   "cell_type": "code",
   "execution_count": 77,
   "metadata": {},
   "outputs": [
    {
     "data": {
      "text/plain": [
       "array([[ 0.,  0.,  5., ...,  0.,  0.,  0.],\n",
       "       [ 0.,  0.,  0., ..., 10.,  0.,  0.],\n",
       "       [ 0.,  0.,  0., ..., 16.,  9.,  0.],\n",
       "       ...,\n",
       "       [ 0.,  0.,  1., ...,  6.,  0.,  0.],\n",
       "       [ 0.,  0.,  2., ..., 12.,  0.,  0.],\n",
       "       [ 0.,  0., 10., ..., 12.,  1.,  0.]])"
      ]
     },
     "execution_count": 77,
     "metadata": {},
     "output_type": "execute_result"
    }
   ],
   "source": [
    "reshaped"
   ]
  },
  {
   "cell_type": "code",
   "execution_count": 34,
   "metadata": {},
   "outputs": [],
   "source": [
    "model = BernoulliNB(binarize=8).fit(reshaped,y)"
   ]
  },
  {
   "cell_type": "code",
   "execution_count": 35,
   "metadata": {},
   "outputs": [
    {
     "data": {
      "text/plain": [
       "{'alpha': 1.0, 'binarize': 8, 'class_prior': None, 'fit_prior': True}"
      ]
     },
     "execution_count": 35,
     "metadata": {},
     "output_type": "execute_result"
    }
   ],
   "source": [
    "model.get_params()"
   ]
  },
  {
   "cell_type": "code",
   "execution_count": 36,
   "metadata": {},
   "outputs": [
    {
     "data": {
      "text/plain": [
       "array([0, 1, 2, 3, 4, 5, 6, 7, 8, 9])"
      ]
     },
     "execution_count": 36,
     "metadata": {},
     "output_type": "execute_result"
    }
   ],
   "source": [
    "model.classes_"
   ]
  },
  {
   "cell_type": "code",
   "execution_count": 37,
   "metadata": {},
   "outputs": [
    {
     "data": {
      "text/plain": [
       "array([[  0.,   0.,  22., 171., 144.,  12.,   0.,   0.,   0.,   2., 156.,\n",
       "        158., 132., 139.,   1.,   0.,   0.,   6., 173.,  50.,  12., 156.,\n",
       "          6.,   0.,   0.,   8., 152.,  13.,   0.,  93.,  17.,   0.,   0.,\n",
       "         10., 139.,   4.,   0.,  84.,  32.,   0.,   0.,   0., 168.,   8.,\n",
       "          8., 138.,  37.,   0.,   0.,   0., 165., 111., 116., 163.,  12.,\n",
       "          0.,   0.,   0.,  12., 176., 166.,  36.,   0.,   0.],\n",
       "       [  0.,   0.,  13., 114., 137.,  62.,   1.,   0.,   0.,   0.,  30.,\n",
       "        148., 160.,  91.,   6.,   0.,   0.,   7.,  77., 178., 162.,  80.,\n",
       "          1.,   0.,   0.,  16., 101., 168., 163.,  61.,   0.,   0.,   0.,\n",
       "          1.,  71., 132., 162.,  52.,   0.,   0.,   0.,   0.,  58., 118.,\n",
       "        159.,  61.,   0.,   0.,   0.,   0.,  47., 128., 163.,  83.,  16.,\n",
       "          4.,   0.,   0.,   8., 113., 162.,  94.,  26.,  18.],\n",
       "       [  0.,   0., 112., 168., 104.,  19.,   0.,   0.,   0.,  39., 162.,\n",
       "        149., 149.,  50.,   2.,   0.,   0.,  45.,  91.,  33., 132.,  56.,\n",
       "          2.,   0.,   0.,   4.,   9.,  40., 145.,  37.,   0.,   0.,   0.,\n",
       "          0.,   5., 102., 124.,  18.,   0.,   0.,   0.,   2.,  50., 135.,\n",
       "         74.,  12.,   3.,   0.,   0.,   5., 132., 170., 130., 110.,  66.,\n",
       "          1.,   0.,   0., 115., 164., 156., 136.,  83.,  14.],\n",
       "       [  0.,   0.,  91., 178., 178.,  84.,   3.,   0.,   0.,  24., 160.,\n",
       "         94., 135., 140.,  15.,   0.,   0.,  14.,  35.,  16., 151., 107.,\n",
       "          3.,   0.,   0.,   0.,   8., 103., 172.,  45.,   0.,   0.,   0.,\n",
       "          0.,   7.,  50., 145., 137.,   7.,   0.,   0.,   1.,   9.,   9.,\n",
       "         43., 152.,  59.,   0.,   0.,   3.,  66.,  48.,  85., 161.,  49.,\n",
       "          0.,   0.,   0., 105., 178., 172.,  98.,   8.,   0.],\n",
       "       [  0.,   0.,   2.,  72., 137.,   9.,   2.,   1.,   0.,   0.,  24.,\n",
       "        163.,  90.,  13.,  10.,   2.,   0.,   2., 123., 137.,  47.,  53.,\n",
       "         36.,   0.,   0.,  19., 173.,  54.,  84., 123.,  69.,   0.,   0.,\n",
       "        101., 175., 107., 155., 165.,  49.,   0.,   0.,  66., 129., 147.,\n",
       "        172., 121.,   3.,   0.,   0.,   6.,  22.,  88., 163.,  41.,   0.,\n",
       "          0.,   0.,   0.,   2.,  89., 148.,  11.,   0.,   0.],\n",
       "       [  0.,   0., 117., 165., 168., 145.,  35.,   0.,   0.,  23., 177.,\n",
       "        145.,  67.,  47.,  12.,   0.,   0.,  44., 179.,  52.,  10.,   3.,\n",
       "          0.,   0.,   0.,  39., 171., 148., 103.,  42.,   1.,   0.,   0.,\n",
       "          6.,  78.,  86.,  96.,  94.,   4.,   0.,   0.,   0.,   9.,  38.,\n",
       "         82.,  96.,  15.,   0.,   0.,   2.,  49.,  84., 127.,  85.,  10.,\n",
       "          0.,   0.,   2., 136., 179., 107.,  13.,   0.,   0.],\n",
       "       [  0.,   0.,   1., 143., 112.,   5.,   0.,   0.,   0.,   0.,  70.,\n",
       "        178.,  65.,   3.,   0.,   0.,   0.,   0., 152., 105.,   1.,   0.,\n",
       "          0.,   0.,   0.,   1., 168.,  87.,  31.,  16.,   0.,   0.,   0.,\n",
       "          4., 176., 152., 139., 124.,  10.,   0.,   0.,   0., 178., 122.,\n",
       "         49., 115., 113.,   0.,   0.,   0., 134., 164.,  39., 139., 134.,\n",
       "          0.,   0.,   0.,   0., 141., 181., 166.,  34.,   0.],\n",
       "       [  0.,   0.,  35., 158., 164., 127.,  50.,   9.,   0.,   6., 124.,\n",
       "        145., 134., 148.,  56.,   3.,   0.,   3.,  49.,  14.,  76., 131.,\n",
       "         26.,   0.,   0.,   1.,  33.,  60., 146., 147.,  48.,   0.,   0.,\n",
       "          6., 100., 158., 172., 132.,  28.,   0.,   0.,   5.,  50., 133.,\n",
       "        127.,  34.,   0.,   0.,   0.,   0.,  21., 150.,  59.,   0.,   0.,\n",
       "          0.,   0.,   1.,  60., 142.,  10.,   0.,   0.,   0.],\n",
       "       [  0.,   0.,  38., 145., 145.,  60.,   0.,   0.,   0.,   6., 140.,\n",
       "        136., 102., 143.,   8.,   0.,   0.,  13., 131.,  78.,  83., 140.,\n",
       "          4.,   0.,   0.,   0.,  93., 157., 153.,  74.,   0.,   0.,   0.,\n",
       "          0.,  64., 163., 151.,  39.,   0.,   0.,   0.,   0., 124.,  94.,\n",
       "        104.,  96.,   1.,   0.,   0.,   0., 136.,  87.,  83., 108.,   8.,\n",
       "          0.,   0.,   0.,  38., 158., 153.,  66.,   9.,   0.],\n",
       "       [  0.,   0.,  50., 153., 140.,  53.,  18.,   1.,   0.,   4., 158.,\n",
       "        105., 117., 136.,  22.,   1.,   0.,  19., 151.,  60.,  89., 171.,\n",
       "         17.,   0.,   0.,   1., 123., 148., 159., 167.,  12.,   0.,   0.,\n",
       "          0.,  25.,  45.,  48., 145.,  21.,   0.,   0.,   0.,   1.,   3.,\n",
       "         21., 111.,  53.,   0.,   0.,   1.,  64.,  40.,  53., 131.,  49.,\n",
       "          0.,   0.,   0.,  47., 154., 160., 100.,  17.,   0.]])"
      ]
     },
     "execution_count": 37,
     "metadata": {},
     "output_type": "execute_result"
    }
   ],
   "source": [
    "model.feature_count_"
   ]
  },
  {
   "cell_type": "code",
   "execution_count": 38,
   "metadata": {},
   "outputs": [],
   "source": [
    "tmp = model.feature_count_"
   ]
  },
  {
   "cell_type": "code",
   "execution_count": 40,
   "metadata": {},
   "outputs": [],
   "source": [
    "tmp = np.array([each.reshape(8,8) for each in tmp])"
   ]
  },
  {
   "cell_type": "code",
   "execution_count": 41,
   "metadata": {},
   "outputs": [
    {
     "data": {
      "text/plain": [
       "array([[[  0.,   0.,  22., 171., 144.,  12.,   0.,   0.],\n",
       "        [  0.,   2., 156., 158., 132., 139.,   1.,   0.],\n",
       "        [  0.,   6., 173.,  50.,  12., 156.,   6.,   0.],\n",
       "        [  0.,   8., 152.,  13.,   0.,  93.,  17.,   0.],\n",
       "        [  0.,  10., 139.,   4.,   0.,  84.,  32.,   0.],\n",
       "        [  0.,   0., 168.,   8.,   8., 138.,  37.,   0.],\n",
       "        [  0.,   0., 165., 111., 116., 163.,  12.,   0.],\n",
       "        [  0.,   0.,  12., 176., 166.,  36.,   0.,   0.]],\n",
       "\n",
       "       [[  0.,   0.,  13., 114., 137.,  62.,   1.,   0.],\n",
       "        [  0.,   0.,  30., 148., 160.,  91.,   6.,   0.],\n",
       "        [  0.,   7.,  77., 178., 162.,  80.,   1.,   0.],\n",
       "        [  0.,  16., 101., 168., 163.,  61.,   0.,   0.],\n",
       "        [  0.,   1.,  71., 132., 162.,  52.,   0.,   0.],\n",
       "        [  0.,   0.,  58., 118., 159.,  61.,   0.,   0.],\n",
       "        [  0.,   0.,  47., 128., 163.,  83.,  16.,   4.],\n",
       "        [  0.,   0.,   8., 113., 162.,  94.,  26.,  18.]],\n",
       "\n",
       "       [[  0.,   0., 112., 168., 104.,  19.,   0.,   0.],\n",
       "        [  0.,  39., 162., 149., 149.,  50.,   2.,   0.],\n",
       "        [  0.,  45.,  91.,  33., 132.,  56.,   2.,   0.],\n",
       "        [  0.,   4.,   9.,  40., 145.,  37.,   0.,   0.],\n",
       "        [  0.,   0.,   5., 102., 124.,  18.,   0.,   0.],\n",
       "        [  0.,   2.,  50., 135.,  74.,  12.,   3.,   0.],\n",
       "        [  0.,   5., 132., 170., 130., 110.,  66.,   1.],\n",
       "        [  0.,   0., 115., 164., 156., 136.,  83.,  14.]],\n",
       "\n",
       "       [[  0.,   0.,  91., 178., 178.,  84.,   3.,   0.],\n",
       "        [  0.,  24., 160.,  94., 135., 140.,  15.,   0.],\n",
       "        [  0.,  14.,  35.,  16., 151., 107.,   3.,   0.],\n",
       "        [  0.,   0.,   8., 103., 172.,  45.,   0.,   0.],\n",
       "        [  0.,   0.,   7.,  50., 145., 137.,   7.,   0.],\n",
       "        [  0.,   1.,   9.,   9.,  43., 152.,  59.,   0.],\n",
       "        [  0.,   3.,  66.,  48.,  85., 161.,  49.,   0.],\n",
       "        [  0.,   0., 105., 178., 172.,  98.,   8.,   0.]],\n",
       "\n",
       "       [[  0.,   0.,   2.,  72., 137.,   9.,   2.,   1.],\n",
       "        [  0.,   0.,  24., 163.,  90.,  13.,  10.,   2.],\n",
       "        [  0.,   2., 123., 137.,  47.,  53.,  36.,   0.],\n",
       "        [  0.,  19., 173.,  54.,  84., 123.,  69.,   0.],\n",
       "        [  0., 101., 175., 107., 155., 165.,  49.,   0.],\n",
       "        [  0.,  66., 129., 147., 172., 121.,   3.,   0.],\n",
       "        [  0.,   6.,  22.,  88., 163.,  41.,   0.,   0.],\n",
       "        [  0.,   0.,   2.,  89., 148.,  11.,   0.,   0.]],\n",
       "\n",
       "       [[  0.,   0., 117., 165., 168., 145.,  35.,   0.],\n",
       "        [  0.,  23., 177., 145.,  67.,  47.,  12.,   0.],\n",
       "        [  0.,  44., 179.,  52.,  10.,   3.,   0.,   0.],\n",
       "        [  0.,  39., 171., 148., 103.,  42.,   1.,   0.],\n",
       "        [  0.,   6.,  78.,  86.,  96.,  94.,   4.,   0.],\n",
       "        [  0.,   0.,   9.,  38.,  82.,  96.,  15.,   0.],\n",
       "        [  0.,   2.,  49.,  84., 127.,  85.,  10.,   0.],\n",
       "        [  0.,   2., 136., 179., 107.,  13.,   0.,   0.]],\n",
       "\n",
       "       [[  0.,   0.,   1., 143., 112.,   5.,   0.,   0.],\n",
       "        [  0.,   0.,  70., 178.,  65.,   3.,   0.,   0.],\n",
       "        [  0.,   0., 152., 105.,   1.,   0.,   0.,   0.],\n",
       "        [  0.,   1., 168.,  87.,  31.,  16.,   0.,   0.],\n",
       "        [  0.,   4., 176., 152., 139., 124.,  10.,   0.],\n",
       "        [  0.,   0., 178., 122.,  49., 115., 113.,   0.],\n",
       "        [  0.,   0., 134., 164.,  39., 139., 134.,   0.],\n",
       "        [  0.,   0.,   0., 141., 181., 166.,  34.,   0.]],\n",
       "\n",
       "       [[  0.,   0.,  35., 158., 164., 127.,  50.,   9.],\n",
       "        [  0.,   6., 124., 145., 134., 148.,  56.,   3.],\n",
       "        [  0.,   3.,  49.,  14.,  76., 131.,  26.,   0.],\n",
       "        [  0.,   1.,  33.,  60., 146., 147.,  48.,   0.],\n",
       "        [  0.,   6., 100., 158., 172., 132.,  28.,   0.],\n",
       "        [  0.,   5.,  50., 133., 127.,  34.,   0.,   0.],\n",
       "        [  0.,   0.,  21., 150.,  59.,   0.,   0.,   0.],\n",
       "        [  0.,   1.,  60., 142.,  10.,   0.,   0.,   0.]],\n",
       "\n",
       "       [[  0.,   0.,  38., 145., 145.,  60.,   0.,   0.],\n",
       "        [  0.,   6., 140., 136., 102., 143.,   8.,   0.],\n",
       "        [  0.,  13., 131.,  78.,  83., 140.,   4.,   0.],\n",
       "        [  0.,   0.,  93., 157., 153.,  74.,   0.,   0.],\n",
       "        [  0.,   0.,  64., 163., 151.,  39.,   0.,   0.],\n",
       "        [  0.,   0., 124.,  94., 104.,  96.,   1.,   0.],\n",
       "        [  0.,   0., 136.,  87.,  83., 108.,   8.,   0.],\n",
       "        [  0.,   0.,  38., 158., 153.,  66.,   9.,   0.]],\n",
       "\n",
       "       [[  0.,   0.,  50., 153., 140.,  53.,  18.,   1.],\n",
       "        [  0.,   4., 158., 105., 117., 136.,  22.,   1.],\n",
       "        [  0.,  19., 151.,  60.,  89., 171.,  17.,   0.],\n",
       "        [  0.,   1., 123., 148., 159., 167.,  12.,   0.],\n",
       "        [  0.,   0.,  25.,  45.,  48., 145.,  21.,   0.],\n",
       "        [  0.,   0.,   1.,   3.,  21., 111.,  53.,   0.],\n",
       "        [  0.,   1.,  64.,  40.,  53., 131.,  49.,   0.],\n",
       "        [  0.,   0.,  47., 154., 160., 100.,  17.,   0.]]])"
      ]
     },
     "execution_count": 41,
     "metadata": {},
     "output_type": "execute_result"
    }
   ],
   "source": [
    "tmp"
   ]
  },
  {
   "cell_type": "code",
   "execution_count": 90,
   "metadata": {},
   "outputs": [
    {
     "data": {
      "image/png": "[encoded data removed]",
      "text/plain": [
       "<matplotlib.figure.Figure at 0x28fe75da358>"
      ]
     },
     "metadata": {},
     "output_type": "display_data"
    }
   ],
   "source": [
    "plt.subplot(211)\n",
    "plt.imshow(tmp[0])\n",
    "plt.grid(False)\n",
    "\n",
    "plt.subplot(212)\n",
    "plt.imshow(digits.images[0])\n",
    "plt.grid(False)"
   ]
  },
  {
   "cell_type": "code",
   "execution_count": 80,
   "metadata": {},
   "outputs": [
    {
     "data": {
      "image/png": "[encoded data removed]",
      "text/plain": [
       "<matplotlib.figure.Figure at 0x28fe86ea160>"
      ]
     },
     "metadata": {},
     "output_type": "display_data"
    }
   ],
   "source": [
    "plt.imshow(tmp[1])\n",
    "plt.grid(False)"
   ]
  },
  {
   "cell_type": "code",
   "execution_count": 81,
   "metadata": {},
   "outputs": [
    {
     "data": {
      "image/png": "[encoded data removed]",
      "text/plain": [
       "<matplotlib.figure.Figure at 0x28fe8724ba8>"
      ]
     },
     "metadata": {},
     "output_type": "display_data"
    }
   ],
   "source": [
    "plt.imshow(digits.images[1])\n",
    "plt.grid(False)"
   ]
  },
  {
   "cell_type": "code",
   "execution_count": 45,
   "metadata": {},
   "outputs": [
    {
     "data": {
      "text/plain": [
       "<matplotlib.image.AxesImage at 0x28fe75a2128>"
      ]
     },
     "execution_count": 45,
     "metadata": {},
     "output_type": "execute_result"
    },
    {
     "data": {
      "image/png": "[encoded data removed]",
      "text/plain": [
       "<matplotlib.figure.Figure at 0x28fe7529198>"
      ]
     },
     "metadata": {},
     "output_type": "display_data"
    }
   ],
   "source": [
    "plt.imshow(tmp[2])"
   ]
  },
  {
   "cell_type": "code",
   "execution_count": null,
   "metadata": {},
   "outputs": [],
   "source": []
  }
 ],
 "metadata": {
  "kernelspec": {
   "display_name": "Python 3",
   "language": "python",
   "name": "python3"
  },
  "language_info": {
   "codemirror_mode": {
    "name": "ipython",
    "version": 3
   },
   "file_extension": ".py",
   "mimetype": "text/x-python",
   "name": "python",
   "nbconvert_exporter": "python",
   "pygments_lexer": "ipython3",
   "version": "3.6.4"
  }
 },
 "nbformat": 4,
 "nbformat_minor": 2
}
