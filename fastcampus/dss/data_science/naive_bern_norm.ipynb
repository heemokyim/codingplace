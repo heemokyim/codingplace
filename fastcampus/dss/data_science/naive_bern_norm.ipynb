{
 "cells": [
  {
   "cell_type": "code",
   "execution_count": 1,
   "metadata": {},
   "outputs": [],
   "source": [
    "from custom_ml import *"
   ]
  },
  {
   "cell_type": "code",
   "execution_count": 2,
   "metadata": {},
   "outputs": [],
   "source": [
    "from sklearn.datasets import load_digits\n",
    "digits = load_digits()"
   ]
  },
  {
   "cell_type": "code",
   "execution_count": 3,
   "metadata": {},
   "outputs": [
    {
     "data": {
      "text/plain": [
       "array([[  0.,   0.,   5.,  13.,   9.,   1.,   0.,   0.,   0.,   0.,  13.,\n",
       "         15.,  10.,  15.,   5.,   0.,   0.,   3.,  15.,   2.,   0.,  11.,\n",
       "          8.,   0.,   0.,   4.,  12.,   0.,   0.,   8.,   8.,   0.,   0.,\n",
       "          5.,   8.,   0.,   0.,   9.,   8.,   0.,   0.,   4.,  11.,   0.,\n",
       "          1.,  12.,   7.,   0.,   0.,   2.,  14.,   5.,  10.,  12.,   0.,\n",
       "          0.,   0.,   0.,   6.,  13.,  10.,   0.,   0.,   0.]])"
      ]
     },
     "execution_count": 3,
     "metadata": {},
     "output_type": "execute_result"
    }
   ],
   "source": [
    "digits.images[0].reshape(1,64)"
   ]
  },
  {
   "cell_type": "code",
   "execution_count": 4,
   "metadata": {},
   "outputs": [
    {
     "data": {
      "text/plain": [
       "1797"
      ]
     },
     "execution_count": 4,
     "metadata": {},
     "output_type": "execute_result"
    }
   ],
   "source": [
    "len(digits.images)"
   ]
  },
  {
   "cell_type": "code",
   "execution_count": 29,
   "metadata": {},
   "outputs": [],
   "source": [
    "reshaped =  np.array([each.reshape(1,64)[0] for each in digits.images])"
   ]
  },
  {
   "cell_type": "code",
   "execution_count": 30,
   "metadata": {},
   "outputs": [
    {
     "data": {
      "text/plain": [
       "array([[  0.,   0.,   5., ...,   0.,   0.,   0.],\n",
       "       [  0.,   0.,   0., ...,  10.,   0.,   0.],\n",
       "       [  0.,   0.,   0., ...,  16.,   9.,   0.],\n",
       "       ..., \n",
       "       [  0.,   0.,   1., ...,   6.,   0.,   0.],\n",
       "       [  0.,   0.,   2., ...,  12.,   0.,   0.],\n",
       "       [  0.,   0.,  10., ...,  12.,   1.,   0.]])"
      ]
     },
     "execution_count": 30,
     "metadata": {},
     "output_type": "execute_result"
    }
   ],
   "source": [
    "reshaped"
   ]
  },
  {
   "cell_type": "code",
   "execution_count": 7,
   "metadata": {},
   "outputs": [],
   "source": [
    "reshaped[reshaped<8] = 0\n",
    "reshaped[reshaped>=8] = 1"
   ]
  },
  {
   "cell_type": "code",
   "execution_count": 8,
   "metadata": {},
   "outputs": [
    {
     "data": {
      "text/plain": [
       "array([[ 0.,  0.,  0., ...,  0.,  0.,  0.],\n",
       "       [ 0.,  0.,  0., ...,  1.,  0.,  0.],\n",
       "       [ 0.,  0.,  0., ...,  1.,  1.,  0.],\n",
       "       ..., \n",
       "       [ 0.,  0.,  0., ...,  0.,  0.,  0.],\n",
       "       [ 0.,  0.,  0., ...,  1.,  0.,  0.],\n",
       "       [ 0.,  0.,  1., ...,  1.,  0.,  0.]])"
      ]
     },
     "execution_count": 8,
     "metadata": {},
     "output_type": "execute_result"
    }
   ],
   "source": [
    "reshaped"
   ]
  },
  {
   "cell_type": "code",
   "execution_count": 9,
   "metadata": {},
   "outputs": [],
   "source": [
    "X = reshaped\n",
    "y = digits.target"
   ]
  },
  {
   "cell_type": "code",
   "execution_count": 10,
   "metadata": {},
   "outputs": [],
   "source": [
    "cls, conf = cls_conf(X,y,BernoulliNB(),0.5)"
   ]
  },
  {
   "cell_type": "code",
   "execution_count": 11,
   "metadata": {},
   "outputs": [
    {
     "data": {
      "text/plain": [
       "array([[87,  0,  0,  0,  1,  0,  1,  0,  0,  0],\n",
       "       [ 0, 71,  7,  0,  0,  1,  1,  0,  4,  6],\n",
       "       [ 0,  4, 80,  4,  0,  0,  0,  2,  1,  1],\n",
       "       [ 0,  2,  1, 76,  0,  1,  0,  2,  3,  8],\n",
       "       [ 0,  3,  0,  0, 69,  0,  0,  3,  1,  0],\n",
       "       [ 0,  0,  1,  0,  2, 96,  1,  0,  0,  8],\n",
       "       [ 1,  2,  0,  0,  0,  0, 85,  0,  1,  0],\n",
       "       [ 0,  0,  0,  0,  1,  0,  0, 77,  0,  0],\n",
       "       [ 0,  8,  4,  0,  0,  2,  2,  0, 67,  9],\n",
       "       [ 0,  0,  1,  2,  0,  2,  0,  3,  1, 83]], dtype=int64)"
      ]
     },
     "execution_count": 11,
     "metadata": {},
     "output_type": "execute_result"
    }
   ],
   "source": [
    "cls"
   ]
  },
  {
   "cell_type": "code",
   "execution_count": 12,
   "metadata": {},
   "outputs": [
    {
     "name": "stdout",
     "output_type": "stream",
     "text": [
      "             precision    recall  f1-score   support\n",
      "\n",
      "          0       0.99      0.98      0.98        89\n",
      "          1       0.79      0.79      0.79        90\n",
      "          2       0.85      0.87      0.86        92\n",
      "          3       0.93      0.82      0.87        93\n",
      "          4       0.95      0.91      0.93        76\n",
      "          5       0.94      0.89      0.91       108\n",
      "          6       0.94      0.96      0.95        89\n",
      "          7       0.89      0.99      0.93        78\n",
      "          8       0.86      0.73      0.79        92\n",
      "          9       0.72      0.90      0.80        92\n",
      "\n",
      "avg / total       0.88      0.88      0.88       899\n",
      "\n"
     ]
    }
   ],
   "source": [
    "print(conf)"
   ]
  },
  {
   "cell_type": "code",
   "execution_count": 13,
   "metadata": {},
   "outputs": [],
   "source": [
    "reshaped =  np.array([each.reshape(1,64)[0] for each in digits.images])"
   ]
  },
  {
   "cell_type": "code",
   "execution_count": 14,
   "metadata": {},
   "outputs": [],
   "source": [
    "a, b = cls_conf(reshaped,y,BernoulliNB(binarize=7),0.5)"
   ]
  },
  {
   "cell_type": "code",
   "execution_count": 15,
   "metadata": {},
   "outputs": [
    {
     "data": {
      "text/plain": [
       "array([[87,  0,  0,  0,  1,  0,  1,  0,  0,  0],\n",
       "       [ 0, 71,  7,  0,  0,  1,  1,  0,  4,  6],\n",
       "       [ 0,  4, 80,  4,  0,  0,  0,  2,  1,  1],\n",
       "       [ 0,  2,  1, 76,  0,  1,  0,  2,  3,  8],\n",
       "       [ 0,  3,  0,  0, 69,  0,  0,  3,  1,  0],\n",
       "       [ 0,  0,  1,  0,  2, 96,  1,  0,  0,  8],\n",
       "       [ 1,  2,  0,  0,  0,  0, 85,  0,  1,  0],\n",
       "       [ 0,  0,  0,  0,  1,  0,  0, 77,  0,  0],\n",
       "       [ 0,  8,  4,  0,  0,  2,  2,  0, 67,  9],\n",
       "       [ 0,  0,  1,  2,  0,  2,  0,  3,  1, 83]], dtype=int64)"
      ]
     },
     "execution_count": 15,
     "metadata": {},
     "output_type": "execute_result"
    }
   ],
   "source": [
    "a"
   ]
  },
  {
   "cell_type": "code",
   "execution_count": 16,
   "metadata": {},
   "outputs": [
    {
     "name": "stdout",
     "output_type": "stream",
     "text": [
      "             precision    recall  f1-score   support\n",
      "\n",
      "          0       0.99      0.98      0.98        89\n",
      "          1       0.79      0.79      0.79        90\n",
      "          2       0.85      0.87      0.86        92\n",
      "          3       0.93      0.82      0.87        93\n",
      "          4       0.95      0.91      0.93        76\n",
      "          5       0.94      0.89      0.91       108\n",
      "          6       0.94      0.96      0.95        89\n",
      "          7       0.89      0.99      0.93        78\n",
      "          8       0.86      0.73      0.79        92\n",
      "          9       0.72      0.90      0.80        92\n",
      "\n",
      "avg / total       0.88      0.88      0.88       899\n",
      "\n"
     ]
    }
   ],
   "source": [
    "print(b)"
   ]
  },
  {
   "cell_type": "code",
   "execution_count": 17,
   "metadata": {},
   "outputs": [
    {
     "data": {
      "text/plain": [
       "array([[  0.,   0.,   5., ...,   0.,   0.,   0.],\n",
       "       [  0.,   0.,   0., ...,  10.,   0.,   0.],\n",
       "       [  0.,   0.,   0., ...,  16.,   9.,   0.],\n",
       "       ..., \n",
       "       [  0.,   0.,   1., ...,   6.,   0.,   0.],\n",
       "       [  0.,   0.,   2., ...,  12.,   0.,   0.],\n",
       "       [  0.,   0.,  10., ...,  12.,   1.,   0.]])"
      ]
     },
     "execution_count": 17,
     "metadata": {},
     "output_type": "execute_result"
    }
   ],
   "source": [
    "reshaped"
   ]
  },
  {
   "cell_type": "code",
   "execution_count": 18,
   "metadata": {},
   "outputs": [],
   "source": [
    "model = BernoulliNB(binarize=8).fit(reshaped,y)"
   ]
  },
  {
   "cell_type": "code",
   "execution_count": 19,
   "metadata": {},
   "outputs": [
    {
     "data": {
      "text/plain": [
       "{'alpha': 1.0, 'binarize': 8, 'class_prior': None, 'fit_prior': True}"
      ]
     },
     "execution_count": 19,
     "metadata": {},
     "output_type": "execute_result"
    }
   ],
   "source": [
    "model.get_params()"
   ]
  },
  {
   "cell_type": "code",
   "execution_count": 20,
   "metadata": {},
   "outputs": [
    {
     "data": {
      "text/plain": [
       "array([0, 1, 2, 3, 4, 5, 6, 7, 8, 9])"
      ]
     },
     "execution_count": 20,
     "metadata": {},
     "output_type": "execute_result"
    }
   ],
   "source": [
    "model.classes_"
   ]
  },
  {
   "cell_type": "code",
   "execution_count": 21,
   "metadata": {},
   "outputs": [
    {
     "data": {
      "text/plain": [
       "array([[   0.,    0.,   22.,  171.,  144.,   12.,    0.,    0.,    0.,\n",
       "           2.,  156.,  158.,  132.,  139.,    1.,    0.,    0.,    6.,\n",
       "         173.,   50.,   12.,  156.,    6.,    0.,    0.,    8.,  152.,\n",
       "          13.,    0.,   93.,   17.,    0.,    0.,   10.,  139.,    4.,\n",
       "           0.,   84.,   32.,    0.,    0.,    0.,  168.,    8.,    8.,\n",
       "         138.,   37.,    0.,    0.,    0.,  165.,  111.,  116.,  163.,\n",
       "          12.,    0.,    0.,    0.,   12.,  176.,  166.,   36.,    0.,\n",
       "           0.],\n",
       "       [   0.,    0.,   13.,  114.,  137.,   62.,    1.,    0.,    0.,\n",
       "           0.,   30.,  148.,  160.,   91.,    6.,    0.,    0.,    7.,\n",
       "          77.,  178.,  162.,   80.,    1.,    0.,    0.,   16.,  101.,\n",
       "         168.,  163.,   61.,    0.,    0.,    0.,    1.,   71.,  132.,\n",
       "         162.,   52.,    0.,    0.,    0.,    0.,   58.,  118.,  159.,\n",
       "          61.,    0.,    0.,    0.,    0.,   47.,  128.,  163.,   83.,\n",
       "          16.,    4.,    0.,    0.,    8.,  113.,  162.,   94.,   26.,\n",
       "          18.],\n",
       "       [   0.,    0.,  112.,  168.,  104.,   19.,    0.,    0.,    0.,\n",
       "          39.,  162.,  149.,  149.,   50.,    2.,    0.,    0.,   45.,\n",
       "          91.,   33.,  132.,   56.,    2.,    0.,    0.,    4.,    9.,\n",
       "          40.,  145.,   37.,    0.,    0.,    0.,    0.,    5.,  102.,\n",
       "         124.,   18.,    0.,    0.,    0.,    2.,   50.,  135.,   74.,\n",
       "          12.,    3.,    0.,    0.,    5.,  132.,  170.,  130.,  110.,\n",
       "          66.,    1.,    0.,    0.,  115.,  164.,  156.,  136.,   83.,\n",
       "          14.],\n",
       "       [   0.,    0.,   91.,  178.,  178.,   84.,    3.,    0.,    0.,\n",
       "          24.,  160.,   94.,  135.,  140.,   15.,    0.,    0.,   14.,\n",
       "          35.,   16.,  151.,  107.,    3.,    0.,    0.,    0.,    8.,\n",
       "         103.,  172.,   45.,    0.,    0.,    0.,    0.,    7.,   50.,\n",
       "         145.,  137.,    7.,    0.,    0.,    1.,    9.,    9.,   43.,\n",
       "         152.,   59.,    0.,    0.,    3.,   66.,   48.,   85.,  161.,\n",
       "          49.,    0.,    0.,    0.,  105.,  178.,  172.,   98.,    8.,\n",
       "           0.],\n",
       "       [   0.,    0.,    2.,   72.,  137.,    9.,    2.,    1.,    0.,\n",
       "           0.,   24.,  163.,   90.,   13.,   10.,    2.,    0.,    2.,\n",
       "         123.,  137.,   47.,   53.,   36.,    0.,    0.,   19.,  173.,\n",
       "          54.,   84.,  123.,   69.,    0.,    0.,  101.,  175.,  107.,\n",
       "         155.,  165.,   49.,    0.,    0.,   66.,  129.,  147.,  172.,\n",
       "         121.,    3.,    0.,    0.,    6.,   22.,   88.,  163.,   41.,\n",
       "           0.,    0.,    0.,    0.,    2.,   89.,  148.,   11.,    0.,\n",
       "           0.],\n",
       "       [   0.,    0.,  117.,  165.,  168.,  145.,   35.,    0.,    0.,\n",
       "          23.,  177.,  145.,   67.,   47.,   12.,    0.,    0.,   44.,\n",
       "         179.,   52.,   10.,    3.,    0.,    0.,    0.,   39.,  171.,\n",
       "         148.,  103.,   42.,    1.,    0.,    0.,    6.,   78.,   86.,\n",
       "          96.,   94.,    4.,    0.,    0.,    0.,    9.,   38.,   82.,\n",
       "          96.,   15.,    0.,    0.,    2.,   49.,   84.,  127.,   85.,\n",
       "          10.,    0.,    0.,    2.,  136.,  179.,  107.,   13.,    0.,\n",
       "           0.],\n",
       "       [   0.,    0.,    1.,  143.,  112.,    5.,    0.,    0.,    0.,\n",
       "           0.,   70.,  178.,   65.,    3.,    0.,    0.,    0.,    0.,\n",
       "         152.,  105.,    1.,    0.,    0.,    0.,    0.,    1.,  168.,\n",
       "          87.,   31.,   16.,    0.,    0.,    0.,    4.,  176.,  152.,\n",
       "         139.,  124.,   10.,    0.,    0.,    0.,  178.,  122.,   49.,\n",
       "         115.,  113.,    0.,    0.,    0.,  134.,  164.,   39.,  139.,\n",
       "         134.,    0.,    0.,    0.,    0.,  141.,  181.,  166.,   34.,\n",
       "           0.],\n",
       "       [   0.,    0.,   35.,  158.,  164.,  127.,   50.,    9.,    0.,\n",
       "           6.,  124.,  145.,  134.,  148.,   56.,    3.,    0.,    3.,\n",
       "          49.,   14.,   76.,  131.,   26.,    0.,    0.,    1.,   33.,\n",
       "          60.,  146.,  147.,   48.,    0.,    0.,    6.,  100.,  158.,\n",
       "         172.,  132.,   28.,    0.,    0.,    5.,   50.,  133.,  127.,\n",
       "          34.,    0.,    0.,    0.,    0.,   21.,  150.,   59.,    0.,\n",
       "           0.,    0.,    0.,    1.,   60.,  142.,   10.,    0.,    0.,\n",
       "           0.],\n",
       "       [   0.,    0.,   38.,  145.,  145.,   60.,    0.,    0.,    0.,\n",
       "           6.,  140.,  136.,  102.,  143.,    8.,    0.,    0.,   13.,\n",
       "         131.,   78.,   83.,  140.,    4.,    0.,    0.,    0.,   93.,\n",
       "         157.,  153.,   74.,    0.,    0.,    0.,    0.,   64.,  163.,\n",
       "         151.,   39.,    0.,    0.,    0.,    0.,  124.,   94.,  104.,\n",
       "          96.,    1.,    0.,    0.,    0.,  136.,   87.,   83.,  108.,\n",
       "           8.,    0.,    0.,    0.,   38.,  158.,  153.,   66.,    9.,\n",
       "           0.],\n",
       "       [   0.,    0.,   50.,  153.,  140.,   53.,   18.,    1.,    0.,\n",
       "           4.,  158.,  105.,  117.,  136.,   22.,    1.,    0.,   19.,\n",
       "         151.,   60.,   89.,  171.,   17.,    0.,    0.,    1.,  123.,\n",
       "         148.,  159.,  167.,   12.,    0.,    0.,    0.,   25.,   45.,\n",
       "          48.,  145.,   21.,    0.,    0.,    0.,    1.,    3.,   21.,\n",
       "         111.,   53.,    0.,    0.,    1.,   64.,   40.,   53.,  131.,\n",
       "          49.,    0.,    0.,    0.,   47.,  154.,  160.,  100.,   17.,\n",
       "           0.]])"
      ]
     },
     "execution_count": 21,
     "metadata": {},
     "output_type": "execute_result"
    }
   ],
   "source": [
    "model.feature_count_"
   ]
  },
  {
   "cell_type": "code",
   "execution_count": 22,
   "metadata": {},
   "outputs": [],
   "source": [
    "tmp = model.feature_count_"
   ]
  },
  {
   "cell_type": "code",
   "execution_count": 23,
   "metadata": {},
   "outputs": [],
   "source": [
    "tmp = np.array([each.reshape(8,8) for each in tmp])"
   ]
  },
  {
   "cell_type": "code",
   "execution_count": 24,
   "metadata": {},
   "outputs": [
    {
     "data": {
      "text/plain": [
       "array([[[   0.,    0.,   22.,  171.,  144.,   12.,    0.,    0.],\n",
       "        [   0.,    2.,  156.,  158.,  132.,  139.,    1.,    0.],\n",
       "        [   0.,    6.,  173.,   50.,   12.,  156.,    6.,    0.],\n",
       "        [   0.,    8.,  152.,   13.,    0.,   93.,   17.,    0.],\n",
       "        [   0.,   10.,  139.,    4.,    0.,   84.,   32.,    0.],\n",
       "        [   0.,    0.,  168.,    8.,    8.,  138.,   37.,    0.],\n",
       "        [   0.,    0.,  165.,  111.,  116.,  163.,   12.,    0.],\n",
       "        [   0.,    0.,   12.,  176.,  166.,   36.,    0.,    0.]],\n",
       "\n",
       "       [[   0.,    0.,   13.,  114.,  137.,   62.,    1.,    0.],\n",
       "        [   0.,    0.,   30.,  148.,  160.,   91.,    6.,    0.],\n",
       "        [   0.,    7.,   77.,  178.,  162.,   80.,    1.,    0.],\n",
       "        [   0.,   16.,  101.,  168.,  163.,   61.,    0.,    0.],\n",
       "        [   0.,    1.,   71.,  132.,  162.,   52.,    0.,    0.],\n",
       "        [   0.,    0.,   58.,  118.,  159.,   61.,    0.,    0.],\n",
       "        [   0.,    0.,   47.,  128.,  163.,   83.,   16.,    4.],\n",
       "        [   0.,    0.,    8.,  113.,  162.,   94.,   26.,   18.]],\n",
       "\n",
       "       [[   0.,    0.,  112.,  168.,  104.,   19.,    0.,    0.],\n",
       "        [   0.,   39.,  162.,  149.,  149.,   50.,    2.,    0.],\n",
       "        [   0.,   45.,   91.,   33.,  132.,   56.,    2.,    0.],\n",
       "        [   0.,    4.,    9.,   40.,  145.,   37.,    0.,    0.],\n",
       "        [   0.,    0.,    5.,  102.,  124.,   18.,    0.,    0.],\n",
       "        [   0.,    2.,   50.,  135.,   74.,   12.,    3.,    0.],\n",
       "        [   0.,    5.,  132.,  170.,  130.,  110.,   66.,    1.],\n",
       "        [   0.,    0.,  115.,  164.,  156.,  136.,   83.,   14.]],\n",
       "\n",
       "       [[   0.,    0.,   91.,  178.,  178.,   84.,    3.,    0.],\n",
       "        [   0.,   24.,  160.,   94.,  135.,  140.,   15.,    0.],\n",
       "        [   0.,   14.,   35.,   16.,  151.,  107.,    3.,    0.],\n",
       "        [   0.,    0.,    8.,  103.,  172.,   45.,    0.,    0.],\n",
       "        [   0.,    0.,    7.,   50.,  145.,  137.,    7.,    0.],\n",
       "        [   0.,    1.,    9.,    9.,   43.,  152.,   59.,    0.],\n",
       "        [   0.,    3.,   66.,   48.,   85.,  161.,   49.,    0.],\n",
       "        [   0.,    0.,  105.,  178.,  172.,   98.,    8.,    0.]],\n",
       "\n",
       "       [[   0.,    0.,    2.,   72.,  137.,    9.,    2.,    1.],\n",
       "        [   0.,    0.,   24.,  163.,   90.,   13.,   10.,    2.],\n",
       "        [   0.,    2.,  123.,  137.,   47.,   53.,   36.,    0.],\n",
       "        [   0.,   19.,  173.,   54.,   84.,  123.,   69.,    0.],\n",
       "        [   0.,  101.,  175.,  107.,  155.,  165.,   49.,    0.],\n",
       "        [   0.,   66.,  129.,  147.,  172.,  121.,    3.,    0.],\n",
       "        [   0.,    6.,   22.,   88.,  163.,   41.,    0.,    0.],\n",
       "        [   0.,    0.,    2.,   89.,  148.,   11.,    0.,    0.]],\n",
       "\n",
       "       [[   0.,    0.,  117.,  165.,  168.,  145.,   35.,    0.],\n",
       "        [   0.,   23.,  177.,  145.,   67.,   47.,   12.,    0.],\n",
       "        [   0.,   44.,  179.,   52.,   10.,    3.,    0.,    0.],\n",
       "        [   0.,   39.,  171.,  148.,  103.,   42.,    1.,    0.],\n",
       "        [   0.,    6.,   78.,   86.,   96.,   94.,    4.,    0.],\n",
       "        [   0.,    0.,    9.,   38.,   82.,   96.,   15.,    0.],\n",
       "        [   0.,    2.,   49.,   84.,  127.,   85.,   10.,    0.],\n",
       "        [   0.,    2.,  136.,  179.,  107.,   13.,    0.,    0.]],\n",
       "\n",
       "       [[   0.,    0.,    1.,  143.,  112.,    5.,    0.,    0.],\n",
       "        [   0.,    0.,   70.,  178.,   65.,    3.,    0.,    0.],\n",
       "        [   0.,    0.,  152.,  105.,    1.,    0.,    0.,    0.],\n",
       "        [   0.,    1.,  168.,   87.,   31.,   16.,    0.,    0.],\n",
       "        [   0.,    4.,  176.,  152.,  139.,  124.,   10.,    0.],\n",
       "        [   0.,    0.,  178.,  122.,   49.,  115.,  113.,    0.],\n",
       "        [   0.,    0.,  134.,  164.,   39.,  139.,  134.,    0.],\n",
       "        [   0.,    0.,    0.,  141.,  181.,  166.,   34.,    0.]],\n",
       "\n",
       "       [[   0.,    0.,   35.,  158.,  164.,  127.,   50.,    9.],\n",
       "        [   0.,    6.,  124.,  145.,  134.,  148.,   56.,    3.],\n",
       "        [   0.,    3.,   49.,   14.,   76.,  131.,   26.,    0.],\n",
       "        [   0.,    1.,   33.,   60.,  146.,  147.,   48.,    0.],\n",
       "        [   0.,    6.,  100.,  158.,  172.,  132.,   28.,    0.],\n",
       "        [   0.,    5.,   50.,  133.,  127.,   34.,    0.,    0.],\n",
       "        [   0.,    0.,   21.,  150.,   59.,    0.,    0.,    0.],\n",
       "        [   0.,    1.,   60.,  142.,   10.,    0.,    0.,    0.]],\n",
       "\n",
       "       [[   0.,    0.,   38.,  145.,  145.,   60.,    0.,    0.],\n",
       "        [   0.,    6.,  140.,  136.,  102.,  143.,    8.,    0.],\n",
       "        [   0.,   13.,  131.,   78.,   83.,  140.,    4.,    0.],\n",
       "        [   0.,    0.,   93.,  157.,  153.,   74.,    0.,    0.],\n",
       "        [   0.,    0.,   64.,  163.,  151.,   39.,    0.,    0.],\n",
       "        [   0.,    0.,  124.,   94.,  104.,   96.,    1.,    0.],\n",
       "        [   0.,    0.,  136.,   87.,   83.,  108.,    8.,    0.],\n",
       "        [   0.,    0.,   38.,  158.,  153.,   66.,    9.,    0.]],\n",
       "\n",
       "       [[   0.,    0.,   50.,  153.,  140.,   53.,   18.,    1.],\n",
       "        [   0.,    4.,  158.,  105.,  117.,  136.,   22.,    1.],\n",
       "        [   0.,   19.,  151.,   60.,   89.,  171.,   17.,    0.],\n",
       "        [   0.,    1.,  123.,  148.,  159.,  167.,   12.,    0.],\n",
       "        [   0.,    0.,   25.,   45.,   48.,  145.,   21.,    0.],\n",
       "        [   0.,    0.,    1.,    3.,   21.,  111.,   53.,    0.],\n",
       "        [   0.,    1.,   64.,   40.,   53.,  131.,   49.,    0.],\n",
       "        [   0.,    0.,   47.,  154.,  160.,  100.,   17.,    0.]]])"
      ]
     },
     "execution_count": 24,
     "metadata": {},
     "output_type": "execute_result"
    }
   ],
   "source": [
    "tmp"
   ]
  },
  {
   "cell_type": "code",
   "execution_count": 25,
   "metadata": {},
   "outputs": [
    {
     "data": {
      "image/png": "[encoded data removed]",
      "text/plain": [
       "<matplotlib.figure.Figure at 0x27f098388d0>"
      ]
     },
     "metadata": {},
     "output_type": "display_data"
    }
   ],
   "source": [
    "plt.subplot(211)\n",
    "plt.imshow(tmp[0])\n",
    "plt.grid(False)\n",
    "\n",
    "plt.subplot(212)\n",
    "plt.imshow(digits.images[0])\n",
    "plt.grid(False)"
   ]
  },
  {
   "cell_type": "code",
   "execution_count": 26,
   "metadata": {},
   "outputs": [
    {
     "data": {
      "image/png": "[encoded data removed]",
      "text/plain": [
       "<matplotlib.figure.Figure at 0x27f09742400>"
      ]
     },
     "metadata": {},
     "output_type": "display_data"
    }
   ],
   "source": [
    "plt.imshow(tmp[1])\n",
    "plt.grid(False)"
   ]
  },
  {
   "cell_type": "code",
   "execution_count": 27,
   "metadata": {},
   "outputs": [
    {
     "data": {
      "image/png": "[encoded data removed]",
      "text/plain": [
       "<matplotlib.figure.Figure at 0x27f095ad438>"
      ]
     },
     "metadata": {},
     "output_type": "display_data"
    }
   ],
   "source": [
    "plt.imshow(digits.images[1])\n",
    "plt.grid(False)"
   ]
  },
  {
   "cell_type": "code",
   "execution_count": 28,
   "metadata": {},
   "outputs": [
    {
     "data": {
      "text/plain": [
       "<matplotlib.image.AxesImage at 0x27f096f1b70>"
      ]
     },
     "execution_count": 28,
     "metadata": {},
     "output_type": "execute_result"
    },
    {
     "data": {
      "image/png": "[encoded data removed]",
      "text/plain": [
       "<matplotlib.figure.Figure at 0x27f0969c4e0>"
      ]
     },
     "metadata": {},
     "output_type": "display_data"
    }
   ],
   "source": [
    "plt.imshow(tmp[2])"
   ]
  },
  {
   "cell_type": "code",
   "execution_count": 32,
   "metadata": {},
   "outputs": [],
   "source": [
    "a,b = cls_conf(reshaped, y, MultinomialNB())"
   ]
  },
  {
   "cell_type": "code",
   "execution_count": 33,
   "metadata": {},
   "outputs": [
    {
     "data": {
      "text/plain": [
       "array([[88,  0,  0,  0,  1,  0,  0,  0,  0,  0],\n",
       "       [ 0, 63, 12,  0,  0,  1,  2,  0,  2, 10],\n",
       "       [ 1,  2, 84,  0,  0,  0,  0,  0,  4,  1],\n",
       "       [ 0,  0,  1, 77,  0,  0,  0,  2,  5,  8],\n",
       "       [ 0,  0,  0,  0, 72,  0,  0,  3,  1,  0],\n",
       "       [ 0,  0,  0,  0,  1, 91,  1,  1,  0, 14],\n",
       "       [ 0,  1,  0,  0,  1,  1, 86,  0,  0,  0],\n",
       "       [ 0,  0,  0,  0,  0,  0,  0, 78,  0,  0],\n",
       "       [ 0,  6,  0,  0,  0,  0,  1,  1, 80,  4],\n",
       "       [ 0,  0,  0,  0,  0,  1,  0,  4,  3, 84]], dtype=int64)"
      ]
     },
     "execution_count": 33,
     "metadata": {},
     "output_type": "execute_result"
    }
   ],
   "source": [
    "a"
   ]
  },
  {
   "cell_type": "code",
   "execution_count": 34,
   "metadata": {},
   "outputs": [
    {
     "name": "stdout",
     "output_type": "stream",
     "text": [
      "             precision    recall  f1-score   support\n",
      "\n",
      "          0       0.99      0.99      0.99        89\n",
      "          1       0.88      0.70      0.78        90\n",
      "          2       0.87      0.91      0.89        92\n",
      "          3       1.00      0.83      0.91        93\n",
      "          4       0.96      0.95      0.95        76\n",
      "          5       0.97      0.84      0.90       108\n",
      "          6       0.96      0.97      0.96        89\n",
      "          7       0.88      1.00      0.93        78\n",
      "          8       0.84      0.87      0.86        92\n",
      "          9       0.69      0.91      0.79        92\n",
      "\n",
      "avg / total       0.90      0.89      0.89       899\n",
      "\n"
     ]
    }
   ],
   "source": [
    "print(b)"
   ]
  },
  {
   "cell_type": "code",
   "execution_count": 35,
   "metadata": {},
   "outputs": [
    {
     "data": {
      "image/png": "[encoded data removed]",
      "text/plain": [
       "<matplotlib.figure.Figure at 0x27f0b4d5ac8>"
      ]
     },
     "metadata": {},
     "output_type": "display_data"
    }
   ],
   "source": [
    "multi_roc(reshaped,y, MultinomialNB())"
   ]
  },
  {
   "cell_type": "code",
   "execution_count": 36,
   "metadata": {},
   "outputs": [
    {
     "name": "stderr",
     "output_type": "stream",
     "text": [
      "Downloading 20news dataset. This may take a few minutes.\n",
      "Downloading dataset from https://ndownloader.figshare.com/files/5975967 (14 MB)\n"
     ]
    }
   ],
   "source": [
    "from sklearn.datasets import fetch_20newsgroups\n",
    "\n",
    "news = fetch_20newsgroups(subset=\"all\")\n",
    "X = news.data\n",
    "y = news.target\n",
    "\n",
    "from sklearn.feature_extraction.text import TfidfVectorizer, HashingVectorizer, CountVectorizer\n",
    "from sklearn.naive_bayes import MultinomialNB\n",
    "from sklearn.pipeline import Pipeline\n",
    "\n",
    "model1 = Pipeline([\n",
    "            ('vect', CountVectorizer()), \n",
    "            ('clf', MultinomialNB()),\n",
    "         ])\n",
    "model2 = Pipeline([\n",
    "            ('vect', TfidfVectorizer()),\n",
    "            ('clf', MultinomialNB()),\n",
    "         ])\n",
    "model3 = Pipeline([\n",
    "            ('vect', TfidfVectorizer(stop_words=\"english\")),\n",
    "            ('clf', MultinomialNB()),\n",
    "         ])\n",
    "model4 = Pipeline([\n",
    "            ('vect', TfidfVectorizer(stop_words=\"english\", \n",
    "                                     token_pattern=r\"\\b[a-z0-9_\\-\\.]+[a-z][a-z0-9_\\-\\.]+\\b\")),\n",
    "            ('clf', MultinomialNB()),\n",
    "         ])"
   ]
  },
  {
   "cell_type": "code",
   "execution_count": 38,
   "metadata": {},
   "outputs": [
    {
     "data": {
      "text/plain": [
       "-1.9219280948873623"
      ]
     },
     "execution_count": 38,
     "metadata": {},
     "output_type": "execute_result"
    }
   ],
   "source": [
    "0.4*np.log2(0.4) + 0.2*np.log2(0.2)*3"
   ]
  },
  {
   "cell_type": "code",
   "execution_count": 39,
   "metadata": {},
   "outputs": [
    {
     "data": {
      "text/plain": [
       "-0.46899559358928122"
      ]
     },
     "execution_count": 39,
     "metadata": {},
     "output_type": "execute_result"
    }
   ],
   "source": [
    "0.9*np.log2(0.9) + 0.1*np.log2(0.1)"
   ]
  },
  {
   "cell_type": "code",
   "execution_count": 40,
   "metadata": {},
   "outputs": [
    {
     "data": {
      "text/plain": [
       "-2.09375"
      ]
     },
     "execution_count": 40,
     "metadata": {},
     "output_type": "execute_result"
    }
   ],
   "source": [
    "1/2*np.log2(1/2) + 1/4*np.log2(1/4) + 1/8*np.log2(1/8) + 1/16*np.log2(1/16) + 5/64*np.log2(1/64)"
   ]
  },
  {
   "cell_type": "markdown",
   "metadata": {},
   "source": [
    "# 원래는 길이가 3000\n",
    "# 가변길이 인코딩하면 길이가 2093"
   ]
  },
  {
   "cell_type": "code",
   "execution_count": 93,
   "metadata": {},
   "outputs": [],
   "source": [
    "from sklearn.datasets import load_iris\n",
    "from sklearn.tree import DecisionTreeClassifier\n",
    "\n",
    "iris = load_iris()\n",
    "X = iris.data[:,[2,3]]\n",
    "y = iris.target\n",
    "\n",
    "model = DecisionTreeClassifier(criterion='entropy', max_depth=5)"
   ]
  },
  {
   "cell_type": "code",
   "execution_count": 94,
   "metadata": {},
   "outputs": [],
   "source": [
    "a,b = cls_conf(X,y,model)"
   ]
  },
  {
   "cell_type": "code",
   "execution_count": 95,
   "metadata": {},
   "outputs": [
    {
     "data": {
      "text/plain": [
       "array([[21,  0,  0],\n",
       "       [ 0, 29,  1],\n",
       "       [ 0,  6, 18]], dtype=int64)"
      ]
     },
     "execution_count": 95,
     "metadata": {},
     "output_type": "execute_result"
    }
   ],
   "source": [
    "a"
   ]
  },
  {
   "cell_type": "code",
   "execution_count": 96,
   "metadata": {},
   "outputs": [
    {
     "name": "stdout",
     "output_type": "stream",
     "text": [
      "             precision    recall  f1-score   support\n",
      "\n",
      "          0       1.00      1.00      1.00        21\n",
      "          1       0.83      0.97      0.89        30\n",
      "          2       0.95      0.75      0.84        24\n",
      "\n",
      "avg / total       0.91      0.91      0.90        75\n",
      "\n"
     ]
    }
   ],
   "source": [
    "print(b)"
   ]
  },
  {
   "cell_type": "code",
   "execution_count": 98,
   "metadata": {},
   "outputs": [
    {
     "data": {
      "text/plain": [
       "0.92666666666666653"
      ]
     },
     "execution_count": 98,
     "metadata": {},
     "output_type": "execute_result"
    }
   ],
   "source": [
    "from sklearn.model_selection import cross_val_score\n",
    "from sklearn.model_selection import KFold\n",
    "\n",
    "cv = KFold(5)\n",
    "cross_val_score(model,X,y,cv=cv).sum()/5"
   ]
  },
  {
   "cell_type": "code",
   "execution_count": 126,
   "metadata": {},
   "outputs": [
    {
     "data": {
      "text/plain": [
       "0.55333333333333334"
      ]
     },
     "execution_count": 126,
     "metadata": {},
     "output_type": "execute_result"
    }
   ],
   "source": [
    "from sklearn.datasets import load_iris\n",
    "from sklearn.tree import DecisionTreeClassifier\n",
    "\n",
    "iris = load_iris()\n",
    "X = iris.data[:,[0,1]]\n",
    "y = iris.target\n",
    "\n",
    "model = DecisionTreeClassifier(criterion='entropy', max_depth=10)\n",
    "a,b = cls_conf(X,y,model)\n",
    "\n",
    "from sklearn.model_selection import cross_val_score\n",
    "from sklearn.model_selection import KFold\n",
    "\n",
    "cv = KFold(5)\n",
    "cross_val_score(model,X,y,cv=cv).sum()/5"
   ]
  },
  {
   "cell_type": "code",
   "execution_count": 106,
   "metadata": {},
   "outputs": [
    {
     "data": {
      "text/plain": [
       "0.90666666666666662"
      ]
     },
     "execution_count": 106,
     "metadata": {},
     "output_type": "execute_result"
    }
   ],
   "source": [
    "from sklearn.datasets import load_iris\n",
    "from sklearn.tree import DecisionTreeClassifier\n",
    "\n",
    "iris = load_iris()\n",
    "X = iris.data\n",
    "y = iris.target\n",
    "\n",
    "model = DecisionTreeClassifier(criterion='entropy', max_depth=5)\n",
    "a,b = cls_conf(X,y,model)\n",
    "\n",
    "from sklearn.model_selection import cross_val_score\n",
    "from sklearn.model_selection import KFold\n",
    "\n",
    "cv = KFold(5)\n",
    "cross_val_score(model,X,y,cv=cv).sum()/5"
   ]
  },
  {
   "cell_type": "code",
   "execution_count": 118,
   "metadata": {},
   "outputs": [
    {
     "data": {
      "text/plain": [
       "0.80801918910554016"
      ]
     },
     "execution_count": 118,
     "metadata": {},
     "output_type": "execute_result"
    }
   ],
   "source": [
    "from sklearn.datasets import load_digits\n",
    "digits = load_digits()\n",
    "reshaped =  np.array([each.reshape(1,64)[0] for each in digits.images])\n",
    "X = reshaped\n",
    "y = digits.target\n",
    "\n",
    "model = DecisionTreeClassifier(criterion='entropy', max_depth=10)\n",
    "\n",
    "from sklearn.model_selection import cross_val_score\n",
    "from sklearn.model_selection import KFold\n",
    "\n",
    "cv = KFold(5)\n",
    "cross_val_score(model,X,y,cv=cv).sum()/5"
   ]
  },
  {
   "cell_type": "markdown",
   "metadata": {},
   "source": [
    "# 1. max_depth에 따라 평균성능측정\n",
    "# 2. selected feature에 따라 평균성능측정"
   ]
  },
  {
   "cell_type": "code",
   "execution_count": 120,
   "metadata": {},
   "outputs": [],
   "source": [
    "import io\n",
    "import pydot\n",
    "from IPython.core.display import Image \n",
    "from sklearn.tree import export_graphviz\n",
    "\n",
    "def draw_decision_tree(model):\n",
    "    dot_buf = io.StringIO() \n",
    "    export_graphviz(model, out_file=dot_buf, feature_names=iris.feature_names[2:])\n",
    "    graph = pydot.graph_from_dot_data(dot_buf.getvalue())[0] \n",
    "    image = graph.create_png()\n",
    "    return Image(image)\n",
    "\n",
    "\n",
    "def plot_decision_regions(X, y, model, title):\n",
    "    resolution = 0.01\n",
    "    markers = ('s', '^', 'o')\n",
    "    colors = ('red', 'blue', 'lightgreen')\n",
    "    cmap = mpl.colors.ListedColormap(colors[:len(np.unique(y))])\n",
    "    \n",
    "    x1_min, x1_max = X[:, 0].min() - 1, X[:, 0].max() + 1\n",
    "    x2_min, x2_max = X[:, 1].min() - 1, X[:, 1].max() + 1\n",
    "    xx1, xx2 = np.meshgrid(np.arange(x1_min, x1_max, resolution), np.arange(x2_min, x2_max, resolution))\n",
    "    Z = model.predict(np.array([xx1.ravel(), xx2.ravel()]).T).reshape(xx1.shape)\n",
    "    \n",
    "    plt.contourf(xx1, xx2, Z, alpha=0.4, cmap=cmap)\n",
    "    plt.xlim(xx1.min(), xx1.max())\n",
    "    plt.ylim(xx2.min(), xx2.max())\n",
    "\n",
    "    for idx, cl in enumerate(np.unique(y)):\n",
    "        plt.scatter(x=X[y == cl, 0], y=X[y == cl, 1], alpha=0.8, c=cmap(idx), marker=markers[idx], s=80, label=cl)\n",
    "\n",
    "    plt.xlabel(iris.feature_names[2])\n",
    "    plt.ylabel(iris.feature_names[3])\n",
    "    plt.legend(loc='upper left')\n",
    "    plt.title(title)\n",
    "    \n",
    "    return Z"
   ]
  },
  {
   "cell_type": "code",
   "execution_count": 121,
   "metadata": {},
   "outputs": [],
   "source": [
    "model = DecisionTreeClassifier(criterion='entropy', max_depth=10).fit(X,y)"
   ]
  },
  {
   "cell_type": "code",
   "execution_count": 128,
   "metadata": {},
   "outputs": [
    {
     "data": {
      "text/html": [
       "<div>\n",
       "<style>\n",
       "    .dataframe thead tr:only-child th {\n",
       "        text-align: right;\n",
       "    }\n",
       "\n",
       "    .dataframe thead th {\n",
       "        text-align: left;\n",
       "    }\n",
       "\n",
       "    .dataframe tbody tr th {\n",
       "        vertical-align: top;\n",
       "    }\n",
       "</style>\n",
       "<table border=\"1\" class=\"dataframe\">\n",
       "  <thead>\n",
       "    <tr style=\"text-align: right;\">\n",
       "      <th></th>\n",
       "      <th>pclass</th>\n",
       "      <th>age</th>\n",
       "      <th>sex</th>\n",
       "    </tr>\n",
       "  </thead>\n",
       "  <tbody>\n",
       "    <tr>\n",
       "      <th>886</th>\n",
       "      <td>2</td>\n",
       "      <td>27.0</td>\n",
       "      <td>male</td>\n",
       "    </tr>\n",
       "    <tr>\n",
       "      <th>887</th>\n",
       "      <td>1</td>\n",
       "      <td>19.0</td>\n",
       "      <td>female</td>\n",
       "    </tr>\n",
       "    <tr>\n",
       "      <th>888</th>\n",
       "      <td>3</td>\n",
       "      <td>NaN</td>\n",
       "      <td>female</td>\n",
       "    </tr>\n",
       "    <tr>\n",
       "      <th>889</th>\n",
       "      <td>1</td>\n",
       "      <td>26.0</td>\n",
       "      <td>male</td>\n",
       "    </tr>\n",
       "    <tr>\n",
       "      <th>890</th>\n",
       "      <td>3</td>\n",
       "      <td>32.0</td>\n",
       "      <td>male</td>\n",
       "    </tr>\n",
       "  </tbody>\n",
       "</table>\n",
       "</div>"
      ],
      "text/plain": [
       "     pclass   age     sex\n",
       "886       2  27.0    male\n",
       "887       1  19.0  female\n",
       "888       3   NaN  female\n",
       "889       1  26.0    male\n",
       "890       3  32.0    male"
      ]
     },
     "execution_count": 128,
     "metadata": {},
     "output_type": "execute_result"
    }
   ],
   "source": [
    "df = sns.load_dataset(\"titanic\")\n",
    "feature_names = [\"pclass\", \"age\", \"sex\"]\n",
    "dfX = df[feature_names].copy()\n",
    "dfy = df[\"survived\"].copy()\n",
    "dfX.tail()"
   ]
  },
  {
   "cell_type": "code",
   "execution_count": 129,
   "metadata": {},
   "outputs": [
    {
     "data": {
      "text/html": [
       "<div>\n",
       "<style>\n",
       "    .dataframe thead tr:only-child th {\n",
       "        text-align: right;\n",
       "    }\n",
       "\n",
       "    .dataframe thead th {\n",
       "        text-align: left;\n",
       "    }\n",
       "\n",
       "    .dataframe tbody tr th {\n",
       "        vertical-align: top;\n",
       "    }\n",
       "</style>\n",
       "<table border=\"1\" class=\"dataframe\">\n",
       "  <thead>\n",
       "    <tr style=\"text-align: right;\">\n",
       "      <th></th>\n",
       "      <th>pclass</th>\n",
       "      <th>age</th>\n",
       "      <th>sex</th>\n",
       "    </tr>\n",
       "  </thead>\n",
       "  <tbody>\n",
       "    <tr>\n",
       "      <th>886</th>\n",
       "      <td>2</td>\n",
       "      <td>27.0</td>\n",
       "      <td>1</td>\n",
       "    </tr>\n",
       "    <tr>\n",
       "      <th>887</th>\n",
       "      <td>1</td>\n",
       "      <td>19.0</td>\n",
       "      <td>0</td>\n",
       "    </tr>\n",
       "    <tr>\n",
       "      <th>888</th>\n",
       "      <td>3</td>\n",
       "      <td>NaN</td>\n",
       "      <td>0</td>\n",
       "    </tr>\n",
       "    <tr>\n",
       "      <th>889</th>\n",
       "      <td>1</td>\n",
       "      <td>26.0</td>\n",
       "      <td>1</td>\n",
       "    </tr>\n",
       "    <tr>\n",
       "      <th>890</th>\n",
       "      <td>3</td>\n",
       "      <td>32.0</td>\n",
       "      <td>1</td>\n",
       "    </tr>\n",
       "  </tbody>\n",
       "</table>\n",
       "</div>"
      ],
      "text/plain": [
       "     pclass   age  sex\n",
       "886       2  27.0    1\n",
       "887       1  19.0    0\n",
       "888       3   NaN    0\n",
       "889       1  26.0    1\n",
       "890       3  32.0    1"
      ]
     },
     "execution_count": 129,
     "metadata": {},
     "output_type": "execute_result"
    }
   ],
   "source": [
    "from sklearn.preprocessing import LabelEncoder\n",
    "dfX[\"sex\"] = LabelEncoder().fit_transform(dfX[\"sex\"])\n",
    "dfX.tail()"
   ]
  },
  {
   "cell_type": "code",
   "execution_count": null,
   "metadata": {},
   "outputs": [],
   "source": []
  }
 ],
 "metadata": {
  "kernelspec": {
   "display_name": "Python 3",
   "language": "python",
   "name": "python3"
  },
  "language_info": {
   "codemirror_mode": {
    "name": "ipython",
    "version": 3
   },
   "file_extension": ".py",
   "mimetype": "text/x-python",
   "name": "python",
   "nbconvert_exporter": "python",
   "pygments_lexer": "ipython3",
   "version": "3.6.3"
  }
 },
 "nbformat": 4,
 "nbformat_minor": 2
}
