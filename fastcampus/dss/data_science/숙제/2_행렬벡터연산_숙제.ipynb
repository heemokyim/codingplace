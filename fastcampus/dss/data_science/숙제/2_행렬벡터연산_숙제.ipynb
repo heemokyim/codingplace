{
 "cells": [
  {
   "cell_type": "code",
   "execution_count": 1,
   "metadata": {},
   "outputs": [],
   "source": [
    "from ml_config import *\n",
    "# 필요한 라이브러리를 담은 파일"
   ]
  },
  {
   "cell_type": "code",
   "execution_count": 2,
   "metadata": {},
   "outputs": [],
   "source": [
    "# 연습문제 2\n",
    "from sklearn.datasets import load_digits\n",
    "\n",
    "digits = load_digits()\n",
    "\n",
    "origin_imgs = digits.images\n",
    "shaped_imgs = [each.reshape(64, 1) for each in origin_imgs]\n",
    "\n",
    "# 2-1\n",
    "X = np.array([\n",
    "    (each.T)[0] for each in shaped_imgs\n",
    "])\n",
    "# X = 1797 * 64 행렬\n",
    "# 행은 각 이미지, 열은 해당 이미지를 나타내는 64픽셀\n",
    "\n",
    "\n",
    "# 2-2\n",
    "# 이미지들의 모든 카티전 프로덕트의 내적으로 유사도를 구함"
   ]
  },
  {
   "cell_type": "code",
   "execution_count": 3,
   "metadata": {},
   "outputs": [
    {
     "data": {
      "image/png": "[encoded data removed]",
      "text/plain": [
       "<matplotlib.figure.Figure at 0x187f240fe10>"
      ]
     },
     "metadata": {},
     "output_type": "display_data"
    },
    {
     "data": {
      "image/png": "[encoded data removed]",
      "text/plain": [
       "<matplotlib.figure.Figure at 0x187f242d080>"
      ]
     },
     "metadata": {},
     "output_type": "display_data"
    },
    {
     "data": {
      "image/png": "[encoded data removed]",
      "text/plain": [
       "<matplotlib.figure.Figure at 0x187eb1c62b0>"
      ]
     },
     "metadata": {},
     "output_type": "display_data"
    }
   ],
   "source": [
    "# 연습문제 4\n",
    "# 4-1\n",
    "smr_result = np.dot(X, X.T)\n",
    "# smr_result = 1797 * 1797 행렬\n",
    "# 행렬의 [x,y]원소는 x이미지, y이미지의 유사도값\n",
    "\n",
    "\n",
    "# 이미지의 직관성을 위해 x, y축으로 범위를 축소하고 흑백으로 바꿈\n",
    "# 진하면 스칼라 값, 여기선 유사도가 높은 것을 뜻함\n",
    "plt.matshow(smr_result, interpolation='nearest', cmap='Greys')\n",
    "plt.xlim(0, 10)\n",
    "plt.ylim(0, 10)\n",
    "plt.show()\n",
    "\n",
    "\n",
    "# 여기서 첫번째 이미지와 다른 이미지들과의 유사도 벡터를 추출함\n",
    "# 그림의 x 축의 값들이 나머지 이미지들의 인덱스임\n",
    "smr_0 = smr_result[0].reshape(1797, 1)\n",
    "f, ax = plt.subplots(1, 1, figsize=(10, 1))\n",
    "ax.imshow(smr_0.T, interpolation='nearest', cmap='Greys')\n",
    "ax.grid(False)\n",
    "plt.xlim(20, 30)\n",
    "plt.ylim(0, 1)\n",
    "plt.show()\n",
    "# x 축 범위를 20에서 30으로 축소했더니\n",
    "# x가 20과 30일 때 유사도가 높은 걸 확인할 수 있음\n",
    "# 이 말은 첫번째 이미지와 인덱스가 20, 30인 이미지들이 닮았단 걸 의미한다\n",
    "\n",
    "# 한번 첫번째 이미지와 인덱스가 20인 이미지를 비교해보자\n",
    "d0 = digits.images[0]\n",
    "d20 = digits.images[20]\n",
    "f, ax = plt.subplots(1, 2)\n",
    "ax[0].imshow(d0, interpolation='nearest', cmap='Greys')\n",
    "ax[0].grid(False)\n",
    "ax[1].imshow(d20, interpolation='nearest', cmap='Greys')\n",
    "ax[1].grid(False)\n",
    "plt.show()\n",
    "# 높은 유사도 값이 증명해주듯 둘은 같은 숫자다"
   ]
  },
  {
   "cell_type": "markdown",
   "metadata": {},
   "source": [
    "### 느낀 점\n",
    "1. 유사도 행렬에서 대각원소들, 자기 자신과의 유사도를 구한 값들은 가장 클 줄 알았는데 그렇지 않았음. 하지만 대체로 큰 경향을 보임\n",
    "    > 1. 아래의 [0,0]과 [0,20]의 값 확인\n",
    "    > 2. 자기 자신과의 유사도보다 다른 이미지와의 유사도가 더 큰 경우 존재\n",
    "2. 자기자신과의 유사도 값을 기준으로 삼은 후 다른 이미지 짝들의 유사도가 이것보다 크다면 두 이미지는 같은 카테고리로 분류해도 괜찮을듯 (threshold)"
   ]
  },
  {
   "cell_type": "code",
   "execution_count": 9,
   "metadata": {},
   "outputs": [
    {
     "name": "stdout",
     "output_type": "stream",
     "text": [
      "3070.0\n",
      "3290.0\n"
     ]
    }
   ],
   "source": [
    "print(smr_result[0][0])\n",
    "print(smr_result[0][20])"
   ]
  },
  {
   "cell_type": "code",
   "execution_count": null,
   "metadata": {},
   "outputs": [],
   "source": []
  }
 ],
 "metadata": {
  "anaconda-cloud": {},
  "kernelspec": {
   "display_name": "Python 3",
   "language": "python",
   "name": "python3"
  },
  "language_info": {
   "codemirror_mode": {
    "name": "ipython",
    "version": 3
   },
   "file_extension": ".py",
   "mimetype": "text/x-python",
   "name": "python",
   "nbconvert_exporter": "python",
   "pygments_lexer": "ipython3",
   "version": "3.6.3"
  }
 },
 "nbformat": 4,
 "nbformat_minor": 2
}
