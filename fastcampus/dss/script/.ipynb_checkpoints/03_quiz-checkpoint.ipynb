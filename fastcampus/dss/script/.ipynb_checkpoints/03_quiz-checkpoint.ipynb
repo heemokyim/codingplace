{
 "cells": [
  {
   "cell_type": "markdown",
   "metadata": {},
   "source": [
    "# Quiz"
   ]
  },
  {
   "cell_type": "markdown",
   "metadata": {},
   "source": [
    "##### 1. 5명의 이름을 입력 받아 kim인 성을 가진 사람의 수를 출력\n",
    "- [성(공백)이름] 형태로만 입력(ex : park doojin)"
   ]
  },
  {
   "cell_type": "code",
   "execution_count": 14,
   "metadata": {},
   "outputs": [
    {
     "name": "stdout",
     "output_type": "stream",
     "text": [
      "insert name : kim sung\n",
      "insert name : KIm lee\n",
      "insert name : gpgp\n",
      "insert name : qpqp\n",
      "insert name : qpqp\n",
      "2\n"
     ]
    }
   ],
   "source": [
    "names = [input(\"insert name : \") for _ in range(0, 5)]\n",
    "\n",
    "names = [each.lower() for each in names]\n",
    "\n",
    "count = sum([1 if 'kim' == each.split()[0] else 0 for each in names])\n",
    "\n",
    "print(count)"
   ]
  },
  {
   "cell_type": "markdown",
   "metadata": {},
   "source": [
    "##### 2. 2단에서 9단까지 구구단을 출력하는 프로그램을 작성"
   ]
  },
  {
   "cell_type": "markdown",
   "metadata": {},
   "source": [
    "- 가로로 출력"
   ]
  },
  {
   "cell_type": "code",
   "execution_count": 5,
   "metadata": {},
   "outputs": [
    {
     "name": "stdout",
     "output_type": "stream",
     "text": [
      "2 * 1 = 2\n",
      "2 * 2 = 4\n",
      "2 * 3 = 6\n",
      "2 * 4 = 8\n",
      "2 * 5 = 10\n",
      "2 * 6 = 12\n",
      "2 * 7 = 14\n",
      "2 * 8 = 16\n",
      "2 * 9 = 18\n",
      "\n",
      "3 * 1 = 3\n",
      "3 * 2 = 6\n",
      "3 * 3 = 9\n",
      "3 * 4 = 12\n",
      "3 * 5 = 15\n",
      "3 * 6 = 18\n",
      "3 * 7 = 21\n",
      "3 * 8 = 24\n",
      "3 * 9 = 27\n",
      "\n",
      "4 * 1 = 4\n",
      "4 * 2 = 8\n",
      "4 * 3 = 12\n",
      "4 * 4 = 16\n",
      "4 * 5 = 20\n",
      "4 * 6 = 24\n",
      "4 * 7 = 28\n",
      "4 * 8 = 32\n",
      "4 * 9 = 36\n",
      "\n",
      "5 * 1 = 5\n",
      "5 * 2 = 10\n",
      "5 * 3 = 15\n",
      "5 * 4 = 20\n",
      "5 * 5 = 25\n",
      "5 * 6 = 30\n",
      "5 * 7 = 35\n",
      "5 * 8 = 40\n",
      "5 * 9 = 45\n",
      "\n",
      "6 * 1 = 6\n",
      "6 * 2 = 12\n",
      "6 * 3 = 18\n",
      "6 * 4 = 24\n",
      "6 * 5 = 30\n",
      "6 * 6 = 36\n",
      "6 * 7 = 42\n",
      "6 * 8 = 48\n",
      "6 * 9 = 54\n",
      "\n",
      "7 * 1 = 7\n",
      "7 * 2 = 14\n",
      "7 * 3 = 21\n",
      "7 * 4 = 28\n",
      "7 * 5 = 35\n",
      "7 * 6 = 42\n",
      "7 * 7 = 49\n",
      "7 * 8 = 56\n",
      "7 * 9 = 63\n",
      "\n",
      "8 * 1 = 8\n",
      "8 * 2 = 16\n",
      "8 * 3 = 24\n",
      "8 * 4 = 32\n",
      "8 * 5 = 40\n",
      "8 * 6 = 48\n",
      "8 * 7 = 56\n",
      "8 * 8 = 64\n",
      "8 * 9 = 72\n",
      "\n",
      "9 * 1 = 9\n",
      "9 * 2 = 18\n",
      "9 * 3 = 27\n",
      "9 * 4 = 36\n",
      "9 * 5 = 45\n",
      "9 * 6 = 54\n",
      "9 * 7 = 63\n",
      "9 * 8 = 72\n",
      "9 * 9 = 81\n",
      "\n"
     ]
    }
   ],
   "source": [
    "for first in range(2, 10):\n",
    "    for second in range(1, 10):\n",
    "        print(\"{} * {} = {}\".format(first, second, first * second))\n",
    "    print()"
   ]
  },
  {
   "cell_type": "markdown",
   "metadata": {},
   "source": [
    "- 세로로 출력"
   ]
  },
  {
   "cell_type": "code",
   "execution_count": 11,
   "metadata": {},
   "outputs": [
    {
     "name": "stdout",
     "output_type": "stream",
     "text": [
      "2*1=2 \t3*1=3 \t4*1=4 \t5*1=5 \t6*1=6 \t7*1=7 \t8*1=8 \t9*1=9 \t\n",
      "2*2=4 \t3*2=6 \t4*2=8 \t5*2=10 \t6*2=12 \t7*2=14 \t8*2=16 \t9*2=18 \t\n",
      "2*3=6 \t3*3=9 \t4*3=12 \t5*3=15 \t6*3=18 \t7*3=21 \t8*3=24 \t9*3=27 \t\n",
      "2*4=8 \t3*4=12 \t4*4=16 \t5*4=20 \t6*4=24 \t7*4=28 \t8*4=32 \t9*4=36 \t\n",
      "2*5=10 \t3*5=15 \t4*5=20 \t5*5=25 \t6*5=30 \t7*5=35 \t8*5=40 \t9*5=45 \t\n",
      "2*6=12 \t3*6=18 \t4*6=24 \t5*6=30 \t6*6=36 \t7*6=42 \t8*6=48 \t9*6=54 \t\n",
      "2*7=14 \t3*7=21 \t4*7=28 \t5*7=35 \t6*7=42 \t7*7=49 \t8*7=56 \t9*7=63 \t\n",
      "2*8=16 \t3*8=24 \t4*8=32 \t5*8=40 \t6*8=48 \t7*8=56 \t8*8=64 \t9*8=72 \t\n",
      "2*9=18 \t3*9=27 \t4*9=36 \t5*9=45 \t6*9=54 \t7*9=63 \t8*9=72 \t9*9=81 \t\n"
     ]
    }
   ],
   "source": [
    "for first in range(1, 10):\n",
    "    for second in range(2, 10):\n",
    "        print(\"{}*{}={} \".format(second, first, first * second), end=\"\\t\")\n",
    "    print()"
   ]
  },
  {
   "cell_type": "markdown",
   "metadata": {},
   "source": [
    "- 입력 받은 단수의 구구단을 출력"
   ]
  },
  {
   "cell_type": "code",
   "execution_count": 13,
   "metadata": {},
   "outputs": [
    {
     "name": "stdout",
     "output_type": "stream",
     "text": [
      "단수를 입력하세요.7\n",
      "7 * 1 = 7\n",
      "7 * 2 = 14\n",
      "7 * 3 = 21\n",
      "7 * 4 = 28\n",
      "7 * 5 = 35\n",
      "7 * 6 = 42\n",
      "7 * 7 = 49\n",
      "7 * 8 = 56\n",
      "7 * 9 = 63\n"
     ]
    }
   ],
   "source": [
    "first = int(input(\"단수를 입력하세요.\"))\n",
    "\n",
    "for second in range(1, 10):\n",
    "    print(\"{} * {} = {}\".format(first, second, first * second))"
   ]
  },
  {
   "cell_type": "markdown",
   "metadata": {},
   "source": [
    "##### 4. up down으로 숫자 맞추기 게임\n",
    "- 랜덤으로 숫자(1~100)를 발생시킴\n",
    "- 숫자를 입력받아 랜덤숫자가 입력받은 숫자보다 크면 Up을 출력, 작으면 Down을 출력\n",
    "- 랜덤 숫자를 맞추면 몇번만에 맞췄는지 카운트를 알려줌\n",
    "- 랜덤수 발생 방법\n",
    "```\n",
    "import random\n",
    "random_number = random.randint(1,100)\n",
    "```"
   ]
  },
  {
   "cell_type": "code",
   "execution_count": 18,
   "metadata": {},
   "outputs": [
    {
     "name": "stdout",
     "output_type": "stream",
     "text": [
      "23\n",
      "insert number : 10\n",
      "Up\n",
      "insert number : 20\n",
      "Up\n",
      "insert number : 30\n",
      "Down\n",
      "insert number : 25\n",
      "Down\n",
      "insert number : 23\n",
      "4\n"
     ]
    }
   ],
   "source": [
    "import random\n",
    "answer = random.randint(1, 100)\n",
    "\n",
    "count = 1\n",
    "\n",
    "print(answer)\n",
    "\n",
    "while True:\n",
    "    guess = int(input(\"insert number : \"))\n",
    "\n",
    "    if answer == guess:\n",
    "        break\n",
    "\n",
    "    elif answer > guess:\n",
    "        print('Up')\n",
    "\n",
    "    elif answer < guess:\n",
    "        print('Down')\n",
    "\n",
    "    count += 1\n",
    "\n",
    "print(count)"
   ]
  },
  {
   "cell_type": "markdown",
   "metadata": {},
   "source": [
    "##### 5. 로또번호 출력\n",
    "\n",
    "- 1~45의 6자리의 로또번호를 출력"
   ]
  },
  {
   "cell_type": "code",
   "execution_count": 34,
   "metadata": {},
   "outputs": [
    {
     "name": "stdout",
     "output_type": "stream",
     "text": [
      "54.8 µs ± 427 ns per loop (mean ± std. dev. of 7 runs, 10000 loops each)\n"
     ]
    }
   ],
   "source": [
    "% % timeit\n",
    "import random\n",
    "\n",
    "lottos = []\n",
    "\n",
    "for _ in range(0, 6):\n",
    "    lottos.append(random.randint(1, 45))\n",
    "lottos.sort()"
   ]
  },
  {
   "cell_type": "code",
   "execution_count": 35,
   "metadata": {},
   "outputs": [
    {
     "name": "stdout",
     "output_type": "stream",
     "text": [
      "55.6 µs ± 72.5 ns per loop (mean ± std. dev. of 7 runs, 10000 loops each)\n"
     ]
    }
   ],
   "source": [
    "%%timeit\n",
    "import random\n",
    "\n",
    "lottos = [random.randint(1,45) for _ in range(0,6)]\n",
    "\n",
    "lottos.sort()"
   ]
  },
  {
   "cell_type": "markdown",
   "metadata": {},
   "source": [
    "##### 6. FizzBuzz\n",
    "- 1에서 1씩 숫자를 입력받은 숫자까지 증가시키며 3의 배수에서는 Fizz 5의 배수에서는 Buzz 가 출력되도록 프로그램을 작성\n",
    "- 3과 5의 배수에서는 FizzBuzz가 출력"
   ]
  },
  {
   "cell_type": "code",
   "execution_count": 1,
   "metadata": {
    "scrolled": false
   },
   "outputs": [
    {
     "name": "stdout",
     "output_type": "stream",
     "text": [
      "insert number : 10\n",
      "1\n",
      "2\n",
      "Fizz\n",
      "4\n",
      "Buzz\n",
      "Fizz\n",
      "7\n",
      "8\n",
      "Fizz\n",
      "Buzz\n"
     ]
    }
   ],
   "source": [
    "upper = input(\"insert number : \")\n",
    "\n",
    "for each in range(1, int(upper) + 1):\n",
    "    if each % 15 == 0:\n",
    "        print(\"FizzBuzz\")\n",
    "    elif each % 3 == 0:\n",
    "        print(\"Fizz\")\n",
    "    elif each % 5 == 0:\n",
    "        print(\"Buzz\")\n",
    "    else:\n",
    "        print(each)"
   ]
  },
  {
   "cell_type": "markdown",
   "metadata": {},
   "source": [
    "##### 7. 별찍기 "
   ]
  },
  {
   "cell_type": "markdown",
   "metadata": {},
   "source": [
    "- 숫자를 입력 받아 아래와 같이 별찍기 1"
   ]
  },
  {
   "cell_type": "code",
   "execution_count": 38,
   "metadata": {},
   "outputs": [
    {
     "name": "stdout",
     "output_type": "stream",
     "text": [
      "insert number : 10\n",
      "*\n",
      "**\n",
      "***\n",
      "****\n",
      "*****\n",
      "******\n",
      "*******\n",
      "********\n",
      "*********\n",
      "**********\n"
     ]
    }
   ],
   "source": [
    "tmp = int(input('insert number : '))\n",
    "\n",
    "for each in range(1, tmp + 1):\n",
    "    print(\"*\" * each)"
   ]
  },
  {
   "cell_type": "markdown",
   "metadata": {},
   "source": [
    "- 숫자를 입력받아 아래와 같이 별찍기 2"
   ]
  },
  {
   "cell_type": "code",
   "execution_count": 1,
   "metadata": {},
   "outputs": [
    {
     "name": "stdout",
     "output_type": "stream",
     "text": [
      "insert number : 3\n",
      "  *\n",
      "  **\n",
      " ***\n"
     ]
    }
   ],
   "source": [
    "tmp = int(input('insert number : '))\n",
    "\n",
    "for each in range(tmp, 0, -1):\n",
    "    print(' ' * (each // 2 + 1) + \"*\" * ((tmp + 1) - each))"
   ]
  },
  {
   "cell_type": "markdown",
   "metadata": {},
   "source": [
    "- 홀수를 입력 받아 아래와 같이 별을 찍으세요 3"
   ]
  },
  {
   "cell_type": "code",
   "execution_count": 48,
   "metadata": {},
   "outputs": [
    {
     "name": "stdout",
     "output_type": "stream",
     "text": [
      "insert number : 7\n",
      "    *\n",
      "   ***\n",
      "  *****\n",
      " *******\n"
     ]
    }
   ],
   "source": [
    "tmp = int(input('insert number : '))\n",
    "\n",
    "for each in range(tmp, 0, -2):\n",
    "    print(' ' * (each // 2 + 1) + \"*\" * ((tmp + 1) - each))"
   ]
  },
  {
   "cell_type": "markdown",
   "metadata": {},
   "source": [
    "- 홀수를 입력 받아 아래와 같이 별을 찍으세요 4"
   ]
  },
  {
   "cell_type": "code",
   "execution_count": 49,
   "metadata": {},
   "outputs": [
    {
     "name": "stdout",
     "output_type": "stream",
     "text": [
      "insert number : 7\n",
      " *******\n",
      "  *****\n",
      "   ***\n",
      "    *\n"
     ]
    }
   ],
   "source": [
    "tmp = int(input('insert number : '))\n",
    "\n",
    "for each in range(1, tmp + 1, 2):\n",
    "    print(' ' * (each // 2 + 1) + \"*\" * ((tmp + 1) - each))"
   ]
  },
  {
   "cell_type": "markdown",
   "metadata": {},
   "source": [
    "- 홀수의 숫자를 입력받아 다이아몬드 형태의 별을 찍음 5"
   ]
  },
  {
   "cell_type": "code",
   "execution_count": 50,
   "metadata": {},
   "outputs": [
    {
     "name": "stdout",
     "output_type": "stream",
     "text": [
      "insert number : 7\n",
      "    *\n",
      "   ***\n",
      "  *****\n",
      " *******\n",
      " *******\n",
      "  *****\n",
      "   ***\n",
      "    *\n"
     ]
    }
   ],
   "source": [
    "tmp = int(input('insert number : '))\n",
    "\n",
    "for each in range(tmp, 0, -2):\n",
    "    print(' ' * (each // 2 + 1) + \"*\" * ((tmp + 1) - each))\n",
    "\n",
    "for each in range(1, tmp + 1, 2):\n",
    "    print(' ' * (each // 2 + 1) + \"*\" * ((tmp + 1) - each))"
   ]
  },
  {
   "cell_type": "markdown",
   "metadata": {},
   "source": [
    "##### 8. 보어 구하기\n",
    "- complement (보어)를 구하시오\n",
    "- 50의 이진수는 110010\n",
    "- 이진수 110010의 보어는 001101 (0을 1로바꾸고 1을 0으로 바꿈)\n",
    "- 입력된 숫자의 보어를 10진수로 나타내시오\n",
    "\n",
    "결과 예시\n",
    "- 50 -> 13\n",
    "- 100 -> 27\n",
    "\n",
    "힌트\n",
    "- 10진수를 2진수로 변환 : bin(n)\n",
    "- 2진수를 10진수로 변환 : int(n,2)"
   ]
  },
  {
   "cell_type": "code",
   "execution_count": 23,
   "metadata": {},
   "outputs": [
    {
     "name": "stdout",
     "output_type": "stream",
     "text": [
      "insert number : 50\n",
      "13\n"
     ]
    }
   ],
   "source": [
    "tmp = int(input('insert number : '))\n",
    "\n",
    "string = \"\"\n",
    "\n",
    "for val in bin(tmp)[2:]:\n",
    "    if val == '1':\n",
    "        string += \"0\"\n",
    "    else:\n",
    "        string += \"1\"\n",
    "\n",
    "string = \"0b\" + string\n",
    "\n",
    "print(int(string, 2))"
   ]
  },
  {
   "cell_type": "code",
   "execution_count": 32,
   "metadata": {},
   "outputs": [
    {
     "name": "stdout",
     "output_type": "stream",
     "text": [
      "insert number : 100\n",
      "27\n"
     ]
    }
   ],
   "source": [
    "tmp = int(input('insert number : '))\n",
    "\n",
    "dummy = (bin(tmp) + \".\")[:-1]\n",
    "dummy = dummy[:2] + dummy[2:].replace('0', '1')\n",
    "xor_dummy = int(dummy, 2)\n",
    "\n",
    "result = tmp ^ xor_dummy\n",
    "\n",
    "print(result)"
   ]
  },
  {
   "cell_type": "markdown",
   "metadata": {},
   "source": [
    "##### 9. Bit Manipulation: Lonely Integer\n",
    "- https://www.hackerrank.com/challenges/ctci-lonely-integer/problem\n",
    "- 리스트에 하나만 있는 데이터 찾아내서 출력하기\n",
    "- ls 리스트에 있는 데이터의 카운트를 세서 딕셔너리 형태로 바꿔줌\n",
    "```\n",
    "from collections import Counter \n",
    "d = dict(Counter(ls))\n",
    "```\n",
    "- [1,1,2,2,3] (입력) -> 3 (결과)\n",
    "- [1,1,2,2] (입력) -> None (결과)"
   ]
  },
  {
   "cell_type": "code",
   "execution_count": 79,
   "metadata": {},
   "outputs": [
    {
     "name": "stdout",
     "output_type": "stream",
     "text": [
      "3\n",
      "5\n"
     ]
    }
   ],
   "source": [
    "from collections import Counter \n",
    "\n",
    "ls = [1,1,2,5,2,2,3]\n",
    "d = dict(Counter(ls))\n",
    "\n",
    "for key,val in d.items():\n",
    "    if val==1:\n",
    "        print(key) \n",
    "\n",
    "# items 사용"
   ]
  },
  {
   "cell_type": "markdown",
   "metadata": {},
   "source": [
    "##### 10. Recursion: Fibonacci Numbers\n",
    "- https://www.hackerrank.com/challenges/ctci-fibonacci-numbers/problem\n",
    "- 피보나치 수열 초기값 a=0, b=1 에서 a는 b값이 되고 b는 a+b가 되는 a를 나열한 수열"
   ]
  },
  {
   "cell_type": "code",
   "execution_count": 84,
   "metadata": {},
   "outputs": [
    {
     "name": "stdout",
     "output_type": "stream",
     "text": [
      "6.99 µs ± 25.1 ns per loop (mean ± std. dev. of 7 runs, 100000 loops each)\n"
     ]
    }
   ],
   "source": [
    "% % timeit\n",
    "\n",
    "# n 번째 피보나치 수열의 숫자\n",
    "n = 10\n",
    "a, b = 0, 1\n",
    "# TODO\n",
    "\n",
    "fibo = [a, b]\n",
    "\n",
    "for n in range(2, n):\n",
    "    fibo.append(fibo[n - 1] + fibo[n - 2])"
   ]
  },
  {
   "cell_type": "code",
   "execution_count": null,
   "metadata": {},
   "outputs": [],
   "source": [
    "# n 까지 피보나치 수열의 숫자들\n",
    "n = 1000\n",
    "a, b = 0, 1\n",
    "# TODO\n",
    "\n",
    "fibo = [a, b]\n",
    "\n",
    "\n",
    "for n in range(2, n):\n",
    "    fibo.append(fibo[n - 1] + fibo[n - 2])\n",
    "\n",
    "print(fibo)"
   ]
  },
  {
   "cell_type": "markdown",
   "metadata": {},
   "source": [
    "## 피보나치킨\n",
    "http://fibonachicken.herokuapp.com/"
   ]
  },
  {
   "cell_type": "code",
   "execution_count": 22,
   "metadata": {},
   "outputs": [
    {
     "name": "stdout",
     "output_type": "stream",
     "text": [
      "first  2\n",
      "1 1 2 1\n",
      "first  2\n",
      "2 1 [1, 4] 0\n",
      "first  [1, 4]\n",
      "3 1 1 4\n",
      "first  1\n",
      "4 2 4 4\n",
      "first  4\n",
      "5 3 4 3\n",
      "first  4\n",
      "6 3 4 2\n",
      "first  4\n",
      "7 4 4 1\n",
      "first  4\n",
      "8 4 [1, 2] 0\n",
      "first  [1, 2]\n",
      "9 4 1 2\n",
      "first  1\n",
      "10 5 2 2\n",
      "first  2\n",
      "11 6 2 1\n",
      "first  2\n",
      "12 6 [1, 4] 0\n",
      "first  [1, 4]\n",
      "13 6 1 4\n",
      "first  1\n",
      "14 7 4 4\n",
      "first  4\n",
      "15 8 4 3\n",
      "first  4\n",
      "16 8 4 2\n",
      "first  4\n",
      "17 9 4 1\n",
      "first  4\n",
      "18 9 [1, 2] 0\n",
      "first  [1, 2]\n",
      "19 9 1 2\n",
      "first  1\n",
      "20 10 2 2\n",
      "first  2\n",
      "21 11 2 1\n",
      "first  2\n",
      "22 11 [1, 4] 0\n",
      "first  [1, 4]\n",
      "23 11 1 4\n",
      "first  1\n",
      "24 12 4 4\n",
      "first  4\n",
      "25 13 4 3\n",
      "first  4\n",
      "26 13 4 2\n",
      "13\n"
     ]
    }
   ],
   "source": [
    "# how_many = int(input('몇명이나 먹을건가요? '))\n",
    "\n",
    "current = 1\n",
    "flag = tmp = 2\n",
    "flag1 = False\n",
    "\n",
    "for each in range(1, 26 + 1):\n",
    "    if flag == 2:\n",
    "        if flag1 == True:\n",
    "            current += 1\n",
    "            flag1 = False\n",
    "\n",
    "        tmp -= 1\n",
    "\n",
    "        if tmp == 0:\n",
    "            flag = [1, 4]\n",
    "\n",
    "    elif flag == 4:\n",
    "        if flag1 == True:\n",
    "            current += 1\n",
    "            flag1 = False\n",
    "\n",
    "        tmp -= 1\n",
    "\n",
    "        if tmp == 1:\n",
    "            current += 1\n",
    "\n",
    "        elif tmp == 0:\n",
    "            flag = [1, 2]\n",
    "\n",
    "    elif flag[0] == 1:\n",
    "        current += 1\n",
    "\n",
    "        flag1 = True\n",
    "\n",
    "        if flag[1] == 4:\n",
    "            flag = tmp = 4\n",
    "        elif flag[1] == 2:\n",
    "            flag = tmp = 2\n",
    "\n",
    "print(current)"
   ]
  },
  {
   "cell_type": "code",
   "execution_count": null,
   "metadata": {},
   "outputs": [],
   "source": [
    "# a = b = 4"
   ]
  },
  {
   "cell_type": "markdown",
   "metadata": {},
   "source": [
    "##### print(a,b)"
   ]
  },
  {
   "cell_type": "markdown",
   "metadata": {},
   "source": [
    "##### String Transformation\n",
    "\n",
    "문자열에서 문자를 한칸씩 이동하면서 해당 문자열이 앞에서 나온 수만큼 뒤로 이동한다. (z + 1 => a) 로 순환해야 한다.\n",
    "문자열은 소문자만 사용한다.\n",
    "\n",
    "결과 예시\n",
    "- s = xyzxyzxyz (입력)\n",
    "- s[0] 은 x이다 s[0] 앞에 x 문자가 0개 나왔으므로 x + 0 => x를 출력\n",
    "- s[1] 은 y이다 s[1] 앞에 y 문자가 0개 나왔으므로 y + 0 => y를 출력\n",
    "- s[2] 은 z이다 s[2] 앞에 z 문자가 0개 나왔으므로 z + 0 => z를 출력\n",
    "- s[3] 은 x이다 s[3] 앞에 x 문자가 1개 나왔으므로 x + 1 => y를 출력\n",
    "- s[4] 은 x이다 s[4] 앞에 y 문자가 1개 나왔으므로 y + 1 => z를 출력\n",
    "- s[5] 은 y이다 s[5] 앞에 z 문자가 1개 나왔으므로 z + 1 => a를 출력\n",
    "- s[6] 은 z이다 s[6] 앞에 x 문자가 2개 나왔으므로 x + 2 => z를 출력\n",
    "- s[7] 은 x이다 s[7] 앞에 y 문자가 2개 나왔으므로 y + 2 => a를 출력\n",
    "- s[8] 은 x이다 s[8] 앞에 z 문자가 2개 나왔으므로 z + 2 => b를 출력\n",
    "- xyzyzazab (출력)\n",
    "\n",
    "힌트\n",
    "- 문자를 숫자로 변환 : ord('a')\n",
    "- 숫자를 문자로 변환 : chr(97)\n",
    "- a ~ z는 숫자로 변환하면 97 ~ 122 이다\n",
    "\n",
    "성능\n",
    "- 10000개의 문자열을 transfomation 하는데 500ms 이하의 속도가 되어야 한다."
   ]
  },
  {
   "cell_type": "code",
   "execution_count": 22,
   "metadata": {},
   "outputs": [
    {
     "name": "stdout",
     "output_type": "stream",
     "text": [
      "CPU times: user 10 µs, sys: 0 ns, total: 10 µs\n",
      "Wall time: 19.1 µs\n"
     ]
    }
   ],
   "source": [
    "# %%timeit\n",
    "%time\n",
    "# 1. 문자열의 각 문자를 원소로 가지는 리스트 생성\n",
    "# 2. 각 문자를 a=0, z=25인 숫자로 변환\n",
    "# 3  앞에 동일한 문자가 몇 번 나왔는지 세는 딕셔너리를 만듦\n",
    "#    key = 인덱스, value = 현재 인덱스 앞에 동일한 숫자가 나온 횟수\n",
    "# 4. 리스트의 각 원소를 딕셔너리의 value와 더함\n",
    "# 5. 더해진 원소 % 26\n",
    "# 6. 원소를 문자로 변환\n",
    "# 7. 이 리스트를 문자열로 변환\n",
    "\n",
    "s = 'xzxcv' * 2000\n",
    "# s = \"xyzxyzxyz\"\n",
    "# s = s.lower()\n",
    "\n",
    "# a = 97\n",
    "# z = 122\n",
    "\n",
    "ls_s = list(s)\n",
    "dic = {}\n",
    "\n",
    "for idx, val in enumerate(ls_s):\n",
    "    ls_s[idx] = ord(val) - 97\n",
    "    \n",
    "    count = 0\n",
    "    for each in range(0, idx):\n",
    "        if ls_s[idx] == ls_s[each]:\n",
    "            count += 1\n",
    "    dic[idx] = count\n",
    "\n",
    "for idx, val in dic.items():\n",
    "    ls_s[idx] = chr((ls_s[idx] + val) % 26 + 97)\n",
    "# ls_s = [ chr((ls_s[idx] + val) % 26 + 97) for idx, val in dic.items() ]\n",
    "\n",
    "# print(\"\".join(ls_s))"
   ]
  },
  {
   "cell_type": "code",
   "execution_count": 21,
   "metadata": {},
   "outputs": [
    {
     "name": "stdout",
     "output_type": "stream",
     "text": [
      "CPU times: user 65.3 ms, sys: 0 ns, total: 65.3 ms\n",
      "Wall time: 65 ms\n"
     ]
    }
   ],
   "source": [
    "%%time\n",
    "from collections import Counter\n",
    "\n",
    "# def changer():\n",
    "s = \"xzycv\" * 2000\n",
    "# s = 'xyzxyzxyz'\n",
    "c = Counter()\n",
    "\n",
    "new_s = list(s)\n",
    "\n",
    "for idx, val in enumerate(new_s):\n",
    "    c[val] = c[val] + 1\n",
    "\n",
    "    if c[val] > 1:\n",
    "        new_s[idx] = chr(((ord(new_s[idx])-97) + (c[val]-1))%26 + 97)\n",
    "\n",
    "# return \"\".join(new_s)\n"
   ]
  },
  {
   "cell_type": "code",
   "execution_count": 2,
   "metadata": {},
   "outputs": [],
   "source": [
    "from collections import Counter\n",
    "\n",
    "\n",
    "def changer():\n",
    "    s = \"xzycv\" * 2000\n",
    "#     s = 'xyzxyzxyz'\n",
    "    c = Counter()\n",
    "\n",
    "    new_s = list(s)\n",
    "\n",
    "    for idx, val in enumerate(new_s):\n",
    "        c[val] += 1\n",
    "\n",
    "        if c[val] > 1:\n",
    "            new_s[idx] = chr(((ord(new_s[idx]) - 97) + (c[val] - 1)) % 26 + 97)\n",
    "\n",
    "    return \"\".join(new_s)"
   ]
  },
  {
   "cell_type": "code",
   "execution_count": 18,
   "metadata": {},
   "outputs": [
    {
     "name": "stdout",
     "output_type": "stream",
     "text": [
      "57.6 ms ± 410 µs per loop (mean ± std. dev. of 7 runs, 10 loops each)\n"
     ]
    }
   ],
   "source": [
    "%%timeit\n",
    "changer()"
   ]
  },
  {
   "cell_type": "code",
   "execution_count": 4,
   "metadata": {},
   "outputs": [
    {
     "name": "stdout",
     "output_type": "stream",
     "text": [
      "CPU times: user 1.14 s, sys: 440 µs, total: 1.14 s\n",
      "Wall time: 1.14 s\n"
     ]
    }
   ],
   "source": [
    "%%time\n",
    "for _ in range(0,20):\n",
    "    changer()"
   ]
  },
  {
   "cell_type": "markdown",
   "metadata": {},
   "source": [
    "xyzyzazab"
   ]
  },
  {
   "cell_type": "code",
   "execution_count": null,
   "metadata": {},
   "outputs": [],
   "source": [
    "z = 24"
   ]
  },
  {
   "cell_type": "code",
   "execution_count": 5,
   "metadata": {},
   "outputs": [],
   "source": [
    "def changer2():\n",
    "\n",
    "   x = \"xyzxy\"*2000\n",
    "#    x = 'xyzxyzxyz'\n",
    "   y = list(x) # 현재 리스트\n",
    "   \n",
    "   counter = Counter([]) #카운터 초기화\n",
    "\n",
    "   for idx, val in enumerate(x, 0): #idx = 순서(0-9), val = 문자\n",
    "       \n",
    "       counter[val] = int(counter[val])+1 #문자별로 카운트\n",
    "\n",
    "   #현재 카운트가 1이면(처음이면) 그대로 둠\n",
    "   #카운트가 2 이상이면 문자((숫자변환 + 카운트 -1 -97) % 26 + 96) 변환\n",
    "\n",
    "       if counter[val] > 1:\n",
    "           add = (ord(val) + counter[val] - 1 - 97) % 26 + 97\n",
    "           y[idx] = chr(add)\n",
    "\n",
    "           \n",
    "   #출력\n",
    "   return (\"\".join(y))"
   ]
  },
  {
   "cell_type": "code",
   "execution_count": 6,
   "metadata": {},
   "outputs": [
    {
     "data": {
      "text/plain": [
       "'xyzyzzaaabbcbcddeceffgdghhieijjkfkllmgmnnohoppqiqrrsjsttukuvvwlwxxymyzzanabbcocddepeffgqghhirijjkskllmtmnnouoppqvqrrswsttuxuvvwywxxyzyzzaaabbcbcddeceffgdghhieijjkfkllmgmnnohoppqiqrrsjsttukuvvwlwxxymyzzanabbcocddepeffgqghhirijjkskllmtmnnouoppqvqrrswsttuxuvvwywxxyzyzzaaabbcbcddeceffgdghhieijjkfkllmgmnnohoppqiqrrsjsttukuvvwlwxxymyzzanabbcocddepeffgqghhirijjkskllmtmnnouoppqvqrrswsttuxuvvwywxxyzyzzaaabbcbcddeceffgdghhieijjkfkllmgmnnohoppqiqrrsjsttukuvvwlwxxymyzzanabbcocddepeffgqghhirijjkskllmtmnnouoppqvqrrswsttuxuvvwywxxyzyzzaaabbcbcddeceffgdghhieijjkfkllmgmnnohoppqiqrrsjsttukuvvwlwxxymyzzanabbcocddepeffgqghhirijjkskllmtmnnouoppqvqrrswsttuxuvvwywxxyzyzzaaabbcbcddeceffgdghhieijjkfkllmgmnnohoppqiqrrsjsttukuvvwlwxxymyzzanabbcocddepeffgqghhirijjkskllmtmnnouoppqvqrrswsttuxuvvwywxxyzyzzaaabbcbcddeceffgdghhieijjkfkllmgmnnohoppqiqrrsjsttukuvvwlwxxymyzzanabbcocddepeffgqghhirijjkskllmtmnnouoppqvqrrswsttuxuvvwywxxyzyzzaaabbcbcddeceffgdghhieijjkfkllmgmnnohoppqiqrrsjsttukuvvwlwxxymyzzanabbcocddepeffgqghhirijjkskllmtmnnouoppqvqrrswsttuxuvvwywxxyzyzzaaabbcbcddeceffgdghhieijjkfkllmgmnnohoppqiqrrsjsttukuvvwlwxxymyzzanabbcocddepeffgqghhirijjkskllmtmnnouoppqvqrrswsttuxuvvwywxxyzyzzaaabbcbcddeceffgdghhieijjkfkllmgmnnohoppqiqrrsjsttukuvvwlwxxymyzzanabbcocddepeffgqghhirijjkskllmtmnnouoppqvqrrswsttuxuvvwywxxyzyzzaaabbcbcddeceffgdghhieijjkfkllmgmnnohoppqiqrrsjsttukuvvwlwxxymyzzanabbcocddepeffgqghhirijjkskllmtmnnouoppqvqrrswsttuxuvvwywxxyzyzzaaabbcbcddeceffgdghhieijjkfkllmgmnnohoppqiqrrsjsttukuvvwlwxxymyzzanabbcocddepeffgqghhirijjkskllmtmnnouoppqvqrrswsttuxuvvwywxxyzyzzaaabbcbcddeceffgdghhieijjkfkllmgmnnohoppqiqrrsjsttukuvvwlwxxymyzzanabbcocddepeffgqghhirijjkskllmtmnnouoppqvqrrswsttuxuvvwywxxyzyzzaaabbcbcddeceffgdghhieijjkfkllmgmnnohoppqiqrrsjsttukuvvwlwxxymyzzanabbcocddepeffgqghhirijjkskllmtmnnouoppqvqrrswsttuxuvvwywxxyzyzzaaabbcbcddeceffgdghhieijjkfkllmgmnnohoppqiqrrsjsttukuvvwlwxxymyzzanabbcocddepeffgqghhirijjkskllmtmnnouoppqvqrrswsttuxuvvwywxxyzyzzaaabbcbcddeceffgdghhieijjkfkllmgmnnohoppqiqrrsjsttukuvvwlwxxymyzzanabbcocddepeffgqghhirijjkskllmtmnnouoppqvqrrswsttuxuvvwywxxyzyzzaaabbcbcddeceffgdghhieijjkfkllmgmnnohoppqiqrrsjsttukuvvwlwxxymyzzanabbcocddepeffgqghhirijjkskllmtmnnouoppqvqrrswsttuxuvvwywxxyzyzzaaabbcbcddeceffgdghhieijjkfkllmgmnnohoppqiqrrsjsttukuvvwlwxxymyzzanabbcocddepeffgqghhirijjkskllmtmnnouoppqvqrrswsttuxuvvwywxxyzyzzaaabbcbcddeceffgdghhieijjkfkllmgmnnohoppqiqrrsjsttukuvvwlwxxymyzzanabbcocddepeffgqghhirijjkskllmtmnnouoppqvqrrswsttuxuvvwywxxyzyzzaaabbcbcddeceffgdghhieijjkfkllmgmnnohoppqiqrrsjsttukuvvwlwxxymyzzanabbcocddepeffgqghhirijjkskllmtmnnouoppqvqrrswsttuxuvvwywxxyzyzzaaabbcbcddeceffgdghhieijjkfkllmgmnnohoppqiqrrsjsttukuvvwlwxxymyzzanabbcocddepeffgqghhirijjkskllmtmnnouoppqvqrrswsttuxuvvwywxxyzyzzaaabbcbcddeceffgdghhieijjkfkllmgmnnohoppqiqrrsjsttukuvvwlwxxymyzzanabbcocddepeffgqghhirijjkskllmtmnnouoppqvqrrswsttuxuvvwywxxyzyzzaaabbcbcddeceffgdghhieijjkfkllmgmnnohoppqiqrrsjsttukuvvwlwxxymyzzanabbcocddepeffgqghhirijjkskllmtmnnouoppqvqrrswsttuxuvvwywxxyzyzzaaabbcbcddeceffgdghhieijjkfkllmgmnnohoppqiqrrsjsttukuvvwlwxxymyzzanabbcocddepeffgqghhirijjkskllmtmnnouoppqvqrrswsttuxuvvwywxxyzyzzaaabbcbcddeceffgdghhieijjkfkllmgmnnohoppqiqrrsjsttukuvvwlwxxymyzzanabbcocddepeffgqghhirijjkskllmtmnnouoppqvqrrswsttuxuvvwywxxyzyzzaaabbcbcddeceffgdghhieijjkfkllmgmnnohoppqiqrrsjsttukuvvwlwxxymyzzanabbcocddepeffgqghhirijjkskllmtmnnouoppqvqrrswsttuxuvvwywxxyzyzzaaabbcbcddeceffgdghhieijjkfkllmgmnnohoppqiqrrsjsttukuvvwlwxxymyzzanabbcocddepeffgqghhirijjkskllmtmnnouoppqvqrrswsttuxuvvwywxxyzyzzaaabbcbcddeceffgdghhieijjkfkllmgmnnohoppqiqrrsjsttukuvvwlwxxymyzzanabbcocddepeffgqghhirijjkskllmtmnnouoppqvqrrswsttuxuvvwywxxyzyzzaaabbcbcddeceffgdghhieijjkfkllmgmnnohoppqiqrrsjsttukuvvwlwxxymyzzanabbcocddepeffgqghhirijjkskllmtmnnouoppqvqrrswsttuxuvvwywxxyzyzzaaabbcbcddeceffgdghhieijjkfkllmgmnnohoppqiqrrsjsttukuvvwlwxxymyzzanabbcocddepeffgqghhirijjkskllmtmnnouoppqvqrrswsttuxuvvwywxxyzyzzaaabbcbcddeceffgdghhieijjkfkllmgmnnohoppqiqrrsjsttukuvvwlwxxymyzzanabbcocddepeffgqghhirijjkskllmtmnnouoppqvqrrswsttuxuvvwywxxyzyzzaaabbcbcddeceffgdghhieijjkfkllmgmnnohoppqiqrrsjsttukuvvwlwxxymyzzanabbcocddepeffgqghhirijjkskllmtmnnouoppqvqrrswsttuxuvvwywxxyzyzzaaabbcbcddeceffgdghhieijjkfkllmgmnnohoppqiqrrsjsttukuvvwlwxxymyzzanabbcocddepeffgqghhirijjkskllmtmnnouoppqvqrrswsttuxuvvwywxxyzyzzaaabbcbcddeceffgdghhieijjkfkllmgmnnohoppqiqrrsjsttukuvvwlwxxymyzzanabbcocddepeffgqghhirijjkskllmtmnnouoppqvqrrswsttuxuvvwywxxyzyzzaaabbcbcddeceffgdghhieijjkfkllmgmnnohoppqiqrrsjsttukuvvwlwxxymyzzanabbcocddepeffgqghhirijjkskllmtmnnouoppqvqrrswsttuxuvvwywxxyzyzzaaabbcbcddeceffgdghhieijjkfkllmgmnnohoppqiqrrsjsttukuvvwlwxxymyzzanabbcocddepeffgqghhirijjkskllmtmnnouoppqvqrrswsttuxuvvwywxxyzyzzaaabbcbcddeceffgdghhieijjkfkllmgmnnohoppqiqrrsjsttukuvvwlwxxymyzzanabbcocddepeffgqghhirijjkskllmtmnnouoppqvqrrswsttuxuvvwywxxyzyzzaaabbcbcddeceffgdghhieijjkfkllmgmnnohoppqiqrrsjsttukuvvwlwxxymyzzanabbcocddepeffgqghhirijjkskllmtmnnouoppqvqrrswsttuxuvvwywxxyzyzzaaabbcbcddeceffgdghhieijjkfkllmgmnnohoppqiqrrsjsttukuvvwlwxxymyzzanabbcocddepeffgqghhirijjkskllmtmnnouoppqvqrrswsttuxuvvwywxxyzyzzaaabbcbcddeceffgdghhieijjkfkllmgmnnohoppqiqrrsjsttukuvvwlwxxymyzzanabbcocddepeffgqghhirijjkskllmtmnnouoppqvqrrswsttuxuvvwywxxyzyzzaaabbcbcddeceffgdghhieijjkfkllmgmnnohoppqiqrrsjsttukuvvwlwxxymyzzanabbcocddepeffgqghhirijjkskllmtmnnouoppqvqrrswsttuxuvvwywxxyzyzzaaabbcbcddeceffgdghhieijjkfkllmgmnnohoppqiqrrsjsttukuvvwlwxxymyzzanabbcocddepeffgqghhirijjkskllmtmnnouoppqvqrrswsttuxuvvwywxxyzyzzaaabbcbcddeceffgdghhieijjkfkllmgmnnohoppqiqrrsjsttukuvvwlwxxymyzzanabbcocddepeffgqghhirijjkskllmtmnnouoppqvqrrswsttuxuvvwywxxyzyzzaaabbcbcddeceffgdghhieijjkfkllmgmnnohoppqiqrrsjsttukuvvwlwxxymyzzanabbcocddepeffgqghhirijjkskllmtmnnouoppqvqrrswsttuxuvvwywxxyzyzzaaabbcbcddeceffgdghhieijjkfkllmgmnnohoppqiqrrsjsttukuvvwlwxxymyzzanabbcocddepeffgqghhirijjkskllmtmnnouoppqvqrrswsttuxuvvwywxxyzyzzaaabbcbcddeceffgdghhieijjkfkllmgmnnohoppqiqrrsjsttukuvvwlwxxymyzzanabbcocddepeffgqghhirijjkskllmtmnnouoppqvqrrswsttuxuvvwywxxyzyzzaaabbcbcddeceffgdghhieijjkfkllmgmnnohoppqiqrrsjsttukuvvwlwxxymyzzanabbcocddepeffgqghhirijjkskllmtmnnouoppqvqrrswsttuxuvvwywxxyzyzzaaabbcbcddeceffgdghhieijjkfkllmgmnnohoppqiqrrsjsttukuvvwlwxxymyzzanabbcocddepeffgqghhirijjkskllmtmnnouoppqvqrrswsttuxuvvwywxxyzyzzaaabbcbcddeceffgdghhieijjkfkllmgmnnohoppqiqrrsjsttukuvvwlwxxymyzzanabbcocddepeffgqghhirijjkskllmtmnnouoppqvqrrswsttuxuvvwywxxyzyzzaaabbcbcddeceffgdghhieijjkfkllmgmnnohoppqiqrrsjsttukuvvwlwxxymyzzanabbcocddepeffgqghhirijjkskllmtmnnouoppqvqrrswsttuxuvvwywxxyzyzzaaabbcbcddeceffgdghhieijjkfkllmgmnnohoppqiqrrsjsttukuvvwlwxxymyzzanabbcocddepeffgqghhirijjkskllmtmnnouoppqvqrrswsttuxuvvwywxxyzyzzaaabbcbcddeceffgdghhieijjkfkllmgmnnohoppqiqrrsjsttukuvvwlwxxymyzzanabbcocddepeffgqghhirijjkskllmtmnnouoppqvqrrswsttuxuvvwywxxyzyzzaaabbcbcddeceffgdghhieijjkfkllmgmnnohoppqiqrrsjsttukuvvwlwxxymyzzanabbcocddepeffgqghhirijjkskllmtmnnouoppqvqrrswsttuxuvvwywxxyzyzzaaabbcbcddeceffgdghhieijjkfkllmgmnnohoppqiqrrsjsttukuvvwlwxxymyzzanabbcocddepeffgqghhirijjkskllmtmnnouoppqvqrrswsttuxuvvwywxxyzyzzaaabbcbcddeceffgdghhieijjkfkllmgmnnohoppqiqrrsjsttukuvvwlwxxymyzzanabbcocddepeffgqghhirijjkskllmtmnnouoppqvqrrswsttuxuvvwywxxyzyzzaaabbcbcddeceffgdghhieijjkfkllmgmnnohoppqiqrrsjsttukuvvwlwxxymyzzanabbcocddepeffgqghhirijjkskllmtmnnouoppqvqrrswsttuxuvvwywxxyzyzzaaabbcbcddeceffgdghhieijjkfkllmgmnnohoppqiqrrsjsttukuvvwlwxxymyzzanabbcocddepeffgqghhirijjkskllmtmnnouoppqvqrrswsttuxuvvwywxxyzyzzaaabbcbcddeceffgdghhieijjkfkllmgmnnohoppqiqrrsjsttukuvvwlwxxymyzzanabbcocddepeffgqghhirijjkskllmtmnnouoppqvqrrswsttuxuvvwywxxyzyzzaaabbcbcddeceffgdghhieijjkfkllmgmnnohoppqiqrrsjsttukuvvwlwxxymyzzanabbcocddepeffgqghhirijjkskllmtmnnouoppqvqrrswsttuxuvvwywxxyzyzzaaabbcbcddeceffgdghhieijjkfkllmgmnnohoppqiqrrsjsttukuvvwlwxxymyzzanabbcocddepeffgqghhirijjkskllmtmnnouoppqvqrrswsttuxuvvwywxxyzyzzaaabbcbcddeceffgdghhieijjkfkllmgmnnohoppqiqrrsjsttukuvvwlwxxymyzzanabbcocddepeffgqghhirijjkskllmtmnnouoppqvqrrswsttuxuvvwywxxyzyzzaaabbcbcddeceffgdghhieijjkfkllmgmnnohoppqiqrrsjsttukuvvwlwxxymyzzanabbcocddepeffgqghhirijjkskllmtmnnouoppqvqrrswsttuxuvvwywxxyzyzzaaabbcbcddeceffgdghhieijjkfkllmgmnnohoppqiqrrsjsttukuvvwlwxxymyzzanabbcocddepeffgqghhirijjkskllmtmnnouoppqvqrrswsttuxuvvwywxxyzyzzaaabbcbcddeceffgdghhieijjkfkllmgmnnohoppqiqrrsjsttukuvvwlwxxymyzzanabbcocddepeffgqghhirijjkskllmtmnnouoppqvqrrswsttuxuvvwywxxyzyzzaaabbcbcddeceffgdghhieijjkfkllmgmnnohoppqiqrrsjsttukuvvwlwxxymyzzanabbcocddepeffgqghhirijjkskllmtmnnouoppqvqrrswsttuxuvvwywxxyzyzzaaabbcbcddeceffgdghhieijjkfkllmgmnnohoppqiqrrsjsttukuvvwlwxxymyzzanabbcocddepeffgqghhirijjkskllmtmnnouoppqvqrrswsttuxuvvwywxxyzyzzaaabbcbcddeceffgdghhieijjkfkllmgmnnohoppqiqrrsjsttukuvvwlwxxymyzzanabbcocddepeffgqghhirijjkskllmtmnnouoppqvqrrswsttuxuvvwywxxyzyzzaaabbcbcddeceffgdghhieijjkfkllmgmnnohoppqiqrrsjsttukuvvwlwxxymyzzanabbcocddepeffgqghhirijjkskllmtmnnouoppqvqrrswsttuxuvvwywxxyzyzzaaabbcbcddeceffgdghhieijjkfkllmgmnnohoppqiqrrsjsttukuvvwlwxxymyzzanabbcocddepeffgqghhirijjkskllmtmnnouoppqvqrrswsttuxuvvwywxxyzyzzaaabbcbcddeceffgdghhieijjkfkllmgmnnohoppqiqrrsjsttukuvvwlwxxymyzzanabbcocddepeffgqghhirijjkskllmtmnnouoppqvqrrswsttuxuvvwywxxyzyzzaaabbcbcddeceffgdghhieijjkfkllmgmnnohoppqiqrrsjsttukuvvwlwxxymyzzanabbcocddepeffgqghhirijjkskllmtmnnouoppqvqrrswsttuxuvvwywxxyzyzzaaabbcbcddeceffgdghhieijjkfkllmgmnnohoppqiqrrsjsttukuvvwlwxxymyzzanabbcocddepeffgqghhirijjkskllmtmnnouoppqvqrrswsttuxuvvwywxxyzyzzaaabbcbcddeceffgdghhieijjkfkllmgmnnohoppqiqrrsjsttukuvvwlwxxymyzzanabbcocddepeffgqghhirijjkskllmtmnnouoppqvqrrswsttuxuvvwywxxyzyzzaaabbcbcddeceffgdghhieijjkfkllmgmnnohoppqiqrrsjsttukuvvwlwxxymyzzanabbcocddepeffgqghhirijjkskllmtmnnouoppqvqrrswsttuxuvvwywxxyzyzzaaabbcbcddeceffgdghhieijjkfkllmgmnnohoppqiqrrsjsttukuvvwlwxxymyzzanabbcocddepeffgqghhirijjkskllmtmnnouoppqvqrrswsttuxuvvwywxxyzyzzaaabbcbcddeceffgdghhieijjkfkllmgmnnohoppqiqrrsjsttukuvvwlwxxymyzzanabbcocddepeffgqghhirijjkskllmtmnnouoppqvqrrswsttuxuvvwywxxyzyzzaaabbcbcddeceffgdghhieijjkfkllmgmnnohoppqiqrrsjsttukuvvwlwxxymyzzanabbcocddepeffgqghhirijjkskllmtmnnouoppqvqrrswst'"
      ]
     },
     "execution_count": 6,
     "metadata": {},
     "output_type": "execute_result"
    }
   ],
   "source": [
    "changer2()"
   ]
  },
  {
   "cell_type": "code",
   "execution_count": 8,
   "metadata": {},
   "outputs": [
    {
     "name": "stdout",
     "output_type": "stream",
     "text": [
      "66.2 ms ± 110 µs per loop (mean ± std. dev. of 7 runs, 10 loops each)\n"
     ]
    }
   ],
   "source": [
    "%%timeit\n",
    "changer2()"
   ]
  },
  {
   "cell_type": "code",
   "execution_count": 11,
   "metadata": {},
   "outputs": [
    {
     "name": "stdout",
     "output_type": "stream",
     "text": [
      "CPU times: user 73.4 ms, sys: 37 µs, total: 73.4 ms\n",
      "Wall time: 73.8 ms\n"
     ]
    },
    {
     "data": {
      "text/plain": [
       "'xyzyzzaaabbcbcddeceffgdghhieijjkfkllmgmnnohoppqiqrrsjsttukuvvwlwxxymyzzanabbcocddepeffgqghhirijjkskllmtmnnouoppqvqrrswsttuxuvvwywxxyzyzzaaabbcbcddeceffgdghhieijjkfkllmgmnnohoppqiqrrsjsttukuvvwlwxxymyzzanabbcocddepeffgqghhirijjkskllmtmnnouoppqvqrrswsttuxuvvwywxxyzyzzaaabbcbcddeceffgdghhieijjkfkllmgmnnohoppqiqrrsjsttukuvvwlwxxymyzzanabbcocddepeffgqghhirijjkskllmtmnnouoppqvqrrswsttuxuvvwywxxyzyzzaaabbcbcddeceffgdghhieijjkfkllmgmnnohoppqiqrrsjsttukuvvwlwxxymyzzanabbcocddepeffgqghhirijjkskllmtmnnouoppqvqrrswsttuxuvvwywxxyzyzzaaabbcbcddeceffgdghhieijjkfkllmgmnnohoppqiqrrsjsttukuvvwlwxxymyzzanabbcocddepeffgqghhirijjkskllmtmnnouoppqvqrrswsttuxuvvwywxxyzyzzaaabbcbcddeceffgdghhieijjkfkllmgmnnohoppqiqrrsjsttukuvvwlwxxymyzzanabbcocddepeffgqghhirijjkskllmtmnnouoppqvqrrswsttuxuvvwywxxyzyzzaaabbcbcddeceffgdghhieijjkfkllmgmnnohoppqiqrrsjsttukuvvwlwxxymyzzanabbcocddepeffgqghhirijjkskllmtmnnouoppqvqrrswsttuxuvvwywxxyzyzzaaabbcbcddeceffgdghhieijjkfkllmgmnnohoppqiqrrsjsttukuvvwlwxxymyzzanabbcocddepeffgqghhirijjkskllmtmnnouoppqvqrrswsttuxuvvwywxxyzyzzaaabbcbcddeceffgdghhieijjkfkllmgmnnohoppqiqrrsjsttukuvvwlwxxymyzzanabbcocddepeffgqghhirijjkskllmtmnnouoppqvqrrswsttuxuvvwywxxyzyzzaaabbcbcddeceffgdghhieijjkfkllmgmnnohoppqiqrrsjsttukuvvwlwxxymyzzanabbcocddepeffgqghhirijjkskllmtmnnouoppqvqrrswsttuxuvvwywxxyzyzzaaabbcbcddeceffgdghhieijjkfkllmgmnnohoppqiqrrsjsttukuvvwlwxxymyzzanabbcocddepeffgqghhirijjkskllmtmnnouoppqvqrrswsttuxuvvwywxxyzyzzaaabbcbcddeceffgdghhieijjkfkllmgmnnohoppqiqrrsjsttukuvvwlwxxymyzzanabbcocddepeffgqghhirijjkskllmtmnnouoppqvqrrswsttuxuvvwywxxyzyzzaaabbcbcddeceffgdghhieijjkfkllmgmnnohoppqiqrrsjsttukuvvwlwxxymyzzanabbcocddepeffgqghhirijjkskllmtmnnouoppqvqrrswsttuxuvvwywxxyzyzzaaabbcbcddeceffgdghhieijjkfkllmgmnnohoppqiqrrsjsttukuvvwlwxxymyzzanabbcocddepeffgqghhirijjkskllmtmnnouoppqvqrrswsttuxuvvwywxxyzyzzaaabbcbcddeceffgdghhieijjkfkllmgmnnohoppqiqrrsjsttukuvvwlwxxymyzzanabbcocddepeffgqghhirijjkskllmtmnnouoppqvqrrswsttuxuvvwywxxyzyzzaaabbcbcddeceffgdghhieijjkfkllmgmnnohoppqiqrrsjsttukuvvwlwxxymyzzanabbcocddepeffgqghhirijjkskllmtmnnouoppqvqrrswsttuxuvvwywxxyzyzzaaabbcbcddeceffgdghhieijjkfkllmgmnnohoppqiqrrsjsttukuvvwlwxxymyzzanabbcocddepeffgqghhirijjkskllmtmnnouoppqvqrrswsttuxuvvwywxxyzyzzaaabbcbcddeceffgdghhieijjkfkllmgmnnohoppqiqrrsjsttukuvvwlwxxymyzzanabbcocddepeffgqghhirijjkskllmtmnnouoppqvqrrswsttuxuvvwywxxyzyzzaaabbcbcddeceffgdghhieijjkfkllmgmnnohoppqiqrrsjsttukuvvwlwxxymyzzanabbcocddepeffgqghhirijjkskllmtmnnouoppqvqrrswsttuxuvvwywxxyzyzzaaabbcbcddeceffgdghhieijjkfkllmgmnnohoppqiqrrsjsttukuvvwlwxxymyzzanabbcocddepeffgqghhirijjkskllmtmnnouoppqvqrrswsttuxuvvwywxxyzyzzaaabbcbcddeceffgdghhieijjkfkllmgmnnohoppqiqrrsjsttukuvvwlwxxymyzzanabbcocddepeffgqghhirijjkskllmtmnnouoppqvqrrswsttuxuvvwywxxyzyzzaaabbcbcddeceffgdghhieijjkfkllmgmnnohoppqiqrrsjsttukuvvwlwxxymyzzanabbcocddepeffgqghhirijjkskllmtmnnouoppqvqrrswsttuxuvvwywxxyzyzzaaabbcbcddeceffgdghhieijjkfkllmgmnnohoppqiqrrsjsttukuvvwlwxxymyzzanabbcocddepeffgqghhirijjkskllmtmnnouoppqvqrrswsttuxuvvwywxxyzyzzaaabbcbcddeceffgdghhieijjkfkllmgmnnohoppqiqrrsjsttukuvvwlwxxymyzzanabbcocddepeffgqghhirijjkskllmtmnnouoppqvqrrswsttuxuvvwywxxyzyzzaaabbcbcddeceffgdghhieijjkfkllmgmnnohoppqiqrrsjsttukuvvwlwxxymyzzanabbcocddepeffgqghhirijjkskllmtmnnouoppqvqrrswsttuxuvvwywxxyzyzzaaabbcbcddeceffgdghhieijjkfkllmgmnnohoppqiqrrsjsttukuvvwlwxxymyzzanabbcocddepeffgqghhirijjkskllmtmnnouoppqvqrrswsttuxuvvwywxxyzyzzaaabbcbcddeceffgdghhieijjkfkllmgmnnohoppqiqrrsjsttukuvvwlwxxymyzzanabbcocddepeffgqghhirijjkskllmtmnnouoppqvqrrswsttuxuvvwywxxyzyzzaaabbcbcddeceffgdghhieijjkfkllmgmnnohoppqiqrrsjsttukuvvwlwxxymyzzanabbcocddepeffgqghhirijjkskllmtmnnouoppqvqrrswsttuxuvvwywxxyzyzzaaabbcbcddeceffgdghhieijjkfkllmgmnnohoppqiqrrsjsttukuvvwlwxxymyzzanabbcocddepeffgqghhirijjkskllmtmnnouoppqvqrrswsttuxuvvwywxxyzyzzaaabbcbcddeceffgdghhieijjkfkllmgmnnohoppqiqrrsjsttukuvvwlwxxymyzzanabbcocddepeffgqghhirijjkskllmtmnnouoppqvqrrswsttuxuvvwywxxyzyzzaaabbcbcddeceffgdghhieijjkfkllmgmnnohoppqiqrrsjsttukuvvwlwxxymyzzanabbcocddepeffgqghhirijjkskllmtmnnouoppqvqrrswsttuxuvvwywxxyzyzzaaabbcbcddeceffgdghhieijjkfkllmgmnnohoppqiqrrsjsttukuvvwlwxxymyzzanabbcocddepeffgqghhirijjkskllmtmnnouoppqvqrrswsttuxuvvwywxxyzyzzaaabbcbcddeceffgdghhieijjkfkllmgmnnohoppqiqrrsjsttukuvvwlwxxymyzzanabbcocddepeffgqghhirijjkskllmtmnnouoppqvqrrswsttuxuvvwywxxyzyzzaaabbcbcddeceffgdghhieijjkfkllmgmnnohoppqiqrrsjsttukuvvwlwxxymyzzanabbcocddepeffgqghhirijjkskllmtmnnouoppqvqrrswsttuxuvvwywxxyzyzzaaabbcbcddeceffgdghhieijjkfkllmgmnnohoppqiqrrsjsttukuvvwlwxxymyzzanabbcocddepeffgqghhirijjkskllmtmnnouoppqvqrrswsttuxuvvwywxxyzyzzaaabbcbcddeceffgdghhieijjkfkllmgmnnohoppqiqrrsjsttukuvvwlwxxymyzzanabbcocddepeffgqghhirijjkskllmtmnnouoppqvqrrswsttuxuvvwywxxyzyzzaaabbcbcddeceffgdghhieijjkfkllmgmnnohoppqiqrrsjsttukuvvwlwxxymyzzanabbcocddepeffgqghhirijjkskllmtmnnouoppqvqrrswsttuxuvvwywxxyzyzzaaabbcbcddeceffgdghhieijjkfkllmgmnnohoppqiqrrsjsttukuvvwlwxxymyzzanabbcocddepeffgqghhirijjkskllmtmnnouoppqvqrrswsttuxuvvwywxxyzyzzaaabbcbcddeceffgdghhieijjkfkllmgmnnohoppqiqrrsjsttukuvvwlwxxymyzzanabbcocddepeffgqghhirijjkskllmtmnnouoppqvqrrswsttuxuvvwywxxyzyzzaaabbcbcddeceffgdghhieijjkfkllmgmnnohoppqiqrrsjsttukuvvwlwxxymyzzanabbcocddepeffgqghhirijjkskllmtmnnouoppqvqrrswsttuxuvvwywxxyzyzzaaabbcbcddeceffgdghhieijjkfkllmgmnnohoppqiqrrsjsttukuvvwlwxxymyzzanabbcocddepeffgqghhirijjkskllmtmnnouoppqvqrrswsttuxuvvwywxxyzyzzaaabbcbcddeceffgdghhieijjkfkllmgmnnohoppqiqrrsjsttukuvvwlwxxymyzzanabbcocddepeffgqghhirijjkskllmtmnnouoppqvqrrswsttuxuvvwywxxyzyzzaaabbcbcddeceffgdghhieijjkfkllmgmnnohoppqiqrrsjsttukuvvwlwxxymyzzanabbcocddepeffgqghhirijjkskllmtmnnouoppqvqrrswsttuxuvvwywxxyzyzzaaabbcbcddeceffgdghhieijjkfkllmgmnnohoppqiqrrsjsttukuvvwlwxxymyzzanabbcocddepeffgqghhirijjkskllmtmnnouoppqvqrrswsttuxuvvwywxxyzyzzaaabbcbcddeceffgdghhieijjkfkllmgmnnohoppqiqrrsjsttukuvvwlwxxymyzzanabbcocddepeffgqghhirijjkskllmtmnnouoppqvqrrswsttuxuvvwywxxyzyzzaaabbcbcddeceffgdghhieijjkfkllmgmnnohoppqiqrrsjsttukuvvwlwxxymyzzanabbcocddepeffgqghhirijjkskllmtmnnouoppqvqrrswsttuxuvvwywxxyzyzzaaabbcbcddeceffgdghhieijjkfkllmgmnnohoppqiqrrsjsttukuvvwlwxxymyzzanabbcocddepeffgqghhirijjkskllmtmnnouoppqvqrrswsttuxuvvwywxxyzyzzaaabbcbcddeceffgdghhieijjkfkllmgmnnohoppqiqrrsjsttukuvvwlwxxymyzzanabbcocddepeffgqghhirijjkskllmtmnnouoppqvqrrswsttuxuvvwywxxyzyzzaaabbcbcddeceffgdghhieijjkfkllmgmnnohoppqiqrrsjsttukuvvwlwxxymyzzanabbcocddepeffgqghhirijjkskllmtmnnouoppqvqrrswsttuxuvvwywxxyzyzzaaabbcbcddeceffgdghhieijjkfkllmgmnnohoppqiqrrsjsttukuvvwlwxxymyzzanabbcocddepeffgqghhirijjkskllmtmnnouoppqvqrrswsttuxuvvwywxxyzyzzaaabbcbcddeceffgdghhieijjkfkllmgmnnohoppqiqrrsjsttukuvvwlwxxymyzzanabbcocddepeffgqghhirijjkskllmtmnnouoppqvqrrswsttuxuvvwywxxyzyzzaaabbcbcddeceffgdghhieijjkfkllmgmnnohoppqiqrrsjsttukuvvwlwxxymyzzanabbcocddepeffgqghhirijjkskllmtmnnouoppqvqrrswsttuxuvvwywxxyzyzzaaabbcbcddeceffgdghhieijjkfkllmgmnnohoppqiqrrsjsttukuvvwlwxxymyzzanabbcocddepeffgqghhirijjkskllmtmnnouoppqvqrrswsttuxuvvwywxxyzyzzaaabbcbcddeceffgdghhieijjkfkllmgmnnohoppqiqrrsjsttukuvvwlwxxymyzzanabbcocddepeffgqghhirijjkskllmtmnnouoppqvqrrswsttuxuvvwywxxyzyzzaaabbcbcddeceffgdghhieijjkfkllmgmnnohoppqiqrrsjsttukuvvwlwxxymyzzanabbcocddepeffgqghhirijjkskllmtmnnouoppqvqrrswsttuxuvvwywxxyzyzzaaabbcbcddeceffgdghhieijjkfkllmgmnnohoppqiqrrsjsttukuvvwlwxxymyzzanabbcocddepeffgqghhirijjkskllmtmnnouoppqvqrrswsttuxuvvwywxxyzyzzaaabbcbcddeceffgdghhieijjkfkllmgmnnohoppqiqrrsjsttukuvvwlwxxymyzzanabbcocddepeffgqghhirijjkskllmtmnnouoppqvqrrswsttuxuvvwywxxyzyzzaaabbcbcddeceffgdghhieijjkfkllmgmnnohoppqiqrrsjsttukuvvwlwxxymyzzanabbcocddepeffgqghhirijjkskllmtmnnouoppqvqrrswsttuxuvvwywxxyzyzzaaabbcbcddeceffgdghhieijjkfkllmgmnnohoppqiqrrsjsttukuvvwlwxxymyzzanabbcocddepeffgqghhirijjkskllmtmnnouoppqvqrrswsttuxuvvwywxxyzyzzaaabbcbcddeceffgdghhieijjkfkllmgmnnohoppqiqrrsjsttukuvvwlwxxymyzzanabbcocddepeffgqghhirijjkskllmtmnnouoppqvqrrswsttuxuvvwywxxyzyzzaaabbcbcddeceffgdghhieijjkfkllmgmnnohoppqiqrrsjsttukuvvwlwxxymyzzanabbcocddepeffgqghhirijjkskllmtmnnouoppqvqrrswsttuxuvvwywxxyzyzzaaabbcbcddeceffgdghhieijjkfkllmgmnnohoppqiqrrsjsttukuvvwlwxxymyzzanabbcocddepeffgqghhirijjkskllmtmnnouoppqvqrrswsttuxuvvwywxxyzyzzaaabbcbcddeceffgdghhieijjkfkllmgmnnohoppqiqrrsjsttukuvvwlwxxymyzzanabbcocddepeffgqghhirijjkskllmtmnnouoppqvqrrswsttuxuvvwywxxyzyzzaaabbcbcddeceffgdghhieijjkfkllmgmnnohoppqiqrrsjsttukuvvwlwxxymyzzanabbcocddepeffgqghhirijjkskllmtmnnouoppqvqrrswsttuxuvvwywxxyzyzzaaabbcbcddeceffgdghhieijjkfkllmgmnnohoppqiqrrsjsttukuvvwlwxxymyzzanabbcocddepeffgqghhirijjkskllmtmnnouoppqvqrrswsttuxuvvwywxxyzyzzaaabbcbcddeceffgdghhieijjkfkllmgmnnohoppqiqrrsjsttukuvvwlwxxymyzzanabbcocddepeffgqghhirijjkskllmtmnnouoppqvqrrswsttuxuvvwywxxyzyzzaaabbcbcddeceffgdghhieijjkfkllmgmnnohoppqiqrrsjsttukuvvwlwxxymyzzanabbcocddepeffgqghhirijjkskllmtmnnouoppqvqrrswsttuxuvvwywxxyzyzzaaabbcbcddeceffgdghhieijjkfkllmgmnnohoppqiqrrsjsttukuvvwlwxxymyzzanabbcocddepeffgqghhirijjkskllmtmnnouoppqvqrrswsttuxuvvwywxxyzyzzaaabbcbcddeceffgdghhieijjkfkllmgmnnohoppqiqrrsjsttukuvvwlwxxymyzzanabbcocddepeffgqghhirijjkskllmtmnnouoppqvqrrswsttuxuvvwywxxyzyzzaaabbcbcddeceffgdghhieijjkfkllmgmnnohoppqiqrrsjsttukuvvwlwxxymyzzanabbcocddepeffgqghhirijjkskllmtmnnouoppqvqrrswsttuxuvvwywxxyzyzzaaabbcbcddeceffgdghhieijjkfkllmgmnnohoppqiqrrsjsttukuvvwlwxxymyzzanabbcocddepeffgqghhirijjkskllmtmnnouoppqvqrrswsttuxuvvwywxxyzyzzaaabbcbcddeceffgdghhieijjkfkllmgmnnohoppqiqrrsjsttukuvvwlwxxymyzzanabbcocddepeffgqghhirijjkskllmtmnnouoppqvqrrswsttuxuvvwywxxyzyzzaaabbcbcddeceffgdghhieijjkfkllmgmnnohoppqiqrrsjsttukuvvwlwxxymyzzanabbcocddepeffgqghhirijjkskllmtmnnouoppqvqrrswsttuxuvvwywxxyzyzzaaabbcbcddeceffgdghhieijjkfkllmgmnnohoppqiqrrsjsttukuvvwlwxxymyzzanabbcocddepeffgqghhirijjkskllmtmnnouoppqvqrrswsttuxuvvwywxxyzyzzaaabbcbcddeceffgdghhieijjkfkllmgmnnohoppqiqrrsjsttukuvvwlwxxymyzzanabbcocddepeffgqghhirijjkskllmtmnnouoppqvqrrswsttuxuvvwywxxyzyzzaaabbcbcddeceffgdghhieijjkfkllmgmnnohoppqiqrrsjsttukuvvwlwxxymyzzanabbcocddepeffgqghhirijjkskllmtmnnouoppqvqrrswsttuxuvvwywxxyzyzzaaabbcbcddeceffgdghhieijjkfkllmgmnnohoppqiqrrsjsttukuvvwlwxxymyzzanabbcocddepeffgqghhirijjkskllmtmnnouoppqvqrrswst'"
      ]
     },
     "execution_count": 11,
     "metadata": {},
     "output_type": "execute_result"
    }
   ],
   "source": [
    "%%time\n",
    "changer2()"
   ]
  },
  {
   "cell_type": "code",
   "execution_count": null,
   "metadata": {},
   "outputs": [],
   "source": []
  }
 ],
 "metadata": {
  "anaconda-cloud": {},
  "kernelspec": {
   "display_name": "Python 3",
   "language": "python",
   "name": "python3"
  },
  "language_info": {
   "codemirror_mode": {
    "name": "ipython",
    "version": 3
   },
   "file_extension": ".py",
   "mimetype": "text/x-python",
   "name": "python",
   "nbconvert_exporter": "python",
   "pygments_lexer": "ipython3",
   "version": "3.6.3"
  }
 },
 "nbformat": 4,
 "nbformat_minor": 2
}
