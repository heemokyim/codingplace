{
 "cells": [
  {
   "cell_type": "markdown",
   "metadata": {},
   "source": [
    "##### Module\n",
    "- 함수, 변수, 클래스를 모아놓은 파일\n",
    "- pep8 module name\n",
    "    - 모듈(Module) 명은 짧은 소문자로 구성되며 필요하다면 밑줄로 나눕니다.\n",
    "    - C/C++ 확장 모듈은 밑줄로 시작합니다.\n",
    "- 주의점\n",
    "    - 모듈파일에 실행코드가 같이 있으면 모듈함수를 인식 못 할 수 있음"
   ]
  },
  {
   "cell_type": "markdown",
   "metadata": {},
   "source": [
    "##### make module "
   ]
  },
  {
   "cell_type": "code",
   "execution_count": 1,
   "metadata": {},
   "outputs": [
    {
     "name": "stdout",
     "output_type": "stream",
     "text": [
      "Writing dsm_f.py\n"
     ]
    }
   ],
   "source": [
    "%%writefile dsm_f.py\n",
    "\n",
    "var = 1234\n",
    "\n",
    "def disp1(s):\n",
    "    print(\"dsm_f1:\", s)\n",
    "\n",
    "def disp2(s):\n",
    "    print(\"dsm_f2:\", s)\n",
    "\n",
    "def disp3(s):\n",
    "    print(\"dsm_f3:\", s)\n",
    "    \n",
    "class calc:\n",
    "    def plus(self, *args):\n",
    "        return sum(args)"
   ]
  },
  {
   "cell_type": "markdown",
   "metadata": {},
   "source": [
    "##### 모듈 호출\n",
    "- import"
   ]
  },
  {
   "cell_type": "code",
   "execution_count": 2,
   "metadata": {},
   "outputs": [],
   "source": [
    "# 모듈 호출하기\n",
    "import dsm_f"
   ]
  },
  {
   "cell_type": "code",
   "execution_count": 3,
   "metadata": {},
   "outputs": [
    {
     "name": "stdout",
     "output_type": "stream",
     "text": [
      "Variable   Type      Data/Info\n",
      "------------------------------\n",
      "autopep8   module    <module 'autopep8' from '<...>te-packages/autopep8.py'>\n",
      "dsm_f      module    <module 'dsm_f' from '/ho<...>pt/day5 180116/dsm_f.py'>\n"
     ]
    }
   ],
   "source": [
    "%whos"
   ]
  },
  {
   "cell_type": "code",
   "execution_count": 4,
   "metadata": {},
   "outputs": [
    {
     "data": {
      "text/plain": [
       "<module 'autopep8' from '/home/ej/anaconda3/lib/python3.5/site-packages/autopep8.py'>"
      ]
     },
     "execution_count": 4,
     "metadata": {},
     "output_type": "execute_result"
    }
   ],
   "source": [
    "autopep8"
   ]
  },
  {
   "cell_type": "code",
   "execution_count": 5,
   "metadata": {},
   "outputs": [
    {
     "name": "stdout",
     "output_type": "stream",
     "text": [
      "dsm_f1: test\n"
     ]
    }
   ],
   "source": [
    "# 모듈 함수 호출\n",
    "dsm_f.disp1(\"test\")"
   ]
  },
  {
   "cell_type": "code",
   "execution_count": 6,
   "metadata": {},
   "outputs": [
    {
     "data": {
      "text/plain": [
       "1234"
      ]
     },
     "execution_count": 6,
     "metadata": {},
     "output_type": "execute_result"
    }
   ],
   "source": [
    "# 모듈 변수 호출\n",
    "dsm_f.var"
   ]
  },
  {
   "cell_type": "code",
   "execution_count": 1,
   "metadata": {},
   "outputs": [
    {
     "ename": "NameError",
     "evalue": "name 'dsm_f' is not defined",
     "output_type": "error",
     "traceback": [
      "\u001b[1;31m---------------------------------------------------------------------------\u001b[0m",
      "\u001b[1;31mNameError\u001b[0m                                 Traceback (most recent call last)",
      "\u001b[1;32m<ipython-input-1-a67b84dda264>\u001b[0m in \u001b[0;36m<module>\u001b[1;34m()\u001b[0m\n\u001b[0;32m      1\u001b[0m \u001b[1;31m# 모듈 클래스 호출\u001b[0m\u001b[1;33m\u001b[0m\u001b[1;33m\u001b[0m\u001b[0m\n\u001b[1;32m----> 2\u001b[1;33m \u001b[0mc\u001b[0m \u001b[1;33m=\u001b[0m \u001b[0mdsm_f\u001b[0m\u001b[1;33m.\u001b[0m\u001b[0mcalc\u001b[0m\u001b[1;33m(\u001b[0m\u001b[1;33m)\u001b[0m\u001b[1;33m\u001b[0m\u001b[0m\n\u001b[0m\u001b[0;32m      3\u001b[0m \u001b[0mc\u001b[0m\u001b[1;33m.\u001b[0m\u001b[0mplus\u001b[0m\u001b[1;33m(\u001b[0m\u001b[1;36m1\u001b[0m\u001b[1;33m,\u001b[0m\u001b[1;36m2\u001b[0m\u001b[1;33m,\u001b[0m\u001b[1;36m3\u001b[0m\u001b[1;33m,\u001b[0m\u001b[1;36m4\u001b[0m\u001b[1;33m,\u001b[0m\u001b[1;36m5\u001b[0m\u001b[1;33m)\u001b[0m\u001b[1;33m\u001b[0m\u001b[0m\n",
      "\u001b[1;31mNameError\u001b[0m: name 'dsm_f' is not defined"
     ]
    }
   ],
   "source": [
    "# 모듈 클래스 호출\n",
    "c = dsm_f.calc()\n",
    "c.plus(1,2,3,4,5)"
   ]
  },
  {
   "cell_type": "markdown",
   "metadata": {},
   "source": [
    "- alias\n",
    "    - 모듈 호출해서 이름 바꿔주기"
   ]
  },
  {
   "cell_type": "code",
   "execution_count": 8,
   "metadata": {},
   "outputs": [
    {
     "name": "stdout",
     "output_type": "stream",
     "text": [
      "dsm_f1: test1\n",
      "dsm_f2: test2\n",
      "dsm_f3: test2\n"
     ]
    }
   ],
   "source": [
    "import dsm_f as dsm\n",
    "dsm.disp1(\"test1\")\n",
    "dsm.disp2(\"test2\")\n",
    "dsm.disp3(\"test2\")"
   ]
  },
  {
   "cell_type": "markdown",
   "metadata": {},
   "source": [
    "- 모듈에 있는 함수만 호출하기"
   ]
  },
  {
   "cell_type": "code",
   "execution_count": 9,
   "metadata": {},
   "outputs": [],
   "source": [
    "from dsm_f import disp1, disp2"
   ]
  },
  {
   "cell_type": "code",
   "execution_count": 10,
   "metadata": {},
   "outputs": [
    {
     "name": "stdout",
     "output_type": "stream",
     "text": [
      "Variable   Type        Data/Info\n",
      "--------------------------------\n",
      "autopep8   module      <module 'autopep8' from '<...>te-packages/autopep8.py'>\n",
      "disp1      function    <function disp1 at 0x7f161e45cea0>\n",
      "disp2      function    <function disp2 at 0x7f161c487048>\n",
      "dsm        module      <module 'dsm_f' from '/ho<...>pt/day5 180116/dsm_f.py'>\n",
      "dsm_f      module      <module 'dsm_f' from '/ho<...>pt/day5 180116/dsm_f.py'>\n"
     ]
    }
   ],
   "source": [
    "%whos"
   ]
  },
  {
   "cell_type": "code",
   "execution_count": null,
   "metadata": {},
   "outputs": [],
   "source": [
    "disp1(\"test1\")\n",
    "disp2(\"test2\")"
   ]
  },
  {
   "cell_type": "code",
   "execution_count": null,
   "metadata": {},
   "outputs": [],
   "source": [
    "disp3(\"test3\")"
   ]
  },
  {
   "cell_type": "markdown",
   "metadata": {},
   "source": [
    "- 모듈의 모든 함수 호출"
   ]
  },
  {
   "cell_type": "code",
   "execution_count": null,
   "metadata": {},
   "outputs": [],
   "source": [
    "from dsm_f import *"
   ]
  },
  {
   "cell_type": "code",
   "execution_count": null,
   "metadata": {},
   "outputs": [],
   "source": [
    "%whos"
   ]
  },
  {
   "cell_type": "code",
   "execution_count": null,
   "metadata": {},
   "outputs": [],
   "source": [
    "disp1(\"test1\")\n",
    "disp2(\"test2\")\n",
    "disp3(\"test3\")"
   ]
  },
  {
   "cell_type": "code",
   "execution_count": null,
   "metadata": {},
   "outputs": [],
   "source": [
    "# 모듈 변수 호출\n",
    "var"
   ]
  },
  {
   "cell_type": "code",
   "execution_count": null,
   "metadata": {},
   "outputs": [],
   "source": [
    "# 모듈 클래스 호출\n",
    "calc.plus(1,2,3,4)"
   ]
  },
  {
   "cell_type": "markdown",
   "metadata": {},
   "source": [
    "##### Package\n",
    "- 디렉토리와 모듈로 이루어짐"
   ]
  },
  {
   "cell_type": "markdown",
   "metadata": {},
   "source": [
    "```\n",
    "quiz\n",
    "└── game\n",
    "│   ├── lotto.py\n",
    "│   ├── random_number.py\n",
    "└── star\n",
    "    ├── disp.py\n",
    "```"
   ]
  },
  {
   "cell_type": "code",
   "execution_count": 43,
   "metadata": {},
   "outputs": [],
   "source": [
    "# import quiz.game.lotto\n",
    "from quiz.game.lotto1 import *"
   ]
  },
  {
   "cell_type": "code",
   "execution_count": 44,
   "metadata": {},
   "outputs": [
    {
     "name": "stdout",
     "output_type": "stream",
     "text": [
      "Variable           Type        Data/Info\n",
      "----------------------------------------\n",
      "autopep8           module      <module 'autopep8' from '<...>te-packages/autopep8.py'>\n",
      "game               module      <module 'quiz.game' (namespace)>\n",
      "get_lotto_number   function    <function get_lotto_number at 0x7ff7105c2b70>\n",
      "lotto              module      <module 'quiz.game.lotto'<...>0117/quiz/game/lotto.py'>\n",
      "lottos             list        n=6\n",
      "quiz               module      <module 'quiz' (namespace)>\n",
      "random             module      <module 'random' from '/h<...>lib/python3.5/random.py'>\n"
     ]
    }
   ],
   "source": [
    "%whos"
   ]
  },
  {
   "cell_type": "code",
   "execution_count": 45,
   "metadata": {},
   "outputs": [
    {
     "data": {
      "text/plain": [
       "'/home/ej/codingplace/fastcampus/dss/script/day6 180117'"
      ]
     },
     "execution_count": 45,
     "metadata": {},
     "output_type": "execute_result"
    }
   ],
   "source": [
    "%pwd"
   ]
  },
  {
   "cell_type": "code",
   "execution_count": 46,
   "metadata": {},
   "outputs": [
    {
     "name": "stdout",
     "output_type": "stream",
     "text": [
      "<module 'quiz.game.lotto' from '/home/ej/codingplace/fastcampus/dss/script/day6 180117/quiz/game/lotto.py'>\n"
     ]
    }
   ],
   "source": [
    "print(quiz.game.lotto)"
   ]
  },
  {
   "cell_type": "code",
   "execution_count": 47,
   "metadata": {},
   "outputs": [
    {
     "data": {
      "text/plain": [
       "[4, 7, 11, 15, 19, 41]"
      ]
     },
     "execution_count": 47,
     "metadata": {},
     "output_type": "execute_result"
    }
   ],
   "source": [
    "lottos"
   ]
  },
  {
   "cell_type": "code",
   "execution_count": 48,
   "metadata": {},
   "outputs": [
    {
     "data": {
      "text/plain": [
       "[14, 19, 22, 25, 35, 36]"
      ]
     },
     "execution_count": 48,
     "metadata": {},
     "output_type": "execute_result"
    }
   ],
   "source": [
    "get_lotto_number()"
   ]
  },
  {
   "cell_type": "raw",
   "metadata": {},
   "source": [
    "- alias\n",
    "    - 너무 긴 패키지는 alias를 사용해 줄일수 있다."
   ]
  },
  {
   "cell_type": "code",
   "execution_count": 50,
   "metadata": {},
   "outputs": [],
   "source": [
    "import quiz.game.lotto1 as lotto"
   ]
  },
  {
   "cell_type": "code",
   "execution_count": 51,
   "metadata": {},
   "outputs": [
    {
     "name": "stdout",
     "output_type": "stream",
     "text": [
      "Variable           Type        Data/Info\n",
      "----------------------------------------\n",
      "autopep8           module      <module 'autopep8' from '<...>te-packages/autopep8.py'>\n",
      "game               module      <module 'quiz.game' (namespace)>\n",
      "get_lotto_number   function    <function get_lotto_number at 0x7ff7105c2b70>\n",
      "lotto              module      <module 'quiz.game.lotto1<...>117/quiz/game/lotto1.py'>\n",
      "lottos             list        n=6\n",
      "quiz               module      <module 'quiz' (namespace)>\n",
      "random             module      <module 'random' from '/h<...>lib/python3.5/random.py'>\n"
     ]
    }
   ],
   "source": [
    "%whos"
   ]
  },
  {
   "cell_type": "code",
   "execution_count": 52,
   "metadata": {},
   "outputs": [
    {
     "data": {
      "text/plain": [
       "[5, 8, 12, 13, 28, 30]"
      ]
     },
     "execution_count": 52,
     "metadata": {},
     "output_type": "execute_result"
    }
   ],
   "source": [
    "lotto.get_lotto_number()     "
   ]
  },
  {
   "cell_type": "markdown",
   "metadata": {},
   "source": [
    "- import시 가장 마지막은 module이여야 한다."
   ]
  },
  {
   "cell_type": "code",
   "execution_count": 37,
   "metadata": {},
   "outputs": [],
   "source": [
    "import quiz.game as game"
   ]
  },
  {
   "cell_type": "code",
   "execution_count": 38,
   "metadata": {},
   "outputs": [
    {
     "ename": "AttributeError",
     "evalue": "module 'quiz.game.lotto' has no attribute 'get_lotto_number'",
     "output_type": "error",
     "traceback": [
      "\u001b[0;31m---------------------------------------------------------------------------\u001b[0m",
      "\u001b[0;31mAttributeError\u001b[0m                            Traceback (most recent call last)",
      "\u001b[0;32m<ipython-input-38-63d9666ec89f>\u001b[0m in \u001b[0;36m<module>\u001b[0;34m()\u001b[0m\n\u001b[0;32m----> 1\u001b[0;31m \u001b[0mgame\u001b[0m\u001b[0;34m.\u001b[0m\u001b[0mlotto\u001b[0m\u001b[0;34m.\u001b[0m\u001b[0mget_lotto_number\u001b[0m\u001b[0;34m(\u001b[0m\u001b[0;34m)\u001b[0m\u001b[0;34m\u001b[0m\u001b[0m\n\u001b[0m",
      "\u001b[0;31mAttributeError\u001b[0m: module 'quiz.game.lotto' has no attribute 'get_lotto_number'"
     ]
    }
   ],
   "source": [
    "game.lotto.get_lotto_number()"
   ]
  },
  {
   "cell_type": "markdown",
   "metadata": {},
   "source": [
    "- 특정 모듈만 호출"
   ]
  },
  {
   "cell_type": "code",
   "execution_count": null,
   "metadata": {},
   "outputs": [],
   "source": [
    "from quiz.star import disp"
   ]
  },
  {
   "cell_type": "code",
   "execution_count": null,
   "metadata": {},
   "outputs": [],
   "source": [
    "disp.disp_star1(5)"
   ]
  },
  {
   "cell_type": "markdown",
   "metadata": {},
   "source": [
    "- 특정 함수만 호출"
   ]
  },
  {
   "cell_type": "code",
   "execution_count": null,
   "metadata": {},
   "outputs": [],
   "source": [
    "from quiz.star.disp import disp_star3, disp_star4"
   ]
  },
  {
   "cell_type": "code",
   "execution_count": null,
   "metadata": {},
   "outputs": [],
   "source": [
    "disp_star3(5)"
   ]
  },
  {
   "cell_type": "code",
   "execution_count": null,
   "metadata": {},
   "outputs": [],
   "source": [
    "disp_star4(7)"
   ]
  },
  {
   "cell_type": "markdown",
   "metadata": {},
   "source": [
    "- from ..dsm_f = 상위 디렉토리의 dsm_f\n",
    "- from .dsm_f = 현재 디렉토리의 dsm_f "
   ]
  },
  {
   "cell_type": "code",
   "execution_count": 12,
   "metadata": {},
   "outputs": [],
   "source": [
    "%mkdir quiz"
   ]
  },
  {
   "cell_type": "code",
   "execution_count": 13,
   "metadata": {},
   "outputs": [],
   "source": [
    "%mkdir quiz/game"
   ]
  },
  {
   "cell_type": "code",
   "execution_count": 14,
   "metadata": {},
   "outputs": [],
   "source": [
    "%mkdir quiz/star"
   ]
  },
  {
   "cell_type": "code",
   "execution_count": 15,
   "metadata": {},
   "outputs": [],
   "source": [
    "%mv dsm_f.py disp.py"
   ]
  },
  {
   "cell_type": "code",
   "execution_count": 16,
   "metadata": {},
   "outputs": [],
   "source": [
    "%mv disp.py quiz/star"
   ]
  },
  {
   "cell_type": "code",
   "execution_count": 20,
   "metadata": {},
   "outputs": [
    {
     "name": "stdout",
     "output_type": "stream",
     "text": [
      "Writing quiz/game/lotto.py\n"
     ]
    }
   ],
   "source": [
    "%%writefile quiz/game/lotto.py\n",
    "import random\n",
    "\n",
    "lottos = []\n",
    "\n",
    "for _ in range(0,6):\n",
    "    lottos.append(random.randint(1,45))\n",
    "lottos.sort()"
   ]
  },
  {
   "cell_type": "code",
   "execution_count": 21,
   "metadata": {},
   "outputs": [
    {
     "name": "stdout",
     "output_type": "stream",
     "text": [
      "Writing quiz/game/random_number.py\n"
     ]
    }
   ],
   "source": [
    "%%writefile quiz/game/random_number.py\n",
    "import random\n",
    "answer = random.randint(1,100)\n",
    "\n",
    "count = 1\n",
    "\n",
    "print(answer)\n",
    "\n",
    "while True:\n",
    "    guess = int(input(\"insert number : \"))\n",
    "    \n",
    "    if answer == guess:\n",
    "        break\n",
    "    \n",
    "    elif answer > guess:\n",
    "        print('Up')\n",
    "        \n",
    "    elif answer < guess:\n",
    "        print('Down')\n",
    "    \n",
    "    count+=1\n",
    "\n",
    "print(count)"
   ]
  },
  {
   "cell_type": "code",
   "execution_count": 28,
   "metadata": {},
   "outputs": [
    {
     "name": "stdout",
     "output_type": "stream",
     "text": [
      "import random\r\n",
      "\r\n",
      "lottos = []\r\n",
      "\r\n",
      "for _ in range(0,6):\r\n",
      "    lottos.append(random.randint(1,45))\r\n",
      "lottos.sort()"
     ]
    }
   ],
   "source": [
    "!cat quiz/game/lotto.py"
   ]
  },
  {
   "cell_type": "code",
   "execution_count": 53,
   "metadata": {},
   "outputs": [
    {
     "name": "stdout",
     "output_type": "stream",
     "text": [
      "\n",
      "/home/ej/anaconda3/lib/python35.zip\n",
      "/home/ej/anaconda3/lib/python3.5\n",
      "/home/ej/anaconda3/lib/python3.5/plat-linux\n",
      "/home/ej/anaconda3/lib/python3.5/lib-dynload\n",
      "/home/ej/.local/lib/python3.5/site-packages\n",
      "/home/ej/anaconda3/lib/python3.5/site-packages\n",
      "/home/ej/anaconda3/lib/python3.5/site-packages/Sphinx-1.4.6-py3.5.egg\n",
      "/home/ej/anaconda3/lib/python3.5/site-packages/setuptools-27.2.0-py3.5.egg\n",
      "/home/ej/.local/lib/python3.5/site-packages/IPython/extensions\n",
      "/home/ej/.ipython\n"
     ]
    }
   ],
   "source": [
    "import sys\n",
    "for place in sys.path:\n",
    "    print(place)"
   ]
  },
  {
   "cell_type": "code",
   "execution_count": null,
   "metadata": {},
   "outputs": [],
   "source": []
  }
 ],
 "metadata": {
  "anaconda-cloud": {},
  "kernelspec": {
   "display_name": "Python 3",
   "language": "python",
   "name": "python3"
  },
  "language_info": {
   "codemirror_mode": {
    "name": "ipython",
    "version": 3
   },
   "file_extension": ".py",
   "mimetype": "text/x-python",
   "name": "python",
   "nbconvert_exporter": "python",
   "pygments_lexer": "ipython3",
   "version": "3.6.3"
  }
 },
 "nbformat": 4,
 "nbformat_minor": 2
}
