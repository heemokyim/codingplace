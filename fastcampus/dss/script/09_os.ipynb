{
 "cells": [
  {
   "cell_type": "markdown",
   "metadata": {},
   "source": [
    "### OS"
   ]
  },
  {
   "cell_type": "code",
   "execution_count": 15,
   "metadata": {},
   "outputs": [],
   "source": [
    "import os"
   ]
  },
  {
   "cell_type": "markdown",
   "metadata": {},
   "source": [
    "##### 디렉토리 만들기\n",
    "- os_dir 이라는 디렉토리를 만든다."
   ]
  },
  {
   "cell_type": "code",
   "execution_count": 16,
   "metadata": {},
   "outputs": [
    {
     "ename": "FileExistsError",
     "evalue": "[WinError 183] 파일이 이미 있으므로 만들 수 없습니다: 'os_dir'",
     "output_type": "error",
     "traceback": [
      "\u001b[1;31m---------------------------------------------------------------------------\u001b[0m",
      "\u001b[1;31mFileExistsError\u001b[0m                           Traceback (most recent call last)",
      "\u001b[1;32m<ipython-input-16-c12bc7e0a8d3>\u001b[0m in \u001b[0;36m<module>\u001b[1;34m()\u001b[0m\n\u001b[1;32m----> 1\u001b[1;33m \u001b[0mos\u001b[0m\u001b[1;33m.\u001b[0m\u001b[0mmakedirs\u001b[0m\u001b[1;33m(\u001b[0m\u001b[1;34m\"os_dir\"\u001b[0m\u001b[1;33m)\u001b[0m\u001b[1;33m\u001b[0m\u001b[0m\n\u001b[0m",
      "\u001b[1;32md:\\anaconda\\lib\\os.py\u001b[0m in \u001b[0;36mmakedirs\u001b[1;34m(name, mode, exist_ok)\u001b[0m\n\u001b[0;32m    218\u001b[0m             \u001b[1;32mreturn\u001b[0m\u001b[1;33m\u001b[0m\u001b[0m\n\u001b[0;32m    219\u001b[0m     \u001b[1;32mtry\u001b[0m\u001b[1;33m:\u001b[0m\u001b[1;33m\u001b[0m\u001b[0m\n\u001b[1;32m--> 220\u001b[1;33m         \u001b[0mmkdir\u001b[0m\u001b[1;33m(\u001b[0m\u001b[0mname\u001b[0m\u001b[1;33m,\u001b[0m \u001b[0mmode\u001b[0m\u001b[1;33m)\u001b[0m\u001b[1;33m\u001b[0m\u001b[0m\n\u001b[0m\u001b[0;32m    221\u001b[0m     \u001b[1;32mexcept\u001b[0m \u001b[0mOSError\u001b[0m\u001b[1;33m:\u001b[0m\u001b[1;33m\u001b[0m\u001b[0m\n\u001b[0;32m    222\u001b[0m         \u001b[1;31m# Cannot rely on checking for EEXIST, since the operating system\u001b[0m\u001b[1;33m\u001b[0m\u001b[1;33m\u001b[0m\u001b[0m\n",
      "\u001b[1;31mFileExistsError\u001b[0m: [WinError 183] 파일이 이미 있으므로 만들 수 없습니다: 'os_dir'"
     ]
    }
   ],
   "source": [
    "os.makedirs(\"os_dir\")"
   ]
  },
  {
   "cell_type": "markdown",
   "metadata": {},
   "source": [
    "- !ls는 윈도우에서 안먹히므로 %ls로 주피터 노트북 앱단에서 실행시켜준다"
   ]
  },
  {
   "cell_type": "code",
   "execution_count": 24,
   "metadata": {},
   "outputs": [
    {
     "name": "stdout",
     "output_type": "stream",
     "text": [
      " D 드라이브의 볼륨: FREEDOS\n",
      " 볼륨 일련 번호: 045B-0285\n",
      "\n",
      " D:\\codingplace\\fastcampus\\dss\\script 디렉터리\n",
      "\n",
      "2018-01-22  오후 02:46    <DIR>          .\n",
      "2018-01-22  오후 02:46    <DIR>          ..\n",
      "2018-01-22  오후 02:03    <DIR>          .ipynb_checkpoints\n",
      "2018-01-19  오후 08:00                31 0_dss.py\n",
      "2018-01-19  오후 08:00                29 0_test.py\n",
      "2018-01-19  오후 08:00             2,130 00_app.ipynb\n",
      "2018-01-19  오후 08:00            49,667 00_basic_syntax.ipynb\n",
      "2018-01-19  오후 08:00            11,901 00_ffundamental.ipynb\n",
      "2018-01-19  오후 08:00             6,288 00_fundamental.ipynb\n",
      "2018-01-19  오후 08:00            34,391 00_lecture.ipynb\n",
      "2018-01-19  오후 08:00            17,409 00_markdown.ipynb\n",
      "2018-01-19  오후 08:00             7,291 00_task.ipynb\n",
      "2018-01-19  오후 08:00             5,478 01_condition_loop_input_output.ipynb\n",
      "2018-01-19  오후 08:00            18,858 02_condition_loop_input.ipynb\n",
      "2018-01-22  오후 02:46            47,355 03_quiz.ipynb\n",
      "2018-01-19  오후 08:00            19,777 03_quiz_A.ipynb\n",
      "2018-01-22  오전 10:31            35,300 04_function.ipynb\n",
      "2018-01-19  오후 08:00            44,348 05_class.ipynb\n",
      "2018-01-19  오후 08:00            17,533 06_module_package.ipynb\n",
      "2018-01-19  오후 08:00             9,269 07_try_except.ipynb\n",
      "2018-01-19  오후 08:00             9,683 08_file.ipynb\n",
      "2018-01-22  오후 02:46            11,703 09_os.ipynb\n",
      "2018-01-22  오후 02:03             3,721 10_thread.ipynb\n",
      "2018-01-22  오후 02:03            19,960 11_regex.ipynb\n",
      "2018-01-19  오후 08:00    <DIR>          day1 180108\n",
      "2018-01-19  오후 08:00                78 decorator_practice.ipynb\n",
      "2018-01-19  오후 08:01    <DIR>          dss-linux-git\n",
      "2018-01-19  오후 08:00    <DIR>          file\n",
      "2018-01-22  오후 02:44    <DIR>          os_dir\n",
      "2018-01-19  오후 08:00             1,681 practice.ipynb\n",
      "2018-01-19  오후 08:00    <DIR>          quiz\n",
      "2018-01-19  오후 08:00                 3 test.py\n",
      "2018-01-19  오후 08:00             4,169 web_hook.ipynb\n",
      "              25개 파일             378,053 바이트\n",
      "               8개 디렉터리  812,839,590,400 바이트 남음\n"
     ]
    }
   ],
   "source": [
    "%ls"
   ]
  },
  {
   "cell_type": "markdown",
   "metadata": {},
   "source": [
    "##### write\n",
    "- 파일 쓰기\n",
    "- 앞에서 배운 방법으로 txt와 csv 파일을 작성합니다."
   ]
  },
  {
   "cell_type": "code",
   "execution_count": null,
   "metadata": {},
   "outputs": [],
   "source": [
    "s = \"data science\"\n",
    "with open(\"os_dir/test.txt\", \"wt\") as f:\n",
    "    f.write(s)\n",
    "    \n",
    "s2 = \"data science2\"\n",
    "with open(\"os_dir/test2.txt\", \"wt\") as f:\n",
    "    f.write(s)\n",
    "    \n",
    "s3 = \"data,science2\"\n",
    "with open(\"os_dir/test3.csv\", \"wt\") as f:\n",
    "    f.write(s)"
   ]
  },
  {
   "cell_type": "code",
   "execution_count": null,
   "metadata": {},
   "outputs": [],
   "source": [
    "!ls os_dir"
   ]
  },
  {
   "cell_type": "markdown",
   "metadata": {},
   "source": [
    "##### listdir\n",
    "- 파일 리스트 읽기\n",
    "- 특정 확장자를 가진 파일을 뽑아낸다."
   ]
  },
  {
   "cell_type": "code",
   "execution_count": null,
   "metadata": {},
   "outputs": [],
   "source": [
    "# 파일 리스트 읽기\n",
    "file_list = os.listdir(\"os_dir\")\n",
    "print(file_list)"
   ]
  },
  {
   "cell_type": "code",
   "execution_count": null,
   "metadata": {},
   "outputs": [],
   "source": [
    "# txt 파일 리스트만 호출\n",
    "result_1 = [ file_name for file_name in file_list if file_name.endswith(\".txt\") ]\n",
    "print(result_1)"
   ]
  },
  {
   "cell_type": "code",
   "execution_count": null,
   "metadata": {},
   "outputs": [],
   "source": [
    "# txt 파일이 아닌 파일 리스트만 호출\n",
    "result_2 = [ file_name for file_name in file_list if not file_name.endswith(\".txt\") ]\n",
    "print(result_2)"
   ]
  },
  {
   "cell_type": "markdown",
   "metadata": {},
   "source": [
    "##### remove\n",
    "- 파일 삭제"
   ]
  },
  {
   "cell_type": "code",
   "execution_count": null,
   "metadata": {},
   "outputs": [],
   "source": [
    "file_name = 'test3.csv'\n",
    "os.remove(\"os_dir/\" + file_name)"
   ]
  },
  {
   "cell_type": "code",
   "execution_count": null,
   "metadata": {},
   "outputs": [],
   "source": [
    "!ls os_dir"
   ]
  },
  {
   "cell_type": "code",
   "execution_count": null,
   "metadata": {},
   "outputs": [],
   "source": [
    "# for 반복문을 사용하여 모든 파일을 삭제할수 있다.\n",
    "file_list = os.listdir(\"os_dir\")\n",
    "for file_name in file_list:\n",
    "    os.remove(\"os_dir/\" + file_name)"
   ]
  },
  {
   "cell_type": "code",
   "execution_count": null,
   "metadata": {},
   "outputs": [],
   "source": [
    "!ls os_dir"
   ]
  },
  {
   "cell_type": "markdown",
   "metadata": {},
   "source": [
    "##### removedirs\n",
    "- 디렉토리 삭제"
   ]
  },
  {
   "cell_type": "code",
   "execution_count": 14,
   "metadata": {},
   "outputs": [
    {
     "name": "stdout",
     "output_type": "stream",
     "text": [
      " D 드라이브의 볼륨: FREEDOS\n",
      " 볼륨 일련 번호: 045B-0285\n",
      "\n",
      " D:\\codingplace\\fastcampus\\dss\\script\\os_dir 디렉터리\n",
      "\n",
      "2018-01-22  오후 02:44    <DIR>          .\n",
      "2018-01-22  오후 02:44    <DIR>          ..\n",
      "               0개 파일                   0 바이트\n",
      "               2개 디렉터리  812,839,594,496 바이트 남음\n"
     ]
    }
   ],
   "source": [
    "%ls os_dir"
   ]
  },
  {
   "cell_type": "code",
   "execution_count": null,
   "metadata": {},
   "outputs": [],
   "source": [
    "# 내부에 파일이 있으면 삭제되지 않는다.\n",
    "os.removedirs(\"os_dir\")"
   ]
  },
  {
   "cell_type": "code",
   "execution_count": null,
   "metadata": {},
   "outputs": [],
   "source": [
    "# 파일과 디렉토리 모두 삭제\n",
    "import shutil\n",
    "shutil.rmtree('os_dir')"
   ]
  },
  {
   "cell_type": "code",
   "execution_count": null,
   "metadata": {},
   "outputs": [],
   "source": [
    "!ls os_dir"
   ]
  },
  {
   "cell_type": "markdown",
   "metadata": {},
   "source": [
    "##### exists\n",
    "- 존재여부 확인하기"
   ]
  },
  {
   "cell_type": "code",
   "execution_count": null,
   "metadata": {},
   "outputs": [],
   "source": [
    "!ls os_dir"
   ]
  },
  {
   "cell_type": "code",
   "execution_count": null,
   "metadata": {},
   "outputs": [],
   "source": [
    "os.path.exists(\"os_dir/test.txt\")"
   ]
  },
  {
   "cell_type": "code",
   "execution_count": null,
   "metadata": {},
   "outputs": [],
   "source": [
    "os.path.exists(\"os_dir/test4.txt\")"
   ]
  },
  {
   "cell_type": "markdown",
   "metadata": {},
   "source": [
    "##### isfile\n",
    "- 타입이 파일인지 확인하기"
   ]
  },
  {
   "cell_type": "code",
   "execution_count": null,
   "metadata": {},
   "outputs": [],
   "source": [
    "os.path.isfile(\"os_dir/test.txt\")"
   ]
  },
  {
   "cell_type": "code",
   "execution_count": null,
   "metadata": {},
   "outputs": [],
   "source": [
    "os.path.isfile(\"os_dir\")"
   ]
  },
  {
   "cell_type": "markdown",
   "metadata": {},
   "source": [
    "##### isdir\n",
    "- 타입이 디렉토리인지 확인하기"
   ]
  },
  {
   "cell_type": "code",
   "execution_count": null,
   "metadata": {},
   "outputs": [],
   "source": [
    "os.path.isdir(\"os_dir/test.txt\")"
   ]
  },
  {
   "cell_type": "code",
   "execution_count": null,
   "metadata": {},
   "outputs": [],
   "source": [
    "os.path.isdir(\"os_dir\")"
   ]
  },
  {
   "cell_type": "markdown",
   "metadata": {},
   "source": [
    "##### copy\n",
    "- 복사하기"
   ]
  },
  {
   "cell_type": "code",
   "execution_count": null,
   "metadata": {},
   "outputs": [],
   "source": [
    "import shutil\n",
    "shutil.copy(\"os_dir/test.txt\", \"os_dir/copy.txt\")"
   ]
  },
  {
   "cell_type": "code",
   "execution_count": null,
   "metadata": {},
   "outputs": [],
   "source": [
    "os.path.isfile(\"os_dir/copy.txt\")"
   ]
  },
  {
   "cell_type": "code",
   "execution_count": null,
   "metadata": {},
   "outputs": [],
   "source": [
    "!ls os_dir"
   ]
  },
  {
   "cell_type": "markdown",
   "metadata": {},
   "source": [
    "##### rename\n",
    "- 이름바꾸기"
   ]
  },
  {
   "cell_type": "code",
   "execution_count": null,
   "metadata": {},
   "outputs": [],
   "source": [
    "os.rename(\"os_dir/copy.txt\", \"os_dir/rename.txt\")"
   ]
  },
  {
   "cell_type": "code",
   "execution_count": null,
   "metadata": {},
   "outputs": [],
   "source": [
    "os.path.isfile(\"os_dir/copy.txt\")"
   ]
  },
  {
   "cell_type": "code",
   "execution_count": null,
   "metadata": {},
   "outputs": [],
   "source": [
    "os.path.isfile(\"os_dir/rename.txt\")"
   ]
  },
  {
   "cell_type": "code",
   "execution_count": null,
   "metadata": {},
   "outputs": [],
   "source": [
    "!ls os_dir"
   ]
  },
  {
   "cell_type": "markdown",
   "metadata": {},
   "source": [
    "##### chmod\n",
    "- 권한 설정\n",
    "- 타입[:1], 소유자[1:4] 그룹[4:7] 공개[7:]\n",
    "- r(read), w(write), x(excute)"
   ]
  },
  {
   "cell_type": "code",
   "execution_count": null,
   "metadata": {},
   "outputs": [],
   "source": [
    "# 8진수 octet : 7(8) -> 111(2), 4(8) -> 100(2)\n",
    "os.chmod(\"os_dir/rename.txt\", 0o444) # 모든 사용자 read 권한만 갖도록 (-rw-r--r--) -> (-r--r--r--)"
   ]
  },
  {
   "cell_type": "code",
   "execution_count": null,
   "metadata": {},
   "outputs": [],
   "source": [
    "os.chmod(\"os_dir/rename.txt\", 0o644) # 파일 소유자는 작성권한을 갖도록  (-r--r--r--) -> (-rw-r--r--)"
   ]
  },
  {
   "cell_type": "code",
   "execution_count": null,
   "metadata": {},
   "outputs": [],
   "source": [
    "os.chmod(\"os_dir/rename.txt\", 0o000) # 모든권한제거  (-rw-r--r--) -> (----------)"
   ]
  }
 ],
 "metadata": {
  "kernelspec": {
   "display_name": "Python 3",
   "language": "python",
   "name": "python3"
  },
  "language_info": {
   "codemirror_mode": {
    "name": "ipython",
    "version": 3
   },
   "file_extension": ".py",
   "mimetype": "text/x-python",
   "name": "python",
   "nbconvert_exporter": "python",
   "pygments_lexer": "ipython3",
   "version": "3.6.3"
  }
 },
 "nbformat": 4,
 "nbformat_minor": 2
}
