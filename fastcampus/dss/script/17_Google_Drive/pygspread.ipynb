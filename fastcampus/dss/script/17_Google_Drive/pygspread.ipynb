{
 "cells": [
  {
   "cell_type": "markdown",
   "metadata": {},
   "source": [
    "##### pygsheets\n",
    "- http://pygsheets.readthedocs.io/en/latest/\n",
    "- https://github.com/nithinmurali/pygsheets\n",
    "- $ pip3 install pygsheets"
   ]
  },
  {
   "cell_type": "markdown",
   "metadata": {},
   "source": [
    "##### get oauth 2.0 client id\n",
    "- http://pygsheets.readthedocs.io/en/latest/authorizing.html#oauth-credentials\n",
    "- 인증 하기"
   ]
  },
  {
   "cell_type": "markdown",
   "metadata": {},
   "source": [
    "변수 사용\n",
    "- gc : 인증완료후 구글 드라이버에 접속할수 있는 객체\n",
    "- sh : 파일접속후 전체 시트 객체\n",
    "- sheet : 시트를 담은 변수\n",
    "- cell : 셀을 담은 변수"
   ]
  },
  {
   "cell_type": "code",
   "execution_count": null,
   "metadata": {},
   "outputs": [],
   "source": [
    "# 얘는 pygsheets임"
   ]
  },
  {
   "cell_type": "code",
   "execution_count": 115,
   "metadata": {},
   "outputs": [],
   "source": [
    "import pygsheets"
   ]
  },
  {
   "cell_type": "markdown",
   "metadata": {},
   "source": [
    "##### access\n",
    "- 시트 파일에 접속\n",
    "- oauth 2.0 인증후 다운 받은 json 파일을 outh_file을 키로하는 키워드 파라미터로 authorize 함수를 호출합니다.\n",
    "- 아래 코드를 실행하면 oauth 인증 허용 웹 페이지가 뜨고 허용으로 인증을 허용해야 google spreadsheet api를 사용할수 있습니다."
   ]
  },
  {
   "cell_type": "code",
   "execution_count": 116,
   "metadata": {},
   "outputs": [],
   "source": [
    "gc = pygsheets.authorize(outh_file='client_secret.json',no_cache=True)\n",
    "# File not found error 뜬다면\n",
    "# https://github.com/nithinmurali/pygsheets/issues/100\n",
    "\n",
    "# TCP/IP 방식이 아니라 수정하는 중간에 드라이브에서 직접 수정되면\n",
    "# 직접 수정한 건 반영 안되는 듯"
   ]
  },
  {
   "cell_type": "markdown",
   "metadata": {},
   "source": [
    "##### open sheet\n",
    "- 구글 드라이브로 가서 새로운 시트를 만듭니다.\n",
    "- 시트 파일 이름으로 시트를 오픈합니다.\n",
    "- open 함수에 시트의 이름을 파라미터로 넣어 구글 드라이버에 있는 시트 파일을 아래와 같이 열수 있습니다.\n",
    "- sh로 오픈한 시트 파일의 시트는 sh.sheet1으로 첫번째 시트를 가져올수 있습니다.\n",
    "- 처음에는 항상 첫번째 시트를 가져오고 selecting기능으로 다른 시트에 접근할수 있습니다."
   ]
  },
  {
   "cell_type": "code",
   "execution_count": 117,
   "metadata": {},
   "outputs": [
    {
     "data": {
      "text/plain": [
       "[{'id': '1whVnix1t3au-Vp4bhvcuXdZghlsVaSHKearcU3xe5WY', 'name': 'email'},\n",
       " {'id': '1uWm5GzvKwc9STzxVhDHzxXDxgCsOgN0O8EVmyq6QalU',\n",
       "  'name': '머신러닝/딥러닝 스터디그룹 in Korea'},\n",
       " {'id': '10eLxGvfUtBLB1qUPdiIY0z3Xd3tCWF8qbU8IlDiHD3U',\n",
       "  'name': 'DSS7_개인상담 일정_B'},\n",
       " {'id': '1sQQmSalRUcPXFz8uJodAcxrad_19oHAlvCSj35VVX3c',\n",
       "  'name': 'books for developers'},\n",
       " {'id': '1J7fgPxAnjYJoUkV-g3FooshyD075e7z_taYfKfW863A', 'name': '테스트 문서'},\n",
       " {'id': '1xVwFXZUcD7raImwBBofA5_Gydzqb8DhYl1db_P9-QU0', 'name': '테스트 문서2'},\n",
       " {'id': '1mII3LR99Ngftn8J8KKb5_XNhpB8b8i_maHlhU0HVX8g', 'name': '테스트 문서'},\n",
       " {'id': '1ePrn5itF2aaOC_TxJEGiEs6Cqsg71MXNdev3HlBYnL4', 'name': '테스트 문서'},\n",
       " {'id': '1Z_LX_0JggQHFjEKnJai1TrSfbkNOSot2GBFkLXtk_rs',\n",
       "  'name': '1.fastcampus/테스트 문서'},\n",
       " {'id': '15gtLfdVPgb9On5kUpKYB7j7Q9hs4YwZSmAAZ8JDa7tk', 'name': '테스트 문서'},\n",
       " {'id': '1XszjhPE8uJKBuAdvOb_WpXdG3X1kn25XDkOOkxTvHQA', 'name': 'data'},\n",
       " {'id': '1fFS4xAHSdysVOi7QZB7P0uOpBo8xMmw8krlifQOUt84', 'name': 'DAP정리'}]"
      ]
     },
     "execution_count": 117,
     "metadata": {},
     "output_type": "execute_result"
    }
   ],
   "source": [
    "gc.list_ssheets()"
   ]
  },
  {
   "cell_type": "code",
   "execution_count": 118,
   "metadata": {},
   "outputs": [
    {
     "data": {
      "text/plain": [
       "<Worksheet 'Sheet1' index:0>"
      ]
     },
     "execution_count": 118,
     "metadata": {},
     "output_type": "execute_result"
    }
   ],
   "source": [
    "sh = gc.open('email') # 파일 열기 (sh : 전체 시트에 대한 객체)\n",
    "# 상대경로 안먹히고 전체 이름으로 먹힘\n",
    "\n",
    "sheet1 = sh.sheet1    # 시트 접근 (sheet1 : 첫번째 시트에 대한 객체)\n",
    "sheet1"
   ]
  },
  {
   "cell_type": "markdown",
   "metadata": {},
   "source": [
    "##### create sheet\n",
    "- 시트 생성\n",
    "- add_worksheet 함수를 이용하여 생성할 시트이름, 행과 열의 크기를 파라미터로 넘겨 새로운 시트를 생성할수 있습니다."
   ]
  },
  {
   "cell_type": "code",
   "execution_count": 14,
   "metadata": {},
   "outputs": [
    {
     "data": {
      "text/plain": [
       "<Worksheet 'new_sheet' index:1>"
      ]
     },
     "execution_count": 14,
     "metadata": {},
     "output_type": "execute_result"
    }
   ],
   "source": [
    "# 5칸, 20줄을 가지는 new_sheet라는 이름의 새로운 시트를 생성하여 sheet2라는 변수에 넣어줌\n",
    "sheet2 = sh.add_worksheet(\"new_sheet\", rows=20, cols=5)\n",
    "sheet2"
   ]
  },
  {
   "cell_type": "markdown",
   "metadata": {},
   "source": [
    "##### copy sheet\n",
    "- 시트 복사\n",
    "- add_worksheet를 이용하여 src_worksheet 파라미터에 복사할 시트를 파라미터로 넘기면 새로운 시트를 생성할때 src_worksheet에 설정한 시트가 복사 됩니다."
   ]
  },
  {
   "cell_type": "code",
   "execution_count": 15,
   "metadata": {},
   "outputs": [
    {
     "data": {
      "text/plain": [
       "<Worksheet 'email_copied' index:2>"
      ]
     },
     "execution_count": 15,
     "metadata": {},
     "output_type": "execute_result"
    }
   ],
   "source": [
    "# sheet1을 복사하여 email_copied라는 title의 새로운 시트를 생성하여 sheet3이라는 변수에 넣어줌\n",
    "sheet3 = sh.add_worksheet(\"email_copied\", src_worksheet=sheet1)\n",
    "sheet3"
   ]
  },
  {
   "cell_type": "markdown",
   "metadata": {},
   "source": [
    "##### delete sheet\n",
    "- 시트 삭제\n",
    "- del_worksheet에 삭제한 시트 객체를 파라미터로 넘기면 해당 시트가 삭제됩니다."
   ]
  },
  {
   "cell_type": "code",
   "execution_count": 16,
   "metadata": {},
   "outputs": [],
   "source": [
    "# sheet3 변수가 가지는 sheet를 삭제\n",
    "sh.del_worksheet(sheet3)"
   ]
  },
  {
   "cell_type": "markdown",
   "metadata": {},
   "source": [
    "##### selecting  sheet\n",
    "- 시트가 모여있는 객체인 sh 객체에서 원하는 시트하나에 대한객체를 선택해서 가져오는 방법입니다.\n",
    "- 제목과 순서에 대한 값으로 시트를 가져올수 있습니다."
   ]
  },
  {
   "cell_type": "code",
   "execution_count": 17,
   "metadata": {},
   "outputs": [
    {
     "name": "stdout",
     "output_type": "stream",
     "text": [
      "[<Worksheet 'Sheet1' index:0>, <Worksheet 'new_sheet' index:1>]\n"
     ]
    }
   ],
   "source": [
    "# 모든 시트 리스트로 가져오기\n",
    "sheet_list = sh.worksheets()\n",
    "print(sheet_list)"
   ]
  },
  {
   "cell_type": "code",
   "execution_count": 20,
   "metadata": {},
   "outputs": [
    {
     "name": "stdout",
     "output_type": "stream",
     "text": [
      "<Worksheet 'new_sheet' index:1>\n"
     ]
    }
   ],
   "source": [
    "# 시트 제목으로 가져오기\n",
    "new_sheet = sh.worksheet_by_title(\"new_sheet\")\n",
    "print(new_sheet)"
   ]
  },
  {
   "cell_type": "code",
   "execution_count": 21,
   "metadata": {},
   "outputs": [
    {
     "name": "stdout",
     "output_type": "stream",
     "text": [
      "<Worksheet 'Sheet1' index:0>\n"
     ]
    }
   ],
   "source": [
    "# index로 시트 가져오기\n",
    "sheet0 = sh.worksheet(\"index\", 0)\n",
    "print(sheet0)"
   ]
  },
  {
   "cell_type": "code",
   "execution_count": 22,
   "metadata": {},
   "outputs": [
    {
     "data": {
      "text/plain": [
       "True"
      ]
     },
     "execution_count": 22,
     "metadata": {},
     "output_type": "execute_result"
    }
   ],
   "source": [
    "# 위에 저장한 첫번째 시트인 sheet1과 같은지 확인하기\n",
    "sheet0 == sheet1"
   ]
  },
  {
   "cell_type": "code",
   "execution_count": 23,
   "metadata": {},
   "outputs": [
    {
     "name": "stdout",
     "output_type": "stream",
     "text": [
      "<Worksheet 'Sheet1' index:0>\n"
     ]
    }
   ],
   "source": [
    "# offset으로 가져오기\n",
    "sheet0 = sh[0]\n",
    "print(sheet0)"
   ]
  },
  {
   "cell_type": "code",
   "execution_count": 24,
   "metadata": {},
   "outputs": [
    {
     "data": {
      "text/plain": [
       "True"
      ]
     },
     "execution_count": 24,
     "metadata": {},
     "output_type": "execute_result"
    }
   ],
   "source": [
    "# 위에 저장한 첫번째 시트인 sheet1과 같은지 확인하기\n",
    "sheet0 == sheet1"
   ]
  },
  {
   "cell_type": "markdown",
   "metadata": {},
   "source": [
    "##### get values"
   ]
  },
  {
   "cell_type": "code",
   "execution_count": 28,
   "metadata": {},
   "outputs": [
    {
     "data": {
      "text/plain": [
       "[{'순번': 1, '이름': '이재웅', '이메일': 'jkl2142@naver.com'},\n",
       " {'순번': 2, '이름': '박평기', '이메일': 'ahffk@naver.com'},\n",
       " {'순번': 3, '이름': '윤정현', '이메일': 'epgpt@naver.com'}]"
      ]
     },
     "execution_count": 28,
     "metadata": {},
     "output_type": "execute_result"
    }
   ],
   "source": [
    "# 전체 데이터 리스트로 가져오기 (딕셔너리타입)\n",
    "sheet1.get_all_records()"
   ]
  },
  {
   "cell_type": "code",
   "execution_count": 30,
   "metadata": {},
   "outputs": [
    {
     "data": {
      "text/plain": [
       "[['순번', '이름', '이메일'],\n",
       " ['1', '이재웅', 'jkl2142@naver.com'],\n",
       " ['2', '박평기', 'ahffk@naver.com'],\n",
       " ['3', '윤정현', 'epgpt@naver.com']]"
      ]
     },
     "execution_count": 30,
     "metadata": {},
     "output_type": "execute_result"
    }
   ],
   "source": [
    "# 모든 데이터 행렬로 가져오기 (리스트타입)\n",
    "all_data_sheet1 = sheet1.get_all_values(returnas='matrix')\n",
    "all_data_sheet1"
   ]
  },
  {
   "cell_type": "code",
   "execution_count": 31,
   "metadata": {},
   "outputs": [
    {
     "data": {
      "text/plain": [
       "[['이재웅', 'jkl2142@naver.com'], ['박평기', 'ahffk@naver.com']]"
      ]
     },
     "execution_count": 31,
     "metadata": {},
     "output_type": "execute_result"
    }
   ],
   "source": [
    "# 위치를 지정하여 행렬 형태로 데이터 가져오기\n",
    "some_data_sheet1 = sheet1.get_values(start=(2,2), end=(3,3), returnas='matrix')\n",
    "some_data_sheet1"
   ]
  },
  {
   "cell_type": "code",
   "execution_count": 32,
   "metadata": {},
   "outputs": [
    {
     "data": {
      "text/plain": [
       "'epgpt@naver.com'"
      ]
     },
     "execution_count": 32,
     "metadata": {},
     "output_type": "execute_result"
    }
   ],
   "source": [
    "# \"시트[행][열]\"과 같은 방법으로 특정 셀의 데이터를 가져올수 있습니다.\n",
    "value = sheet1[3][2] \n",
    "value"
   ]
  },
  {
   "cell_type": "code",
   "execution_count": 35,
   "metadata": {
    "scrolled": true
   },
   "outputs": [
    {
     "data": {
      "text/plain": [
       "[<Cell R2C3 'jkl2142@naver.com'>]"
      ]
     },
     "execution_count": 35,
     "metadata": {},
     "output_type": "execute_result"
    }
   ],
   "source": [
    "# 문자열 찾기\n",
    "cell_list = sh[0].find(\"jkl2142@naver.com\")\n",
    "cell_list"
   ]
  },
  {
   "cell_type": "code",
   "execution_count": 36,
   "metadata": {},
   "outputs": [
    {
     "data": {
      "text/plain": [
       "[<Cell R2C3 'jkl2142@gmail.com'>]"
      ]
     },
     "execution_count": 36,
     "metadata": {},
     "output_type": "execute_result"
    }
   ],
   "source": [
    "# 특정 문자열이 있는 셀을 찾아서 다른 문자열로 바꾸기\n",
    "cell_list = sh[0].find(\"jkl2142@naver.com\", replace=\"jkl2142@gmail.com\")\n",
    "cell_list"
   ]
  },
  {
   "cell_type": "code",
   "execution_count": 37,
   "metadata": {},
   "outputs": [
    {
     "name": "stdout",
     "output_type": "stream",
     "text": [
      "sheet1.csv\n"
     ]
    }
   ],
   "source": [
    "# 로컬에 csv 파일로 export하기\n",
    "sheet1.export(pygsheets.ExportType.CSV, filename=\"sheet1.csv\")"
   ]
  },
  {
   "cell_type": "markdown",
   "metadata": {},
   "source": [
    "##### update & insert"
   ]
  },
  {
   "cell_type": "code",
   "execution_count": 39,
   "metadata": {},
   "outputs": [],
   "source": [
    "# A1에서 C4까지의 위치에 some_data_sheet1 데이터로 업데이트함\n",
    "sh[1].update_cells(crange='A1:C4', values=some_data_sheet1)"
   ]
  },
  {
   "cell_type": "code",
   "execution_count": 40,
   "metadata": {},
   "outputs": [
    {
     "data": {
      "text/plain": [
       "[['이재웅', 'jkl2142@naver.com'], ['박평기', 'ahffk@naver.com']]"
      ]
     },
     "execution_count": 40,
     "metadata": {},
     "output_type": "execute_result"
    }
   ],
   "source": [
    "# sh[1] 위치에 있는 두번째 시트에 대한 모든 데이터를 가져옴\n",
    "all_data_sheet2 = sh[1].get_all_values()\n",
    "all_data_sheet2"
   ]
  },
  {
   "cell_type": "code",
   "execution_count": 41,
   "metadata": {},
   "outputs": [],
   "source": [
    "# 4번째줄 아래로 2줄 삽입 (5,6번째줄에 데이터 삽입)\n",
    "sh[1].insert_rows(row=4, number=2, values=all_data_sheet2)"
   ]
  },
  {
   "cell_type": "code",
   "execution_count": 42,
   "metadata": {},
   "outputs": [],
   "source": [
    "# 시트의 열과 행을 재설정해줌\n",
    "sh[1].rows=7\n",
    "sh[1].cols=2"
   ]
  },
  {
   "cell_type": "code",
   "execution_count": 43,
   "metadata": {},
   "outputs": [
    {
     "name": "stdout",
     "output_type": "stream",
     "text": [
      "['이재웅', 'jkl2142@naver.com']\n",
      "['박평기', 'ahffk@naver.com']\n",
      "['', '']\n",
      "['', '']\n",
      "['이재웅', 'jkl2142@naver.com']\n",
      "['박평기', 'ahffk@naver.com']\n"
     ]
    }
   ],
   "source": [
    "# 반복문을 통해 한줄씩 읽어 올수 있음\n",
    "for row in sh[1]:\n",
    "    print(row)"
   ]
  },
  {
   "cell_type": "code",
   "execution_count": 44,
   "metadata": {},
   "outputs": [],
   "source": [
    "# 시트의 제목을 업데이트\n",
    "sh[1].title = \"NewSheet\""
   ]
  },
  {
   "cell_type": "code",
   "execution_count": 45,
   "metadata": {},
   "outputs": [],
   "source": [
    "# 시트의 마지막 데이터를 찾아 마지막 데이터의 아래에 데이터를 추가\n",
    "sh[1].append_table(values=[\"이민성\", \"pdj1224@gmail.com\"])"
   ]
  },
  {
   "cell_type": "markdown",
   "metadata": {},
   "source": [
    "##### delete"
   ]
  },
  {
   "cell_type": "code",
   "execution_count": 46,
   "metadata": {},
   "outputs": [],
   "source": [
    "# 시트 내용 모두 삭제하기\n",
    "sh[1].clear()"
   ]
  },
  {
   "cell_type": "markdown",
   "metadata": {},
   "source": [
    "##### change to pandas\n",
    "- google sheet를 데이터 분석을 위한 파이썬 패키지인 pandas의 DataFrame으로 변환할수 있다."
   ]
  },
  {
   "cell_type": "code",
   "execution_count": 60,
   "metadata": {},
   "outputs": [],
   "source": [
    "import pandas as pd"
   ]
  },
  {
   "cell_type": "code",
   "execution_count": 61,
   "metadata": {},
   "outputs": [
    {
     "data": {
      "text/plain": [
       "<Worksheet 'Sheet1' index:0>"
      ]
     },
     "execution_count": 61,
     "metadata": {},
     "output_type": "execute_result"
    }
   ],
   "source": [
    "sheet1"
   ]
  },
  {
   "cell_type": "code",
   "execution_count": 63,
   "metadata": {},
   "outputs": [
    {
     "data": {
      "text/html": [
       "<div>\n",
       "<style>\n",
       "    .dataframe thead tr:only-child th {\n",
       "        text-align: right;\n",
       "    }\n",
       "\n",
       "    .dataframe thead th {\n",
       "        text-align: left;\n",
       "    }\n",
       "\n",
       "    .dataframe tbody tr th {\n",
       "        vertical-align: top;\n",
       "    }\n",
       "</style>\n",
       "<table border=\"1\" class=\"dataframe\">\n",
       "  <thead>\n",
       "    <tr style=\"text-align: right;\">\n",
       "      <th></th>\n",
       "      <th>순번</th>\n",
       "      <th>이름</th>\n",
       "      <th>이메일</th>\n",
       "    </tr>\n",
       "  </thead>\n",
       "  <tbody>\n",
       "    <tr>\n",
       "      <th>0</th>\n",
       "      <td>1</td>\n",
       "      <td>이재웅</td>\n",
       "      <td>jkl2142@gmail.com</td>\n",
       "    </tr>\n",
       "    <tr>\n",
       "      <th>1</th>\n",
       "      <td>2</td>\n",
       "      <td>박평기</td>\n",
       "      <td>ahffk@naver.com</td>\n",
       "    </tr>\n",
       "    <tr>\n",
       "      <th>2</th>\n",
       "      <td>3</td>\n",
       "      <td>윤정현</td>\n",
       "      <td>epgpt@naver.com</td>\n",
       "    </tr>\n",
       "  </tbody>\n",
       "</table>\n",
       "</div>"
      ],
      "text/plain": [
       "   순번   이름                이메일\n",
       "0   1  이재웅  jkl2142@gmail.com\n",
       "1   2  박평기    ahffk@naver.com\n",
       "2   3  윤정현    epgpt@naver.com"
      ]
     },
     "execution_count": 63,
     "metadata": {},
     "output_type": "execute_result"
    }
   ],
   "source": [
    "df = pd.DataFrame(columns=[\"순번\", \"이름\", \"이메일\"])\n",
    "sheet1.set_dataframe(df, (1, 1))  # 1,1로 해야 1,1 위치의 셀부터 데이터를 가져옵니다.\n",
    "df = sheet1.get_as_df()\n",
    "df"
   ]
  },
  {
   "cell_type": "code",
   "execution_count": 121,
   "metadata": {},
   "outputs": [],
   "source": [
    "# csv 파일로 저장\n",
    "df.to_csv(\"email1.csv\", index=False, encoding='utf-8')\n",
    "# 주피터 노트북에서 "
   ]
  },
  {
   "cell_type": "code",
   "execution_count": 32,
   "metadata": {},
   "outputs": [
    {
     "data": {
      "text/html": [
       "<div>\n",
       "<style scoped>\n",
       "    .dataframe tbody tr th:only-of-type {\n",
       "        vertical-align: middle;\n",
       "    }\n",
       "\n",
       "    .dataframe tbody tr th {\n",
       "        vertical-align: top;\n",
       "    }\n",
       "\n",
       "    .dataframe thead th {\n",
       "        text-align: right;\n",
       "    }\n",
       "</style>\n",
       "<table border=\"1\" class=\"dataframe\">\n",
       "  <thead>\n",
       "    <tr style=\"text-align: right;\">\n",
       "      <th></th>\n",
       "      <th>순번</th>\n",
       "      <th>이름</th>\n",
       "      <th>이메일</th>\n",
       "    </tr>\n",
       "  </thead>\n",
       "  <tbody>\n",
       "    <tr>\n",
       "      <th>0</th>\n",
       "      <td>1</td>\n",
       "      <td>박두진</td>\n",
       "      <td>pdj1224@gmail.com</td>\n",
       "    </tr>\n",
       "    <tr>\n",
       "      <th>1</th>\n",
       "      <td>2</td>\n",
       "      <td>김상진</td>\n",
       "      <td>1221pdj@naver.com</td>\n",
       "    </tr>\n",
       "    <tr>\n",
       "      <th>2</th>\n",
       "      <td>3</td>\n",
       "      <td>최운성</td>\n",
       "      <td>pdj1224@daum.net</td>\n",
       "    </tr>\n",
       "  </tbody>\n",
       "</table>\n",
       "</div>"
      ],
      "text/plain": [
       "   순번   이름                이메일\n",
       "0   1  박두진  pdj1224@gmail.com\n",
       "1   2  김상진  1221pdj@naver.com\n",
       "2   3  최운성   pdj1224@daum.net"
      ]
     },
     "execution_count": 32,
     "metadata": {},
     "output_type": "execute_result"
    }
   ],
   "source": [
    "# csv 파일 읽어오기\n",
    "df = pd.read_csv(\"email.csv\")\n",
    "df"
   ]
  },
  {
   "cell_type": "markdown",
   "metadata": {},
   "source": [
    "##### Cell"
   ]
  },
  {
   "cell_type": "code",
   "execution_count": 65,
   "metadata": {},
   "outputs": [
    {
     "data": {
      "text/plain": [
       "<Worksheet 'cell_test' index:2>"
      ]
     },
     "execution_count": 65,
     "metadata": {},
     "output_type": "execute_result"
    }
   ],
   "source": [
    "# sheet1을 cell_test 시트를 만들어 복사한다.\n",
    "test_sheet = sh.add_worksheet(\"cell_test\", src_worksheet=sheet1)\n",
    "test_sheet"
   ]
  },
  {
   "cell_type": "code",
   "execution_count": 66,
   "metadata": {},
   "outputs": [
    {
     "name": "stdout",
     "output_type": "stream",
     "text": [
      "이재웅\n",
      "jkl2142@gmail.com\n"
     ]
    }
   ],
   "source": [
    "# 특정 셀의 객체 가져오기\n",
    "b2 = test_sheet.cell('B2')\n",
    "\n",
    "# 셀 값 확인\n",
    "print(b2.value)\n",
    "\n",
    "# b2 객체의 3번째 칸의 데이터를 b2에 할당\n",
    "b2.col = 3\n",
    "\n",
    "# 셀 값 확인\n",
    "print(b2.value)"
   ]
  },
  {
   "cell_type": "code",
   "execution_count": 67,
   "metadata": {},
   "outputs": [
    {
     "data": {
      "text/plain": [
       "'pdj1224@gmail.com'"
      ]
     },
     "execution_count": 67,
     "metadata": {},
     "output_type": "execute_result"
    }
   ],
   "source": [
    "# b2에 해당하는 위치의 데이터를 \"pdj1224@gmail.com\"로 바꿈\n",
    "b2.value = \"pdj1224@gmail.com\"\n",
    "b2.value"
   ]
  },
  {
   "cell_type": "code",
   "execution_count": 68,
   "metadata": {},
   "outputs": [],
   "source": [
    "# C2 위치의 데이터를 'radajin1224@gmail.com'로 업데이트함\n",
    "test_sheet.update_cell('C2', 'radajin1224@gmail.com')"
   ]
  },
  {
   "cell_type": "code",
   "execution_count": 69,
   "metadata": {},
   "outputs": [
    {
     "name": "stdout",
     "output_type": "stream",
     "text": [
      "[[<Cell R1C1 '순번'>, <Cell R1C2 '이름'>, <Cell R1C3 '이메일'>], [<Cell R2C1 '1'>, <Cell R2C2 '이재웅'>, <Cell R2C3 'radajin1224@gmail.com'>], [<Cell R3C1 '2'>, <Cell R3C2 '박평기'>, <Cell R3C3 'ahffk@naver.com'>], [<Cell R4C1 '3'>, <Cell R4C2 '윤정현'>, <Cell R4C3 'epgpt@naver.com'>]]\n"
     ]
    }
   ],
   "source": [
    "# A1에서 C4의 셀 리스트 가져옴\n",
    "cell_list = test_sheet.range('A1:C4')\n",
    "print(cell_list)"
   ]
  },
  {
   "cell_type": "code",
   "execution_count": 39,
   "metadata": {},
   "outputs": [
    {
     "name": "stdout",
     "output_type": "stream",
     "text": [
      "[[<Cell R1C1 '순번'>, <Cell R1C2 '이름'>, <Cell R1C3 '이메일'>], [<Cell R2C1 '1'>, <Cell R2C2 '박두진'>, <Cell R2C3 'radajin1224@gmail.com'>], [<Cell R3C1 '2'>, <Cell R3C2 '김상진'>, <Cell R3C3 '1221pdj@naver.com'>], [<Cell R4C1 '3'>, <Cell R4C2 '최운성'>, <Cell R4C3 'pdj1224@daum.net'>]]\n"
     ]
    }
   ],
   "source": [
    "# A1에서 C4의 셀 리스트 가져옴\n",
    "cell_list = test_sheet.get_values('A1','C4', returnas='cells')\n",
    "print(cell_list)"
   ]
  },
  {
   "cell_type": "code",
   "execution_count": 70,
   "metadata": {},
   "outputs": [
    {
     "name": "stdout",
     "output_type": "stream",
     "text": [
      "[<Cell R2C1 '1'>, <Cell R2C2 '이재웅'>, <Cell R2C3 'radajin1224@gmail.com'>, <Cell R2C4 ''>, <Cell R2C5 ''>, <Cell R2C6 ''>, <Cell R2C7 ''>, <Cell R2C8 ''>, <Cell R2C9 ''>, <Cell R2C10 ''>, <Cell R2C11 ''>, <Cell R2C12 ''>, <Cell R2C13 ''>, <Cell R2C14 ''>, <Cell R2C15 ''>, <Cell R2C16 ''>, <Cell R2C17 ''>, <Cell R2C18 ''>, <Cell R2C19 ''>, <Cell R2C20 ''>, <Cell R2C21 ''>, <Cell R2C22 ''>, <Cell R2C23 ''>, <Cell R2C24 ''>, <Cell R2C25 ''>, <Cell R2C26 ''>]\n"
     ]
    }
   ],
   "source": [
    "# 두번째 줄의 셀 리스트 가져옴\n",
    "cell_list = test_sheet.get_row(2, returnas='cells')\n",
    "print(cell_list)"
   ]
  },
  {
   "cell_type": "code",
   "execution_count": 71,
   "metadata": {},
   "outputs": [
    {
     "name": "stdout",
     "output_type": "stream",
     "text": [
      "Wall time: 13 s\n"
     ]
    }
   ],
   "source": [
    "%%time\n",
    "cell = test_sheet.cell('C2')\n",
    "\n",
    "# 노트 추가\n",
    "cell.note = \"this is email data.\"\n",
    "\n",
    "# 셀 배경 색상 변경 (Red, Green, Blue, Alpha\n",
    "cell.color = (1.0,1.0,0.0,1.0) \n",
    "\n",
    "# 텍스트 포멧 변경\n",
    "cell.text_format['fontSize'] = 12\n",
    "cell.text_format['bold'] = True\n",
    "\n",
    "# sync the changes\n",
    "cell.update()"
   ]
  },
  {
   "cell_type": "code",
   "execution_count": 72,
   "metadata": {},
   "outputs": [
    {
     "data": {
      "text/plain": [
       "'데헷\\n'"
      ]
     },
     "execution_count": 72,
     "metadata": {},
     "output_type": "execute_result"
    }
   ],
   "source": [
    "cell1 = test_sheet.cell('C4')\n",
    "\n",
    "cell1.note"
   ]
  },
  {
   "cell_type": "markdown",
   "metadata": {},
   "source": [
    "##### share"
   ]
  },
  {
   "cell_type": "code",
   "execution_count": 42,
   "metadata": {},
   "outputs": [],
   "source": [
    "# add\n",
    "sh.share(\"radajin1224@gmail.com\")\n",
    "# DOCSTRING 열어서 role parameter 확인"
   ]
  },
  {
   "cell_type": "code",
   "execution_count": 43,
   "metadata": {},
   "outputs": [
    {
     "data": {
      "text/plain": [
       "''"
      ]
     },
     "execution_count": 43,
     "metadata": {},
     "output_type": "execute_result"
    }
   ],
   "source": [
    "# remove\n",
    "sh.remove_permissions(\"radajin1224@gmail.com\")"
   ]
  },
  {
   "cell_type": "markdown",
   "metadata": {},
   "source": [
    "##### all clear"
   ]
  },
  {
   "cell_type": "code",
   "execution_count": 74,
   "metadata": {},
   "outputs": [
    {
     "ename": "WorksheetNotFound",
     "evalue": "",
     "output_type": "error",
     "traceback": [
      "\u001b[1;31m---------------------------------------------------------------------------\u001b[0m",
      "\u001b[1;31mWorksheetNotFound\u001b[0m                         Traceback (most recent call last)",
      "\u001b[1;32m<ipython-input-74-a7dbd586a3b3>\u001b[0m in \u001b[0;36m<module>\u001b[1;34m()\u001b[0m\n\u001b[1;32m----> 1\u001b[1;33m \u001b[0msh\u001b[0m\u001b[1;33m.\u001b[0m\u001b[0mdel_worksheet\u001b[0m\u001b[1;33m(\u001b[0m\u001b[0msh\u001b[0m\u001b[1;33m[\u001b[0m\u001b[1;36m1\u001b[0m\u001b[1;33m]\u001b[0m\u001b[1;33m)\u001b[0m\u001b[1;33m\u001b[0m\u001b[0m\n\u001b[0m",
      "\u001b[1;32md:\\anaconda\\lib\\site-packages\\pygsheets\\spreadsheet.py\u001b[0m in \u001b[0;36m__getitem__\u001b[1;34m(self, item)\u001b[0m\n\u001b[0;32m    353\u001b[0m     \u001b[1;32mdef\u001b[0m \u001b[0m__getitem__\u001b[0m\u001b[1;33m(\u001b[0m\u001b[0mself\u001b[0m\u001b[1;33m,\u001b[0m \u001b[0mitem\u001b[0m\u001b[1;33m)\u001b[0m\u001b[1;33m:\u001b[0m\u001b[1;33m\u001b[0m\u001b[0m\n\u001b[0;32m    354\u001b[0m         \u001b[1;32mif\u001b[0m \u001b[0mtype\u001b[0m\u001b[1;33m(\u001b[0m\u001b[0mitem\u001b[0m\u001b[1;33m)\u001b[0m \u001b[1;33m==\u001b[0m \u001b[0mint\u001b[0m\u001b[1;33m:\u001b[0m\u001b[1;33m\u001b[0m\u001b[0m\n\u001b[1;32m--> 355\u001b[1;33m             \u001b[1;32mreturn\u001b[0m \u001b[0mself\u001b[0m\u001b[1;33m.\u001b[0m\u001b[0mworksheet\u001b[0m\u001b[1;33m(\u001b[0m\u001b[1;34m'index'\u001b[0m\u001b[1;33m,\u001b[0m \u001b[0mitem\u001b[0m\u001b[1;33m)\u001b[0m\u001b[1;33m\u001b[0m\u001b[0m\n\u001b[0m",
      "\u001b[1;32md:\\anaconda\\lib\\site-packages\\pygsheets\\spreadsheet.py\u001b[0m in \u001b[0;36mworksheet\u001b[1;34m(self, property, value)\u001b[0m\n\u001b[0;32m    147\u001b[0m \u001b[1;33m\u001b[0m\u001b[0m\n\u001b[0;32m    148\u001b[0m         \"\"\"\n\u001b[1;32m--> 149\u001b[1;33m         \u001b[1;32mreturn\u001b[0m \u001b[0mself\u001b[0m\u001b[1;33m.\u001b[0m\u001b[0mworksheets\u001b[0m\u001b[1;33m(\u001b[0m\u001b[0mproperty\u001b[0m\u001b[1;33m,\u001b[0m \u001b[0mvalue\u001b[0m\u001b[1;33m)\u001b[0m\u001b[1;33m[\u001b[0m\u001b[1;36m0\u001b[0m\u001b[1;33m]\u001b[0m\u001b[1;33m\u001b[0m\u001b[0m\n\u001b[0m\u001b[0;32m    150\u001b[0m \u001b[1;33m\u001b[0m\u001b[0m\n\u001b[0;32m    151\u001b[0m     \u001b[1;32mdef\u001b[0m \u001b[0mworksheet_by_title\u001b[0m\u001b[1;33m(\u001b[0m\u001b[0mself\u001b[0m\u001b[1;33m,\u001b[0m \u001b[0mtitle\u001b[0m\u001b[1;33m)\u001b[0m\u001b[1;33m:\u001b[0m\u001b[1;33m\u001b[0m\u001b[0m\n",
      "\u001b[1;32md:\\anaconda\\lib\\site-packages\\pygsheets\\spreadsheet.py\u001b[0m in \u001b[0;36mworksheets\u001b[1;34m(self, sheet_property, value, force_fetch)\u001b[0m\n\u001b[0;32m    127\u001b[0m             \u001b[0msheets\u001b[0m \u001b[1;33m=\u001b[0m \u001b[1;33m[\u001b[0m\u001b[0mx\u001b[0m \u001b[1;32mfor\u001b[0m \u001b[0mx\u001b[0m \u001b[1;32min\u001b[0m \u001b[0mself\u001b[0m\u001b[1;33m.\u001b[0m\u001b[0m_sheet_list\u001b[0m \u001b[1;32mif\u001b[0m \u001b[0mgetattr\u001b[0m\u001b[1;33m(\u001b[0m\u001b[0mx\u001b[0m\u001b[1;33m,\u001b[0m \u001b[0msheet_property\u001b[0m\u001b[1;33m)\u001b[0m \u001b[1;33m==\u001b[0m \u001b[0mvalue\u001b[0m\u001b[1;33m]\u001b[0m\u001b[1;33m\u001b[0m\u001b[0m\n\u001b[0;32m    128\u001b[0m             \u001b[1;32mif\u001b[0m \u001b[1;32mnot\u001b[0m \u001b[0mlen\u001b[0m\u001b[1;33m(\u001b[0m\u001b[0msheets\u001b[0m\u001b[1;33m)\u001b[0m \u001b[1;33m>\u001b[0m \u001b[1;36m0\u001b[0m\u001b[1;33m:\u001b[0m\u001b[1;33m\u001b[0m\u001b[0m\n\u001b[1;32m--> 129\u001b[1;33m                 \u001b[1;32mraise\u001b[0m \u001b[0mWorksheetNotFound\u001b[0m\u001b[1;33m(\u001b[0m\u001b[1;33m)\u001b[0m\u001b[1;33m\u001b[0m\u001b[0m\n\u001b[0m\u001b[0;32m    130\u001b[0m         \u001b[1;32mreturn\u001b[0m \u001b[0msheets\u001b[0m\u001b[1;33m\u001b[0m\u001b[0m\n\u001b[0;32m    131\u001b[0m \u001b[1;33m\u001b[0m\u001b[0m\n",
      "\u001b[1;31mWorksheetNotFound\u001b[0m: "
     ]
    }
   ],
   "source": [
    "sh.del_worksheet(sh[1])"
   ]
  },
  {
   "cell_type": "markdown",
   "metadata": {},
   "source": [
    "##### seaborn에서 iris 데이터를 가져와서 구글 데이터 시트에 넣기"
   ]
  },
  {
   "cell_type": "code",
   "execution_count": 105,
   "metadata": {},
   "outputs": [
    {
     "data": {
      "text/html": [
       "<div>\n",
       "<style>\n",
       "    .dataframe thead tr:only-child th {\n",
       "        text-align: right;\n",
       "    }\n",
       "\n",
       "    .dataframe thead th {\n",
       "        text-align: left;\n",
       "    }\n",
       "\n",
       "    .dataframe tbody tr th {\n",
       "        vertical-align: top;\n",
       "    }\n",
       "</style>\n",
       "<table border=\"1\" class=\"dataframe\">\n",
       "  <thead>\n",
       "    <tr style=\"text-align: right;\">\n",
       "      <th></th>\n",
       "      <th>sepal_length</th>\n",
       "      <th>sepal_width</th>\n",
       "      <th>petal_length</th>\n",
       "      <th>petal_width</th>\n",
       "      <th>species</th>\n",
       "    </tr>\n",
       "  </thead>\n",
       "  <tbody>\n",
       "    <tr>\n",
       "      <th>145</th>\n",
       "      <td>6.7</td>\n",
       "      <td>3.0</td>\n",
       "      <td>5.2</td>\n",
       "      <td>2.3</td>\n",
       "      <td>virginica</td>\n",
       "    </tr>\n",
       "    <tr>\n",
       "      <th>146</th>\n",
       "      <td>6.3</td>\n",
       "      <td>2.5</td>\n",
       "      <td>5.0</td>\n",
       "      <td>1.9</td>\n",
       "      <td>virginica</td>\n",
       "    </tr>\n",
       "    <tr>\n",
       "      <th>147</th>\n",
       "      <td>6.5</td>\n",
       "      <td>3.0</td>\n",
       "      <td>5.2</td>\n",
       "      <td>2.0</td>\n",
       "      <td>virginica</td>\n",
       "    </tr>\n",
       "    <tr>\n",
       "      <th>148</th>\n",
       "      <td>6.2</td>\n",
       "      <td>3.4</td>\n",
       "      <td>5.4</td>\n",
       "      <td>2.3</td>\n",
       "      <td>virginica</td>\n",
       "    </tr>\n",
       "    <tr>\n",
       "      <th>149</th>\n",
       "      <td>5.9</td>\n",
       "      <td>3.0</td>\n",
       "      <td>5.1</td>\n",
       "      <td>1.8</td>\n",
       "      <td>virginica</td>\n",
       "    </tr>\n",
       "  </tbody>\n",
       "</table>\n",
       "</div>"
      ],
      "text/plain": [
       "     sepal_length  sepal_width  petal_length  petal_width    species\n",
       "145           6.7          3.0           5.2          2.3  virginica\n",
       "146           6.3          2.5           5.0          1.9  virginica\n",
       "147           6.5          3.0           5.2          2.0  virginica\n",
       "148           6.2          3.4           5.4          2.3  virginica\n",
       "149           5.9          3.0           5.1          1.8  virginica"
      ]
     },
     "execution_count": 105,
     "metadata": {},
     "output_type": "execute_result"
    }
   ],
   "source": [
    "import seaborn as sns\n",
    "iris = sns.load_dataset(\"iris\")\n",
    "iris.tail()"
   ]
  },
  {
   "cell_type": "code",
   "execution_count": 76,
   "metadata": {},
   "outputs": [],
   "source": [
    "# 새로운 시트 만들기\n",
    "iris_sheet = sh.add_worksheet(\"iris\")"
   ]
  },
  {
   "cell_type": "code",
   "execution_count": 114,
   "metadata": {},
   "outputs": [],
   "source": [
    "iris['sepal_length'] = iris['sepal_length'].astype('int32')\n",
    "iris['sepal_width'] = iris['sepal_length'].astype('int32')\n",
    "iris['petal_length'] = iris['sepal_length'].astype('int32')\n",
    "iris['petal_width'] = iris['sepal_length'].astype('int32')\n",
    "\n",
    "iris_sheet.set_dataframe(iris, 'A1') # (df, cell_start)\n",
    "\n",
    "# index가 int64여서 안들어감\n",
    "# 형변환 시켜줘야 하는데 명령어가 안먹음"
   ]
  },
  {
   "cell_type": "code",
   "execution_count": null,
   "metadata": {},
   "outputs": [],
   "source": []
  }
 ],
 "metadata": {
  "kernelspec": {
   "display_name": "Python 3",
   "language": "python",
   "name": "python3"
  },
  "language_info": {
   "codemirror_mode": {
    "name": "ipython",
    "version": 3
   },
   "file_extension": ".py",
   "mimetype": "text/x-python",
   "name": "python",
   "nbconvert_exporter": "python",
   "pygments_lexer": "ipython3",
   "version": "3.6.3"
  }
 },
 "nbformat": 4,
 "nbformat_minor": 2
}
