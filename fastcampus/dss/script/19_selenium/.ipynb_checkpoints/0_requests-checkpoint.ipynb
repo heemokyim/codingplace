{
 "cells": [
  {
   "cell_type": "code",
   "execution_count": 1,
   "metadata": {},
   "outputs": [],
   "source": [
    "import requests\n",
    "import time\n",
    "from bs4 import BeautifulSoup\n",
    "import pandas as pd"
   ]
  },
  {
   "cell_type": "markdown",
   "metadata": {},
   "source": [
    "데이터 긁어올 때 \n",
    "   1. ## 자사에서 제공하는 api를 request모듈로 요청함\n",
    "   2. ### 뷰티풀솝으로 html코드를 통째로 가져와서 데이터를 selector로 고름\n",
    "   3. ### 셀레니움으로 브라우저 자동화를 통해 가져옴"
   ]
  },
  {
   "cell_type": "markdown",
   "metadata": {},
   "source": [
    "### Requests\n",
    "- http://docs.python-requests.org/en/master/"
   ]
  },
  {
   "cell_type": "markdown",
   "metadata": {},
   "source": [
    "##### 네이버 주식 데이터 가져오기\n",
    "- api 사용 : json 파싱을 한다.\n",
    "- 네이버 주식 페이지에서 주식 데이터를 가져와 데이터 프레임으로 만들기\n",
    "- http://m.stock.naver.com"
   ]
  },
  {
   "cell_type": "code",
   "execution_count": 20,
   "metadata": {},
   "outputs": [],
   "source": [
    "def make_url(pageSize=10, page=1):\n",
    "    return \"http://m.stock.naver.com/api/json/sise/siseListJson.nhn?menu=market_sum&sosok=0&pageSize=\" + str(pageSize) + \"&page=\" + str(page)\n",
    "\n",
    "def get_data(url):\n",
    "    response = requests.get(url)\n",
    "    json_info = response.json()\n",
    "    companys = json_info[\"result\"][\"itemList\"]\n",
    "    df = pd.DataFrame(columns=[\"종목\", \"시세\", \"전일비\", \"등락율\", \"시가총액\", \"거래량\"])\n",
    "    for company in companys:\n",
    "        df.loc[len(df)] = {\n",
    "            \"종목\":company[\"nm\"],\n",
    "            \"시세\":company[\"nv\"],\n",
    "            \"전일비\":company[\"cv\"],\n",
    "            \"등락율\":company[\"cr\"],\n",
    "            \"시가총액\":company[\"mks\"],\n",
    "            \"거래량\":company[\"aq\"],\n",
    "        }\n",
    "    return df"
   ]
  },
  {
   "cell_type": "code",
   "execution_count": 21,
   "metadata": {},
   "outputs": [
    {
     "data": {
      "text/html": [
       "<div>\n",
       "<style>\n",
       "    .dataframe thead tr:only-child th {\n",
       "        text-align: right;\n",
       "    }\n",
       "\n",
       "    .dataframe thead th {\n",
       "        text-align: left;\n",
       "    }\n",
       "\n",
       "    .dataframe tbody tr th {\n",
       "        vertical-align: top;\n",
       "    }\n",
       "</style>\n",
       "<table border=\"1\" class=\"dataframe\">\n",
       "  <thead>\n",
       "    <tr style=\"text-align: right;\">\n",
       "      <th></th>\n",
       "      <th>종목</th>\n",
       "      <th>시세</th>\n",
       "      <th>전일비</th>\n",
       "      <th>등락율</th>\n",
       "      <th>시가총액</th>\n",
       "      <th>거래량</th>\n",
       "    </tr>\n",
       "  </thead>\n",
       "  <tbody>\n",
       "    <tr>\n",
       "      <th>0</th>\n",
       "      <td>삼성전자</td>\n",
       "      <td>2344000</td>\n",
       "      <td>-52000</td>\n",
       "      <td>-2.17</td>\n",
       "      <td>3026069</td>\n",
       "      <td>216439</td>\n",
       "    </tr>\n",
       "    <tr>\n",
       "      <th>1</th>\n",
       "      <td>SK하이닉스</td>\n",
       "      <td>68500</td>\n",
       "      <td>-1700</td>\n",
       "      <td>-2.42</td>\n",
       "      <td>498682</td>\n",
       "      <td>3184398</td>\n",
       "    </tr>\n",
       "    <tr>\n",
       "      <th>2</th>\n",
       "      <td>삼성전자우</td>\n",
       "      <td>1943000</td>\n",
       "      <td>-35000</td>\n",
       "      <td>-1.77</td>\n",
       "      <td>354609</td>\n",
       "      <td>18002</td>\n",
       "    </tr>\n",
       "    <tr>\n",
       "      <th>3</th>\n",
       "      <td>현대차</td>\n",
       "      <td>154500</td>\n",
       "      <td>-4500</td>\n",
       "      <td>-2.83</td>\n",
       "      <td>340327</td>\n",
       "      <td>384425</td>\n",
       "    </tr>\n",
       "    <tr>\n",
       "      <th>4</th>\n",
       "      <td>POSCO</td>\n",
       "      <td>368000</td>\n",
       "      <td>-13500</td>\n",
       "      <td>-3.54</td>\n",
       "      <td>320848</td>\n",
       "      <td>176879</td>\n",
       "    </tr>\n",
       "  </tbody>\n",
       "</table>\n",
       "</div>"
      ],
      "text/plain": [
       "       종목       시세     전일비   등락율     시가총액      거래량\n",
       "0    삼성전자  2344000  -52000 -2.17  3026069   216439\n",
       "1  SK하이닉스    68500   -1700 -2.42   498682  3184398\n",
       "2   삼성전자우  1943000  -35000 -1.77   354609    18002\n",
       "3     현대차   154500   -4500 -2.83   340327   384425\n",
       "4   POSCO   368000  -13500 -3.54   320848   176879"
      ]
     },
     "execution_count": 21,
     "metadata": {},
     "output_type": "execute_result"
    }
   ],
   "source": [
    "url = make_url(100, 1)\n",
    "df = get_data(url)\n",
    "df.head()"
   ]
  },
  {
   "cell_type": "markdown",
   "metadata": {},
   "source": [
    "##### Dark Sky API\n",
    "- 날씨 정보를 알려주는 api\n",
    "- https://darksky.net/dev\n",
    "- pip3 install python-forecastio"
   ]
  },
  {
   "cell_type": "code",
   "execution_count": 22,
   "metadata": {},
   "outputs": [],
   "source": [
    "import forecastio\n",
    "FORECAST_TOKEN = \"c259d4aeb593bc5e83d0c3f7ed916f5d\""
   ]
  },
  {
   "cell_type": "code",
   "execution_count": 23,
   "metadata": {},
   "outputs": [],
   "source": [
    "def forecast(lat,lng):\n",
    "    url = \"https://api.darksky.net/forecast/{}/{},{}\".format(FORECAST_TOKEN, lat, lng)\n",
    "    response = requests.get(url)\n",
    "    json_info = response.json()\n",
    "    return json_info[\"currently\"][\"summary\"]"
   ]
  },
  {
   "cell_type": "code",
   "execution_count": 24,
   "metadata": {},
   "outputs": [
    {
     "data": {
      "text/plain": [
       "'Clear'"
      ]
     },
     "execution_count": 24,
     "metadata": {},
     "output_type": "execute_result"
    }
   ],
   "source": [
    "lat = 37.5124413\n",
    "lng = 126.9540519\n",
    "forecast(lat,lng)"
   ]
  },
  {
   "cell_type": "code",
   "execution_count": 25,
   "metadata": {},
   "outputs": [],
   "source": [
    "def forecast(lat,lng):\n",
    "    forecast = forecastio.load_forecast(FORECAST_TOKEN, lat, lng)\n",
    "    byHour = forecast.hourly()\n",
    "    return byHour.summary"
   ]
  },
  {
   "cell_type": "code",
   "execution_count": 26,
   "metadata": {},
   "outputs": [
    {
     "data": {
      "text/plain": [
       "'Clear throughout the day.'"
      ]
     },
     "execution_count": 26,
     "metadata": {},
     "output_type": "execute_result"
    }
   ],
   "source": [
    "lat = 37.5124413\n",
    "lng = 126.9540519\n",
    "forecast(lat,lng)"
   ]
  },
  {
   "cell_type": "markdown",
   "metadata": {},
   "source": [
    "### BeautifulSoup\n",
    "- https://www.crummy.com/software/BeautifulSoup/bs4/doc/\n",
    "- pip3 install bs4"
   ]
  },
  {
   "cell_type": "markdown",
   "metadata": {},
   "source": [
    "##### 네이버 검색어 순위\n",
    "- bs4 사용 : html element를 selector를 사용한다.\n",
    "- 네이버 검색어 순위를 가져와 데이터 프레임으로 만들기\n",
    "- http://naver.com"
   ]
  },
  {
   "cell_type": "code",
   "execution_count": 27,
   "metadata": {},
   "outputs": [],
   "source": [
    "def naver_top20():\n",
    "    df = pd.DataFrame(columns=[\"rank\",\"keyword\"])\n",
    "    response = requests.get(\"http://naver.com\")\n",
    "    dom = BeautifulSoup(response.content, \"html.parser\")\n",
    "    keywords = dom.select(\".ah_roll .ah_l .ah_item\")\n",
    "    for keyword in keywords:\n",
    "        df.loc[len(df)] = {\n",
    "            \"rank\":keyword.select_one(\".ah_r\").text,\n",
    "            \"keyword\":keyword.select_one(\".ah_k\").text,\n",
    "        }\n",
    "    return df"
   ]
  },
  {
   "cell_type": "code",
   "execution_count": 28,
   "metadata": {
    "scrolled": true
   },
   "outputs": [
    {
     "data": {
      "text/html": [
       "<div>\n",
       "<style>\n",
       "    .dataframe thead tr:only-child th {\n",
       "        text-align: right;\n",
       "    }\n",
       "\n",
       "    .dataframe thead th {\n",
       "        text-align: left;\n",
       "    }\n",
       "\n",
       "    .dataframe tbody tr th {\n",
       "        vertical-align: top;\n",
       "    }\n",
       "</style>\n",
       "<table border=\"1\" class=\"dataframe\">\n",
       "  <thead>\n",
       "    <tr style=\"text-align: right;\">\n",
       "      <th></th>\n",
       "      <th>rank</th>\n",
       "      <th>keyword</th>\n",
       "    </tr>\n",
       "  </thead>\n",
       "  <tbody>\n",
       "    <tr>\n",
       "      <th>0</th>\n",
       "      <td>1</td>\n",
       "      <td>몰디브</td>\n",
       "    </tr>\n",
       "    <tr>\n",
       "      <th>1</th>\n",
       "      <td>2</td>\n",
       "      <td>이방카</td>\n",
       "    </tr>\n",
       "    <tr>\n",
       "      <th>2</th>\n",
       "      <td>3</td>\n",
       "      <td>국가장학금 소득분위 금액</td>\n",
       "    </tr>\n",
       "    <tr>\n",
       "      <th>3</th>\n",
       "      <td>4</td>\n",
       "      <td>임수현</td>\n",
       "    </tr>\n",
       "    <tr>\n",
       "      <th>4</th>\n",
       "      <td>5</td>\n",
       "      <td>지드래곤</td>\n",
       "    </tr>\n",
       "    <tr>\n",
       "      <th>5</th>\n",
       "      <td>6</td>\n",
       "      <td>디스패치</td>\n",
       "    </tr>\n",
       "    <tr>\n",
       "      <th>6</th>\n",
       "      <td>7</td>\n",
       "      <td>선미</td>\n",
       "    </tr>\n",
       "    <tr>\n",
       "      <th>7</th>\n",
       "      <td>8</td>\n",
       "      <td>청와대 국민청원</td>\n",
       "    </tr>\n",
       "    <tr>\n",
       "      <th>8</th>\n",
       "      <td>9</td>\n",
       "      <td>한국장학재단 소득분위</td>\n",
       "    </tr>\n",
       "    <tr>\n",
       "      <th>9</th>\n",
       "      <td>10</td>\n",
       "      <td>이브</td>\n",
       "    </tr>\n",
       "    <tr>\n",
       "      <th>10</th>\n",
       "      <td>11</td>\n",
       "      <td>클로버필드 패러독스</td>\n",
       "    </tr>\n",
       "    <tr>\n",
       "      <th>11</th>\n",
       "      <td>12</td>\n",
       "      <td>정형식 판사</td>\n",
       "    </tr>\n",
       "    <tr>\n",
       "      <th>12</th>\n",
       "      <td>13</td>\n",
       "      <td>으라차차 와이키키</td>\n",
       "    </tr>\n",
       "    <tr>\n",
       "      <th>13</th>\n",
       "      <td>14</td>\n",
       "      <td>넷마블</td>\n",
       "    </tr>\n",
       "    <tr>\n",
       "      <th>14</th>\n",
       "      <td>15</td>\n",
       "      <td>생생정보 모둠갈비세트</td>\n",
       "    </tr>\n",
       "    <tr>\n",
       "      <th>15</th>\n",
       "      <td>16</td>\n",
       "      <td>태양</td>\n",
       "    </tr>\n",
       "    <tr>\n",
       "      <th>16</th>\n",
       "      <td>17</td>\n",
       "      <td>김희애</td>\n",
       "    </tr>\n",
       "    <tr>\n",
       "      <th>17</th>\n",
       "      <td>18</td>\n",
       "      <td>오블리비언</td>\n",
       "    </tr>\n",
       "    <tr>\n",
       "      <th>18</th>\n",
       "      <td>19</td>\n",
       "      <td>아시아나항공</td>\n",
       "    </tr>\n",
       "    <tr>\n",
       "      <th>19</th>\n",
       "      <td>20</td>\n",
       "      <td>정형식</td>\n",
       "    </tr>\n",
       "  </tbody>\n",
       "</table>\n",
       "</div>"
      ],
      "text/plain": [
       "   rank        keyword\n",
       "0     1            몰디브\n",
       "1     2            이방카\n",
       "2     3  국가장학금 소득분위 금액\n",
       "3     4            임수현\n",
       "4     5           지드래곤\n",
       "5     6           디스패치\n",
       "6     7             선미\n",
       "7     8       청와대 국민청원\n",
       "8     9    한국장학재단 소득분위\n",
       "9    10             이브\n",
       "10   11     클로버필드 패러독스\n",
       "11   12         정형식 판사\n",
       "12   13      으라차차 와이키키\n",
       "13   14            넷마블\n",
       "14   15    생생정보 모둠갈비세트\n",
       "15   16             태양\n",
       "16   17            김희애\n",
       "17   18          오블리비언\n",
       "18   19         아시아나항공\n",
       "19   20            정형식"
      ]
     },
     "execution_count": 28,
     "metadata": {},
     "output_type": "execute_result"
    }
   ],
   "source": [
    "naver_df = naver_top20()\n",
    "naver_df"
   ]
  },
  {
   "cell_type": "markdown",
   "metadata": {},
   "source": [
    "##### 다음 검색어 순위"
   ]
  },
  {
   "cell_type": "code",
   "execution_count": 29,
   "metadata": {},
   "outputs": [],
   "source": [
    "def daum_top10():\n",
    "    df = pd.DataFrame(columns=[\"rank\",\"keyword\"])\n",
    "    response = requests.get(\"http://daum.net\")\n",
    "    dom = BeautifulSoup(response.content, \"html.parser\")\n",
    "    keywords = dom.select(\"#mArticle ol.list_hotissue.issue_row.list_mini > li\")\n",
    "    for keyword in keywords:\n",
    "        df.loc[len(df)] = {\n",
    "            \"rank\":keyword.select_one(\".ir_wa\").text.replace(\"위\",\"\"),\n",
    "            \"keyword\":keyword.select_one(\".link_issue\").text,\n",
    "        }\n",
    "    return df"
   ]
  },
  {
   "cell_type": "code",
   "execution_count": 30,
   "metadata": {},
   "outputs": [
    {
     "data": {
      "text/html": [
       "<div>\n",
       "<style>\n",
       "    .dataframe thead tr:only-child th {\n",
       "        text-align: right;\n",
       "    }\n",
       "\n",
       "    .dataframe thead th {\n",
       "        text-align: left;\n",
       "    }\n",
       "\n",
       "    .dataframe tbody tr th {\n",
       "        vertical-align: top;\n",
       "    }\n",
       "</style>\n",
       "<table border=\"1\" class=\"dataframe\">\n",
       "  <thead>\n",
       "    <tr style=\"text-align: right;\">\n",
       "      <th></th>\n",
       "      <th>rank</th>\n",
       "      <th>keyword</th>\n",
       "    </tr>\n",
       "  </thead>\n",
       "  <tbody>\n",
       "    <tr>\n",
       "      <th>0</th>\n",
       "      <td>1</td>\n",
       "      <td>정형식 판사</td>\n",
       "    </tr>\n",
       "    <tr>\n",
       "      <th>1</th>\n",
       "      <td>2</td>\n",
       "      <td>몰디브</td>\n",
       "    </tr>\n",
       "    <tr>\n",
       "      <th>2</th>\n",
       "      <td>3</td>\n",
       "      <td>한국장학재단</td>\n",
       "    </tr>\n",
       "    <tr>\n",
       "      <th>3</th>\n",
       "      <td>4</td>\n",
       "      <td>김희애</td>\n",
       "    </tr>\n",
       "    <tr>\n",
       "      <th>4</th>\n",
       "      <td>5</td>\n",
       "      <td>선미</td>\n",
       "    </tr>\n",
       "    <tr>\n",
       "      <th>5</th>\n",
       "      <td>6</td>\n",
       "      <td>청와대 국민청원홈페이지</td>\n",
       "    </tr>\n",
       "    <tr>\n",
       "      <th>6</th>\n",
       "      <td>7</td>\n",
       "      <td>강수지</td>\n",
       "    </tr>\n",
       "    <tr>\n",
       "      <th>7</th>\n",
       "      <td>8</td>\n",
       "      <td>김국진</td>\n",
       "    </tr>\n",
       "    <tr>\n",
       "      <th>8</th>\n",
       "      <td>9</td>\n",
       "      <td>이방카</td>\n",
       "    </tr>\n",
       "    <tr>\n",
       "      <th>9</th>\n",
       "      <td>10</td>\n",
       "      <td>제주 날씨</td>\n",
       "    </tr>\n",
       "  </tbody>\n",
       "</table>\n",
       "</div>"
      ],
      "text/plain": [
       "  rank       keyword\n",
       "0    1        정형식 판사\n",
       "1    2           몰디브\n",
       "2    3        한국장학재단\n",
       "3    4           김희애\n",
       "4    5            선미\n",
       "5    6  청와대 국민청원홈페이지\n",
       "6    7           강수지\n",
       "7    8           김국진\n",
       "8    9           이방카\n",
       "9   10         제주 날씨"
      ]
     },
     "execution_count": 30,
     "metadata": {},
     "output_type": "execute_result"
    }
   ],
   "source": [
    "daum_df = daum_top10()\n",
    "daum_df"
   ]
  },
  {
   "cell_type": "markdown",
   "metadata": {},
   "source": [
    "##### 중복된 키워드 찾아서 출력하기"
   ]
  },
  {
   "cell_type": "code",
   "execution_count": 31,
   "metadata": {},
   "outputs": [
    {
     "data": {
      "text/plain": [
       "['정형식 판사', '몰디브', '한국장학재단', '김희애', '선미', '이방카']"
      ]
     },
     "execution_count": 31,
     "metadata": {},
     "output_type": "execute_result"
    }
   ],
   "source": [
    "result = [keyword for keyword in daum_df[\"keyword\"] if naver_df[\"keyword\"].str.contains(keyword).any() ]\n",
    "result"
   ]
  },
  {
   "cell_type": "markdown",
   "metadata": {},
   "source": [
    "### file download"
   ]
  },
  {
   "cell_type": "code",
   "execution_count": 14,
   "metadata": {},
   "outputs": [],
   "source": [
    "def download(title, download_link):\n",
    "    response = requests.get(download_link, stream=True)\n",
    "    download_path = \"./data/\" + title\n",
    "    size = 0\n",
    "    with open(download_path, 'wb') as f:\n",
    "        for chunk in response.iter_content(chunk_size=1024): \n",
    "            if chunk:\n",
    "                size += 1024\n",
    "                f.write(chunk)\n",
    "    return size"
   ]
  },
  {
   "cell_type": "code",
   "execution_count": 15,
   "metadata": {},
   "outputs": [
    {
     "name": "stdout",
     "output_type": "stream",
     "text": [
      "download done : 7.12 Mbyte\n"
     ]
    }
   ],
   "source": [
    "title = \"iPhone X is Here — Apple.mp4\"\n",
    "download_link = \"http://bit.ly/2FLpRF9\"\n",
    "size = download(title, download_link)\n",
    "print(\"download done : {} Mbyte\".format(round(size/1024/1024,2)))"
   ]
  },
  {
   "cell_type": "code",
   "execution_count": null,
   "metadata": {},
   "outputs": [],
   "source": []
  }
 ],
 "metadata": {
  "kernelspec": {
   "display_name": "Python 3",
   "language": "python",
   "name": "python3"
  },
  "language_info": {
   "codemirror_mode": {
    "name": "ipython",
    "version": 3
   },
   "file_extension": ".py",
   "mimetype": "text/x-python",
   "name": "python",
   "nbconvert_exporter": "python",
   "pygments_lexer": "ipython3",
   "version": "3.6.3"
  }
 },
 "nbformat": 4,
 "nbformat_minor": 2
}
