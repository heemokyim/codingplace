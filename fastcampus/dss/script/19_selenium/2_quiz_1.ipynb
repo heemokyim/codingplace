{
 "cells": [
  {
   "cell_type": "code",
   "execution_count": 1,
   "metadata": {},
   "outputs": [],
   "source": [
    "from selenium import webdriver"
   ]
  },
  {
   "cell_type": "code",
   "execution_count": null,
   "metadata": {},
   "outputs": [],
   "source": [
    "def article():\n",
    "    articles = driver.find_elements_by_css_selector('#section_body li')\n",
    "    \n",
    "    for article in articles:\n",
    "        title = article.find_element_by_css_selector('dt:not(/photo) > a')\n",
    "\n",
    "# #section_body li\n",
    "# find every lower tag between section_bdy and li\n",
    "\n",
    "# dt > a\n",
    "# find only one lower tag between dt and a"
   ]
  },
  {
   "cell_type": "markdown",
   "metadata": {},
   "source": [
    "- 셀레니움을 이용하여 2018년 2월 20일 네이버 IT/과학 기사의 제목을 리스트로 크롤링하세요.\n",
    "- http://news.naver.com/main/main.nhn?mode=LSD&mid=shm&sid1=105"
   ]
  },
  {
   "cell_type": "code",
   "execution_count": 60,
   "metadata": {},
   "outputs": [],
   "source": [
    "article_list = []\n",
    "def get_article(page):\n",
    "    \n",
    "    driver =  webdriver.Chrome()\n",
    "    driver.get('http://news.naver.com/main/main.nhn?mode=LSD&mid=shm&sid1=105#&date=2018-02-20 00:00:00&page=1')\n",
    "    # TODO\n",
    "    tag = driver.find_element_by_id('section_body')\n",
    "    headline = tag.find_element_by_class_name('type06_headline')\n",
    "    title = headline.find_elements_by_tag_name('a')\n",
    "\n",
    "    for each in title:\n",
    "        article_list.append(each.text)\n",
    "    \n",
    "    driver.close()\n",
    "       \n",
    "    while '' in article_list:\n",
    "        article_list.remove('')"
   ]
  },
  {
   "cell_type": "code",
   "execution_count": 61,
   "metadata": {},
   "outputs": [],
   "source": [
    "article_list = get_article(0)"
   ]
  },
  {
   "cell_type": "code",
   "execution_count": null,
   "metadata": {},
   "outputs": [],
   "source": []
  },
  {
   "cell_type": "code",
   "execution_count": 63,
   "metadata": {},
   "outputs": [
    {
     "data": {
      "text/plain": [
       "(7,\n",
       " ['\"개인정보 수집 페이스북 유죄\"',\n",
       "  '수십초 안에 충전 … 물기반 ESS 만들었다',\n",
       "  '10\\n이상\\n+',\n",
       "  '우버 운전자는 자영업자? 근로자?…영국 대법원 판결 주목',\n",
       "  '로봇 슈트 입고 총알 쏟아지는 하늘서 ‘쌩쌩’',\n",
       "  '삼성전자, 세계 최초 30TB SSD 양산',\n",
       "  '600\\n이상\\n+'])"
      ]
     },
     "execution_count": 63,
     "metadata": {},
     "output_type": "execute_result"
    }
   ],
   "source": [
    "len(article_list), article_list"
   ]
  },
  {
   "cell_type": "code",
   "execution_count": null,
   "metadata": {},
   "outputs": [],
   "source": []
  }
 ],
 "metadata": {
  "kernelspec": {
   "display_name": "Python 3",
   "language": "python",
   "name": "python3"
  },
  "language_info": {
   "codemirror_mode": {
    "name": "ipython",
    "version": 3
   },
   "file_extension": ".py",
   "mimetype": "text/x-python",
   "name": "python",
   "nbconvert_exporter": "python",
   "pygments_lexer": "ipython3",
   "version": "3.6.3"
  }
 },
 "nbformat": 4,
 "nbformat_minor": 2
}
