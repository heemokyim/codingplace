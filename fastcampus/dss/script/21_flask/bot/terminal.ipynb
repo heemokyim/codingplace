{
 "cells": [
  {
   "cell_type": "code",
   "execution_count": 3,
   "metadata": {},
   "outputs": [
    {
     "name": "stdout",
     "output_type": "stream",
     "text": [
      " D 드라이브의 볼륨: FREEDOS\n",
      " 볼륨 일련 번호: 045B-0285\n",
      "\n",
      " D:\\codingplace\\fastcampus\\dss\\script\\21_flask\\bot 디렉터리\n",
      "\n",
      "2018-03-06  오후 02:27    <DIR>          .\n",
      "2018-03-06  오후 02:27    <DIR>          ..\n",
      "2018-03-06  오후 02:27    <DIR>          .ipynb_checkpoints\n",
      "2018-03-05  오후 06:30    <DIR>          __pycache__\n",
      "2018-03-05  오후 06:51               674 bot.py\n",
      "2018-03-05  오후 06:30    <DIR>          lib\n",
      "2018-03-06  오후 02:27                72 terminal.ipynb\n",
      "               2개 파일                 746 바이트\n",
      "               5개 디렉터리  457,701,531,136 바이트 남음\n"
     ]
    }
   ],
   "source": [
    "%ls"
   ]
  },
  {
   "cell_type": "code",
   "execution_count": null,
   "metadata": {},
   "outputs": [],
   "source": [
    "!python bot.py"
   ]
  },
  {
   "cell_type": "code",
   "execution_count": null,
   "metadata": {},
   "outputs": [],
   "source": []
  }
 ],
 "metadata": {
  "kernelspec": {
   "display_name": "Python 3",
   "language": "python",
   "name": "python3"
  },
  "language_info": {
   "codemirror_mode": {
    "name": "ipython",
    "version": 3
   },
   "file_extension": ".py",
   "mimetype": "text/x-python",
   "name": "python",
   "nbconvert_exporter": "python",
   "pygments_lexer": "ipython3",
   "version": "3.6.3"
  }
 },
 "nbformat": 4,
 "nbformat_minor": 2
}
