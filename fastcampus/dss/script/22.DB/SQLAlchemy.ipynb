{
 "cells": [
  {
   "cell_type": "markdown",
   "metadata": {},
   "source": [
    "# 1. MySQL DBC는 MySQL만 사용가능\n",
    "# 2. SQLAlchemy는 어느 DB를 쓸 지 선택가능\n",
    "# Session을 엔진과 연결하여 여러 DB를 사용가능"
   ]
  },
  {
   "cell_type": "markdown",
   "metadata": {},
   "source": [
    "------------------------------------------------------------------------------------\n",
    "------------"
   ]
  },
  {
   "cell_type": "markdown",
   "metadata": {},
   "source": [
    "### SQLAlchemy"
   ]
  },
  {
   "cell_type": "markdown",
   "metadata": {},
   "source": [
    "SQLAlchemy\n",
    "- http://docs.sqlalchemy.org/en/latest/orm/tutorial.html\n",
    "- `pip3 install sqlalchemy`\n",
    "- python에서 사용하는 ORM\n",
    "\n",
    "ORM이란?\n",
    "- Object-relational mapping\n",
    "- 데이터 베이스를 객체화 시켜 데이터베이스에 있는 데이터를 CRUD를 할수 있음.\n",
    "- 사용하는 DB를 변경해야 할 경우 데이터 베이스 엔진만 바꾸면 됌"
   ]
  },
  {
   "cell_type": "markdown",
   "metadata": {},
   "source": [
    "1. db connect\n",
    "2. mapping class (db.table - class)\n",
    "3. insert\n",
    "4. select\n",
    "5. update\n",
    "6. delete"
   ]
  },
  {
   "cell_type": "code",
   "execution_count": 7,
   "metadata": {},
   "outputs": [],
   "source": [
    "import sqlalchemy, pickle\n",
    "from sqlalchemy.ext.declarative import declarative_base\n",
    "from sqlalchemy import Column, Integer, String, DateTime\n",
    "from sqlalchemy.orm import sessionmaker"
   ]
  },
  {
   "cell_type": "markdown",
   "metadata": {},
   "source": [
    "##### db connect"
   ]
  },
  {
   "cell_type": "code",
   "execution_count": 8,
   "metadata": {},
   "outputs": [],
   "source": [
    "# mysql+mysqldb://<사용자계정>:<비밀번호>@<호스트>/<데이터베이스_이름>\n",
    "pw = '5555'\n",
    "engine = sqlalchemy.create_engine(\"mysql+mysqldb://root:\" + pw + \"@localhost/city-info\")"
   ]
  },
  {
   "cell_type": "markdown",
   "metadata": {},
   "source": [
    "##### mapping class"
   ]
  },
  {
   "cell_type": "code",
   "execution_count": 12,
   "metadata": {},
   "outputs": [],
   "source": [
    "# __tablename__ : 데이터베이스의 테이블 이름\n",
    "\n",
    "Base = declarative_base()\n",
    "class User(Base):\n",
    "    __tablename__ = 'user3'\n",
    "\n",
    "    user_id = Column(Integer, primary_key=True)\n",
    "    name = Column(String(20))\n",
    "    email = Column(String(30))\n",
    "    age = Column(Integer)\n",
    "    rdate = Column(DateTime)\n",
    "    \n",
    "    def __init__(self, name, email, age, rdate):\n",
    "        self.name = name\n",
    "        self.email = email\n",
    "        self.age = age\n",
    "        self.rdate = rdate\n",
    "    \n",
    "    def __repr__(self):\n",
    "        return \"<User {}, {}, {}, {}>\".format(self.name, self.email, self.age, self.rdate)"
   ]
  },
  {
   "cell_type": "code",
   "execution_count": 14,
   "metadata": {},
   "outputs": [],
   "source": [
    "# engine에 연결된 데이터 베이스 테이블 생성\n",
    "Base.metadata.create_all(engine)"
   ]
  },
  {
   "cell_type": "code",
   "execution_count": 16,
   "metadata": {},
   "outputs": [],
   "source": [
    "# make session\n",
    "# engine과 DB를 연결시키는 과정\n",
    "Session = sessionmaker(bind=engine)\n",
    "session = Session()"
   ]
  },
  {
   "cell_type": "markdown",
   "metadata": {},
   "source": [
    "##### insert"
   ]
  },
  {
   "cell_type": "code",
   "execution_count": 17,
   "metadata": {},
   "outputs": [],
   "source": [
    "# add user object to session\n",
    "# add one object\n",
    "user = User('jin', 'jin@gmail.com', '27', '2016-03-21')\n",
    "session.add(user)"
   ]
  },
  {
   "cell_type": "code",
   "execution_count": 24,
   "metadata": {},
   "outputs": [],
   "source": [
    "# add multy objects\n",
    "users = [\n",
    "    User('alice', 'alice@gmail.com', '25', '2018-02-21'),\n",
    "    User('andy', 'andy@daum.net', '33', '2015-01-19'),\n",
    "]\n",
    "session.add_all(users)"
   ]
  },
  {
   "cell_type": "code",
   "execution_count": 29,
   "metadata": {},
   "outputs": [
    {
     "data": {
      "text/plain": [
       "[<User jin, jin@gmail.com, 27, 2016-03-21 00:00:00>,\n",
       " <User alice, alice@gmail.com, 25, 2018-02-21 00:00:00>,\n",
       " <User andy, andy@daum.net, 33, 2015-01-19 00:00:00>]"
      ]
     },
     "execution_count": 29,
     "metadata": {},
     "output_type": "execute_result"
    }
   ],
   "source": [
    "list(session)"
   ]
  },
  {
   "cell_type": "code",
   "execution_count": 28,
   "metadata": {},
   "outputs": [],
   "source": [
    "# run transaction\n",
    "# synchronization\n",
    "session.commit()"
   ]
  },
  {
   "cell_type": "code",
   "execution_count": 9,
   "metadata": {},
   "outputs": [],
   "source": [
    "# rollback (session data clear)\n",
    "session.rollback()"
   ]
  },
  {
   "cell_type": "markdown",
   "metadata": {},
   "source": [
    "##### select\n",
    "- filter\n",
    "- order by"
   ]
  },
  {
   "cell_type": "code",
   "execution_count": 21,
   "metadata": {},
   "outputs": [],
   "source": [
    "def disp(datas):\n",
    "    for data in datas:\n",
    "        print(data)"
   ]
  },
  {
   "cell_type": "code",
   "execution_count": 30,
   "metadata": {},
   "outputs": [
    {
     "name": "stdout",
     "output_type": "stream",
     "text": [
      "<User jin, jin@gmail.com, 27, 2016-03-21 00:00:00>\n",
      "<User alice, alice@gmail.com, 25, 2018-02-21 00:00:00>\n",
      "<User andy, andy@daum.net, 33, 2015-01-19 00:00:00>\n",
      "<User alice, alice@gmail.com, 25, 2018-02-21 00:00:00>\n",
      "<User andy, andy@daum.net, 33, 2015-01-19 00:00:00>\n"
     ]
    }
   ],
   "source": [
    "results = session.query(User).all()\n",
    "disp(results)"
   ]
  },
  {
   "cell_type": "code",
   "execution_count": 31,
   "metadata": {},
   "outputs": [
    {
     "name": "stdout",
     "output_type": "stream",
     "text": [
      "<User jin, jin@gmail.com, 27, 2016-03-21 00:00:00>\n"
     ]
    }
   ],
   "source": [
    "# filter\n",
    "# ==, !=, >, <, >=, <=, like, in_, ~, \n",
    "results = session.query(User).filter(User.name == \"jin\")\n",
    "disp(results)"
   ]
  },
  {
   "cell_type": "code",
   "execution_count": 32,
   "metadata": {},
   "outputs": [
    {
     "name": "stdout",
     "output_type": "stream",
     "text": [
      "<User alice, alice@gmail.com, 25, 2018-02-21 00:00:00>\n",
      "<User andy, andy@daum.net, 33, 2015-01-19 00:00:00>\n",
      "<User alice, alice@gmail.com, 25, 2018-02-21 00:00:00>\n",
      "<User andy, andy@daum.net, 33, 2015-01-19 00:00:00>\n"
     ]
    }
   ],
   "source": [
    "results = session.query(User).filter(User.name != \"jin\")\n",
    "disp(results)"
   ]
  },
  {
   "cell_type": "code",
   "execution_count": 33,
   "metadata": {},
   "outputs": [
    {
     "name": "stdout",
     "output_type": "stream",
     "text": [
      "<User jin, jin@gmail.com, 27, 2016-03-21 00:00:00>\n",
      "<User andy, andy@daum.net, 33, 2015-01-19 00:00:00>\n",
      "<User andy, andy@daum.net, 33, 2015-01-19 00:00:00>\n"
     ]
    }
   ],
   "source": [
    "results = session.query(User).filter(User.age > 26)\n",
    "disp(results)"
   ]
  },
  {
   "cell_type": "code",
   "execution_count": 34,
   "metadata": {},
   "outputs": [
    {
     "name": "stdout",
     "output_type": "stream",
     "text": [
      "<User jin, jin@gmail.com, 27, 2016-03-21 00:00:00>\n",
      "<User alice, alice@gmail.com, 25, 2018-02-21 00:00:00>\n",
      "<User alice, alice@gmail.com, 25, 2018-02-21 00:00:00>\n"
     ]
    }
   ],
   "source": [
    "results = session.query(User).filter(User.email.like(\"%gmail%\"))\n",
    "disp(results)"
   ]
  },
  {
   "cell_type": "code",
   "execution_count": 35,
   "metadata": {},
   "outputs": [
    {
     "name": "stdout",
     "output_type": "stream",
     "text": [
      "<User alice, alice@gmail.com, 25, 2018-02-21 00:00:00>\n",
      "<User andy, andy@daum.net, 33, 2015-01-19 00:00:00>\n",
      "<User alice, alice@gmail.com, 25, 2018-02-21 00:00:00>\n",
      "<User andy, andy@daum.net, 33, 2015-01-19 00:00:00>\n"
     ]
    }
   ],
   "source": [
    "results = session.query(User).filter(User.name.in_([\"alice\",\"andy\"]))\n",
    "disp(results)"
   ]
  },
  {
   "cell_type": "code",
   "execution_count": 36,
   "metadata": {},
   "outputs": [
    {
     "name": "stdout",
     "output_type": "stream",
     "text": [
      "<User andy, andy@daum.net, 33, 2015-01-19 00:00:00>\n",
      "<User andy, andy@daum.net, 33, 2015-01-19 00:00:00>\n"
     ]
    }
   ],
   "source": [
    "results = session.query(User).filter(~User.email.like(\"%gmail%\"))\n",
    "disp(results)"
   ]
  },
  {
   "cell_type": "code",
   "execution_count": 37,
   "metadata": {},
   "outputs": [
    {
     "name": "stdout",
     "output_type": "stream",
     "text": [
      "<User jin, jin@gmail.com, 27, 2016-03-21 00:00:00>\n",
      "<User andy, andy@daum.net, 33, 2015-01-19 00:00:00>\n",
      "<User andy, andy@daum.net, 33, 2015-01-19 00:00:00>\n"
     ]
    }
   ],
   "source": [
    "# and_, or_\n",
    "from sqlalchemy import and_, or_\n",
    "results = session.query(User).filter(or_(User.name == \"jin\", User.age == 33))\n",
    "disp(results)"
   ]
  },
  {
   "cell_type": "code",
   "execution_count": 48,
   "metadata": {},
   "outputs": [
    {
     "name": "stdout",
     "output_type": "stream",
     "text": [
      "<User alice, alice@gmail.com, 25, 2018-02-21 00:00:00>\n",
      "<User alice, alice@gmail.com, 25, 2018-02-21 00:00:00>\n"
     ]
    }
   ],
   "source": [
    "results = session.query(User).filter(and_(User.age < 30, User.email.like(\"%gmail%\")))\n",
    "disp(results)"
   ]
  },
  {
   "cell_type": "code",
   "execution_count": 49,
   "metadata": {},
   "outputs": [
    {
     "name": "stdout",
     "output_type": "stream",
     "text": [
      "<User alice, alice@gmail.com, 25, 2018-02-21 00:00:00>\n",
      "<User alice, alice@gmail.com, 25, 2018-02-21 00:00:00>\n",
      "<User andy, andy@daum.net, 33, 2015-01-19 00:00:00>\n",
      "<User andy, andy@daum.net, 33, 2015-01-19 00:00:00>\n"
     ]
    }
   ],
   "source": [
    "# order_by\n",
    "results = session.query(User).order_by(User.age.asc())\n",
    "disp(results)"
   ]
  },
  {
   "cell_type": "code",
   "execution_count": 50,
   "metadata": {},
   "outputs": [
    {
     "name": "stdout",
     "output_type": "stream",
     "text": [
      "<User alice, alice@gmail.com, 25, 2018-02-21 00:00:00>\n",
      "<User alice, alice@gmail.com, 25, 2018-02-21 00:00:00>\n",
      "<User andy, andy@daum.net, 33, 2015-01-19 00:00:00>\n",
      "<User andy, andy@daum.net, 33, 2015-01-19 00:00:00>\n"
     ]
    }
   ],
   "source": [
    "results = session.query(User).order_by(User.age)\n",
    "disp(results)"
   ]
  },
  {
   "cell_type": "code",
   "execution_count": 51,
   "metadata": {},
   "outputs": [
    {
     "name": "stdout",
     "output_type": "stream",
     "text": [
      "<User andy, andy@daum.net, 33, 2015-01-19 00:00:00>\n",
      "<User andy, andy@daum.net, 33, 2015-01-19 00:00:00>\n",
      "<User alice, alice@gmail.com, 25, 2018-02-21 00:00:00>\n",
      "<User alice, alice@gmail.com, 25, 2018-02-21 00:00:00>\n"
     ]
    }
   ],
   "source": [
    "results = session.query(User).order_by(User.age.desc())\n",
    "disp(results)"
   ]
  },
  {
   "cell_type": "code",
   "execution_count": 42,
   "metadata": {},
   "outputs": [
    {
     "data": {
      "text/plain": [
       "5"
      ]
     },
     "execution_count": 42,
     "metadata": {},
     "output_type": "execute_result"
    }
   ],
   "source": [
    "# count\n",
    "session.query(User).count()"
   ]
  },
  {
   "cell_type": "markdown",
   "metadata": {},
   "source": [
    "##### update"
   ]
  },
  {
   "cell_type": "code",
   "execution_count": 43,
   "metadata": {},
   "outputs": [],
   "source": [
    "jin = session.query(User).filter(User.name == \"jin\").one()"
   ]
  },
  {
   "cell_type": "code",
   "execution_count": 44,
   "metadata": {},
   "outputs": [],
   "source": [
    "jin.age = 30"
   ]
  },
  {
   "cell_type": "code",
   "execution_count": 45,
   "metadata": {},
   "outputs": [],
   "source": [
    "session.add(jin)"
   ]
  },
  {
   "cell_type": "code",
   "execution_count": 46,
   "metadata": {},
   "outputs": [],
   "source": [
    "session.commit()"
   ]
  },
  {
   "cell_type": "markdown",
   "metadata": {},
   "source": [
    "##### delete"
   ]
  },
  {
   "cell_type": "code",
   "execution_count": 47,
   "metadata": {},
   "outputs": [
    {
     "data": {
      "text/plain": [
       "1"
      ]
     },
     "execution_count": 47,
     "metadata": {},
     "output_type": "execute_result"
    }
   ],
   "source": [
    "session.query(User).filter(User.name == \"jin\").delete()"
   ]
  },
  {
   "cell_type": "code",
   "execution_count": 45,
   "metadata": {},
   "outputs": [],
   "source": [
    "session.commit()"
   ]
  },
  {
   "cell_type": "code",
   "execution_count": 46,
   "metadata": {},
   "outputs": [],
   "source": [
    "# close session\n",
    "session.close()"
   ]
  }
 ],
 "metadata": {
  "kernelspec": {
   "display_name": "Python 3",
   "language": "python",
   "name": "python3"
  },
  "language_info": {
   "codemirror_mode": {
    "name": "ipython",
    "version": 3
   },
   "file_extension": ".py",
   "mimetype": "text/x-python",
   "name": "python",
   "nbconvert_exporter": "python",
   "pygments_lexer": "ipython3",
   "version": "3.6.3"
  }
 },
 "nbformat": 4,
 "nbformat_minor": 2
}
