{
 "cells": [
  {
   "cell_type": "code",
   "execution_count": 2,
   "metadata": {},
   "outputs": [
    {
     "name": "stdout",
     "output_type": "stream",
     "text": [
      "input :wowwqer\n",
      "wowwqer\n",
      "<class 'str'>\n"
     ]
    }
   ],
   "source": [
    "value = input('input :')\n",
    "print(value)\n",
    "print(type(value))"
   ]
  },
  {
   "cell_type": "code",
   "execution_count": 3,
   "metadata": {},
   "outputs": [
    {
     "name": "stdout",
     "output_type": "stream",
     "text": [
      "input :qwer qwer qwer \n",
      "['qwer', 'qwer', 'qwer']\n",
      "<class 'list'>\n"
     ]
    }
   ],
   "source": [
    "value = input('input :')\n",
    "value = value.split()\n",
    "print(value)\n",
    "print(type(value))"
   ]
  },
  {
   "cell_type": "code",
   "execution_count": 4,
   "metadata": {},
   "outputs": [
    {
     "name": "stdout",
     "output_type": "stream",
     "text": [
      "fast campus\n"
     ]
    }
   ],
   "source": [
    "# 한 칸 띄어서 출력하고 싶은 경우\n",
    "print(\"fast\",\"campus\")"
   ]
  },
  {
   "cell_type": "code",
   "execution_count": 6,
   "metadata": {},
   "outputs": [
    {
     "name": "stdout",
     "output_type": "stream",
     "text": [
      "fast campus1234\n"
     ]
    }
   ],
   "source": [
    "print(\"fast\",\"campus\",end=\"\")\n",
    "print('1234')"
   ]
  },
  {
   "cell_type": "code",
   "execution_count": 8,
   "metadata": {},
   "outputs": [
    {
     "name": "stdout",
     "output_type": "stream",
     "text": [
      "wow\n",
      "wow\n"
     ]
    }
   ],
   "source": [
    "print('wow')\n",
    "print('wow')"
   ]
  },
  {
   "cell_type": "code",
   "execution_count": 9,
   "metadata": {},
   "outputs": [
    {
     "name": "stdout",
     "output_type": "stream",
     "text": [
      "wowwow\n"
     ]
    }
   ],
   "source": [
    "print('wow',end='')\n",
    "print('wow')"
   ]
  },
  {
   "cell_type": "code",
   "execution_count": 10,
   "metadata": {},
   "outputs": [
    {
     "name": "stdout",
     "output_type": "stream",
     "text": [
      "wow\twow\n"
     ]
    }
   ],
   "source": [
    "print('wow',end='\\t')\n",
    "print('wow')"
   ]
  },
  {
   "cell_type": "code",
   "execution_count": 11,
   "metadata": {},
   "outputs": [
    {
     "name": "stdout",
     "output_type": "stream",
     "text": [
      "10 wow \n"
     ]
    }
   ],
   "source": [
    "a= 10\n",
    "b= 'wow'\n",
    "print(\"{} {} \".format(a,b))"
   ]
  },
  {
   "cell_type": "code",
   "execution_count": 12,
   "metadata": {},
   "outputs": [
    {
     "name": "stdout",
     "output_type": "stream",
     "text": [
      "10 wow\n"
     ]
    }
   ],
   "source": [
    "a=10\n",
    "b='wow'\n",
    "print(\"%d %s\"%(a,b))"
   ]
  },
  {
   "cell_type": "markdown",
   "metadata": {},
   "source": [
    "1. 파이썬은 스크립트 언어다.\n",
    "2. 스크립트 언어는 바인딩시 동적 스코핑을 한다.\n",
    "3. 해당 스택에서 호출된 변수명이 없을 때 가장 가까운 스택 레코즈에서 변수를 찾는단 얘기다.\n",
    "4. 이 때 스크립트 언어의 동적인 특징 때문에 변수를 특정한 자료형으로 정할 수 없다. (뭐가 올 지 모르니까)\n",
    "5. 따라서 대부분의 스크립트 언어는 변수의 자료형을 명시하지 않는다.\n",
    "\n",
    "6. 위의 두 문자열 포매팅을 보면, 아래 포매팅은 자료형을 정하고 있다\n",
    "7. 이는 파이썬의 특성을 잘 반영하지 못한 것이다.\n",
    "8. 상황에 따라 다르겠지만 되도록이면 위에 포매팅을 쓰자."
   ]
  },
  {
   "cell_type": "code",
   "execution_count": null,
   "metadata": {},
   "outputs": [],
   "source": []
  }
 ],
 "metadata": {
  "kernelspec": {
   "display_name": "Python [conda root]",
   "language": "python",
   "name": "conda-root-py"
  },
  "language_info": {
   "codemirror_mode": {
    "name": "ipython",
    "version": 3
   },
   "file_extension": ".py",
   "mimetype": "text/x-python",
   "name": "python",
   "nbconvert_exporter": "python",
   "pygments_lexer": "ipython3",
   "version": "3.5.2"
  }
 },
 "nbformat": 4,
 "nbformat_minor": 2
}
