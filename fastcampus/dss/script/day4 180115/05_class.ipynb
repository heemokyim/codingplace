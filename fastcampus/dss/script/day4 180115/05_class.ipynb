{
 "cells": [
  {
   "cell_type": "markdown",
   "metadata": {},
   "source": [
    "# 5. class\n",
    "- 클래스는 변수들과 함수를 묶은 사용자 정의 데이터 타입이라고 할수 있다.\n",
    "- 클래스는 청사진, 설계도 라고 할수 있고, 객체가 실제 설계도 대로 만들어진 물건이라고 할수 있다.\n",
    "- 클래스를 이용하여 객체를 만든다고 할수 있고 객체가 선언이 되어야 메모리에 자원이 할당된다.\n",
    "- 객체 지향\n",
    "    - 실제세계를 모델링하여 공통적인 기능을 묶어서 개발\n",
    "    - 다형성 : 같은 이름으로 파라미터에 따라 다른 코드를 수행 하거나 객체에 따라서 다른 함수를 수행 \n",
    "    - 캡슐화 : 외부에 변수나 함수를 감춤으로 정보 은닉의 효과가 있는 개념 \n",
    "    - 추상화 : 여러가지 요소를 하나로 통합하여 사용자가 코드을 몰라도 간단하게 사용할수 있는 개념\n",
    "    - 상속 : 기존에 있던 클래스의 기능을 수정하거나 추가\n",
    "- structure\n",
    "- constructor\n",
    "- inheritance\n",
    "- super\n",
    "- get,set\n",
    "- private\n",
    "- is a / has a\n",
    "- magic method\n",
    "- namedtuple"
   ]
  },
  {
   "cell_type": "markdown",
   "metadata": {},
   "source": [
    "### Structure\n",
    "- class 내부에 self를 이용하여 변수를 할당하고, def를 이용하여 함수를 선언한다.\n",
    "- self는 객체 자신을 의미 한다.\n",
    "- 함수선언시에는 항상 argument로 self를 넣어주어야 한다."
   ]
  },
  {
   "cell_type": "code",
   "execution_count": 1,
   "metadata": {},
   "outputs": [],
   "source": [
    "class calculator:\n",
    "    \n",
    "    def setData(self, num1, num2):\n",
    "        self.num1 = num1\n",
    "        self.num2 = num2\n",
    "        \n",
    "    def add(self):\n",
    "        return self.num1 + self.num2\n",
    "    \n",
    "    def sub(self):\n",
    "        return self.num1 - self.num2\n",
    "    \n",
    "    def mul(self):\n",
    "        return self.num1 * self.num2\n",
    "    \n",
    "    def div(self):\n",
    "        return self.num1 / self.num2\n"
   ]
  },
  {
   "cell_type": "code",
   "execution_count": null,
   "metadata": {},
   "outputs": [],
   "source": [
    "c1 = calculator()\n",
    "c1.setData(5,7) # .을 이용하여 해당 객체의 함수에 접근한다.\n",
    "result = c1.add()\n",
    "print(result)\n",
    "result = c1.sub()\n",
    "print(result)"
   ]
  },
  {
   "cell_type": "code",
   "execution_count": null,
   "metadata": {},
   "outputs": [],
   "source": [
    "# self는 객체를 의미한다.\n",
    "# 클래스의 함수에 self 파라미터로 객체를 넘겨 해당 객체의 변수를 변경할수 있다.\n",
    "c2 = calculator()\n",
    "calculator.setData(c2, 7, 8)\n",
    "result = calculator.add(c2)\n",
    "print(result)\n",
    "result = calculator.div(c2)\n",
    "print(result)"
   ]
  },
  {
   "cell_type": "markdown",
   "metadata": {},
   "source": [
    "### Constructor\n",
    "- 생성자는 함수가 객체가 될때 초기 값을 설정하는 역할을 함\n",
    "- `__init__` 으로 함수명을 작성하여 초기값을 넣어줌\n",
    "- 생성자에 들어갈 초기 데이터가 없으면 에러 발생 (초기값이 없으면 객체 생성이 안됨)\n",
    "- 생성자를 사용하는 이유\n",
    "    - 생성자는 초기 데이터가 없으면 아얘 객체를 만들수 없도록 함으로 객체가 만들어진 상태에서 작동이 안되는것 보다 메모리 절약"
   ]
  },
  {
   "cell_type": "code",
   "execution_count": null,
   "metadata": {},
   "outputs": [],
   "source": [
    "# 클래스에서 사용하는 변수값이 설정되지 않아 에러가 발생\n",
    "c3 = calculator()\n",
    "result = c3.add()\n",
    "print(result)"
   ]
  },
  {
   "cell_type": "code",
   "execution_count": 4,
   "metadata": {},
   "outputs": [],
   "source": [
    "# need constructor\n",
    "# when make object, need numbers\n",
    "# save memory\n",
    "class calculator:\n",
    "    \n",
    "    def __init__(self, num1, num2):\n",
    "        self.num1 = num1\n",
    "        self.num2 = num2\n",
    "    \n",
    "    def setData(self, num1, num2):\n",
    "        self.num1 = num1\n",
    "        self.num2 = num2\n",
    "        \n",
    "    def add(self):\n",
    "        return self.num1 + self.num2\n",
    "    \n",
    "    def sub(self):\n",
    "        return self.num1 - self.num2\n",
    "    \n",
    "    def mul(self):\n",
    "        return self.num1 * self.num2\n",
    "    \n",
    "    def div(self):\n",
    "        return self.num1 / self.num2"
   ]
  },
  {
   "cell_type": "code",
   "execution_count": null,
   "metadata": {},
   "outputs": [],
   "source": [
    "c3 = calculator()"
   ]
  },
  {
   "cell_type": "code",
   "execution_count": null,
   "metadata": {},
   "outputs": [],
   "source": [
    "c3 = calculator(5, 7)\n",
    "result = c3.add()\n",
    "print(result)"
   ]
  },
  {
   "cell_type": "markdown",
   "metadata": {},
   "source": [
    "### Inheritance\n",
    "- 상속은 기존의 클래스에 새로운 변수나 함수를 추가하거나 변경하는것을 의미한다.\n",
    "- overiding & overloading 차이점 : 다형성의 특징\n",
    "    - overiding : 상위 클래스가 가지고 있는 함수를 하위 클래스가 함수를 재정의 해서 사용\n",
    "    - overloading : 함수 이름은 같으나 arguments의 갯수 차이로 함수를 구분해주는 방법 - 파이썬에서는 default argument로 조건문을 사용하여 구현"
   ]
  },
  {
   "cell_type": "code",
   "execution_count": 5,
   "metadata": {},
   "outputs": [],
   "source": [
    "# calculator 클래스를 상속 받아 제곱근 기능을 추가\n",
    "class improvedCalculator(calculator):\n",
    "    def pow(self):\n",
    "        return self.num1 ** self.num2"
   ]
  },
  {
   "cell_type": "code",
   "execution_count": 8,
   "metadata": {},
   "outputs": [
    {
     "name": "stdout",
     "output_type": "stream",
     "text": [
      "243\n",
      "8\n"
     ]
    }
   ],
   "source": [
    "ic = improvedCalculator(3,5)\n",
    "result = ic.pow()\n",
    "print(result)\n",
    "print(ic.add())"
   ]
  },
  {
   "cell_type": "markdown",
   "metadata": {},
   "source": [
    "##### 다중상속"
   ]
  },
  {
   "cell_type": "code",
   "execution_count": null,
   "metadata": {},
   "outputs": [],
   "source": [
    "# 자바는 다중상속이 안된당\n",
    "# multiful inheritance\n",
    "class human():\n",
    "    def walk(self):\n",
    "        print(\"walking\")\n",
    "            \n",
    "class korean():\n",
    "    def eat(self):\n",
    "        print(\"eat kimchi\")\n",
    "    \n",
    "class indian():\n",
    "    def eat(self):\n",
    "        print(\"eat curry\")"
   ]
  },
  {
   "cell_type": "code",
   "execution_count": null,
   "metadata": {},
   "outputs": [],
   "source": [
    "# jin은 사람과 한국인을 상속받음\n",
    "# coding 스킬이있고 noddle을 먹음\n",
    "class jin(human, korean):\n",
    "    \n",
    "    def skill(self):\n",
    "        print(\"coding\")\n",
    "        \n",
    "    def eat(self): # 오버라이딩 : 상위 클래스의 함수를 새롭게 정의\n",
    "        print(\"eat noodle\")"
   ]
  },
  {
   "cell_type": "code",
   "execution_count": null,
   "metadata": {},
   "outputs": [],
   "source": [
    "# anchal은 사람과 인도인을 상속받음\n",
    "# speaking english 스킬이 있음\n",
    "class anchal(human, indian):\n",
    "    \n",
    "    def skill(self):\n",
    "        print(\"speak english\")\n",
    "        \n",
    "    def eat(self, place=None): # 오버로딩 : argument의 갯수 차이로 다르게 코드 실행\n",
    "        if place is None:\n",
    "#             데이터가 없다는 semantic을 나타내려면 is None을 사용해야 함\n",
    "            print(\"eat noodle\")\n",
    "        else:\n",
    "            print(\"eat noodle in {}\".format(place))"
   ]
  },
  {
   "cell_type": "code",
   "execution_count": null,
   "metadata": {},
   "outputs": [],
   "source": [
    "j = jin()\n",
    "a = anchal()"
   ]
  },
  {
   "cell_type": "code",
   "execution_count": null,
   "metadata": {},
   "outputs": [],
   "source": [
    "j.walk()\n",
    "j.eat()\n",
    "j.skill()"
   ]
  },
  {
   "cell_type": "code",
   "execution_count": null,
   "metadata": {},
   "outputs": [],
   "source": [
    "a.walk()\n",
    "a.eat()\n",
    "a.skill()\n",
    "a.eat(\"Delhi\")"
   ]
  },
  {
   "cell_type": "markdown",
   "metadata": {},
   "source": [
    "### super\n",
    "- 상위 클래스의 생성자를 받아옴\n",
    "- starcraft 예제"
   ]
  },
  {
   "cell_type": "code",
   "execution_count": 9,
   "metadata": {},
   "outputs": [],
   "source": [
    "class human():\n",
    "    \n",
    "    def __init__(self):\n",
    "        self.health = 40\n",
    "\n",
    "    def set_health(self, var):\n",
    "        self.health += var"
   ]
  },
  {
   "cell_type": "code",
   "execution_count": 10,
   "metadata": {},
   "outputs": [],
   "source": [
    "class marin(human):\n",
    "    \n",
    "    def __init__(self):\n",
    "#         둘 중 하나를 쓰면 됨\n",
    "        super(marin, self).__init__()\n",
    "#         self.health = 40\n",
    "    \n",
    "        self.attack_power = 5\n",
    "        self.kill = 0\n",
    "        \n",
    "    def attack(self, obj):\n",
    "        \n",
    "        obj.set_health(-self.attack_power)\n",
    "        \n",
    "        if obj.health <= 0:\n",
    "            obj.health = 0\n",
    "            self.kill += 1\n",
    "            return \"die\" # killed\n",
    "        \n",
    "        return \"alive [health:{}]\".format(obj.health) # alive"
   ]
  },
  {
   "cell_type": "code",
   "execution_count": 11,
   "metadata": {},
   "outputs": [],
   "source": [
    "class medic(human):\n",
    "    \n",
    "    def __init__(self):\n",
    "        self.health = 20\n",
    "        self.heal_power = 6\n",
    "    \n",
    "    def heal(self, obj):\n",
    "        \n",
    "        if obj.health == 0:\n",
    "            print(\"aleady die!\")\n",
    "            return\n",
    "        \n",
    "        obj.set_health(+self.heal_power)\n",
    "        \n",
    "        if obj.health > 40:\n",
    "            obj.health = 40\n",
    "    "
   ]
  },
  {
   "cell_type": "code",
   "execution_count": 12,
   "metadata": {},
   "outputs": [],
   "source": [
    "# make marin objects\n",
    "marin1 = marin()\n",
    "marin2 = marin()"
   ]
  },
  {
   "cell_type": "code",
   "execution_count": 13,
   "metadata": {},
   "outputs": [
    {
     "data": {
      "text/plain": [
       "'alive [health:35]'"
      ]
     },
     "execution_count": 13,
     "metadata": {},
     "output_type": "execute_result"
    }
   ],
   "source": [
    "# attack marin1 to marin2\n",
    "marin1.attack(marin2)"
   ]
  },
  {
   "cell_type": "code",
   "execution_count": 14,
   "metadata": {},
   "outputs": [
    {
     "data": {
      "text/plain": [
       "(40, 35, 0, 0)"
      ]
     },
     "execution_count": 14,
     "metadata": {},
     "output_type": "execute_result"
    }
   ],
   "source": [
    "# check status\n",
    "marin1.health, marin2.health, marin1.kill, marin2.kill"
   ]
  },
  {
   "cell_type": "code",
   "execution_count": 20,
   "metadata": {},
   "outputs": [
    {
     "data": {
      "text/plain": [
       "(40, 40)"
      ]
     },
     "execution_count": 20,
     "metadata": {},
     "output_type": "execute_result"
    }
   ],
   "source": [
    "marin1.health, marin2.health"
   ]
  },
  {
   "cell_type": "code",
   "execution_count": 16,
   "metadata": {},
   "outputs": [],
   "source": [
    "# make medic object\n",
    "medic1 = medic()"
   ]
  },
  {
   "cell_type": "code",
   "execution_count": 19,
   "metadata": {},
   "outputs": [],
   "source": [
    "medic1.heal(marin2)"
   ]
  },
  {
   "cell_type": "code",
   "execution_count": null,
   "metadata": {},
   "outputs": [],
   "source": [
    "# 문제 \n",
    "# 아래의 데이터를 리스트, 딕셔너리, 클래스로 나타내어라.\n",
    "# 클래스에서는 타율(안타/타석) 정보를 볼수 있는 기능 추가\n",
    "# 김선빈 - 타석:476, 안타:176\n",
    "# 박건우 - 타석:483, 안타:177\n",
    "# 박민우 - 타석:388, 안타:141\n",
    "# 나성범 - 타석:498, 안타:173\n",
    "# 박용택 - 타석:509, 안타:175"
   ]
  },
  {
   "cell_type": "code",
   "execution_count": 25,
   "metadata": {},
   "outputs": [
    {
     "name": "stdout",
     "output_type": "stream",
     "text": [
      "김선빈 476 176\n",
      "0.3697478991596639\n",
      "박건우 483 177\n",
      "0.36645962732919257\n"
     ]
    }
   ],
   "source": [
    "list_info = ['김선빈', 476, 176, '박건우', 483, 177]\n",
    "dict_info = {'김선빈': {'타석': 476, '안타': 176}, '박건우': {'타석': 483, '안타': 177}}\n",
    "\n",
    "\n",
    "class info():\n",
    "    def setData(self, name, a, b):\n",
    "        self.name = name\n",
    "        self.a = a\n",
    "        self.b = b\n",
    "\n",
    "    def printData(self):\n",
    "        print(self.name, self.a, self.b)\n",
    "\n",
    "    def avg(self):\n",
    "        return self.b / self.a\n",
    "\n",
    "kim = info()\n",
    "kim.setData('김선빈', 476, 176)\n",
    "kim.printData()\n",
    "print(kim.avg())\n",
    "\n",
    "park = info()\n",
    "park.setData('박건우', 483, 177)\n",
    "park.printData()\n",
    "print(park.avg())"
   ]
  },
  {
   "cell_type": "markdown",
   "metadata": {},
   "source": [
    "##### get,set\n",
    "- 함수가 아니라 `.`을 통해 클래스 객체의 내부 변수에 접근할수 있도록 한다.\n",
    "- property를 이용한 get, set\n",
    "- decorlator를 이용한 get, set"
   ]
  },
  {
   "cell_type": "code",
   "execution_count": null,
   "metadata": {},
   "outputs": [],
   "source": [
    "# property\n",
    "class Person1():\n",
    "    \n",
    "    def __init__(self, input_name):\n",
    "        self.hidden_name = input_name\n",
    "    \n",
    "    def get_name(self):\n",
    "        print(\"inside the getter\")\n",
    "        return self.hidden_name\n",
    "    \n",
    "    def set_name(self, input_name):\n",
    "        print(\"inside the setter\")\n",
    "        self.hidden_name = input_name\n",
    "        \n",
    "    name = property(get_name, set_name)"
   ]
  },
  {
   "cell_type": "code",
   "execution_count": null,
   "metadata": {},
   "outputs": [],
   "source": [
    "p1 = Person1(\"doojin\")\n",
    "\n",
    "# get\n",
    "print(p1.name) # property를 이용하여 . 을 통해 객체의 변수를 가져올수 있다.\n",
    "print(p1.get_name())\n",
    "\n",
    "# set\n",
    "# property를 이용하여 . 을 통해 객체의 변수를 설정할수 있다. \n",
    "# property가 설정되어 있지 않으면 클래스 내부 변수가 아니라 그냥 변수로 설정된다.\n",
    "p1.name = 'shin1' \n",
    "p1.set_name('shin2')\n",
    "\n",
    "# get\n",
    "print(p1.name)\n",
    "print(p1.get_name())"
   ]
  },
  {
   "cell_type": "code",
   "execution_count": null,
   "metadata": {},
   "outputs": [],
   "source": [
    "#decorlator\n",
    "class Person2():\n",
    "    \n",
    "    def __init__(self, input_name):\n",
    "        self.hidden_name = input_name\n",
    "        \n",
    "    @property \n",
    "    def name(self):\n",
    "        print(\"inside the getter\")\n",
    "        return self.hidden_name\n",
    "    \n",
    "    @name.setter\n",
    "    def name(self, input_name):\n",
    "        print(\"inside the setter\")\n",
    "        self.hidden_name = input_name\n",
    "        "
   ]
  },
  {
   "cell_type": "code",
   "execution_count": null,
   "metadata": {},
   "outputs": [],
   "source": [
    "p2 = Person2(\"doojin\")\n",
    "\n",
    "# get\n",
    "print(p2.name)\n",
    "\n",
    "# set\n",
    "p2.name = 'shin'\n",
    "\n",
    "# get\n",
    "print(p2.name)"
   ]
  },
  {
   "cell_type": "markdown",
   "metadata": {},
   "source": [
    "### private\n",
    "- mangling : 캡슐화\n",
    "- class 내부변수를 다이렉트로 접근하지 못하게 함\n",
    "- 변수명 앞에 `__`를 붙이면 다이렉트로 접근하지 못함\n",
    "- 완벽한 방법은 아니고 변수명 앞에 `_`(클래스명)을 붙이면 접근이 가능"
   ]
  },
  {
   "cell_type": "code",
   "execution_count": null,
   "metadata": {},
   "outputs": [],
   "source": [
    "# 클래스 내부 변수에 .을 이용한 접근이 가능\n",
    "p2.hidden_name"
   ]
  },
  {
   "cell_type": "code",
   "execution_count": null,
   "metadata": {},
   "outputs": [],
   "source": [
    "class Person3():\n",
    "    \n",
    "    def __init__(self, input_name):\n",
    "        self.__hidden_name = input_name\n",
    "        \n",
    "    @property \n",
    "    def name(self):\n",
    "        print(\"inside the getter\")\n",
    "        return self.__hidden_name\n",
    "    \n",
    "    @name.setter\n",
    "    def name(self, input_name):\n",
    "        print(\"inside the setter\")\n",
    "        self.__hidden_name = input_name"
   ]
  },
  {
   "cell_type": "code",
   "execution_count": null,
   "metadata": {},
   "outputs": [],
   "source": [
    "p3 = Person3(\"doojin\")\n",
    "\n",
    "# get\n",
    "print(p3.name)\n",
    "\n",
    "# set\n",
    "p3.name = 'shin'\n",
    "\n",
    "# get\n",
    "print(p3.name)"
   ]
  },
  {
   "cell_type": "code",
   "execution_count": null,
   "metadata": {},
   "outputs": [],
   "source": [
    "# mangling을 통해 접근이 불가능\n",
    "p3.__hidden_name"
   ]
  },
  {
   "cell_type": "code",
   "execution_count": null,
   "metadata": {},
   "outputs": [],
   "source": [
    "# _class 명을 앞에 추가시켜 접근이 가능\n",
    "# 완벽한 private는 아님, 하지만 접근을 어렵게 만든다.\n",
    "p3._Person3__hidden_name"
   ]
  },
  {
   "cell_type": "markdown",
   "metadata": {},
   "source": [
    "### is a / has a\n",
    "- has a : composition, aggregation"
   ]
  },
  {
   "cell_type": "code",
   "execution_count": null,
   "metadata": {},
   "outputs": [],
   "source": [
    "# is a\n",
    "# person5 is a person4\n",
    "# person5는 Persion4 이다. \n",
    "class Person4():\n",
    "    \n",
    "    def __init__(self, name, email):\n",
    "        self.name = name\n",
    "        self.email = email\n",
    "\n",
    "class Person5(Person4):\n",
    "    \n",
    "    def about(self):\n",
    "        print(self.name, self.email)\n",
    "        \n",
    "p5 = Person5(\"Doojin\", \"pdj1224@gmail.com\")\n",
    "p5.about()"
   ]
  },
  {
   "cell_type": "code",
   "execution_count": null,
   "metadata": {},
   "outputs": [],
   "source": [
    "# has a\n",
    "# 클래스의 변수를 객체로 받아서 클래스를 선언하는 개념 (클래스는 객체를 가지고 있다.)\n",
    "# 사람은 이름과 이메일을 가지고 있다\n",
    "# person has a name,email\n",
    "# 이 사람의 이름은 Doojin, 메일은 pdj1224@gmail.com을 가지고 있다.\n",
    "class Name():\n",
    "    def __init__(self, name):\n",
    "        self.name_str = name\n",
    "    \n",
    "class Email():\n",
    "    def __init__(self, email):\n",
    "        self.email_str = email\n",
    "    \n",
    "class Person6():\n",
    "    \n",
    "    def __init__(self, name, email):\n",
    "        self.name = name\n",
    "        self.email = email\n",
    "     \n",
    "    def about(self):\n",
    "        print(self.name.name_str, self.email.email_str)\n",
    "\n",
    "name = Name(\"Doojin\")\n",
    "email = Email(\"pdj1224@gmail.com\")\n",
    "p6 = Person6(name, email)\n",
    "p6.about()"
   ]
  },
  {
   "cell_type": "markdown",
   "metadata": {},
   "source": [
    "### magic method\n",
    "- https://docs.python.org/3/reference/datamodel.html#specialnames\n",
    "- compare\n",
    "    - `__eq__` : ==\n",
    "    - `__ne__` : !=\n",
    "    - `__lt__` : <\n",
    "    - `__gt__` : >\n",
    "    - `__le__` : <=\n",
    "    - `__ge__` : >=\n",
    "- calculate\n",
    "    - `__add__` : +\n",
    "    - `__sub__` : -\n",
    "    - `__mul__` : *\n",
    "    - `__floordiv__` : //\n",
    "    - `__truediv__` : /\n",
    "    - `__mod__` : %\n",
    "    - `__pow__` : **\n",
    "- `__repr__`\n",
    "- `__str__`\n",
    "- `__len__`"
   ]
  },
  {
   "cell_type": "code",
   "execution_count": null,
   "metadata": {},
   "outputs": [],
   "source": [
    "class Txt():\n",
    "    def __init__(self, txt):\n",
    "        self.txt = txt\n",
    "    def equals(self, txt_obj):\n",
    "        return self.txt.lower() == txt_obj.txt.lower()\n",
    "\n",
    "txt1 = Txt(\"fastcampus\")\n",
    "txt2 = Txt(\"FastCampus\")\n",
    "txt3 = Txt(\"dataScience\")\n",
    "txt4 = Txt(\"fastcampus\")\n",
    "txt5 = txt1\n",
    "\n",
    "print( txt1.equals(txt2) )\n",
    "print( txt1.equals(txt3) )\n",
    "print( txt1.equals(txt4) )\n",
    "print( txt1.equals(txt5) )"
   ]
  },
  {
   "cell_type": "code",
   "execution_count": null,
   "metadata": {
    "scrolled": true
   },
   "outputs": [],
   "source": [
    "# class는 비교연산에서 주소값을 비교한다.\n",
    "txt1 == txt2, txt1 == txt3, txt1 == txt4, txt1 == txt5"
   ]
  },
  {
   "cell_type": "code",
   "execution_count": null,
   "metadata": {},
   "outputs": [],
   "source": [
    "# txt1과 txt5는 주소값이 같지만 txt4는 주소값이 다르다.\n",
    "txt1, txt4, txt5"
   ]
  },
  {
   "cell_type": "code",
   "execution_count": null,
   "metadata": {},
   "outputs": [],
   "source": [
    "# __eq__를 정의\n",
    "# __eq__를 정의하면 클래스 비교연산에서 __eq__를 수행한다.\n",
    "class Txt():\n",
    "    def __init__(self, txt):\n",
    "        self.txt = txt\n",
    "    def __eq__(self, txt_obj):\n",
    "        \"\"\"\n",
    "            return self.txt.lower() == txt_obj.txt.lower()\n",
    "        \"\"\"\n",
    "        return self.txt.lower() == txt_obj.txt.lower()\n",
    "\n",
    "txt1 = Txt(\"fastcampus\")\n",
    "txt2 = Txt(\"FastCampus\")\n",
    "txt3 = Txt(\"dataScience\")\n",
    "txt4 = Txt(\"fastcampus\")\n",
    "txt5 = txt1\n",
    "\n",
    "txt1 == txt2, txt1 == txt3, txt1 == txt4, txt1 == txt5"
   ]
  },
  {
   "cell_type": "code",
   "execution_count": null,
   "metadata": {},
   "outputs": [],
   "source": [
    "Txt.__eq__??"
   ]
  },
  {
   "cell_type": "markdown",
   "metadata": {},
   "source": [
    "- 리스트에 있는 값 여러개 삭제하는 방법"
   ]
  },
  {
   "cell_type": "code",
   "execution_count": null,
   "metadata": {},
   "outputs": [],
   "source": [
    "value = [\"Hello\",\"Python\",\"Hello\",\"Python\",\"Hello\",\"Python\"]\n",
    "value.remove(\"Python\")\n",
    "print(value)"
   ]
  },
  {
   "cell_type": "markdown",
   "metadata": {},
   "source": [
    "##### quiz\n",
    "- 리스트에 있는 특정 값을 모두 삭제하는 방법 (여러가지 for, comprehention)\n"
   ]
  },
  {
   "cell_type": "code",
   "execution_count": null,
   "metadata": {},
   "outputs": [],
   "source": [
    "def del_all(ls, string):\n",
    "    # TODO\n",
    "    \n",
    "ls = [\"Hello\",\"Python\",\"Hello\",\"Python\",\"Hello\",\"Python\"]\n",
    "string = \"Python\"\n",
    "del_all(ls, string)"
   ]
  },
  {
   "cell_type": "code",
   "execution_count": null,
   "metadata": {},
   "outputs": [],
   "source": [
    "string.__ne__??"
   ]
  },
  {
   "cell_type": "code",
   "execution_count": null,
   "metadata": {},
   "outputs": [],
   "source": [
    "# __ne__ : 같으면 False, 다르면 True를 리턴\n",
    "ls = [\"Hello\",\"Python\",\"Hello\",\"Python\",\"Hello\",\"Python\"]\n",
    "print(list(filter((\"Python\").__ne__, ls)))"
   ]
  },
  {
   "cell_type": "code",
   "execution_count": 3,
   "metadata": {},
   "outputs": [],
   "source": [
    "int.__lt__??"
   ]
  },
  {
   "cell_type": "code",
   "execution_count": 11,
   "metadata": {},
   "outputs": [
    {
     "name": "stdout",
     "output_type": "stream",
     "text": [
      "[4, 5]\n"
     ]
    }
   ],
   "source": [
    "ls = [1,2,3,4,5]\n",
    "print(list(filter((3).__lt__, ls)))"
   ]
  },
  {
   "cell_type": "markdown",
   "metadata": {},
   "source": [
    "- `__add__`"
   ]
  },
  {
   "cell_type": "code",
   "execution_count": 12,
   "metadata": {},
   "outputs": [],
   "source": [
    "int.__add__??"
   ]
  },
  {
   "cell_type": "code",
   "execution_count": 31,
   "metadata": {},
   "outputs": [
    {
     "data": {
      "text/plain": [
       "5"
      ]
     },
     "execution_count": 31,
     "metadata": {},
     "output_type": "execute_result"
    }
   ],
   "source": [
    "(2).__add__(3)"
   ]
  },
  {
   "cell_type": "code",
   "execution_count": 32,
   "metadata": {},
   "outputs": [],
   "source": [
    "# add를 정의 해서 객체간의 덧셈을 정의 할수 있다.(뺄셈으로 변경)\n",
    "class number:\n",
    "    \n",
    "    def __init__(self, num):\n",
    "        self.num = num\n",
    "    def __add__(self, other):\n",
    "        return self.num - other.num\n",
    "        "
   ]
  },
  {
   "cell_type": "code",
   "execution_count": 33,
   "metadata": {},
   "outputs": [
    {
     "data": {
      "text/plain": [
       "-2"
      ]
     },
     "execution_count": 33,
     "metadata": {},
     "output_type": "execute_result"
    }
   ],
   "source": [
    "n1 = number(5)\n",
    "n2 = number(7)\n",
    "n1 + n2"
   ]
  },
  {
   "cell_type": "markdown",
   "metadata": {},
   "source": [
    "- `__repr__` : 클래스를 정의\n",
    "- `__str__` : 클래스명으로 print 출력시 나오는 문자열"
   ]
  },
  {
   "cell_type": "code",
   "execution_count": null,
   "metadata": {},
   "outputs": [],
   "source": [
    "# __repr__, __str__\n",
    "class Txt():\n",
    "    def __init__(self, txt):\n",
    "        self.txt = txt\n",
    "t1 = Txt(\"Python\")"
   ]
  },
  {
   "cell_type": "code",
   "execution_count": null,
   "metadata": {},
   "outputs": [],
   "source": [
    "t1 # call __repr__"
   ]
  },
  {
   "cell_type": "code",
   "execution_count": null,
   "metadata": {},
   "outputs": [],
   "source": [
    "print(t1) # call __str__"
   ]
  },
  {
   "cell_type": "code",
   "execution_count": null,
   "metadata": {},
   "outputs": [],
   "source": [
    "# __repr__, __str__\n",
    "class Txt2():\n",
    "    def __init__(self, txt):\n",
    "        self.txt = txt\n",
    "    def __repr__(self):\n",
    "        print(\"call '__repr__'\")\n",
    "        return \"Txt2(txt='\" + self.txt + \"')\"\n",
    "    def __str__(self):\n",
    "        print(\"call '__str__'\")\n",
    "        return self.txt\n",
    "t2 = Txt2(\"Python\")"
   ]
  },
  {
   "cell_type": "code",
   "execution_count": null,
   "metadata": {},
   "outputs": [],
   "source": [
    "t2"
   ]
  },
  {
   "cell_type": "code",
   "execution_count": null,
   "metadata": {},
   "outputs": [],
   "source": [
    "print(t2)"
   ]
  },
  {
   "cell_type": "markdown",
   "metadata": {},
   "source": [
    "- `__len__`"
   ]
  },
  {
   "cell_type": "code",
   "execution_count": 17,
   "metadata": {},
   "outputs": [],
   "source": [
    "list.__len__??"
   ]
  },
  {
   "cell_type": "code",
   "execution_count": 35,
   "metadata": {},
   "outputs": [],
   "source": [
    "def len(x):\n",
    "    return x.__len__()"
   ]
  },
  {
   "cell_type": "code",
   "execution_count": 1,
   "metadata": {},
   "outputs": [
    {
     "data": {
      "text/plain": [
       "[1, 2, 3]"
      ]
     },
     "execution_count": 1,
     "metadata": {},
     "output_type": "execute_result"
    }
   ],
   "source": [
    "somelist = [[1], [2, 3], [4, 5, 6]]\n",
    "list(map(len, somelist))"
   ]
  },
  {
   "cell_type": "code",
   "execution_count": 25,
   "metadata": {},
   "outputs": [
    {
     "data": {
      "text/plain": [
       "[1, 2, 3]"
      ]
     },
     "execution_count": 25,
     "metadata": {},
     "output_type": "execute_result"
    }
   ],
   "source": [
    "list(map(list.__len__, somelist))"
   ]
  },
  {
   "cell_type": "code",
   "execution_count": 26,
   "metadata": {
    "scrolled": true
   },
   "outputs": [
    {
     "data": {
      "text/plain": [
       "3"
      ]
     },
     "execution_count": 26,
     "metadata": {},
     "output_type": "execute_result"
    }
   ],
   "source": [
    "somelist.__len__()"
   ]
  },
  {
   "cell_type": "code",
   "execution_count": 27,
   "metadata": {},
   "outputs": [
    {
     "data": {
      "text/plain": [
       "3"
      ]
     },
     "execution_count": 27,
     "metadata": {},
     "output_type": "execute_result"
    }
   ],
   "source": [
    "len(somelist)"
   ]
  },
  {
   "cell_type": "markdown",
   "metadata": {},
   "source": [
    "### namedtuple\n",
    "- 튜플의 서브 클래스\n",
    "- 튜플에 key 값을 추가하나 데이터 타입\n",
    "- .과 offset으로 접근이 가능\n",
    "- 불변하는 객체로 사용가능\n",
    "- 객체보다 공간과 시간효율성이 좋음\n",
    "- 키값과 인덱스를 함께 사용이 가능\n",
    "- 딕셔너리 형식의 []가 아닌 .으로 접근이 가능"
   ]
  },
  {
   "cell_type": "code",
   "execution_count": 7,
   "metadata": {},
   "outputs": [],
   "source": [
    "from collections import namedtuple"
   ]
  },
  {
   "cell_type": "code",
   "execution_count": 31,
   "metadata": {},
   "outputs": [
    {
     "data": {
      "text/plain": [
       "Car(wheel='white', door='black')"
      ]
     },
     "execution_count": 31,
     "metadata": {},
     "output_type": "execute_result"
    }
   ],
   "source": [
    "class Car():\n",
    "    \n",
    "    def __init__(self, wheel, door):\n",
    "        self.wheel = wheel\n",
    "        self.door = door\n",
    "    \n",
    "    def __str__(self):\n",
    "        return self.wheel + \" \" + self.door\n",
    "    \n",
    "    def __repr__(self):\n",
    "        return \"Car(wheel='\" + self.wheel + \"', door='\" + self.door + \"')\"\n",
    "\n",
    "car = Car(\"white\", \"black\")\n",
    "car"
   ]
  },
  {
   "cell_type": "code",
   "execution_count": 32,
   "metadata": {},
   "outputs": [
    {
     "data": {
      "text/plain": [
       "('white', 'black')"
      ]
     },
     "execution_count": 32,
     "metadata": {},
     "output_type": "execute_result"
    }
   ],
   "source": [
    "car.wheel, car.door"
   ]
  },
  {
   "cell_type": "code",
   "execution_count": 33,
   "metadata": {},
   "outputs": [
    {
     "name": "stdout",
     "output_type": "stream",
     "text": [
      "56\n"
     ]
    }
   ],
   "source": [
    "import sys\n",
    "print(sys.getsizeof(car))"
   ]
  },
  {
   "cell_type": "code",
   "execution_count": 34,
   "metadata": {},
   "outputs": [
    {
     "data": {
      "text/plain": [
       "Car(wheel='white', door='black')"
      ]
     },
     "execution_count": 34,
     "metadata": {},
     "output_type": "execute_result"
    }
   ],
   "source": [
    "Car = namedtuple(\"Car\", \"wheel door\")\n",
    "car  = Car(\"white\", \"black\")\n",
    "car"
   ]
  },
  {
   "cell_type": "code",
   "execution_count": 35,
   "metadata": {},
   "outputs": [
    {
     "data": {
      "text/plain": [
       "('white', 'black', 'white', 'black')"
      ]
     },
     "execution_count": 35,
     "metadata": {},
     "output_type": "execute_result"
    }
   ],
   "source": [
    "car.wheel, car.door, car[0], car[1]"
   ]
  },
  {
   "cell_type": "code",
   "execution_count": 36,
   "metadata": {},
   "outputs": [
    {
     "name": "stdout",
     "output_type": "stream",
     "text": [
      "64\n"
     ]
    }
   ],
   "source": [
    "print(sys.getsizeof(car))"
   ]
  },
  {
   "cell_type": "code",
   "execution_count": 37,
   "metadata": {},
   "outputs": [
    {
     "data": {
      "text/plain": [
       "Car(wheel='pink', door='red')"
      ]
     },
     "execution_count": 37,
     "metadata": {},
     "output_type": "execute_result"
    }
   ],
   "source": [
    "# 딕셔너리를 네임드 튜플로 만들기\n",
    "dic = {\"wheel\":\"pink\", \"door\":\"red\"}\n",
    "dic_car = Car(**dic)\n",
    "dic_car"
   ]
  },
  {
   "cell_type": "code",
   "execution_count": 38,
   "metadata": {},
   "outputs": [
    {
     "data": {
      "text/plain": [
       "'pink'"
      ]
     },
     "execution_count": 38,
     "metadata": {},
     "output_type": "execute_result"
    }
   ],
   "source": [
    "dic_car.wheel"
   ]
  },
  {
   "cell_type": "code",
   "execution_count": 42,
   "metadata": {},
   "outputs": [
    {
     "data": {
      "text/plain": [
       "'red'"
      ]
     },
     "execution_count": 42,
     "metadata": {},
     "output_type": "execute_result"
    }
   ],
   "source": [
    "dic_car[1]"
   ]
  },
  {
   "cell_type": "code",
   "execution_count": 44,
   "metadata": {},
   "outputs": [
    {
     "data": {
      "text/plain": [
       "Car(wheel='pink', door='red')"
      ]
     },
     "execution_count": 44,
     "metadata": {},
     "output_type": "execute_result"
    }
   ],
   "source": [
    "# 리스트를 네임드 튜플 만들기\n",
    "ls = [\"pink\",\"red\"]\n",
    "ls_car = Car._make(ls)\n",
    "ls_car"
   ]
  },
  {
   "cell_type": "code",
   "execution_count": null,
   "metadata": {},
   "outputs": [],
   "source": []
  }
 ],
 "metadata": {
  "anaconda-cloud": {},
  "kernelspec": {
   "display_name": "Python [default]",
   "language": "python",
   "name": "python3"
  },
  "language_info": {
   "codemirror_mode": {
    "name": "ipython",
    "version": 3
   },
   "file_extension": ".py",
   "mimetype": "text/x-python",
   "name": "python",
   "nbconvert_exporter": "python",
   "pygments_lexer": "ipython3",
   "version": "3.5.2"
  }
 },
 "nbformat": 4,
 "nbformat_minor": 2
}
