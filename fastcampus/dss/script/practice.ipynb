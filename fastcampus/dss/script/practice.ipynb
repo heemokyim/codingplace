{
 "cells": [
  {
   "cell_type": "code",
   "execution_count": 30,
   "metadata": {},
   "outputs": [],
   "source": [
    "def entire(func):\n",
    "    def inner_func(*args, **kwargs):\n",
    "        print('first')\n",
    "        result = func(*args, **kwargs)\n",
    "        print('second')\n",
    "        return result\n",
    "    return inner_func"
   ]
  },
  {
   "cell_type": "code",
   "execution_count": 31,
   "metadata": {},
   "outputs": [],
   "source": [
    "@entire\n",
    "def qwer(a,b):\n",
    "    print(a+b)\n",
    "    return a+b"
   ]
  },
  {
   "cell_type": "code",
   "execution_count": 32,
   "metadata": {},
   "outputs": [
    {
     "name": "stdout",
     "output_type": "stream",
     "text": [
      "first\n",
      "3\n",
      "second\n"
     ]
    },
    {
     "data": {
      "text/plain": [
       "3"
      ]
     },
     "execution_count": 32,
     "metadata": {},
     "output_type": "execute_result"
    }
   ],
   "source": [
    "qwer(1,2)"
   ]
  },
  {
   "cell_type": "code",
   "execution_count": 1,
   "metadata": {},
   "outputs": [],
   "source": [
    "import numpy as np"
   ]
  },
  {
   "cell_type": "code",
   "execution_count": 6,
   "metadata": {},
   "outputs": [
    {
     "name": "stdout",
     "output_type": "stream",
     "text": [
      "[0 1 2 3 4 5]\n",
      "[array([0, 1]), array([2, 3, 4, 5])]\n",
      "[0 1 2 3 4 5]\n"
     ]
    }
   ],
   "source": [
    "array = np.array([0, 1, 2, 3, 4, 5])\n",
    "print(array)\n",
    "print(np.split(array,[2]))\n",
    "print(array)"
   ]
  },
  {
   "cell_type": "code",
   "execution_count": 7,
   "metadata": {},
   "outputs": [
    {
     "data": {
      "text/plain": [
       "array([  0. ,   2.5,   5. ,   7.5,  10. ])"
      ]
     },
     "execution_count": 7,
     "metadata": {},
     "output_type": "execute_result"
    }
   ],
   "source": [
    "np.linspace(0,10,5)"
   ]
  },
  {
   "cell_type": "code",
   "execution_count": 9,
   "metadata": {},
   "outputs": [
    {
     "data": {
      "text/plain": [
       "(array([  0. ,   2.5,   5. ,   7.5,  10. ]),\n",
       " array([1, 1, 1, 1, 1], dtype=int64))"
      ]
     },
     "execution_count": 9,
     "metadata": {},
     "output_type": "execute_result"
    }
   ],
   "source": [
    "np.unique(np.linspace(0, 10, 5),return_counts=True)"
   ]
  },
  {
   "cell_type": "code",
   "execution_count": 15,
   "metadata": {},
   "outputs": [
    {
     "name": "stdout",
     "output_type": "stream",
     "text": [
      "[  0.    2.5   5.    7.5  10.   10. ]\n",
      "(array([  0. ,   2.5,   5. ,   7.5,  10. ]), array([1, 1, 1, 1, 2], dtype=int64))\n"
     ]
    }
   ],
   "source": [
    "A = np.linspace(0,10,5)\n",
    "B = np.array([10])\n",
    "\n",
    "result = np.concatenate((A,B))\n",
    "\n",
    "print(result)\n",
    "\n",
    "print(np.unique(result, return_counts=True))"
   ]
  },
  {
   "cell_type": "code",
   "execution_count": 20,
   "metadata": {},
   "outputs": [
    {
     "name": "stdout",
     "output_type": "stream",
     "text": [
      "[[6 6 7]\n",
      " [0 2 5]\n",
      " [4 9 3]\n",
      " [7 8 6]\n",
      " [1 7 5]\n",
      " [8 0 0]]\n",
      "[[6 6 7 7 8 6]\n",
      " [0 2 5 1 7 5]\n",
      " [4 9 3 8 0 0]]\n"
     ]
    }
   ],
   "source": [
    "A = np.random.randint(10, size=(3, 3))\n",
    "B = np.random.randint(10, size=(3, 3))\n",
    "# print(A)\n",
    "# print(B)\n",
    "\n",
    "print(np.concatenate([A, B], axis=0))\n",
    "print(np.concatenate([A, B], axis=1))"
   ]
  },
  {
   "cell_type": "code",
   "execution_count": 37,
   "metadata": {},
   "outputs": [
    {
     "name": "stdout",
     "output_type": "stream",
     "text": [
      "[[  0.    2.5   5.    7.5  10. ]\n",
      " [  0.    2.5   5.    7.5  10. ]]\n"
     ]
    }
   ],
   "source": [
    "A = np.linspace(0, 10, 5)\n",
    "print(np.stack((A, A), axis=0))"
   ]
  },
  {
   "cell_type": "code",
   "execution_count": 27,
   "metadata": {},
   "outputs": [
    {
     "name": "stdout",
     "output_type": "stream",
     "text": [
      "10.0\n",
      "4\n",
      "5.0\n"
     ]
    }
   ],
   "source": [
    "print(A.max())\n",
    "print(A.argmax())\n",
    "print(A.mean())"
   ]
  },
  {
   "cell_type": "code",
   "execution_count": 30,
   "metadata": {},
   "outputs": [
    {
     "name": "stdout",
     "output_type": "stream",
     "text": [
      "25.0\n",
      "5.0\n",
      "3.53553390593\n",
      "12.5\n"
     ]
    }
   ],
   "source": [
    "print(np.sum(A))\n",
    "print(np.median(A))\n",
    "print(np.std(A))\n",
    "print(np.var(A))"
   ]
  },
  {
   "cell_type": "code",
   "execution_count": 33,
   "metadata": {},
   "outputs": [
    {
     "name": "stdout",
     "output_type": "stream",
     "text": [
      "[[1 2 3]\n",
      " [3 4 5]]\n",
      "18\n",
      "[4 6 8]\n",
      "[ 6 12]\n"
     ]
    }
   ],
   "source": [
    "A = np.array([[1, 2, 3], [3, 4, 5]])\n",
    "print(A)\n",
    "print(np.sum(A))\n",
    "print(np.sum(A, axis=0))\n",
    "print(np.sum(A, axis=1))"
   ]
  },
  {
   "cell_type": "code",
   "execution_count": 34,
   "metadata": {},
   "outputs": [
    {
     "data": {
      "text/plain": [
       "True"
      ]
     },
     "execution_count": 34,
     "metadata": {},
     "output_type": "execute_result"
    }
   ],
   "source": [
    "np.all(A == A)"
   ]
  },
  {
   "cell_type": "code",
   "execution_count": 39,
   "metadata": {},
   "outputs": [
    {
     "name": "stdout",
     "output_type": "stream",
     "text": [
      "[  0.    2.5   5.    7.5  10. ]\n"
     ]
    },
    {
     "data": {
      "text/plain": [
       "(2.5, 3.0)"
      ]
     },
     "execution_count": 39,
     "metadata": {},
     "output_type": "execute_result"
    }
   ],
   "source": [
    "print(A)\n",
    "np.percentile(A, 25), np.percentile(A, 30)"
   ]
  },
  {
   "cell_type": "code",
   "execution_count": 40,
   "metadata": {},
   "outputs": [
    {
     "data": {
      "text/plain": [
       "array([  1.00000000e+00,   1.21824940e+01,   1.48413159e+02,\n",
       "         1.80804241e+03,   2.20264658e+04])"
      ]
     },
     "execution_count": 40,
     "metadata": {},
     "output_type": "execute_result"
    }
   ],
   "source": [
    "np.exp(A)"
   ]
  },
  {
   "cell_type": "code",
   "execution_count": 42,
   "metadata": {},
   "outputs": [
    {
     "data": {
      "text/plain": [
       "array([ 0.91629073,  1.60943791,  2.01490302,  2.30258509])"
      ]
     },
     "execution_count": 42,
     "metadata": {},
     "output_type": "execute_result"
    }
   ],
   "source": [
    "np.log(A[A != 0])"
   ]
  },
  {
   "cell_type": "code",
   "execution_count": null,
   "metadata": {},
   "outputs": [],
   "source": []
  }
 ],
 "metadata": {
  "anaconda-cloud": {},
  "kernelspec": {
   "display_name": "Python 3",
   "language": "python",
   "name": "python3"
  },
  "language_info": {
   "codemirror_mode": {
    "name": "ipython",
    "version": 3
   },
   "file_extension": ".py",
   "mimetype": "text/x-python",
   "name": "python",
   "nbconvert_exporter": "python",
   "pygments_lexer": "ipython3",
   "version": "3.6.3"
  }
 },
 "nbformat": 4,
 "nbformat_minor": 2
}
