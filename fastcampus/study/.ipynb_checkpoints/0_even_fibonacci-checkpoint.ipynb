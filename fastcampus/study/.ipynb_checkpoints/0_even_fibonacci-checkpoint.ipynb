{
 "cells": [
  {
   "cell_type": "code",
   "execution_count": 21,
   "metadata": {},
   "outputs": [
    {
     "name": "stdout",
     "output_type": "stream",
     "text": [
      "49.1 µs ± 19.2 ns per loop (mean ± std. dev. of 7 runs, 10000 loops each)\n"
     ]
    }
   ],
   "source": [
    "%%timeit\n",
    "fib = [1, 1]\n",
    "limit = 4000000\n",
    "i = 2\n",
    "sum = 0\n",
    "\n",
    "while fib[i - 2] + fib[i - 1] < limit:\n",
    "    fib.append(fib[i - 2] + fib[i - 1])\n",
    "    \n",
    "    if fib[-1] > limit:\n",
    "        break\n",
    "    \n",
    "    elif fib[-1] %2 ==0:\n",
    "        sum += fib[-1]\n",
    "        \n",
    "    i += 1\n",
    "        \n",
    "# print(sum)\n"
   ]
  },
  {
   "cell_type": "code",
   "execution_count": 4,
   "metadata": {},
   "outputs": [
    {
     "data": {
      "text/plain": [
       "2"
      ]
     },
     "execution_count": 4,
     "metadata": {},
     "output_type": "execute_result"
    }
   ],
   "source": [
    "tmp = [1, 2]"
   ]
  },
  {
   "cell_type": "code",
   "execution_count": 20,
   "metadata": {},
   "outputs": [
    {
     "name": "stdout",
     "output_type": "stream",
     "text": [
      "14.4 µs ± 5.48 ns per loop (mean ± std. dev. of 7 runs, 100000 loops each)\n"
     ]
    }
   ],
   "source": [
    "%%timeit\n",
    "a, b = [0,1]\n",
    "sum = 0\n",
    "while b <= 4000000:\n",
    "    a = a + b\n",
    "    b, a = a, b\n",
    "    if b % 2 == 0: sum += b\n",
    "# print(sum)"
   ]
  }
 ],
 "metadata": {
  "anaconda-cloud": {},
  "kernelspec": {
   "display_name": "Python [conda root]",
   "language": "python",
   "name": "conda-root-py"
  },
  "language_info": {
   "codemirror_mode": {
    "name": "ipython",
    "version": 3
   },
   "file_extension": ".py",
   "mimetype": "text/x-python",
   "name": "python",
   "nbconvert_exporter": "python",
   "pygments_lexer": "ipython3",
   "version": "3.5.2"
  }
 },
 "nbformat": 4,
 "nbformat_minor": 2
}
