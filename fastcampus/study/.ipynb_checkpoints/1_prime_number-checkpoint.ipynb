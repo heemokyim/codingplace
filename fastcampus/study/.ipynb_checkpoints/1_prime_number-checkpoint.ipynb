{
 "cells": [
  {
   "cell_type": "code",
   "execution_count": 71,
   "metadata": {},
   "outputs": [
    {
     "name": "stdout",
     "output_type": "stream",
     "text": [
      "27 ms ± 313 µs per loop (mean ± std. dev. of 7 runs, 10 loops each)\n"
     ]
    }
   ],
   "source": [
    "%%timeit\n",
    "# O(n^2) 밖에 안떠오른당\n",
    "sum = 0\n",
    "\n",
    "for number in range(2, 1000 + 1):\n",
    "    div = 0\n",
    "    for each in range(2, number):\n",
    "        if number % each == 0:\n",
    "            div += 1\n",
    "\n",
    "        if div >= 1 and number != each:\n",
    "            break\n",
    "\n",
    "    if div == 0:\n",
    "        sum += 1\n",
    "\n",
    "# print(sum) "
   ]
  },
  {
   "cell_type": "code",
   "execution_count": 72,
   "metadata": {},
   "outputs": [
    {
     "name": "stdout",
     "output_type": "stream",
     "text": [
      "20.7 ms ± 920 µs per loop (mean ± std. dev. of 7 runs, 10 loops each)\n"
     ]
    }
   ],
   "source": [
    "%%timeit\n",
    "primes = [1]\n",
    "\n",
    "for each in range(2,1000+1):\n",
    "    div = 0\n",
    "    for prime in primes:\n",
    "        if each % prime == 0:\n",
    "            div+=1\n",
    "            \n",
    "    # 해당 정수가 소수임\n",
    "    if div==1:\n",
    "        primes.append(each)\n",
    "        \n",
    "result = len(primes) - 1"
   ]
  },
  {
   "cell_type": "code",
   "execution_count": null,
   "metadata": {},
   "outputs": [],
   "source": [
    "# 모든 정수는 약수로 소수를 가진다\n",
    "# => 어떤 정수의 약수가 소수로 2개 이상 가진다면 그 수는 소수가 아니다\n",
    "\n",
    "# 1. \n",
    "primes = [1]\n",
    "\n",
    "for each in range(2,1000+1):\n",
    "    div = 0\n",
    "    for prime in primes:\n",
    "        if each % prime == 0:\n",
    "            div+=1\n",
    "            \n",
    "    # 해당 정수가 소수임\n",
    "    if div==1:\n",
    "        primes.append(each)\n",
    "    \n",
    "# primes.pop(0)\n",
    "# print(primes)"
   ]
  },
  {
   "cell_type": "code",
   "execution_count": null,
   "metadata": {},
   "outputs": [],
   "source": []
  }
 ],
 "metadata": {
  "anaconda-cloud": {},
  "kernelspec": {
   "display_name": "Python [conda root]",
   "language": "python",
   "name": "conda-root-py"
  },
  "language_info": {
   "codemirror_mode": {
    "name": "ipython",
    "version": 3
   },
   "file_extension": ".py",
   "mimetype": "text/x-python",
   "name": "python",
   "nbconvert_exporter": "python",
   "pygments_lexer": "ipython3",
   "version": "3.5.2"
  }
 },
 "nbformat": 4,
 "nbformat_minor": 2
}
