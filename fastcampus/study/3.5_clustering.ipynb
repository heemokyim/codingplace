{
 "cells": [
  {
   "cell_type": "markdown",
   "metadata": {},
   "source": [
    "# 군집(Clustering)\n",
    "> 데이터셋을 클러스터(Cluster)라는 그룹으로 나누는 것"
   ]
  },
  {
   "cell_type": "markdown",
   "metadata": {},
   "source": [
    "## 대표적인 Clustering 3가지\n",
    "1. K-means (KNN아님)\n",
    "> 클러스터의 중심을 원점으로 가지는 원을 그려 클러스터링\n",
    "2. 병합군집(Agglomerative clustering)\n",
    "> 가까운 데이터끼리 같은 클러스터로 합침\n",
    "3. DBSCAN\n",
    "> 핵심 샘플을 기준으로 밀집한 지역을 같은 클러스터로, 비어있는 지역을 경계로 삼음"
   ]
  },
  {
   "cell_type": "markdown",
   "metadata": {},
   "source": [
    "## K-means, 병합군집 vs DBSCAN\n",
    "> __클러스터의 갯수__를 미리 지정 vs 그럴 필요없음\n",
    "\n",
    "----------"
   ]
  },
  {
   "cell_type": "markdown",
   "metadata": {},
   "source": [
    "# K-means\n",
    "> 어떤 영역을 대표하는 클러스터 중심을 찾는 방법\n",
    "\n",
    "1. 클러스터 중심점들을 무작위로 배치\n",
    "2. 데이터들을 가장 가까운 클러스터 중심에 할당\n",
    "3. 같은 클러스터로 분류된 데이터들의 중심을 새로운 클러스터 중심으로 지정\n",
    "4. 2번으로\n",
    "(__새로운 클러스터 중심점에 변화가 없을 때 종료__)"
   ]
  },
  {
   "cell_type": "code",
   "execution_count": null,
   "metadata": {},
   "outputs": [],
   "source": [
    "#How to use\n",
    "from sklearn.cluster import KMeans\n",
    "X = data\n",
    "kemans = KMeans(n_clusters=YOUR_CLUSTERS)\n",
    "kmeans.fit(X)"
   ]
  },
  {
   "cell_type": "markdown",
   "metadata": {},
   "source": [
    "## K-means가 실패하는 경우\n",
    "> 클러스터가 둥근 형태로 분류되지 않는 경우\n",
    "\n",
    "ex) 대각선 형태로 모여있는 경우, Two Moons (3-32)"
   ]
  },
  {
   "cell_type": "markdown",
   "metadata": {},
   "source": [
    "## 벡터 양자화 (Vector quantization)\n",
    "> 클러스터를 나타내는 feature로 데이터를 표현하는 것\n",
    "\n",
    "> PCA나 NMF같이 데이터를 특정 기준의 성분으로 표현함\n",
    "\n",
    "ex) 만약 데이터가 2차원형태고 클러스터가 총 10개 있다면\n",
    "\n",
    "데이터를 10차원 형태의 데이터로 표현함\n",
    "\n",
    "그리고 각 차원엔 그 클러스터와 얼마나 가까운지를 정량적으로 표현\n",
    "\n",
    "   ## 벡터 양자화하면 vanila k-means로도 어려운 문제도 해결가능"
   ]
  },
  {
   "cell_type": "markdown",
   "metadata": {},
   "source": [
    "# 장단점\n",
    "* 장점 = 쉽고 빠름\n",
    "* 단점 = 활용범위가 제한적 / 결과가 초기값에 민감함\n",
    "\n",
    "-----------"
   ]
  },
  {
   "cell_type": "markdown",
   "metadata": {},
   "source": [
    "# 병합군집 (Agglomerative clustering)\n",
    "> 가까운 점들끼리 합쳐가며 Clustering\n",
    "\n",
    "1. 각 데이터를 하나의 클러스터로 지정\n",
    "2. 비슷한 애들을 합쳐나감\n",
    "3. 2번으로 (__지정된 클러스터 갯수가 나올 때까지__)\n",
    "\n",
    "    #### 미리 정해진 데이터가 있어야 군집이 가능하므로 새로운 데이터에 대해선 예측이 안 됨"
   ]
  },
  {
   "cell_type": "markdown",
   "metadata": {},
   "source": [
    "## 비슷한 애(linkage)들을 합치는 기준\n",
    "1. __ward__ = 모든 클러스터 내의 __분산을 가장 작게 증가__시키는 클러스터들을 합침\n",
    "2. __average__ = 클러스터 내의 데이터들 사이의 __평균 거리__가 가장 짧은 클러스터를 합침\n",
    "3. __complete__ = 클러스터 내의 데이터들 사이의 __최대 거리__가 가장 짧은 클러스터를 합침"
   ]
  },
  {
   "cell_type": "markdown",
   "metadata": {},
   "source": [
    "## 계층적 군집? 덴드로그램?\n",
    "> 군집이 진행될 때마다 각 단계의 클러스터를 시각화하는 방법들\n",
    "\n",
    "1. 계층적 군집 = 단계마다 진행된 클러스터를 겹쳐서 표시 (3-35)\n",
    "2. 덴드로그램 = 클러스터가 합쳐진 시점을 부모로, 그 이전을 자식으로 가지는 트리형태로 표시 (3-36)\n",
    "\n",
    "(가지의 길이가 길면 길수록 멀리 있는 클러스터)"
   ]
  },
  {
   "cell_type": "markdown",
   "metadata": {},
   "source": [
    "## 병합군집도 복잡한 형태의 데이터는 구분하지 못함\n",
    "> K-means, 병합군집의 특징은 각 단계마다 전체 데이터의 거리를 계산함\n",
    "\n",
    "> 거리만 기준으로 삼아서 그렇다\n",
    "\n",
    "> # 거리 이외의 다른 기준이 필요하다"
   ]
  },
  {
   "cell_type": "markdown",
   "metadata": {},
   "source": [
    "-------------------"
   ]
  },
  {
   "cell_type": "markdown",
   "metadata": {},
   "source": [
    "# DBSCAN\n",
    "> __핵심 샘플__(조건을 만족하는 데이터)를 기준으로 밀집한 클러스터끼리 붙여가며 구분하는 방법\n",
    "\n",
    "* __핵심 샘플__(핵심 포인트)?\n",
    "> eps 거리 안에 데이터가 min_samples갯수만큼 들어있는 데이터"
   ]
  },
  {
   "cell_type": "markdown",
   "metadata": {},
   "source": [
    "1. 무작위로 데이터 선택\n",
    "\n",
    "2. eps 안에 포함되는 데이터 갯수 검사\n",
    "    * min_samples보다 데이터가 적다 -> 잡음 (Noise) -> 4번으로\n",
    "    * min_samples보다 많거나 같다 -> 핵심 샘플로 분류 + 새로운 클러스터로 구분 -> 3번으로\n",
    "    \n",
    "3. 핵심 샘플의 eps 안의 모든 이웃데이터를 체크\n",
    "    * 이웃데이터가 클러스터가 없는 데이터다 -> 핵심 샘플의 클러스터 할당\n",
    "    * 이웃데이터에 클러스터가 있다 -> Pass\n",
    "    * 이웃데이터가 핵심 샘플이다 -> 3번으로\n",
    "4. 방문하지 못한 데이터 선택 후 2번으로 (eps 안에 더 이상 핵심 샘플이 없을 때까지 시행)"
   ]
  },
  {
   "cell_type": "markdown",
   "metadata": {},
   "source": [
    "## 핵심 포인트, 경계 포인트, 잡음\n",
    "1. 핵심 포인트 = 클러스터를 만드는 기준\n",
    "2. 경계 포인트 = 핵심 포인트의 eps 안에 있는 포인트, 핵심 포인트와 같은 클러스터로 구분된 데이터\n",
    "3. 잡음 = 어떤 클러스터로도 구분되지 않은 포인트\n",
    "4. 여러번 실행해도 결과는 크게 다르지 않다"
   ]
  },
  {
   "cell_type": "markdown",
   "metadata": {},
   "source": [
    "## eps VS min_samples\n",
    "1. eps를 증가시키면 클러스터의 크기가 커지고\n",
    "2. min_samples를 증가시키면 핵심 포인트 감소-> 잡음 증가\n",
    "\n",
    "    ## eps와 min_samples를 적절히 설정해서 DBSCAN\n",
    "    \n",
    "----------------    "
   ]
  },
  {
   "cell_type": "markdown",
   "metadata": {},
   "source": [
    "# 군집 알고리즘 성능평가\n",
    "> 클러스터 레이블 자체로 의미가 있는 것이 아니라 같은 클러스터로 분류된 애들이 실제로도 그런가가 중요\n",
    "\n",
    "1. 타겟값(결과)이 있을 때\n",
    "    * 절댓값이 0~1로 표현되는 ARI, NMI\n",
    "2. 타겟값(결과)이 없을 때\n",
    "    * 실루엣 점수 = (-1, 잘못된 군집), (0, 중첩된 군집), (1, 잘 구분된 군집)\n",
    "    * 하지만 더 잘 분류된 DBSCAN보다 덜 된 K-means의 점수가 높은 걸로 보아 모든 경우에 적합X    "
   ]
  },
  {
   "cell_type": "markdown",
   "metadata": {},
   "source": [
    "# 그렇다면?\n",
    "> 진짜 잘 분류됬는지 아닌지는 시각적으로 __직접 확인하는 방법__ 뿐이다"
   ]
  },
  {
   "cell_type": "markdown",
   "metadata": {},
   "source": [
    "## 주의사항\n",
    "1. 정답값, 즉 타겟값을 모르는 데이터에 대해 군집 알고리즘을 실행할 수 있는거지\n",
    "\n",
    "   정답값이 있는 데이터에 대해 군집 알고리즘을 실행하면 안된다는 건 아니다\n",
    "\n",
    "    > 측정방법이 없는게 아니라 정답값을 모르기 때문에 예측과 비교할 수가 없다\n",
    "\n",
    "2. 예측한 레이블(특정 클러스터)가 어떤 의미를 가지고 있지 않음"
   ]
  },
  {
   "cell_type": "markdown",
   "metadata": {},
   "source": [
    "## 정리\n",
    "1. 데이터에 주어진 타겟값(종속변수)이 없을 때 분석하는(유일한) 방법\n",
    "2. EDA, 데이터 전처리에 사용가능\n",
    "3. 정량적인 측정방법이 있지만 보통 타겟값이 주어지지 않으므로 직접 확인해야 한다\n",
    "4. 성과를 정량화하기 어렵지만 데이터에 대한 유의미한 통찰을 얻고 싶을 때 사용가능"
   ]
  },
  {
   "cell_type": "code",
   "execution_count": null,
   "metadata": {},
   "outputs": [],
   "source": []
  }
 ],
 "metadata": {
  "kernelspec": {
   "display_name": "Python 3",
   "language": "python",
   "name": "python3"
  },
  "language_info": {
   "codemirror_mode": {
    "name": "ipython",
    "version": 3
   },
   "file_extension": ".py",
   "mimetype": "text/x-python",
   "name": "python",
   "nbconvert_exporter": "python",
   "pygments_lexer": "ipython3",
   "version": "3.6.3"
  }
 },
 "nbformat": 4,
 "nbformat_minor": 2
}
