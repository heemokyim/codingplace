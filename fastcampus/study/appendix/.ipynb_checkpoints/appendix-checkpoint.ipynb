{
 "cells": [
  {
   "cell_type": "markdown",
   "metadata": {},
   "source": [
    "# 목차\n",
    "A. 컴퓨터 구조와 관련한 메모리\n",
    "     1. 폰노이만 아키텍처, 이와 관련한 보틀넥, \n",
    "         최적화 관점에서의 입출력 최소화, 버퍼링, 캐슁\n",
    "     2. 메인보드 내 메모리 위치\n",
    "\n",
    "B. 프로그램과 관련한 메모리\n",
    "     1. 프로그램이 OS에게 메모리를 요청할 때 (힙, 스택, 데이터, 코드)\n",
    "     2. 프로그램이 메모리보다 크다면? 가상 메모리\n",
    "     3. 프로그램? 프로세스? 쓰레드? 차이점\n",
    "     4. 프로그램은 변수를 메모리에서 어떻게 찾나 -> 심볼 테이블\n",
    "\n",
    "C. 기타\n",
    "     1. Semantic versioning X.X.X\n",
    "     2. 하위호환성이란 ex) Intel x86 architecture"
   ]
  },
  {
   "cell_type": "markdown",
   "metadata": {},
   "source": [
    "------------------------------------------------------------"
   ]
  },
  {
   "cell_type": "markdown",
   "metadata": {},
   "source": [
    "# A. 컴퓨터 구조와 관련한 메모리"
   ]
  },
  {
   "cell_type": "markdown",
   "metadata": {},
   "source": [
    "### 폰노이만 아키텍처\n",
    "   1. 초기의 컴퓨터는 외부 프로그램 방식이었음\n",
    "   2. 외부 프로그램 방식이란 실행할 프로그램을 컴퓨터 밖에서 입력해주는 것을 말함\n",
    "   3. 프로그램을 실행할 때마다 사람이 일일이 코드를 짜야 한다는 뜻임\n",
    "   4. 만약 코드가 복잡해진다면?\n",
    "    \n",
    "   5. 이 문제점을 해결하기 위해 폰 노이만이라는 사람이 프로그램 내장방식을 발명함\n",
    "   6. 컴퓨터의 내부 저장공간에 프로그램을 저장하고 필요할 때 불러와서 실행함\n",
    "   7. 내부 저장공간(Storage)은 디스크(DISC)라고도 불리며, 오늘날 HDD, SSD의 시초임\n",
    "    \n",
    "   8. CPU가 Storage(DISC)에서 Memory(RAM)로 프로그램을 올려서 작동하는 방식,\n",
    "        > 이를 __프로그램 내장방식__, 혹은 __폰노이만 아키텍처__라고 부른다\n",
    "        \n",
    "        > 그리고 모든 현대 컴퓨터가 이 방식을 따른다"
   ]
  },
  {
   "cell_type": "markdown",
   "metadata": {},
   "source": [
    "### 폰노이만 보틀넥\n",
    "    = CPU와 Memory, DISC의 속도차이로 인한 성능저하 현상\n",
    "    \n",
    "    1. CPU > Memory > DISC 순으로 속도가 빠르다\n",
    "    2. 처리할 task를 DISC에서 Memory로 올리는 시간동안 \n",
    "        상대적으로 빠른 CPU 입장에선 기다리는 동안 놀게 됨\n",
    "    3. 이런 병목현상을 위한 해결책들도 발명됬다"
   ]
  },
  {
   "cell_type": "markdown",
   "metadata": {},
   "source": [
    "### 해결책을 살펴보기 전에, 최적화란?\n",
    "   = 같은 task를 하되 __동일한 resource__로 더 많이, 빨리 하게끔 유도하는 것\n",
    "    \n",
    "    1. 따라서 앞서 설명한 병목현상을 해결하기 위한 과정도 일종의 최적화란 뜻임"
   ]
  },
  {
   "cell_type": "markdown",
   "metadata": {},
   "source": [
    "### 폰노이만 보틀넥을 해결하기 위한, 최적화를 위한 대표적인 해결책 3가지\n",
    "   1. __입출력 최소화__ (I/O Bound problem)\n",
    "       > 상대적으로 느린 장치들이 데이터를 내리고 올리는 걸 줄이는 것\n",
    "       \n",
    "       > 프로그램에서 데이터를 불러올 때 한 번에 할 수 있으면 한 번에\n",
    "   2. __버퍼링__ (Buffering)\n",
    "       > CPU에게 연산할 데이터를 한꺼번에 모아서 줌\n",
    "       \n",
    "       > 메모리 내의 모으는 장소를 버퍼, 모으는 행위를 버퍼링이라 함\n",
    "   3. __캐슁__ (Caching)\n",
    "       > 자주 쓰일것 같은 데이터를 CPU 바로 옆의 레지스터에 올리는 것\n",
    "       \n",
    "       > 그리고 레지스터는 아주 빠르다. 소형이지만"
   ]
  },
  {
   "cell_type": "markdown",
   "metadata": {},
   "source": [
    "### 컴퓨터 내부의 메모리 위치\n",
    "http://it.donga.com/21716/\n",
    "------------------------------"
   ]
  },
  {
   "cell_type": "markdown",
   "metadata": {},
   "source": [
    "------------------------------------------------------------"
   ]
  },
  {
   "cell_type": "markdown",
   "metadata": {},
   "source": [
    "# B. 프로그램과 관련한 메모리"
   ]
  },
  {
   "cell_type": "markdown",
   "metadata": {},
   "source": [
    "### 프로그램, 프로세스, 쓰레드\n",
    "   1. __프로그램__\n",
    "       > 실행할 코드들을 모아놓은 형태\n",
    "   2. __프로세스__ (process)\n",
    "       > 프로그램이 메모리에 올라온 형태\n",
    "       \n",
    "       > 프로세스가 되야 CPU가 실행할 수 있음\n",
    "       \n",
    "   3. __쓰레드__ (thread)\n",
    "       > 프로세스 내의 실행되는 __문맥__(Context)의 단위\n",
    "       \n",
    "       > 일반적으로 프로세스 하나는 하나의 쓰레드를 가지지만\n",
    "       \n",
    "       > 여러 쓰레드도 동작할 수 있다. (Multi-thread)\n",
    "---------------------\n",
    "   * DISK에서 Memory로 어떤 프로그램을 올릴 지, \n",
    "    어떤 프로세스를 CPU가 실행할 지는 __스케쥴러(Scheduler)__가 결정함"
   ]
  },
  {
   "cell_type": "markdown",
   "metadata": {},
   "source": [
    "## 쓰레드 vs 프로세스\n",
    "https://stackoverflow.com/questions/3044580/multiprocessing-vs-threading-python\n",
    "    1. 쓰레드는 동일한 프로세스 내에서 여러개 생성됨\n",
    "    2. 따라서 쓰레드는 shared memory를 참조할 수 있다.\n",
    "    3. 공유변수를 사용하는 것을 통해 얻을 수 있는 이점은? I/O Bound 최적화 (느린장치간 교류를 줄임)\n",
    "    4. 그럼 CPU Bound문제는? 쓰레딩이 아니라 멀티 프로세싱\n",
    "        > 왜냐면 일을 하는 주체는 프로세스기 때문이다"
   ]
  },
  {
   "cell_type": "markdown",
   "metadata": {},
   "source": [
    "### 메모리의 어디에 어떤 변수가 있는지 프로세스는 어떻게 알까?\n",
    "    = Symbol table을 참조해서 알 수 있다\n",
    "    = Symbol table을 lookup한다\n",
    "    \n",
    "   1. 모든 프로그램은 실행되기 전에 컴퓨터(CPU)가 해석할 수 있는 __low level language__(기계어)로 번역됨\n",
    "       - (언어의 종류에 따라 __프로그램이 compile된다, interpret__된다고도 표현함)\n",
    "       - 컴파일 언어 = C, JAVA etc\n",
    "       - 인터프릿 언어 = 대부분의 script언어 (Javascript, Python, Matlab etc)\n",
    "       \n",
    "   2. 이 과정에서 링킹(Linking, Python으로 치면 import) 등 실행코드생성에 관여하는 기타부분이 포함됨\n",
    "   3. 이 때 __key값은 코드 내의 변수이름__, __value값은 메모리주소__를 나타내는 __dictionary__를 생성한다\n",
    "   4. 그 dictionary를 __symbol table__이라 한다\n",
    "   > 프로세스가 변수를 사용할 땐 symbol table을 참조하여 변수의 메모리 주소를 알아낸다"
   ]
  },
  {
   "cell_type": "markdown",
   "metadata": {},
   "source": [
    "### 프로세스는 메모리에 어떤 형태로 자리잡을까?\n",
    "   1. 프로세스가 실행될 때 운영체제가 메모리의 일부를 할당함\n",
    "   2. 할당받은 메모리는 각각 용도에 맞게 구간이 나눠짐\n",
    "   3. 메모리를 할당받아서 용도에 맞게 구간을 나눠서 사용하는 걸 __메모리 세그먼트(Memory segment)__라 한다\n",
    "       * (Segmentation fault = 프로세스에 할당한 메모리 이외를 쓸려해서 발생하는 오류)"
   ]
  },
  {
   "cell_type": "markdown",
   "metadata": {},
   "source": [
    "### 메모리 세그먼트는 어떻게 나뉘어지나?\n",
    "    = 힙, 스택, 데이터, 코드 부분으로 나뉘어짐 (아래 링크 참조)\n",
    "http://www.teach-ict.com/2016/A_Level_Computing/OCR_H446/1_2_software/121_operating_systems/memory_management/miniweb/pg2.php\n",
    "\n",
    "    = 프로세스 하나에 할당되는 메모리가 이렇게 생김\n",
    "    \n",
    "   1. 힙 = 동적으로 할당된 메모리 영역\n",
    "      >  (ex) Class에서 instantiate된 Object, C언어의 malloc etc)\n",
    "        \n",
    "   2. 스택 = 실행문맥(context)의 범위(Scope)를 기준으로 그에 해당하는 요소를 저장하는 메모리 영역\n",
    "      >  (ex) 지역변수, parameter, 함수가 끝났을 때 돌아갈 코드주소)\n",
    "        \n",
    "   3. 데이터 = 전역변수를 저장하는 메모리 영역\n",
    "    \n",
    "   4. 코드 = 소스코드가 저장되는 메모리 영역"
   ]
  },
  {
   "cell_type": "markdown",
   "metadata": {},
   "source": [
    "### 만약 실행하려는 프로그램이 현재 컴퓨터의 메모리보다 용량이 크다면 실행할 수 없는거 아닌가요?\n",
    "   = __가상 메모리__(virtual memory)로 해결 !\n",
    "   \n",
    "   1. 프로세스가 실행된다고 모든 코드가 동시에 실행되진 않음\n",
    "   2. 실행하는 부분만 메모리(Memory)에 올리고, 그렇지 않은 부분은 DISK에 둠\n",
    "   3. 메모리에 올라온 부분의 주소는 __물리주소__, 디스크에 있는 부분의 주소는 __가상주소__로 표현함\n",
    "   4. 디스크에 있는 부분은 __페이지__(Page)라는 단위로 나눠서 관리, 메모리에 있는 부분은 __프레임(Frame)__이라는 단위로 나눠서 관리함\n",
    "   5. __실행문맥__(Context)에 따라 __필요한 부분은 메모리에 올리고 끝난 부분은 디스크로 내린다__ (이래서 로딩이 필요한건가?)\n",
    "       > 이 때 올라오는 부분은 가상주소에서 물리주소로, 끝난 부분은 물리주소에서 가상주소로 mapping이 일어남\n",
    "   6. 위 과정이 __가상 메모리__(virtual memory)를 사용한 메모리 관리임"
   ]
  },
  {
   "cell_type": "markdown",
   "metadata": {},
   "source": [
    "------------------------------------------------------------"
   ]
  },
  {
   "cell_type": "markdown",
   "metadata": {},
   "source": [
    "# C. 기타"
   ]
  },
  {
   "cell_type": "markdown",
   "metadata": {},
   "source": [
    "### Semantic versioning\n",
    "    = 버전을 표시할 때 각 자리에 의미를 담음\n",
    "    \n",
    "    = 보통 A.B.C의 형태로 버전이 표시됨\n",
    "    \n",
    "   1. C는 현재 A버전에서 버그를 fix했을 때 수정한다\n",
    "   2. B는 현재 A버전에서 기능을 추가했을 때 수정한다\n",
    "   3. A는 기존 코드에 근본적인 변화가 일어났을 때 수정한다\n",
    "      > 그래서 현재의 A버전이 이전 A버전과 호환이 안될 수도 있음\n",
    "      \n",
    "   ex) \n",
    "       - 1.3.10 => 현재 1버전에서 버그는 10번 fix했고 기능은 3번 추가했음\n",
    "       - 3.0.7  => 현재 3버전에서 버그는 7번 fix했고 기능은 아직 추가안함\n",
    "        > 그리고 1, 2버전과는 호환이 안될 수도 있음"
   ]
  },
  {
   "cell_type": "markdown",
   "metadata": {},
   "source": [
    "### 하위 호환성(Backward compatibility)이란?\n",
    "    = 이전 버전과 호환이 되는 것\n",
    "    \n",
    "    ex) Intel x86-64 architecture"
   ]
  },
  {
   "cell_type": "code",
   "execution_count": null,
   "metadata": {},
   "outputs": [],
   "source": []
  }
 ],
 "metadata": {
  "kernelspec": {
   "display_name": "Python 3",
   "language": "python",
   "name": "python3"
  },
  "language_info": {
   "codemirror_mode": {
    "name": "ipython",
    "version": 3
   },
   "file_extension": ".py",
   "mimetype": "text/x-python",
   "name": "python",
   "nbconvert_exporter": "python",
   "pygments_lexer": "ipython3",
   "version": "3.6.3"
  }
 },
 "nbformat": 4,
 "nbformat_minor": 2
}
