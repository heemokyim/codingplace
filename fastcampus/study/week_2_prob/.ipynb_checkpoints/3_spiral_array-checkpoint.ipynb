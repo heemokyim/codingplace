{
 "cells": [
  {
   "cell_type": "code",
   "execution_count": 2,
   "metadata": {},
   "outputs": [],
   "source": [
    "import numpy as np\n",
    "import pandas as pd"
   ]
  },
  {
   "cell_type": "markdown",
   "metadata": {},
   "source": [
    "1. 짝수면 (n//2, n//2, n//2, n//2-1) D를 한번 덜 함\n",
    "2. 홀수면 (n//2+1, n//2, n//2, n//2) A를 한번 더 함"
   ]
  },
  {
   "cell_type": "code",
   "execution_count": 136,
   "metadata": {},
   "outputs": [],
   "source": [
    "def make(array, n, current, rotation):\n",
    "    # A. n\n",
    "    \n",
    "    print(n, current, rotation)\n",
    "    \n",
    "    # A.\n",
    "    array = [current + each for each in range(n)]\n",
    "    df.loc[rotation, rotation:n + rotation - 1] = array\n",
    "    current = max(array) + 1 if array else 0\n",
    "\n",
    "    # B.\n",
    "    array = [current + each for each in range(n - 1)]\n",
    "    df.loc[rotation + 1:n +rotation - 1, n - 1 + rotation] = array\n",
    "    current = max(array) + 1 if array else 0\n",
    "\n",
    "    # C. n\n",
    "    array = [current + each for each in reversed(range(n - 1))]\n",
    "    df.loc[n - 1+rotation, rotation:n - 2 + rotation] = array\n",
    "    current = max(array) + 1 if array else 0\n",
    "\n",
    "    # D.\n",
    "    array = [current + each for each in reversed(range(n - 2))]\n",
    "    df.loc[rotation + 1:n - 2+rotation, rotation] = array\n",
    "    current = max(array) + 1 if array else 0\n",
    "\n",
    "    return df, n - 2, current, rotation + 1"
   ]
  },
  {
   "cell_type": "code",
   "execution_count": 137,
   "metadata": {},
   "outputs": [],
   "source": [
    "def spiral_array(n):\n",
    "    df = pd.DataFrame(columns=list(range(n)))\n",
    "\n",
    "    for each in range(6):\n",
    "        df.loc[each] = [0 for _ in range(6)]\n",
    "\n",
    "    current = 0\n",
    "    rotation = 0\n",
    "    \n",
    "    total = n//2 if n%2==0 else n//2+1\n",
    "    \n",
    "    for _ in range(total):\n",
    "        df, n, current, rotation = make(df,n,current,rotation)"
   ]
  },
  {
   "cell_type": "code",
   "execution_count": 138,
   "metadata": {},
   "outputs": [
    {
     "data": {
      "text/html": [
       "<div>\n",
       "<style>\n",
       "    .dataframe thead tr:only-child th {\n",
       "        text-align: right;\n",
       "    }\n",
       "\n",
       "    .dataframe thead th {\n",
       "        text-align: left;\n",
       "    }\n",
       "\n",
       "    .dataframe tbody tr th {\n",
       "        vertical-align: top;\n",
       "    }\n",
       "</style>\n",
       "<table border=\"1\" class=\"dataframe\">\n",
       "  <thead>\n",
       "    <tr style=\"text-align: right;\">\n",
       "      <th></th>\n",
       "      <th>0</th>\n",
       "      <th>1</th>\n",
       "      <th>2</th>\n",
       "      <th>3</th>\n",
       "      <th>4</th>\n",
       "      <th>5</th>\n",
       "    </tr>\n",
       "  </thead>\n",
       "  <tbody>\n",
       "    <tr>\n",
       "      <th>0</th>\n",
       "      <td>0</td>\n",
       "      <td>1</td>\n",
       "      <td>2</td>\n",
       "      <td>3</td>\n",
       "      <td>4</td>\n",
       "      <td>5</td>\n",
       "    </tr>\n",
       "    <tr>\n",
       "      <th>1</th>\n",
       "      <td>19</td>\n",
       "      <td>20</td>\n",
       "      <td>21</td>\n",
       "      <td>22</td>\n",
       "      <td>23</td>\n",
       "      <td>6</td>\n",
       "    </tr>\n",
       "    <tr>\n",
       "      <th>2</th>\n",
       "      <td>18</td>\n",
       "      <td>31</td>\n",
       "      <td>32</td>\n",
       "      <td>33</td>\n",
       "      <td>24</td>\n",
       "      <td>7</td>\n",
       "    </tr>\n",
       "    <tr>\n",
       "      <th>3</th>\n",
       "      <td>17</td>\n",
       "      <td>30</td>\n",
       "      <td>35</td>\n",
       "      <td>34</td>\n",
       "      <td>25</td>\n",
       "      <td>8</td>\n",
       "    </tr>\n",
       "    <tr>\n",
       "      <th>4</th>\n",
       "      <td>16</td>\n",
       "      <td>29</td>\n",
       "      <td>28</td>\n",
       "      <td>27</td>\n",
       "      <td>26</td>\n",
       "      <td>9</td>\n",
       "    </tr>\n",
       "    <tr>\n",
       "      <th>5</th>\n",
       "      <td>15</td>\n",
       "      <td>14</td>\n",
       "      <td>13</td>\n",
       "      <td>12</td>\n",
       "      <td>11</td>\n",
       "      <td>10</td>\n",
       "    </tr>\n",
       "  </tbody>\n",
       "</table>\n",
       "</div>"
      ],
      "text/plain": [
       "    0   1   2   3   4   5\n",
       "0   0   1   2   3   4   5\n",
       "1  19  20  21  22  23   6\n",
       "2  18  31  32  33  24   7\n",
       "3  17  30  35  34  25   8\n",
       "4  16  29  28  27  26   9\n",
       "5  15  14  13  12  11  10"
      ]
     },
     "execution_count": 138,
     "metadata": {},
     "output_type": "execute_result"
    }
   ],
   "source": [
    "df"
   ]
  }
 ],
 "metadata": {
  "kernelspec": {
   "display_name": "Python 3",
   "language": "python",
   "name": "python3"
  },
  "language_info": {
   "codemirror_mode": {
    "name": "ipython",
    "version": 3
   },
   "file_extension": ".py",
   "mimetype": "text/x-python",
   "name": "python",
   "nbconvert_exporter": "python",
   "pygments_lexer": "ipython3",
   "version": "3.6.3"
  }
 },
 "nbformat": 4,
 "nbformat_minor": 2
}
