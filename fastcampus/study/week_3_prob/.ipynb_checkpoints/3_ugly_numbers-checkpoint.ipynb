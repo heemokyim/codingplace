{
 "cells": [
  {
   "cell_type": "code",
   "execution_count": 8,
   "metadata": {},
   "outputs": [],
   "source": [
    "import numpy as np"
   ]
  },
  {
   "cell_type": "code",
   "execution_count": 40,
   "metadata": {},
   "outputs": [],
   "source": [
    "divisor = [2, 3, 5]\n",
    "\n",
    "# 정수 n을 받아 2, 3, 5의 약수로 표현함\n",
    "def prime_factor(n): \n",
    "    factors = {key:0 for key in divisor}\n",
    "    \n",
    "    i = 0\n",
    "\n",
    "    for each in divisor:\n",
    "\n",
    "        remainder = n % each\n",
    "\n",
    "        while remainder == 0:\n",
    "            \n",
    "            factors[each] = factors[each] + 1\n",
    "\n",
    "            n = n // each\n",
    "            remainder = n % each\n",
    "\n",
    "    return factors"
   ]
  },
  {
   "cell_type": "code",
   "execution_count": 62,
   "metadata": {},
   "outputs": [],
   "source": [
    "def nth_ugly(n):\n",
    "\n",
    "    target = 2\n",
    "    index = 2\n",
    "\n",
    "    while index <= n:\n",
    "        \n",
    "        factors = prime_factor(target)\n",
    "\n",
    "        produce = 1\n",
    "\n",
    "        for key, val in factors.items():\n",
    "            produce *= key**val\n",
    "\n",
    "        if produce == target:\n",
    "            index += 1\n",
    "\n",
    "        target += 1\n",
    "\n",
    "    return target"
   ]
  },
  {
   "cell_type": "code",
   "execution_count": null,
   "metadata": {},
   "outputs": [],
   "source": [
    "# 짱느림\n",
    "nth_ugly(1500)"
   ]
  },
  {
   "cell_type": "markdown",
   "metadata": {},
   "source": [
    "-------------------"
   ]
  },
  {
   "cell_type": "code",
   "execution_count": 81,
   "metadata": {},
   "outputs": [
    {
     "data": {
      "text/plain": [
       "859963392"
      ]
     },
     "execution_count": 81,
     "metadata": {},
     "output_type": "execute_result"
    }
   ],
   "source": [
    "def nth_ugly1(n):\n",
    "    ugly_numbers = [1]\n",
    "    while True:\n",
    "        last = ugly_numbers[-1]\n",
    "        if len(ugly_numbers) == n:\n",
    "            return last\n",
    "        \n",
    "        tmp = []\n",
    "        for each in ugly_numbers:\n",
    "            for token in each*2,each*3,each*5:\n",
    "                if token > last:\n",
    "                    tmp.append(token)\n",
    "                    \n",
    "        ugly_numbers.append(min(tmp))\n",
    "\n",
    "nth_ugly1(1500)"
   ]
  },
  {
   "cell_type": "code",
   "execution_count": 75,
   "metadata": {},
   "outputs": [
    {
     "data": {
      "text/plain": [
       "859963392"
      ]
     },
     "execution_count": 75,
     "metadata": {},
     "output_type": "execute_result"
    }
   ],
   "source": [
    "def ugly(n):\n",
    "    result = [1]\n",
    "    while True:\n",
    "        last = result[-1]\n",
    "        if len(result)==n:\n",
    "            return last\n",
    "\n",
    "        tmp = []\n",
    "        for r in result:\n",
    "            for t in r*2,r*3,r*5:\n",
    "                if t > last: \n",
    "                    tmp.append(t)\n",
    "\n",
    "        result.append(min(tmp))\n",
    "\n",
    "\n",
    "ugly(1500)"
   ]
  },
  {
   "cell_type": "code",
   "execution_count": null,
   "metadata": {},
   "outputs": [],
   "source": []
  }
 ],
 "metadata": {
  "kernelspec": {
   "display_name": "Python 3",
   "language": "python",
   "name": "python3"
  },
  "language_info": {
   "codemirror_mode": {
    "name": "ipython",
    "version": 3
   },
   "file_extension": ".py",
   "mimetype": "text/x-python",
   "name": "python",
   "nbconvert_exporter": "python",
   "pygments_lexer": "ipython3",
   "version": "3.6.3"
  }
 },
 "nbformat": 4,
 "nbformat_minor": 2
}
