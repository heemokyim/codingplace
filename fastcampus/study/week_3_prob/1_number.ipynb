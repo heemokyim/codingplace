{
 "cells": [
  {
   "cell_type": "markdown",
   "metadata": {},
   "source": [
    "20150111을 출력합니다.\n",
    "4가지 기준만 만족하면 됩니다.\n",
    "\n",
    "코드 내에 숫자가 없어야 합니다.\n",
    "파일 이름이나 경로를 사용해서는 안됩니다.\n",
    "시간, 날짜 함수를 사용해서는 안됩니다.\n",
    "에러 번호 출력을 이용해서는 안됩니다."
   ]
  },
  {
   "cell_type": "code",
   "execution_count": 1,
   "metadata": {},
   "outputs": [
    {
     "data": {
      "text/plain": [
       "20150111"
      ]
     },
     "execution_count": 1,
     "metadata": {},
     "output_type": "execute_result"
    }
   ],
   "source": [
    "# 2015 0111\n",
    "\n",
    "# 125\n",
    "one_two_five = ord('}')\n",
    "# 109\n",
    "one_zero_nine = ord('m')\n",
    "# 124\n",
    "one_two_four = ord('|')\n",
    "\n",
    "# 1\n",
    "one = one_two_five - one_two_four\n",
    "# 16\n",
    "one_six = one_two_five - one_zero_nine\n",
    "\n",
    "# 2015\n",
    "first = one_two_five * one_six + one_six - one\n",
    "\n",
    "# 14\n",
    "one_four = one_six - one - one\n",
    "\n",
    "second = one - one\n",
    "\n",
    "# 111\n",
    "third = one_two_five - one_four\n",
    "third = list(str(third))\n",
    "third = \"\".join(third)\n",
    "\n",
    "result = int(str(first) + str(second) + third)\n",
    "result"
   ]
  },
  {
   "cell_type": "code",
   "execution_count": null,
   "metadata": {},
   "outputs": [],
   "source": []
  }
 ],
 "metadata": {
  "kernelspec": {
   "display_name": "Python 3",
   "language": "python",
   "name": "python3"
  },
  "language_info": {
   "codemirror_mode": {
    "name": "ipython",
    "version": 3
   },
   "file_extension": ".py",
   "mimetype": "text/x-python",
   "name": "python",
   "nbconvert_exporter": "python",
   "pygments_lexer": "ipython3",
   "version": "3.6.3"
  }
 },
 "nbformat": 4,
 "nbformat_minor": 2
}
