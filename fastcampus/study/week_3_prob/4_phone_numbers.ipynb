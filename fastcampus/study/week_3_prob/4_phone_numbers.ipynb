{
 "cells": [
  {
   "cell_type": "code",
   "execution_count": 28,
   "metadata": {},
   "outputs": [],
   "source": [
    "'''\n",
    "이렇게 안쓰면 코드 안에\n",
    "if문 많이 써야할 것 같아서 이렇게 함\n",
    "그 대신 find_value()를 써야 함\n",
    "'''\n",
    "mapper = {\n",
    "    ('A', 'B', 'C'): '2',\n",
    "    ('D', 'E', 'F'): '3',\n",
    "    ('G', 'H', 'I'): '4',\n",
    "    ('J', 'K', 'L'): '5',\n",
    "    ('M', 'N', 'O'): '6',\n",
    "    ('P', 'R', 'S'): '7',\n",
    "    ('T', 'U', 'V'): '8',\n",
    "    ('W', 'X', 'Y'): '9',\n",
    "}\n",
    "\n",
    "for i in range(10):\n",
    "    mapper[str(i)] = str(i)\n",
    "\n",
    "\n",
    "def find_value(target):\n",
    "    '''\n",
    "    1. mapper를 사용해서 키패드 값을 매칭함\n",
    "    2. 없으면 @, 있으면 해당값 return\n",
    "    '''\n",
    "\n",
    "    result = '@'\n",
    "\n",
    "    for key in mapper.keys():\n",
    "        for each in key:\n",
    "            if target == each:\n",
    "                result = mapper.get(key)\n",
    "\n",
    "    return result\n",
    "\n",
    "\n",
    "def process(number_string):\n",
    "    '''\n",
    "    1. 하이픈을 없앰\n",
    "    2. 없앤 문자열을 키패드에 맞게 변환\n",
    "    3. 4번째에 하이픈을 붙이고 return\n",
    "    '''\n",
    "    trimmed = number_string.replace('-', '')\n",
    "\n",
    "    processed = [mapper.get(find_value(each)) for each in trimmed]\n",
    "\n",
    "    processed = \"\".join(processed)\n",
    "\n",
    "    return processed[:3] + '-' + processed[3:]"
   ]
  },
  {
   "cell_type": "code",
   "execution_count": 73,
   "metadata": {},
   "outputs": [
    {
     "data": {
      "text/plain": [
       "{'310-1010': 2, '487-3279': 4, '888-4567': 3}"
      ]
     },
     "execution_count": 73,
     "metadata": {},
     "output_type": "execute_result"
    }
   ],
   "source": [
    "# buffer = [input() for _ in range(int(input()))]\n",
    "buffer = [\n",
    "    '4873279',\n",
    "    'ITS-EASY',\n",
    "    '888-4567',\n",
    "    '3-10-10-10',\n",
    "    '888-GLOP',\n",
    "    'TUT-GLOP',\n",
    "    '967-11-11',\n",
    "    '310-GINO',\n",
    "    'F101010',\n",
    "    '888-1200',\n",
    "    '-4-8-7-3-2-7-9-',\n",
    "    '487-3279'\n",
    "]\n",
    "\n",
    "# 키패드 값에 맞게 전화번호 변환\n",
    "converted = [process(each) for each in buffer]\n",
    "\n",
    "# 중복이 된 애들(count가 2 이상인 애들)만 dictionary에 넣음\n",
    "telephone = {each: converted.count(each)\n",
    "             for each in converted\n",
    "             if converted.count(each) != 1}\n",
    "\n",
    "telephone"
   ]
  }
 ],
 "metadata": {
  "kernelspec": {
   "display_name": "Python 3",
   "language": "python",
   "name": "python3"
  },
  "language_info": {
   "codemirror_mode": {
    "name": "ipython",
    "version": 3
   },
   "file_extension": ".py",
   "mimetype": "text/x-python",
   "name": "python",
   "nbconvert_exporter": "python",
   "pygments_lexer": "ipython3",
   "version": "3.6.3"
  }
 },
 "nbformat": 4,
 "nbformat_minor": 2
}
