{
 "cells": [
  {
   "cell_type": "code",
   "execution_count": 42,
   "metadata": {},
   "outputs": [],
   "source": [
    "import random"
   ]
  },
  {
   "cell_type": "code",
   "execution_count": 58,
   "metadata": {},
   "outputs": [
    {
     "data": {
      "text/plain": [
       "([5, 11, 12, 15, 17, 18, 24, 30], (11, 12))"
      ]
     },
     "execution_count": 58,
     "metadata": {},
     "output_type": "execute_result"
    }
   ],
   "source": [
    "# O(n)\n",
    "\n",
    "MAX = 30\n",
    "\n",
    "sample = {random.randint(1, MAX) for _ in range(10)}\n",
    "sample = list(sample)\n",
    "\n",
    "idx = 0\n",
    "minimum = MAX + 1\n",
    "min_idx = idx\n",
    "\n",
    "while len(sample) - 1 > idx:\n",
    "    diff = sample[idx+1] - sample[idx]\n",
    "    \n",
    "    if diff < minimum:\n",
    "        minimum = diff\n",
    "        min_idx = idx\n",
    "    idx += 1\n",
    "result = (sample[min_idx], sample[min_idx + 1])\n",
    "\n",
    "sample, result"
   ]
  }
 ],
 "metadata": {
  "kernelspec": {
   "display_name": "Python 3",
   "language": "python",
   "name": "python3"
  },
  "language_info": {
   "codemirror_mode": {
    "name": "ipython",
    "version": 3
   },
   "file_extension": ".py",
   "mimetype": "text/x-python",
   "name": "python",
   "nbconvert_exporter": "python",
   "pygments_lexer": "ipython3",
   "version": "3.6.3"
  }
 },
 "nbformat": 4,
 "nbformat_minor": 2
}
