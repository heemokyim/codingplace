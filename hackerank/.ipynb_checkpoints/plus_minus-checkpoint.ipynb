{
 "cells": [
  {
   "cell_type": "code",
   "execution_count": 4,
   "metadata": {},
   "outputs": [],
   "source": [
    "def plusMinus2(arr):\n",
    "    dic = {0:0,1:0,2:0}\n",
    "    \n",
    "    for each in arr:\n",
    "        if each > 0:\n",
    "            dic[0] += 1\n",
    "        elif each < 0:\n",
    "            dic[1] += 1\n",
    "        else:\n",
    "            dic[2] += 1\n",
    "\n",
    "#     print(len(plus) / len(arr))\n",
    "#     print(len(minus) / len(arr))\n",
    "#     print(len(zero) / len(arr))"
   ]
  },
  {
   "cell_type": "code",
   "execution_count": 7,
   "metadata": {},
   "outputs": [],
   "source": [
    "def plusMinus1(arr):\n",
    "    plus = []\n",
    "    minus = []\n",
    "    zero = []\n",
    "    for each in arr:\n",
    "        if each > 0:\n",
    "            plus.append(each)\n",
    "        elif each < 0:\n",
    "            minus.append(each)\n",
    "        else:\n",
    "            zero.append(each)\n",
    "\n",
    "#     print(len(plus) / len(arr))\n",
    "#     print(len(minus) / len(arr))\n",
    "#     print(len(zero) / len(arr))"
   ]
  },
  {
   "cell_type": "code",
   "execution_count": 6,
   "metadata": {},
   "outputs": [],
   "source": [
    "def plusMinus(arr):\n",
    "    # Complete this function\n",
    "    plus = [each for each in arr if each > 0]\n",
    "    minus = [each for each in arr if each < 0]\n",
    "    zero = [each for each in arr if each == 0]\n",
    "\n",
    "#     print(len(plus) / len(arr))\n",
    "#     print(len(minus) / len(arr))\n",
    "#     print(len(zero) / len(arr))"
   ]
  },
  {
   "cell_type": "code",
   "execution_count": 7,
   "metadata": {},
   "outputs": [
    {
     "name": "stdout",
     "output_type": "stream",
     "text": [
      "130 ms ± 930 µs per loop (mean ± std. dev. of 7 runs, 10 loops each)\n"
     ]
    }
   ],
   "source": [
    "%%timeit\n",
    "from random import randint\n",
    "arr = [randint(-10,10) for _ in range(0,100000)]\n",
    "\n",
    "plusMinus(arr)"
   ]
  },
  {
   "cell_type": "code",
   "execution_count": 8,
   "metadata": {},
   "outputs": [
    {
     "name": "stdout",
     "output_type": "stream",
     "text": [
      "128 ms ± 1.28 ms per loop (mean ± std. dev. of 7 runs, 10 loops each)\n"
     ]
    }
   ],
   "source": [
    "%%timeit\n",
    "from random import randint\n",
    "arr = [randint(-10,10) for _ in range(0,100000)]\n",
    "\n",
    "plusMinus1(arr)"
   ]
  },
  {
   "cell_type": "code",
   "execution_count": 6,
   "metadata": {},
   "outputs": [
    {
     "name": "stdout",
     "output_type": "stream",
     "text": [
      "131 ms ± 1.4 ms per loop (mean ± std. dev. of 7 runs, 10 loops each)\n"
     ]
    }
   ],
   "source": [
    "%%timeit\n",
    "from random import randint\n",
    "arr = [randint(-10,10) for _ in range(0,100000)]\n",
    "\n",
    "plusMinus2(arr)"
   ]
  },
  {
   "cell_type": "code",
   "execution_count": null,
   "metadata": {},
   "outputs": [],
   "source": []
  }
 ],
 "metadata": {
  "kernelspec": {
   "display_name": "Python 3",
   "language": "python",
   "name": "python3"
  },
  "language_info": {
   "codemirror_mode": {
    "name": "ipython",
    "version": 3
   },
   "file_extension": ".py",
   "mimetype": "text/x-python",
   "name": "python",
   "nbconvert_exporter": "python",
   "pygments_lexer": "ipython3",
   "version": "3.6.3"
  }
 },
 "nbformat": 4,
 "nbformat_minor": 2
}
