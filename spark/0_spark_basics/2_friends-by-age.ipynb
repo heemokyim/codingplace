{
 "cells": [
  {
   "cell_type": "code",
   "execution_count": 1,
   "metadata": {
    "collapsed": true
   },
   "outputs": [],
   "source": [
    "from pyspark import SparkConf, SparkContext\n",
    "\n",
    "conf = SparkConf().setMaster(\"local\").setAppName(\"FriendsByAge\")\n",
    "sc = SparkContext.getOrCreate(conf=conf)\n",
    "\n",
    "\n",
    "def parseLine(line):\n",
    "    fields = line.split(',')\n",
    "    age = int(fields[2])\n",
    "    numFriends = int(fields[3])\n",
    "    return (age, numFriends)"
   ]
  },
  {
   "cell_type": "code",
   "execution_count": 2,
   "metadata": {
    "collapsed": true
   },
   "outputs": [],
   "source": [
    "lines = sc.textFile(\"file:/home/ej/codingplace/spark/dataset/fakefriends.csv\")\n",
    "rdd = lines.map(parseLine)\n",
    "totalsByAge = rdd.mapValues(lambda x: (x, 1)).reduceByKey(\n",
    "    lambda x, y: (x[0] + y[0], x[1] + y[1]))\n",
    "averagesByAge = totalsByAge.mapValues(lambda x: x[0] / x[1])\n",
    "\n",
    "# averagesByAge.collect()"
   ]
  },
  {
   "cell_type": "code",
   "execution_count": 7,
   "metadata": {},
   "outputs": [
    {
     "data": {
      "text/plain": [
       "[(33, (3904, 12)),\n",
       " (26, (4115, 17)),\n",
       " (55, (3842, 13)),\n",
       " (40, (4264, 17)),\n",
       " (68, (2696, 10)),\n",
       " (59, (1980, 9)),\n",
       " (37, (2244, 9)),\n",
       " (54, (3615, 13)),\n",
       " (38, (2903, 15)),\n",
       " (27, (1825, 8)),\n",
       " (53, (1560, 7)),\n",
       " (57, (3106, 12)),\n",
       " (56, (1840, 6)),\n",
       " (43, (1614, 7)),\n",
       " (36, (2466, 10)),\n",
       " (22, (1445, 7)),\n",
       " (35, (1693, 8)),\n",
       " (45, (4024, 13)),\n",
       " (60, (1419, 7)),\n",
       " (67, (3434, 16)),\n",
       " (19, (2346, 11)),\n",
       " (30, (2594, 11)),\n",
       " (51, (2115, 7)),\n",
       " (25, (2172, 11)),\n",
       " (21, (2807, 8)),\n",
       " (42, (1821, 6)),\n",
       " (49, (1108, 6)),\n",
       " (48, (2814, 10)),\n",
       " (50, (1273, 5)),\n",
       " (39, (1185, 7)),\n",
       " (32, (2287, 11)),\n",
       " (58, (1282, 11)),\n",
       " (64, (3376, 12)),\n",
       " (31, (2138, 8)),\n",
       " (52, (3747, 11)),\n",
       " (24, (1169, 5)),\n",
       " (20, (825, 5)),\n",
       " (62, (2870, 13)),\n",
       " (41, (2417, 9)),\n",
       " (44, (3386, 12)),\n",
       " (69, (2352, 10)),\n",
       " (65, (1491, 5)),\n",
       " (61, (2306, 9)),\n",
       " (28, (2091, 10)),\n",
       " (66, (2488, 9)),\n",
       " (46, (2908, 13)),\n",
       " (29, (2591, 12)),\n",
       " (18, (2747, 8)),\n",
       " (47, (2099, 9)),\n",
       " (34, (1473, 6)),\n",
       " (63, (1536, 4)),\n",
       " (23, (2463, 10))]"
      ]
     },
     "execution_count": 7,
     "metadata": {},
     "output_type": "execute_result"
    }
   ],
   "source": [
    "totalsByAge.collect()"
   ]
  },
  {
   "cell_type": "code",
   "execution_count": null,
   "metadata": {
    "collapsed": true
   },
   "outputs": [],
   "source": []
  }
 ],
 "metadata": {
  "kernelspec": {
   "display_name": "Python 3",
   "language": "python",
   "name": "python3"
  },
  "language_info": {
   "codemirror_mode": {
    "name": "ipython",
    "version": 3
   },
   "file_extension": ".py",
   "mimetype": "text/x-python",
   "name": "python",
   "nbconvert_exporter": "python",
   "pygments_lexer": "ipython3",
   "version": "3.6.3"
  }
 },
 "nbformat": 4,
 "nbformat_minor": 2
}
