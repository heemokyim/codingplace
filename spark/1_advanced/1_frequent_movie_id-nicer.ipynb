{
 "cells": [
  {
   "cell_type": "markdown",
   "metadata": {},
   "source": [
    "# BROADCAST\n",
    "> executor가 필요할 때마다 필요한 데이터를 줌\n",
    "\n",
    "> 만약 데이터가 너무 크다면? 한 번만 보내놓고 해당 executor가 보관함\n",
    "\n",
    "> 필요할 때마다 .value()로 broadcast 안에 있는 값을 씀"
   ]
  },
  {
   "cell_type": "code",
   "execution_count": 44,
   "metadata": {
    "collapsed": true
   },
   "outputs": [],
   "source": [
    "def load_movie_names():\n",
    "    movie_dict = dict()\n",
    "    \n",
    "    with open('../dataset/ml-100k/u.item',encoding='ISO-8859-1') as f:\n",
    "        for line in f:\n",
    "            tok = line.split('|')[:2]\n",
    "            movie_dict[int(tok[0])] = tok[1]\n",
    "            \n",
    "    return movie_dict"
   ]
  },
  {
   "cell_type": "code",
   "execution_count": 59,
   "metadata": {},
   "outputs": [],
   "source": [
    "from pyspark import SparkConf, SparkContext\n",
    "import collections\n",
    "\n",
    "conf = SparkConf().setMaster(\"local\").setAppName(\"RatingsHistogram\")\n",
    "sc = SparkContext.getOrCreate(conf=conf)\n",
    "\n",
    "name_dict = sc.broadcast(load_movie_names())\n",
    "# 얘를 필요한 executor에게 보내는 방식\n",
    "\n",
    "lines = sc.textFile(\"file:/home/ej/github/codingplace/spark/dataset/ml-100k/u.data\")\n",
    "tok = lines.map(lambda x: (x.split()[1], 1))"
   ]
  },
  {
   "cell_type": "code",
   "execution_count": 53,
   "metadata": {},
   "outputs": [
    {
     "data": {
      "text/plain": [
       "<pyspark.broadcast.Broadcast at 0x7fa7c1301b00>"
      ]
     },
     "execution_count": 53,
     "metadata": {},
     "output_type": "execute_result"
    }
   ],
   "source": [
    "name_dict"
   ]
  },
  {
   "cell_type": "code",
   "execution_count": 46,
   "metadata": {
    "collapsed": true
   },
   "outputs": [],
   "source": [
    "total = tok.reduceByKey(lambda x, y: x+y)"
   ]
  },
  {
   "cell_type": "code",
   "execution_count": 47,
   "metadata": {},
   "outputs": [],
   "source": [
    "switch = total.map(lambda x: (x[1], x[0]))\n",
    "switch = switch.sortByKey()\n",
    "switch = switch.map(lambda x: (x[1], x[0]))"
   ]
  },
  {
   "cell_type": "code",
   "execution_count": 48,
   "metadata": {},
   "outputs": [
    {
     "data": {
      "text/plain": [
       "('50', 583)"
      ]
     },
     "execution_count": 48,
     "metadata": {},
     "output_type": "execute_result"
    }
   ],
   "source": [
    "switch.collect()[::-1][0]"
   ]
  },
  {
   "cell_type": "code",
   "execution_count": 55,
   "metadata": {},
   "outputs": [],
   "source": [
    "movie_with_name = switch.map(lambda x: (name_dict.value[int(x[0])] ,x[1]))"
   ]
  },
  {
   "cell_type": "code",
   "execution_count": 58,
   "metadata": {},
   "outputs": [
    {
     "data": {
      "text/plain": [
       "[('Star Wars (1977)', 583),\n",
       " ('Contact (1997)', 509),\n",
       " ('Fargo (1996)', 508),\n",
       " ('Return of the Jedi (1983)', 507),\n",
       " ('Liar Liar (1997)', 485)]"
      ]
     },
     "execution_count": 58,
     "metadata": {},
     "output_type": "execute_result"
    }
   ],
   "source": [
    "movie_with_name.collect()[::-1][:5]"
   ]
  },
  {
   "cell_type": "code",
   "execution_count": null,
   "metadata": {
    "collapsed": true
   },
   "outputs": [],
   "source": []
  }
 ],
 "metadata": {
  "kernelspec": {
   "display_name": "Python 3",
   "language": "python",
   "name": "python3"
  },
  "language_info": {
   "codemirror_mode": {
    "name": "ipython",
    "version": 3
   },
   "file_extension": ".py",
   "mimetype": "text/x-python",
   "name": "python",
   "nbconvert_exporter": "python",
   "pygments_lexer": "ipython3",
   "version": "3.6.3"
  }
 },
 "nbformat": 4,
 "nbformat_minor": 2
}
