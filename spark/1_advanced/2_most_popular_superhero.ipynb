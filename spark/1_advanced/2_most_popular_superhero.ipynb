{
 "cells": [
  {
   "cell_type": "code",
   "execution_count": 19,
   "metadata": {
    "collapsed": true
   },
   "outputs": [],
   "source": [
    "def load_hero_names():\n",
    "    hero_dict = dict()\n",
    "    \n",
    "    with open('../dataset/Marvel-Names.txt',encoding='ISO-8859-1') as f:\n",
    "        for line in f:\n",
    "            tok = line.split()[:2]\n",
    "            hero_dict[int(tok[0])] = tok[1].replace('\"','')\n",
    "            \n",
    "    return hero_dict"
   ]
  },
  {
   "cell_type": "code",
   "execution_count": 23,
   "metadata": {},
   "outputs": [],
   "source": [
    "from pyspark import SparkConf, SparkContext\n",
    "import collections\n",
    "\n",
    "conf = SparkConf().setMaster(\"local\").setAppName(\"RatingsHistogram\")\n",
    "sc = SparkContext.getOrCreate(conf=conf)\n",
    "\n",
    "hero_dict = sc.broadcast(load_hero_names())\n",
    "# 얘를 필요한 executor에게 보내는 방식\n",
    "\n",
    "lines = sc.textFile(\"file:/home/ej/github/codingplace/spark/dataset/Marvel-Graph.txt\")\n"
   ]
  },
  {
   "cell_type": "code",
   "execution_count": 55,
   "metadata": {},
   "outputs": [],
   "source": [
    "hero_count = lines.flatMap(lambda x: x.split()).map(\n",
    "    lambda x: (int(x), 1)).reduceByKey(lambda x, y: x+y).map(lambda x:(x[1],x[0]))"
   ]
  },
  {
   "cell_type": "code",
   "execution_count": 61,
   "metadata": {},
   "outputs": [],
   "source": [
    "sorted_count = hero_count.sortByKey().map(\n",
    "    lambda x: (hero_dict.value[x[1]], x[0]))"
   ]
  },
  {
   "cell_type": "code",
   "execution_count": 63,
   "metadata": {},
   "outputs": [
    {
     "data": {
      "text/plain": [
       "('ÁGAMORA', 243)"
      ]
     },
     "execution_count": 63,
     "metadata": {},
     "output_type": "execute_result"
    }
   ],
   "source": [
    "sorted_count.max()"
   ]
  },
  {
   "cell_type": "code",
   "execution_count": 62,
   "metadata": {},
   "outputs": [
    {
     "data": {
      "text/plain": [
       "[('CAPTAIN', 1937),\n",
       " ('SPIDER-MAN/PETER', 1745),\n",
       " ('IRON', 1532),\n",
       " ('THING/BENJAMIN', 1429),\n",
       " ('WOLVERINE/LOGAN', 1397)]"
      ]
     },
     "execution_count": 62,
     "metadata": {},
     "output_type": "execute_result"
    }
   ],
   "source": [
    "sorted_count.collect()[::-1][:5]"
   ]
  },
  {
   "cell_type": "code",
   "execution_count": null,
   "metadata": {
    "collapsed": true
   },
   "outputs": [],
   "source": []
  }
 ],
 "metadata": {
  "kernelspec": {
   "display_name": "Python 3",
   "language": "python",
   "name": "python3"
  },
  "language_info": {
   "codemirror_mode": {
    "name": "ipython",
    "version": 3
   },
   "file_extension": ".py",
   "mimetype": "text/x-python",
   "name": "python",
   "nbconvert_exporter": "python",
   "pygments_lexer": "ipython3",
   "version": "3.6.3"
  }
 },
 "nbformat": 4,
 "nbformat_minor": 2
}
